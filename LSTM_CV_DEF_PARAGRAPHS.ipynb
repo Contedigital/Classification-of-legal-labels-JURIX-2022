{
  "cells": [
    {
      "cell_type": "code",
      "source": [
        "from google.colab import drive\n",
        "drive.mount('/content/drive')\n",
        "\n",
        "!ls \"/content/drive/MyDrive/Judging under influence/datasets\""
      ],
      "metadata": {
        "colab": {
          "base_uri": "https://localhost:8080/"
        },
        "id": "ZGtcKnoEMmw1",
        "outputId": "c38969ed-4dec-42cc-a22a-8459041d5c79"
      },
      "execution_count": null,
      "outputs": [
        {
          "output_type": "stream",
          "name": "stdout",
          "text": [
            "Mounted at /content/drive\n",
            "FinalDatasetFullJudgements_NOFRENCH.csv  newFullJudgDataset.csv\n",
            "FinalDatasetParagraphs.csv\n"
          ]
        }
      ]
    },
    {
      "cell_type": "code",
      "execution_count": null,
      "metadata": {
        "id": "Xdx_-uzPDP3Y",
        "colab": {
          "base_uri": "https://localhost:8080/"
        },
        "outputId": "38d75bbf-775c-4f5e-ca83-7e4a87bb754b"
      },
      "outputs": [
        {
          "output_type": "stream",
          "name": "stdout",
          "text": [
            "Looking in indexes: https://pypi.org/simple, https://us-python.pkg.dev/colab-wheels/public/simple/\n",
            "Collecting git+https://github.com/tensorflow/docs\n",
            "  Cloning https://github.com/tensorflow/docs to /tmp/pip-req-build-461pmiog\n",
            "  Running command git clone -q https://github.com/tensorflow/docs /tmp/pip-req-build-461pmiog\n",
            "Requirement already satisfied: astor in /usr/local/lib/python3.7/dist-packages (from tensorflow-docs==0.0.0.dev0) (0.8.1)\n",
            "Requirement already satisfied: absl-py in /usr/local/lib/python3.7/dist-packages (from tensorflow-docs==0.0.0.dev0) (1.2.0)\n",
            "Requirement already satisfied: jinja2 in /usr/local/lib/python3.7/dist-packages (from tensorflow-docs==0.0.0.dev0) (2.11.3)\n",
            "Requirement already satisfied: protobuf<3.20,>=3.12.0 in /usr/local/lib/python3.7/dist-packages (from tensorflow-docs==0.0.0.dev0) (3.17.3)\n",
            "Requirement already satisfied: pyyaml in /usr/local/lib/python3.7/dist-packages (from tensorflow-docs==0.0.0.dev0) (3.13)\n",
            "Requirement already satisfied: six>=1.9 in /usr/local/lib/python3.7/dist-packages (from protobuf<3.20,>=3.12.0->tensorflow-docs==0.0.0.dev0) (1.15.0)\n",
            "Requirement already satisfied: MarkupSafe>=0.23 in /usr/local/lib/python3.7/dist-packages (from jinja2->tensorflow-docs==0.0.0.dev0) (2.0.1)\n",
            "Building wheels for collected packages: tensorflow-docs\n",
            "  Building wheel for tensorflow-docs (setup.py) ... \u001b[?25l\u001b[?25hdone\n",
            "  Created wheel for tensorflow-docs: filename=tensorflow_docs-0.0.0.dev0-py3-none-any.whl size=180247 sha256=f93a2cf85b100321aef2c5505724eeabac88ba972e52e137e113950efc644e2a\n",
            "  Stored in directory: /tmp/pip-ephem-wheel-cache-r2hwjlp4/wheels/cc/c4/d8/5341e93b6376c5c929c49469fce21155eb69cef1a4da4ce32c\n",
            "Successfully built tensorflow-docs\n",
            "Installing collected packages: tensorflow-docs\n",
            "Successfully installed tensorflow-docs-0.0.0.dev0\n"
          ]
        },
        {
          "output_type": "stream",
          "name": "stderr",
          "text": [
            "[nltk_data] Downloading package stopwords to /root/nltk_data...\n",
            "[nltk_data]   Unzipping corpora/stopwords.zip.\n"
          ]
        },
        {
          "output_type": "stream",
          "name": "stdout",
          "text": [
            "Num GPUs Available:  1\n"
          ]
        }
      ],
      "source": [
        "!pip install git+https://github.com/tensorflow/docs\n",
        "    \n",
        "import io\n",
        "import random\n",
        "import os\n",
        "import re\n",
        "import shutil\n",
        "import string\n",
        "import tensorflow as tf\n",
        "import pandas as pd\n",
        "import numpy as np\n",
        "from matplotlib import pyplot as plt\n",
        "from sklearn.model_selection import KFold \n",
        "\n",
        "from tensorflow.keras import Sequential\n",
        "from tensorflow.keras.layers import Dense, Embedding, GlobalAveragePooling1D, Dropout,GlobalMaxPooling1D, Conv1D, Flatten, Bidirectional\n",
        "from tensorflow.keras.layers.experimental.preprocessing import TextVectorization\n",
        "from tensorboard.plugins.hparams import api as hp\n",
        "\n",
        "import tensorflow_docs as tfdocs\n",
        "import tensorflow_docs.modeling\n",
        "import tensorflow_docs.plots\n",
        "\n",
        "import nltk\n",
        "nltk.download('stopwords')\n",
        "from nltk.corpus import stopwords\n",
        "from nltk.tokenize import RegexpTokenizer\n",
        "\n",
        "import datetime\n",
        "\n",
        "print(\"Num GPUs Available: \", len(tf.config.list_physical_devices('GPU')))"
      ]
    },
    {
      "cell_type": "code",
      "execution_count": null,
      "metadata": {
        "id": "kli5wDF3DP3d"
      },
      "outputs": [],
      "source": [
        "#Keras do not implement F1 so I implemented \"myself\"\n",
        "from keras import backend as K\n",
        "\n",
        "def f1(y_true, y_pred):\n",
        "    def recall(y_true, y_pred):\n",
        "        \"\"\"Recall metric.\n",
        "\n",
        "        Only computes a batch-wise average of recall.\n",
        "\n",
        "        Computes the recall, a metric for multi-label classification of\n",
        "        how many relevant items are selected.\n",
        "        \"\"\"\n",
        "        true_positives = K.sum(K.round(K.clip(y_true * y_pred, 0, 1)))\n",
        "        possible_positives = K.sum(K.round(K.clip(y_true, 0, 1)))\n",
        "        recall = true_positives / (possible_positives + K.epsilon())\n",
        "        return recall\n",
        "\n",
        "    def precision(y_true, y_pred):\n",
        "        \"\"\"Precision metric.\n",
        "\n",
        "        Only computes a batch-wise average of precision.\n",
        "\n",
        "        Computes the precision, a metric for multi-label classification of\n",
        "        how many selected items are relevant.\n",
        "        \"\"\"\n",
        "        true_positives = K.sum(K.round(K.clip(y_true * y_pred, 0, 1)))\n",
        "        predicted_positives = K.sum(K.round(K.clip(y_pred, 0, 1)))\n",
        "        precision = true_positives / (predicted_positives + K.epsilon())\n",
        "        return precision\n",
        "    precision = precision(y_true, y_pred)\n",
        "    recall = recall(y_true, y_pred)\n",
        "    return 2*((precision*recall)/(precision+recall+K.epsilon()))"
      ]
    },
    {
      "cell_type": "code",
      "execution_count": null,
      "metadata": {
        "id": "MszSdNWNDP3f"
      },
      "outputs": [],
      "source": [
        "#-----input and creating of tensors dataset\n",
        "data = pd.read_csv(\"/content/drive/MyDrive/Judging under influence/datasets/FinalDatasetParagraphs.csv\",index_col = 0,low_memory=False,encoding = \"ISO-8859-1\") #not utf-8 encoded\n",
        "df=data.filter([\"DEF\",\"TEXT\"], axis=1)\n",
        "df=df.dropna() #non applicable deleted atm\n",
        "df[\"DEF\"]=df[\"DEF\"].astype(int)\n",
        "df.reset_index(drop=True, inplace=True) \n",
        "\n"
      ]
    },
    {
      "cell_type": "code",
      "source": [
        "def remove_punctuation_numbers(input_text):\n",
        "    '''\n",
        "    Function to remove English stopwords and preprocess text from a Pandas Series using NLTK and REGEX.\n",
        "    \n",
        "    Parameters:\n",
        "        input_text : text to clean as pandas series\n",
        "    Output:\n",
        "        cleaned Pandas Series \n",
        "    '''\n",
        "    \n",
        "    \n",
        "    #select only the text, no puctuation\n",
        "    tokenizer = RegexpTokenizer(r'\\w+')\n",
        "    #remove numbers\n",
        "    text_nonum = re.sub(r'\\d+', '', input_text)\n",
        "    \n",
        "    words = tokenizer.tokenize(text_nonum.lower())\n",
        "    #words = input_text.lower().split() \n",
        "    #remove stopwords\n",
        "    #clean_words = [word for word in words if (word not in stopwords_list or word in whitelist) and len(word) > 1] \n",
        "    clean_data = \" \".join(words)\n",
        "\n",
        "\n",
        "\n",
        "    lowercase = clean_data.lower()\n",
        "    stripped_html = tf.strings.regex_replace(lowercase, '<br />', ' ')\n",
        "    return tf.strings.regex_replace(stripped_html,\n",
        "                                  '[%s]' % re.escape(string.punctuation), '').numpy()\n",
        "\n",
        "#remove the stopeords now\n",
        "df['CLEAN_TEXT'] = df.TEXT.apply(remove_punctuation_numbers)\n",
        "\n",
        "\n",
        "target = df.pop('DEF')\n",
        "dataset = tf.data.Dataset.from_tensor_slices((df.CLEAN_TEXT.values, target.values))\n"
      ],
      "metadata": {
        "id": "tCsEQ6i_N-__"
      },
      "execution_count": null,
      "outputs": []
    },
    {
      "cell_type": "code",
      "execution_count": null,
      "metadata": {
        "id": "qTpSOqN8DP3k"
      },
      "outputs": [],
      "source": [
        "#Here i get the split from the dataset, the split is 80 % for the k-fold and 20% for an independent test set.\n",
        "#The test set is used to asses the performance on unseen data on the best cv values\n",
        "\n",
        "#this is used for testing purposes, generates a dataset of nums from 0 to 19\n",
        "#dataset = tf.data.Dataset.range(20)\n",
        "\n",
        "DATASET_SIZE = dataset.cardinality().numpy()\n",
        "SPLITS = 4\n",
        "AUTOTUNE = tf.data.experimental.AUTOTUNE\n",
        "BATCH_SIZE = 512 #very important! Reducing this in RNN let them run on slower pc at the cost of exec time (increasing does the opposite)\n",
        "TEST_SIZE = 0.15\n",
        "\n",
        "\n",
        "def get_dataset_partitions(ds = dataset, ds_size= DATASET_SIZE, n_splits = SPLITS, test_size=TEST_SIZE, shuffle=True, shuffle_size=DATASET_SIZE, BATCH_SIZE = BATCH_SIZE):\n",
        "    fold_size = 1/n_splits\n",
        "    split_size = ds_size * (1-test_size) * fold_size\n",
        "    CV_folds = []\n",
        "    \n",
        "    if shuffle:\n",
        "        # Specify seed=xx to always have the same split distribution between runs\n",
        "        ds = ds.shuffle(shuffle_size, reshuffle_each_iteration=False, seed=5)#poi 1996\n",
        "    \n",
        "    test_dataset = ds.skip(ds_size * (1-test_size))\n",
        "    cv_dataset = ds.take(ds_size * (1-test_size))\n",
        "    \n",
        "    #print(list(test_dataset.as_numpy_iterator()))\n",
        "    #print(list(cv_dataset.as_numpy_iterator()))\n",
        "    \n",
        "    #print(list(test_dataset.as_numpy_iterator()))\n",
        "    #print(list(cv_dataset.as_numpy_iterator()))\n",
        "    \n",
        "    for i in range(n_splits):         #dataset is divided in 3 pieces for each iteration, train1 | validation | train2 due to take/skip nature\n",
        "        \n",
        "        #we will concatenate train1 and train2 to define the fitting split for the current fold while val will be the validation\n",
        "        \n",
        "        train1 = cv_dataset.take(i * split_size) #each of the 2 train(1 and 2) can be of size [0,fold_size*num_splits-1], val have dimension= fold_size\n",
        "        val = cv_dataset.skip(i * split_size).take(split_size)\n",
        "        train2 = cv_dataset.skip(i * split_size).skip(split_size)\n",
        "    \n",
        "      \n",
        "        #print(list(train1.concatenate(train2).as_numpy_iterator()))\n",
        "        #print(list(val.as_numpy_iterator()))\n",
        "\n",
        "        #we generate a list of tuples. Each tuple contain the train/validation for each fold. The list is indeed SPLITS-long.\n",
        "        CV_folds.append([\n",
        "                         train1.concatenate(train2).shuffle(train1.concatenate(train2).cardinality().numpy()).batch(BATCH_SIZE).prefetch(tf.data.experimental.AUTOTUNE),\n",
        "                         val.shuffle(val.cardinality().numpy()).batch(BATCH_SIZE).prefetch(tf.data.experimental.AUTOTUNE)\n",
        "                        ])\n",
        "        \n",
        "        #print(\"CV:\")\n",
        "        #print(list(CV_folds[i][0].as_numpy_iterator()))\n",
        "        ##print(list(CV_folds[i][1].as_numpy_iterator()))\n",
        "        #print(\"--------------------------------------\")\n",
        "    \n",
        "    \n",
        "    return [CV_folds,\n",
        "            test_dataset.shuffle(test_dataset.cardinality().numpy()).batch(BATCH_SIZE).prefetch(tf.data.experimental.AUTOTUNE),\n",
        "            cv_dataset.shuffle(cv_dataset.cardinality().numpy()).batch(BATCH_SIZE).prefetch(tf.data.experimental.AUTOTUNE)]\n",
        "    \n",
        "\n",
        "\n",
        "CV_folds, test_dataset, train_ds_final = get_dataset_partitions()\n",
        "\n",
        "#print(list(test_dataset.as_numpy_iterator()))\n",
        "#print(list(train_ds_final.as_numpy_iterator()))"
      ]
    },
    {
      "cell_type": "code",
      "execution_count": null,
      "metadata": {
        "colab": {
          "base_uri": "https://localhost:8080/"
        },
        "id": "3ZCBL5taDP3l",
        "outputId": "1468e3ed-4757-44ae-c38b-3129fcdc9884"
      },
      "outputs": [
        {
          "output_type": "stream",
          "name": "stdout",
          "text": [
            "Number of 1 : 18089\n",
            "Number of 0 : 67783\n",
            "Weight of positive elements: 4.747194427552657\n"
          ]
        }
      ],
      "source": [
        "#----- Class Imabalance dealing\n",
        "labels=[]\n",
        "labels=np.array(labels)\n",
        "for example, label in dataset.batch(BATCH_SIZE).prefetch(tf.data.experimental.AUTOTUNE).take(-1):\n",
        "    _ = example.numpy()\n",
        "    labels=np.concatenate((labels,label.numpy()))\n",
        "    \n",
        "#print(len(labels))\n",
        "nonzero = np.count_nonzero(labels)\n",
        "print(\"Number of 1 : \"+str(nonzero))\n",
        "print(\"Number of 0 : \"+str(len(labels)-nonzero))\n",
        "#positive/total ratio:\n",
        "posWeight = len(labels)/nonzero\n",
        "print(\"Weight of positive elements: \"+str(posWeight))"
      ]
    },
    {
      "cell_type": "code",
      "execution_count": null,
      "metadata": {
        "id": "yuq1bq9FLp7L"
      },
      "outputs": [],
      "source": [
        "#define the metrics I want to see during the iterations\n",
        "METRICS = [\n",
        "      tf.keras.metrics.Precision(name='precision'),\n",
        "      tf.keras.metrics.Recall(name='recall'),\n",
        "      f1, #my f1\n",
        "      tf.keras.metrics.AUC(name='auc'),\n",
        "    \n",
        "      tf.keras.metrics.TruePositives(name='tp'),\n",
        "      tf.keras.metrics.TrueNegatives(name='tn'),\n",
        "      tf.keras.metrics.FalsePositives(name='fp'),\n",
        "      tf.keras.metrics.FalseNegatives(name='fn'), \n",
        "      tf.keras.metrics.BinaryAccuracy(name='accuracy'),\n",
        "      \n",
        "      \n",
        "]"
      ]
    },
    {
      "cell_type": "code",
      "execution_count": null,
      "metadata": {
        "id": "Schb0eJbLp7M"
      },
      "outputs": [],
      "source": [
        "def get_callbacks():\n",
        "  return [\n",
        "    tfdocs.modeling.EpochDots(),\n",
        "    tf.keras.callbacks.EarlyStopping(patience = 10, monitor = 'val_f1',  mode = 'max', min_delta = 0.01),#ma need an increase?\n",
        "    #tf.keras.callbacks.TensorBoard('logsGraphs/graphsFolder'),\n",
        "  ]\n",
        "\n",
        "\n",
        "  "
      ]
    },
    {
      "cell_type": "markdown",
      "metadata": {
        "id": "vhQTlO8iDP3m"
      },
      "source": [
        "## Define CV e Tensoboard params"
      ]
    },
    {
      "cell_type": "code",
      "execution_count": null,
      "metadata": {
        "id": "ZSJdOZS8DP3m"
      },
      "outputs": [],
      "source": [
        "#loading of tensorboard and deleting of old logs(windows10 only I guess)\n",
        "%reload_ext tensorboard\n",
        "#shutil.rmtree(\"./logsGraphs\", ignore_errors=True, onerror=None)"
      ]
    },
    {
      "cell_type": "code",
      "execution_count": null,
      "metadata": {
        "id": "fBcLDB7_DP3n"
      },
      "outputs": [],
      "source": [
        "#here I defined the parameters i want to iterate through\n",
        "\n",
        "HP_NUM_UNITS = hp.HParam('num_units', hp.Discrete([64,128]))\n",
        "HP_EMBEDDING_DIM = hp.HParam('emb_dim', hp.Discrete([64,128]))\n",
        "HP_OPTIMIZER_LR = hp.HParam('opt_lr', hp.Discrete([ 0.001, 0.0005, 0.0001, 0.00005, 0.00001]))\n",
        "HP_WEIGHT_TUNER = hp.HParam('pos_weight_tuner', hp.RealInterval(1.0,3.0))#selected later\n",
        "HP_NUM_LAYERS = hp.HParam('num_layers', hp.Discrete([2,3]))#always add +1 per final layer\n",
        "HP_NUM_EPOCHS = hp.HParam('num_epochs', hp.Discrete([40]))\n",
        "#HP_KERNEL_REGULARIZATION_L2 = hp.HParam('ker_l2', hp.Discrete([1e-25, 1e-4, 1e-5, 1e-6, 1e-7]))\n",
        "#HP_KERNEL_REGULARIZATION_L1 = hp.HParam('ker_l1', hp.Discrete([1e-25, 1e-4, 1e-5, 1e-6, 1e-7]))\n",
        "HP_DROPOUT = hp.HParam('dropout', hp.Discrete([0.1, 0.2, 0.25, 0.3]))\n",
        "\n",
        "\n",
        "#here we choose the metrics we want to average after CV, we only choose the most important ones to do not loose the focus\n",
        "METRIC1 = 'f1'\n",
        "METRIC2 = 'auc'#attention! If we have 0 precision/recall we might have errors due to AUC implmentation, MAY BE REMOVED\n",
        "\n",
        "with tf.summary.create_file_writer('logsGraphs/hparam_tuningCV').as_default():\n",
        "  hp.hparams_config(\n",
        "    hparams=[HP_NUM_UNITS, HP_EMBEDDING_DIM, HP_OPTIMIZER_LR, HP_WEIGHT_TUNER, HP_NUM_LAYERS, HP_NUM_EPOCHS, HP_DROPOUT],\n",
        "    metrics=[hp.Metric(METRIC1, display_name='f1'),hp.Metric(METRIC2, display_name='auc')],\n",
        "  )\n",
        "\n"
      ]
    },
    {
      "cell_type": "markdown",
      "metadata": {
        "id": "8Rd5JudhDP3o"
      },
      "source": [
        "## Define the CV model"
      ]
    },
    {
      "cell_type": "code",
      "execution_count": null,
      "metadata": {
        "id": "-3-y755vDP3o"
      },
      "outputs": [],
      "source": [
        "#this is the function that creates the ANN given the parameters.\n",
        "#after creating it the ANN is fitted on the current split's train set and vchecked on the current validation set\n",
        "#we return the f1 and auc of the current validation split as the measure of performance of this split\n",
        "#the f1 and auc over all the splits will be later averaged and will be the parameters performance\n",
        "\n",
        "VOCAB_SIZE = 30000#define size of vocabulary, as it says\n",
        "\n",
        "def train_test_model(emb_dim, num_units, learning_rate, weight_normalizer, num_layers, train_dataset, val_dataset, num_epochs, dropout):\n",
        "  \n",
        "  encoder = tf.keras.layers.experimental.preprocessing.TextVectorization(max_tokens=VOCAB_SIZE)\n",
        "  encoder.adapt(train_dataset.map(lambda text, label: text))\n",
        "\n",
        "#---------------------------------------------------------------------\n",
        "  model = Sequential([\n",
        "      \n",
        "  encoder,\n",
        "    \n",
        "  Embedding(#embedding layer\n",
        "        input_dim=len(encoder.get_vocabulary()),\n",
        "        output_dim=emb_dim,\n",
        "        # Use masking to handle the variable sequence lengths\n",
        "        mask_zero=True),\n",
        "    \n",
        "  #Bidirectional(tf.keras.layers.LSTM(emb_dim , dropout = 0.1,return_sequences=True)),\n",
        "  \n",
        "  Bidirectional(tf.keras.layers.LSTM(emb_dim)),    \n",
        "  #Dropout(dropout)\n",
        "\n",
        "  ])\n",
        "    \n",
        "  for i in range(num_layers):\n",
        "    if num_units/pow(2,i) >1 :\n",
        "        model.add(Dense(num_units/pow(2,i), activation=\"relu\"))\n",
        "        #model.add(Dropout(dropout))\n",
        "            \n",
        "  model.add(Dense(1,activation='sigmoid')) \n",
        "\n",
        "\n",
        "  class_weight = {0: 1., #class 0 weight\n",
        "                  1: posWeight/weight_normalizer, #uses the weight I set to make them perfectly balanced, I can increase it to overweight pos class!\n",
        "                                     \n",
        "                  2: 2.} \n",
        "    \n",
        "\n",
        "  \n",
        "  model.compile(\n",
        "          optimizer=tf.keras.optimizers.Adam(learning_rate),\n",
        "          loss=tf.keras.losses.BinaryCrossentropy(),\n",
        "          metrics=METRICS)\n",
        "   \n",
        "\n",
        "  history = model.fit(\n",
        "             train_dataset,\n",
        "             epochs=num_epochs,\n",
        "             class_weight=class_weight,\n",
        "             validation_data = val_dataset,\n",
        "             callbacks=get_callbacks()\n",
        "             ) \n",
        "\n",
        "  _, prec, recall, f1,auc, tp, tn, fp, fn, accuracy = model.evaluate(val_dataset)#validation we get our performances from this performance assesment\n",
        "  del model\n",
        "  del train_dataset\n",
        "  del val_dataset\n",
        "  return f1,auc, history#take only the most important measures to retain the focus"
      ]
    },
    {
      "cell_type": "code",
      "execution_count": null,
      "metadata": {
        "id": "J_VFzUN-rjHt"
      },
      "outputs": [],
      "source": [
        "#this method runs the cross validation, calling the above method giving it the parameters choosen and recording performances \n",
        "#it computes the average of f1 and auc over the various splits as well\n",
        "\n",
        "def run(run_dir, hparams, session_num):\n",
        "  with tf.summary.create_file_writer(run_dir).as_default():\n",
        "    # record the values used in this trial\n",
        "    hp.hparams(hparams)\n",
        "    f1Score,auc = 0,0\n",
        "    history={}\n",
        "    \n",
        "    for i in range(SPLITS):#averaging over all the splits\n",
        "      print(\"\\nCHECKING SPLIT NUM: \"+str(i+1))\n",
        "      train_dataset,val_dataset = CV_folds[i]\n",
        "      tmpf1,tmpauc,history[\"split \"+str(i+1)] =  train_test_model(emb_dim = hparams[HP_EMBEDDING_DIM],\n",
        "                                                  num_units = hparams[HP_EMBEDDING_DIM],#num_units = embedding best practice\n",
        "                                                  learning_rate = hparams[HP_OPTIMIZER_LR],\n",
        "                                                  weight_normalizer= hparams[HP_WEIGHT_TUNER],\n",
        "                                                  num_layers = hparams[HP_NUM_LAYERS],\n",
        "                                                  num_epochs = hparams[HP_NUM_EPOCHS],\n",
        "                                                  dropout = hparams[HP_DROPOUT],\n",
        "                                                  train_dataset = train_dataset,\n",
        "                                                  val_dataset = val_dataset)\n",
        "      f1Score += tmpf1\n",
        "      auc += tmpauc\n",
        "      \n",
        "    \n",
        "    f1Score /= SPLITS\n",
        "    auc /= SPLITS\n",
        "    \n",
        "    print(\"!!! SESSION NUM \"+str(session_num)+\" ---> CV f1: \"+str(f1Score))\n",
        "    print(\"!!! auc: \"+str(auc)+\"\\n------------------------------------------\")\n",
        "    \n",
        "    plotter = tfdocs.plots.HistoryPlotter(metric = 'f1', smoothing_std=10)\n",
        "    plotter.plot(history)\n",
        "    plt.show()\n",
        "    print(\"\\n------------------------------------------\")\n",
        "    \n",
        "    plotter = tfdocs.plots.HistoryPlotter(metric = 'auc', smoothing_std=10)\n",
        "    plotter.plot(history)\n",
        "    plt.show()\n",
        "    \n",
        "    tf.summary.scalar(METRIC1, f1Score, step = tf.convert_to_tensor(1, dtype=tf.int64))\n",
        "    tf.summary.scalar(METRIC2, auc, step = tf.convert_to_tensor(1, dtype=tf.int64))"
      ]
    },
    {
      "cell_type": "markdown",
      "metadata": {
        "id": "SOrRswkRLp7R"
      },
      "source": [
        "## Run the tuning model"
      ]
    },
    {
      "cell_type": "code",
      "source": [
        "params = ['38.027177', '31.500068', '0.009071', '1.182932', '2.662170', '0.029260', '0.000000', '0.000000']"
      ],
      "metadata": {
        "id": "73iWBnjoP3VP"
      },
      "execution_count": null,
      "outputs": []
    },
    {
      "cell_type": "code",
      "execution_count": null,
      "metadata": {
        "colab": {
          "base_uri": "https://localhost:8080/",
          "height": 1000
        },
        "id": "z7Jyd_KTDP3q",
        "outputId": "009177f7-c148-4aa0-cf5f-07bd245743d0"
      },
      "outputs": [
        {
          "output_type": "stream",
          "name": "stdout",
          "text": [
            "Trying parameters given by user\n",
            "!--WARNING--! DROPOUT and CLASS_WEIGHT are DISABLED and  EMB_DIM=NUM_UNITS\n",
            "--- Starting trial: run-1\n",
            "{'num_units': 31, 'emb_dim': 38, 'opt_lr': 0.009071, 'pos_weight_tuner': 2.66217, 'num_layers': 1, 'num_epochs': 40, 'dropout': 0.02926}\n",
            "\n",
            "CHECKING SPLIT NUM: 1\n",
            "Epoch 1/40\n",
            "107/107 [==============================] - ETA: 0s - loss: 0.6546 - precision: 0.4555 - recall: 0.3063 - f1: 0.3220 - auc: 0.7132 - tp: 3518.0000 - tn: 39051.0000 - fp: 4206.0000 - fn: 7969.0000 - accuracy: 0.7776\n",
            "Epoch: 0, accuracy:0.7776,  auc:0.7132,  f1:0.3220,  fn:7969.0000,  fp:4206.0000,  loss:0.6546,  precision:0.4555,  recall:0.3063,  tn:39051.0000,  tp:3518.0000,  val_accuracy:0.6439,  val_auc:0.7989,  val_f1:0.4898,  val_fn:765.0000,  val_fp:5733.0000,  val_loss:0.6148,  val_precision:0.3530,  val_recall:0.8035,  val_tn:8621.0000,  val_tp:3128.0000,  \n",
            "107/107 [==============================] - 28s 130ms/step - loss: 0.6546 - precision: 0.4555 - recall: 0.3063 - f1: 0.3220 - auc: 0.7132 - tp: 3518.0000 - tn: 39051.0000 - fp: 4206.0000 - fn: 7969.0000 - accuracy: 0.7776 - val_loss: 0.6148 - val_precision: 0.3530 - val_recall: 0.8035 - val_f1: 0.4898 - val_auc: 0.7989 - val_tp: 3128.0000 - val_tn: 8621.0000 - val_fp: 5733.0000 - val_fn: 765.0000 - val_accuracy: 0.6439\n",
            "Epoch 2/40\n",
            "107/107 [==============================] - 11s 101ms/step - loss: 0.4846 - precision: 0.6129 - recall: 0.5972 - f1: 0.6016 - auc: 0.8650 - tp: 6860.0000 - tn: 38925.0000 - fp: 4332.0000 - fn: 4627.0000 - accuracy: 0.8363 - val_loss: 0.3841 - val_precision: 0.6403 - val_recall: 0.4878 - val_f1: 0.5530 - val_auc: 0.8358 - val_tp: 1899.0000 - val_tn: 13287.0000 - val_fp: 1067.0000 - val_fn: 1994.0000 - val_accuracy: 0.8322\n",
            "Epoch 3/40\n",
            "107/107 [==============================] - 11s 102ms/step - loss: 0.3669 - precision: 0.6890 - recall: 0.7149 - f1: 0.7011 - auc: 0.9259 - tp: 8212.0000 - tn: 39551.0000 - fp: 3706.0000 - fn: 3275.0000 - accuracy: 0.8725 - val_loss: 0.3980 - val_precision: 0.5969 - val_recall: 0.5967 - val_f1: 0.5954 - val_auc: 0.8492 - val_tp: 2323.0000 - val_tn: 12785.0000 - val_fp: 1569.0000 - val_fn: 1570.0000 - val_accuracy: 0.8280\n",
            "Epoch 4/40\n",
            "107/107 [==============================] - 11s 102ms/step - loss: 0.2945 - precision: 0.7406 - recall: 0.7771 - f1: 0.7576 - auc: 0.9531 - tp: 8927.0000 - tn: 40131.0000 - fp: 3126.0000 - fn: 2560.0000 - accuracy: 0.8961 - val_loss: 0.4420 - val_precision: 0.6088 - val_recall: 0.5697 - val_f1: 0.5876 - val_auc: 0.8405 - val_tp: 2218.0000 - val_tn: 12929.0000 - val_fp: 1425.0000 - val_fn: 1675.0000 - val_accuracy: 0.8301\n",
            "Epoch 5/40\n",
            "107/107 [==============================] - 11s 103ms/step - loss: 0.2402 - precision: 0.7820 - recall: 0.8252 - f1: 0.8017 - auc: 0.9690 - tp: 9479.0000 - tn: 40614.0000 - fp: 2643.0000 - fn: 2008.0000 - accuracy: 0.9150 - val_loss: 0.5145 - val_precision: 0.5504 - val_recall: 0.6345 - val_f1: 0.5877 - val_auc: 0.8397 - val_tp: 2470.0000 - val_tn: 12336.0000 - val_fp: 2018.0000 - val_fn: 1423.0000 - val_accuracy: 0.8114\n",
            "Epoch 6/40\n",
            "107/107 [==============================] - 13s 116ms/step - loss: 0.2055 - precision: 0.8020 - recall: 0.8620 - f1: 0.8304 - auc: 0.9775 - tp: 9902.0000 - tn: 40813.0000 - fp: 2444.0000 - fn: 1585.0000 - accuracy: 0.9264 - val_loss: 0.5351 - val_precision: 0.6118 - val_recall: 0.5713 - val_f1: 0.5898 - val_auc: 0.8342 - val_tp: 2224.0000 - val_tn: 12943.0000 - val_fp: 1411.0000 - val_fn: 1669.0000 - val_accuracy: 0.8312\n",
            "Epoch 7/40\n",
            "107/107 [==============================] - 11s 102ms/step - loss: 0.1688 - precision: 0.8334 - recall: 0.8869 - f1: 0.8589 - auc: 0.9849 - tp: 10188.0000 - tn: 41220.0000 - fp: 2037.0000 - fn: 1299.0000 - accuracy: 0.9391 - val_loss: 0.6555 - val_precision: 0.5345 - val_recall: 0.6350 - val_f1: 0.5814 - val_auc: 0.8291 - val_tp: 2472.0000 - val_tn: 12201.0000 - val_fp: 2153.0000 - val_fn: 1421.0000 - val_accuracy: 0.8041\n",
            "Epoch 8/40\n",
            "107/107 [==============================] - 11s 102ms/step - loss: 0.1493 - precision: 0.8458 - recall: 0.9109 - f1: 0.8770 - auc: 0.9881 - tp: 10464.0000 - tn: 41350.0000 - fp: 1907.0000 - fn: 1023.0000 - accuracy: 0.9465 - val_loss: 0.6700 - val_precision: 0.5194 - val_recall: 0.6507 - val_f1: 0.5763 - val_auc: 0.8254 - val_tp: 2533.0000 - val_tn: 12010.0000 - val_fp: 2344.0000 - val_fn: 1360.0000 - val_accuracy: 0.7970\n",
            "Epoch 9/40\n",
            "107/107 [==============================] - 11s 102ms/step - loss: 0.1320 - precision: 0.8619 - recall: 0.9184 - f1: 0.8889 - auc: 0.9906 - tp: 10550.0000 - tn: 41566.0000 - fp: 1691.0000 - fn: 937.0000 - accuracy: 0.9520 - val_loss: 0.7880 - val_precision: 0.5579 - val_recall: 0.6291 - val_f1: 0.5894 - val_auc: 0.8210 - val_tp: 2449.0000 - val_tn: 12413.0000 - val_fp: 1941.0000 - val_fn: 1444.0000 - val_accuracy: 0.8145\n",
            "Epoch 10/40\n",
            "107/107 [==============================] - 12s 110ms/step - loss: 0.1215 - precision: 0.8728 - recall: 0.9292 - f1: 0.9003 - auc: 0.9922 - tp: 10674.0000 - tn: 41702.0000 - fp: 1555.0000 - fn: 813.0000 - accuracy: 0.9567 - val_loss: 0.7546 - val_precision: 0.5681 - val_recall: 0.5911 - val_f1: 0.5789 - val_auc: 0.8164 - val_tp: 2301.0000 - val_tn: 12605.0000 - val_fp: 1749.0000 - val_fn: 1592.0000 - val_accuracy: 0.8169\n",
            "Epoch 11/40\n",
            "107/107 [==============================] - 11s 103ms/step - loss: 0.1067 - precision: 0.8897 - recall: 0.9344 - f1: 0.9111 - auc: 0.9939 - tp: 10733.0000 - tn: 41927.0000 - fp: 1330.0000 - fn: 754.0000 - accuracy: 0.9619 - val_loss: 0.8727 - val_precision: 0.5826 - val_recall: 0.5415 - val_f1: 0.5604 - val_auc: 0.7997 - val_tp: 2108.0000 - val_tn: 12844.0000 - val_fp: 1510.0000 - val_fn: 1785.0000 - val_accuracy: 0.8194\n",
            "Epoch 12/40\n",
            "107/107 [==============================] - 11s 105ms/step - loss: 0.0975 - precision: 0.9008 - recall: 0.9436 - f1: 0.9215 - auc: 0.9947 - tp: 10839.0000 - tn: 42063.0000 - fp: 1194.0000 - fn: 648.0000 - accuracy: 0.9664 - val_loss: 0.8532 - val_precision: 0.5966 - val_recall: 0.5623 - val_f1: 0.5785 - val_auc: 0.8069 - val_tp: 2189.0000 - val_tn: 12874.0000 - val_fp: 1480.0000 - val_fn: 1704.0000 - val_accuracy: 0.8255\n",
            "Epoch 13/40\n",
            "107/107 [==============================] - 11s 102ms/step - loss: 0.0927 - precision: 0.9090 - recall: 0.9416 - f1: 0.9246 - auc: 0.9953 - tp: 10816.0000 - tn: 42174.0000 - fp: 1083.0000 - fn: 671.0000 - accuracy: 0.9680 - val_loss: 0.9506 - val_precision: 0.5887 - val_recall: 0.5751 - val_f1: 0.5806 - val_auc: 0.8055 - val_tp: 2239.0000 - val_tn: 12790.0000 - val_fp: 1564.0000 - val_fn: 1654.0000 - val_accuracy: 0.8236\n",
            "36/36 [==============================] - 2s 41ms/step - loss: 0.9506 - precision: 0.5887 - recall: 0.5751 - f1: 0.5807 - auc: 0.8055 - tp: 2239.0000 - tn: 12790.0000 - fp: 1564.0000 - fn: 1654.0000 - accuracy: 0.8236\n",
            "\n",
            "CHECKING SPLIT NUM: 2\n",
            "Epoch 1/40\n",
            "107/107 [==============================] - ETA: 0s - loss: 0.6498 - precision: 0.5100 - recall: 0.3795 - f1: 0.3302 - auc: 0.7358 - tp: 5839.0000 - tn: 51994.0000 - fp: 5609.0000 - fn: 9549.0000 - accuracy: 0.7923\n",
            "Epoch: 0, accuracy:0.7923,  auc:0.7358,  f1:0.3302,  fn:9549.0000,  fp:5609.0000,  loss:0.6498,  precision:0.5100,  recall:0.3795,  tn:51994.0000,  tp:5839.0000,  val_accuracy:0.7845,  val_auc:0.8108,  val_f1:0.5333,  val_fn:1632.0000,  val_fp:2301.0000,  val_loss:0.4419,  val_precision:0.4947,  val_recall:0.5799,  val_tn:12061.0000,  val_tp:2253.0000,  \n",
            "107/107 [==============================] - 23s 140ms/step - loss: 0.6498 - precision: 0.5100 - recall: 0.3795 - f1: 0.3302 - auc: 0.7358 - tp: 5839.0000 - tn: 51994.0000 - fp: 5609.0000 - fn: 9549.0000 - accuracy: 0.7923 - val_loss: 0.4419 - val_precision: 0.4947 - val_recall: 0.5799 - val_f1: 0.5333 - val_auc: 0.8108 - val_tp: 2253.0000 - val_tn: 12061.0000 - val_fp: 2301.0000 - val_fn: 1632.0000 - val_accuracy: 0.7845\n",
            "Epoch 2/40\n",
            "107/107 [==============================] - 11s 101ms/step - loss: 0.4663 - precision: 0.6421 - recall: 0.5943 - f1: 0.6147 - auc: 0.8755 - tp: 6832.0000 - tn: 39441.0000 - fp: 3808.0000 - fn: 4663.0000 - accuracy: 0.8453 - val_loss: 0.3731 - val_precision: 0.6760 - val_recall: 0.4914 - val_f1: 0.5685 - val_auc: 0.8415 - val_tp: 1909.0000 - val_tn: 13447.0000 - val_fp: 915.0000 - val_fn: 1976.0000 - val_accuracy: 0.8416\n",
            "Epoch 3/40\n",
            "107/107 [==============================] - 11s 104ms/step - loss: 0.3626 - precision: 0.7092 - recall: 0.7077 - f1: 0.7077 - auc: 0.9275 - tp: 8135.0000 - tn: 39914.0000 - fp: 3335.0000 - fn: 3360.0000 - accuracy: 0.8777 - val_loss: 0.4241 - val_precision: 0.5280 - val_recall: 0.6559 - val_f1: 0.5840 - val_auc: 0.8501 - val_tp: 2548.0000 - val_tn: 12084.0000 - val_fp: 2278.0000 - val_fn: 1337.0000 - val_accuracy: 0.8019\n",
            "Epoch 4/40\n",
            "107/107 [==============================] - 11s 102ms/step - loss: 0.2915 - precision: 0.7529 - recall: 0.7726 - f1: 0.7622 - auc: 0.9540 - tp: 8881.0000 - tn: 40334.0000 - fp: 2915.0000 - fn: 2614.0000 - accuracy: 0.8990 - val_loss: 0.4291 - val_precision: 0.6210 - val_recall: 0.5609 - val_f1: 0.5885 - val_auc: 0.8476 - val_tp: 2179.0000 - val_tn: 13032.0000 - val_fp: 1330.0000 - val_fn: 1706.0000 - val_accuracy: 0.8336\n",
            "Epoch 5/40\n",
            "107/107 [==============================] - 12s 113ms/step - loss: 0.2347 - precision: 0.7968 - recall: 0.8232 - f1: 0.8094 - auc: 0.9703 - tp: 9463.0000 - tn: 40835.0000 - fp: 2414.0000 - fn: 2032.0000 - accuracy: 0.9188 - val_loss: 0.4752 - val_precision: 0.5989 - val_recall: 0.5807 - val_f1: 0.5890 - val_auc: 0.8417 - val_tp: 2256.0000 - val_tn: 12851.0000 - val_fp: 1511.0000 - val_fn: 1629.0000 - val_accuracy: 0.8279\n",
            "Epoch 6/40\n",
            "107/107 [==============================] - 11s 103ms/step - loss: 0.2034 - precision: 0.8169 - recall: 0.8495 - f1: 0.8325 - auc: 0.9777 - tp: 9765.0000 - tn: 41061.0000 - fp: 2188.0000 - fn: 1730.0000 - accuracy: 0.9284 - val_loss: 0.5896 - val_precision: 0.5855 - val_recall: 0.5807 - val_f1: 0.5821 - val_auc: 0.8297 - val_tp: 2256.0000 - val_tn: 12765.0000 - val_fp: 1597.0000 - val_fn: 1629.0000 - val_accuracy: 0.8232\n",
            "Epoch 7/40\n",
            "107/107 [==============================] - 12s 104ms/step - loss: 0.1776 - precision: 0.8384 - recall: 0.8685 - f1: 0.8525 - auc: 0.9831 - tp: 9983.0000 - tn: 41325.0000 - fp: 1924.0000 - fn: 1512.0000 - accuracy: 0.9372 - val_loss: 0.6092 - val_precision: 0.6280 - val_recall: 0.5259 - val_f1: 0.5720 - val_auc: 0.8202 - val_tp: 2043.0000 - val_tn: 13152.0000 - val_fp: 1210.0000 - val_fn: 1842.0000 - val_accuracy: 0.8327\n",
            "Epoch 8/40\n",
            "107/107 [==============================] - 11s 104ms/step - loss: 0.1507 - precision: 0.8612 - recall: 0.8953 - f1: 0.8777 - auc: 0.9879 - tp: 10291.0000 - tn: 41591.0000 - fp: 1658.0000 - fn: 1204.0000 - accuracy: 0.9477 - val_loss: 0.6631 - val_precision: 0.5123 - val_recall: 0.6713 - val_f1: 0.5795 - val_auc: 0.8323 - val_tp: 2608.0000 - val_tn: 11879.0000 - val_fp: 2483.0000 - val_fn: 1277.0000 - val_accuracy: 0.7939\n",
            "Epoch 9/40\n",
            "107/107 [==============================] - 11s 101ms/step - loss: 0.1391 - precision: 0.8718 - recall: 0.9049 - f1: 0.8878 - auc: 0.9895 - tp: 10402.0000 - tn: 41719.0000 - fp: 1530.0000 - fn: 1093.0000 - accuracy: 0.9521 - val_loss: 0.6706 - val_precision: 0.5335 - val_recall: 0.6245 - val_f1: 0.5736 - val_auc: 0.8267 - val_tp: 2426.0000 - val_tn: 12241.0000 - val_fp: 2121.0000 - val_fn: 1459.0000 - val_accuracy: 0.8038\n",
            "Epoch 10/40\n",
            "107/107 [==============================] - 11s 99ms/step - loss: 0.1626 - precision: 0.8524 - recall: 0.8920 - f1: 0.8712 - auc: 0.9859 - tp: 10254.0000 - tn: 41474.0000 - fp: 1775.0000 - fn: 1241.0000 - accuracy: 0.9449 - val_loss: 0.6569 - val_precision: 0.5704 - val_recall: 0.6072 - val_f1: 0.5884 - val_auc: 0.8277 - val_tp: 2359.0000 - val_tn: 12585.0000 - val_fp: 1777.0000 - val_fn: 1526.0000 - val_accuracy: 0.8190\n",
            "Epoch 11/40\n",
            "107/107 [==============================] - 12s 109ms/step - loss: 0.1278 - precision: 0.8836 - recall: 0.9085 - f1: 0.8958 - auc: 0.9913 - tp: 10443.0000 - tn: 41873.0000 - fp: 1376.0000 - fn: 1052.0000 - accuracy: 0.9556 - val_loss: 0.7638 - val_precision: 0.5701 - val_recall: 0.6005 - val_f1: 0.5843 - val_auc: 0.8205 - val_tp: 2333.0000 - val_tn: 12603.0000 - val_fp: 1759.0000 - val_fn: 1552.0000 - val_accuracy: 0.8185\n",
            "Epoch 12/40\n",
            "107/107 [==============================] - 12s 105ms/step - loss: 0.1091 - precision: 0.8963 - recall: 0.9229 - f1: 0.9091 - auc: 0.9934 - tp: 10609.0000 - tn: 42021.0000 - fp: 1228.0000 - fn: 886.0000 - accuracy: 0.9614 - val_loss: 0.8792 - val_precision: 0.5956 - val_recall: 0.5606 - val_f1: 0.5761 - val_auc: 0.8089 - val_tp: 2178.0000 - val_tn: 12883.0000 - val_fp: 1479.0000 - val_fn: 1707.0000 - val_accuracy: 0.8254\n",
            "Epoch 13/40\n",
            "107/107 [==============================] - 11s 103ms/step - loss: 0.0950 - precision: 0.9102 - recall: 0.9273 - f1: 0.9184 - auc: 0.9949 - tp: 10659.0000 - tn: 42197.0000 - fp: 1052.0000 - fn: 836.0000 - accuracy: 0.9655 - val_loss: 0.9664 - val_precision: 0.5867 - val_recall: 0.5624 - val_f1: 0.5738 - val_auc: 0.8022 - val_tp: 2185.0000 - val_tn: 12823.0000 - val_fp: 1539.0000 - val_fn: 1700.0000 - val_accuracy: 0.8225\n",
            "36/36 [==============================] - 2s 43ms/step - loss: 0.9664 - precision: 0.5867 - recall: 0.5624 - f1: 0.5735 - auc: 0.8022 - tp: 2185.0000 - tn: 12823.0000 - fp: 1539.0000 - fn: 1700.0000 - accuracy: 0.8225\n",
            "\n",
            "CHECKING SPLIT NUM: 3\n",
            "Epoch 1/40\n",
            "107/107 [==============================] - ETA: 0s - loss: 0.6606 - precision: 0.5150 - recall: 0.3452 - f1: 0.2997 - auc: 0.7274 - tp: 5356.0000 - tn: 52431.0000 - fp: 5045.0000 - fn: 10159.0000 - accuracy: 0.7917\n",
            "Epoch: 0, accuracy:0.7917,  auc:0.7274,  f1:0.2997,  fn:10159.0000,  fp:5045.0000,  loss:0.6606,  precision:0.5150,  recall:0.3452,  tn:52431.0000,  tp:5356.0000,  val_accuracy:0.8134,  val_auc:0.7859,  val_f1:0.2443,  val_fn:3189.0000,  val_fp:216.0000,  val_loss:0.4194,  val_precision:0.7220,  val_recall:0.1496,  val_tn:14281.0000,  val_tp:561.0000,  \n",
            "107/107 [==============================] - 22s 125ms/step - loss: 0.6606 - precision: 0.5150 - recall: 0.3452 - f1: 0.2997 - auc: 0.7274 - tp: 5356.0000 - tn: 52431.0000 - fp: 5045.0000 - fn: 10159.0000 - accuracy: 0.7917 - val_loss: 0.4194 - val_precision: 0.7220 - val_recall: 0.1496 - val_f1: 0.2443 - val_auc: 0.7859 - val_tp: 561.0000 - val_tn: 14281.0000 - val_fp: 216.0000 - val_fn: 3189.0000 - val_accuracy: 0.8134\n",
            "Epoch 2/40\n",
            "107/107 [==============================] - 11s 100ms/step - loss: 0.4709 - precision: 0.6361 - recall: 0.5954 - f1: 0.6112 - auc: 0.8742 - tp: 6924.0000 - tn: 39153.0000 - fp: 3961.0000 - fn: 4706.0000 - accuracy: 0.8417 - val_loss: 0.3683 - val_precision: 0.7124 - val_recall: 0.4123 - val_f1: 0.5212 - val_auc: 0.8375 - val_tp: 1546.0000 - val_tn: 13873.0000 - val_fp: 624.0000 - val_fn: 2204.0000 - val_accuracy: 0.8450\n",
            "Epoch 3/40\n",
            "107/107 [==============================] - 11s 101ms/step - loss: 0.3628 - precision: 0.7091 - recall: 0.7100 - f1: 0.7088 - auc: 0.9281 - tp: 8257.0000 - tn: 39726.0000 - fp: 3388.0000 - fn: 3373.0000 - accuracy: 0.8765 - val_loss: 0.4104 - val_precision: 0.5970 - val_recall: 0.5637 - val_f1: 0.5784 - val_auc: 0.8496 - val_tp: 2114.0000 - val_tn: 13070.0000 - val_fp: 1427.0000 - val_fn: 1636.0000 - val_accuracy: 0.8321\n",
            "Epoch 4/40\n",
            "107/107 [==============================] - 12s 111ms/step - loss: 0.2871 - precision: 0.7635 - recall: 0.7722 - f1: 0.7668 - auc: 0.9554 - tp: 8981.0000 - tn: 40332.0000 - fp: 2782.0000 - fn: 2649.0000 - accuracy: 0.9008 - val_loss: 0.4546 - val_precision: 0.5553 - val_recall: 0.6251 - val_f1: 0.5843 - val_auc: 0.8507 - val_tp: 2344.0000 - val_tn: 12620.0000 - val_fp: 1877.0000 - val_fn: 1406.0000 - val_accuracy: 0.8201\n",
            "Epoch 5/40\n",
            "107/107 [==============================] - 11s 102ms/step - loss: 0.2469 - precision: 0.7846 - recall: 0.8144 - f1: 0.7987 - auc: 0.9675 - tp: 9471.0000 - tn: 40514.0000 - fp: 2600.0000 - fn: 2159.0000 - accuracy: 0.9131 - val_loss: 0.5118 - val_precision: 0.5663 - val_recall: 0.5715 - val_f1: 0.5675 - val_auc: 0.8287 - val_tp: 2143.0000 - val_tn: 12856.0000 - val_fp: 1641.0000 - val_fn: 1607.0000 - val_accuracy: 0.8220\n",
            "Epoch 6/40\n",
            "107/107 [==============================] - 11s 100ms/step - loss: 0.2063 - precision: 0.8196 - recall: 0.8455 - f1: 0.8318 - auc: 0.9774 - tp: 9833.0000 - tn: 40950.0000 - fp: 2164.0000 - fn: 1797.0000 - accuracy: 0.9276 - val_loss: 0.5359 - val_precision: 0.5672 - val_recall: 0.5680 - val_f1: 0.5657 - val_auc: 0.8278 - val_tp: 2130.0000 - val_tn: 12872.0000 - val_fp: 1625.0000 - val_fn: 1620.0000 - val_accuracy: 0.8222\n",
            "Epoch 7/40\n",
            "107/107 [==============================] - 11s 101ms/step - loss: 0.1747 - precision: 0.8422 - recall: 0.8694 - f1: 0.8550 - auc: 0.9837 - tp: 10111.0000 - tn: 41219.0000 - fp: 1895.0000 - fn: 1519.0000 - accuracy: 0.9376 - val_loss: 0.5907 - val_precision: 0.6451 - val_recall: 0.4557 - val_f1: 0.5334 - val_auc: 0.8097 - val_tp: 1709.0000 - val_tn: 13557.0000 - val_fp: 940.0000 - val_fn: 2041.0000 - val_accuracy: 0.8366\n",
            "Epoch 8/40\n",
            "107/107 [==============================] - 11s 100ms/step - loss: 0.1625 - precision: 0.8485 - recall: 0.8835 - f1: 0.8654 - auc: 0.9859 - tp: 10275.0000 - tn: 41279.0000 - fp: 1835.0000 - fn: 1355.0000 - accuracy: 0.9417 - val_loss: 0.7179 - val_precision: 0.5058 - val_recall: 0.6419 - val_f1: 0.5652 - val_auc: 0.8269 - val_tp: 2407.0000 - val_tn: 12145.0000 - val_fp: 2352.0000 - val_fn: 1343.0000 - val_accuracy: 0.7975\n",
            "Epoch 9/40\n",
            "107/107 [==============================] - 11s 100ms/step - loss: 0.1482 - precision: 0.8592 - recall: 0.8965 - f1: 0.8773 - auc: 0.9883 - tp: 10426.0000 - tn: 41405.0000 - fp: 1709.0000 - fn: 1204.0000 - accuracy: 0.9468 - val_loss: 0.6966 - val_precision: 0.5496 - val_recall: 0.5973 - val_f1: 0.5720 - val_auc: 0.8229 - val_tp: 2240.0000 - val_tn: 12661.0000 - val_fp: 1836.0000 - val_fn: 1510.0000 - val_accuracy: 0.8166\n",
            "Epoch 10/40\n",
            "107/107 [==============================] - 12s 112ms/step - loss: 0.1234 - precision: 0.8771 - recall: 0.9184 - f1: 0.8966 - auc: 0.9918 - tp: 10681.0000 - tn: 41617.0000 - fp: 1497.0000 - fn: 949.0000 - accuracy: 0.9553 - val_loss: 0.8421 - val_precision: 0.5611 - val_recall: 0.5731 - val_f1: 0.5661 - val_auc: 0.8090 - val_tp: 2149.0000 - val_tn: 12816.0000 - val_fp: 1681.0000 - val_fn: 1601.0000 - val_accuracy: 0.8201\n",
            "Epoch 11/40\n",
            "107/107 [==============================] - 11s 101ms/step - loss: 0.1064 - precision: 0.8969 - recall: 0.9279 - f1: 0.9122 - auc: 0.9938 - tp: 10791.0000 - tn: 41874.0000 - fp: 1240.0000 - fn: 839.0000 - accuracy: 0.9620 - val_loss: 0.8339 - val_precision: 0.5611 - val_recall: 0.5568 - val_f1: 0.5572 - val_auc: 0.8065 - val_tp: 2088.0000 - val_tn: 12864.0000 - val_fp: 1633.0000 - val_fn: 1662.0000 - val_accuracy: 0.8194\n",
            "Epoch 12/40\n",
            "107/107 [==============================] - 11s 102ms/step - loss: 0.1039 - precision: 0.8964 - recall: 0.9338 - f1: 0.9146 - auc: 0.9940 - tp: 10860.0000 - tn: 41859.0000 - fp: 1255.0000 - fn: 770.0000 - accuracy: 0.9630 - val_loss: 0.8779 - val_precision: 0.5512 - val_recall: 0.5757 - val_f1: 0.5613 - val_auc: 0.8022 - val_tp: 2159.0000 - val_tn: 12739.0000 - val_fp: 1758.0000 - val_fn: 1591.0000 - val_accuracy: 0.8165\n",
            "Epoch 13/40\n",
            "107/107 [==============================] - 11s 102ms/step - loss: 0.0973 - precision: 0.9065 - recall: 0.9316 - f1: 0.9181 - auc: 0.9948 - tp: 10834.0000 - tn: 41997.0000 - fp: 1117.0000 - fn: 796.0000 - accuracy: 0.9651 - val_loss: 0.9688 - val_precision: 0.5883 - val_recall: 0.5144 - val_f1: 0.5485 - val_auc: 0.7877 - val_tp: 1929.0000 - val_tn: 13147.0000 - val_fp: 1350.0000 - val_fn: 1821.0000 - val_accuracy: 0.8262\n",
            "36/36 [==============================] - 2s 52ms/step - loss: 0.9688 - precision: 0.5883 - recall: 0.5144 - f1: 0.5471 - auc: 0.7877 - tp: 1929.0000 - tn: 13147.0000 - fp: 1350.0000 - fn: 1821.0000 - accuracy: 0.8262\n",
            "\n",
            "CHECKING SPLIT NUM: 4\n",
            "Epoch 1/40\n",
            "107/107 [==============================] - ETA: 0s - loss: 0.6532 - precision: 0.5156 - recall: 0.3484 - f1: 0.3182 - auc: 0.7252 - tp: 5323.0000 - tn: 52712.0000 - fp: 5001.0000 - fn: 9955.0000 - accuracy: 0.7951\n",
            "Epoch: 0, accuracy:0.7951,  auc:0.7252,  f1:0.3182,  fn:9955.0000,  fp:5001.0000,  loss:0.6532,  precision:0.5156,  recall:0.3484,  tn:52712.0000,  tp:5323.0000,  val_accuracy:0.8039,  val_auc:0.7979,  val_f1:0.5019,  val_fn:2047.0000,  val_fp:1531.0000,  val_loss:0.4492,  val_precision:0.5411,  val_recall:0.4686,  val_tn:12864.0000,  val_tp:1805.0000,  \n",
            "107/107 [==============================] - 22s 132ms/step - loss: 0.6532 - precision: 0.5156 - recall: 0.3484 - f1: 0.3182 - auc: 0.7252 - tp: 5323.0000 - tn: 52712.0000 - fp: 5001.0000 - fn: 9955.0000 - accuracy: 0.7951 - val_loss: 0.4492 - val_precision: 0.5411 - val_recall: 0.4686 - val_f1: 0.5019 - val_auc: 0.7979 - val_tp: 1805.0000 - val_tn: 12864.0000 - val_fp: 1531.0000 - val_fn: 2047.0000 - val_accuracy: 0.8039\n",
            "Epoch 2/40\n",
            "107/107 [==============================] - 12s 104ms/step - loss: 0.4687 - precision: 0.6335 - recall: 0.6007 - f1: 0.6142 - auc: 0.8750 - tp: 6925.0000 - tn: 39209.0000 - fp: 4007.0000 - fn: 4603.0000 - accuracy: 0.8427 - val_loss: 0.3943 - val_precision: 0.5855 - val_recall: 0.5478 - val_f1: 0.5637 - val_auc: 0.8392 - val_tp: 2110.0000 - val_tn: 12901.0000 - val_fp: 1494.0000 - val_fn: 1742.0000 - val_accuracy: 0.8227\n",
            "Epoch 3/40\n",
            "107/107 [==============================] - 12s 111ms/step - loss: 0.3561 - precision: 0.7111 - recall: 0.7133 - f1: 0.7103 - auc: 0.9302 - tp: 8223.0000 - tn: 39875.0000 - fp: 3341.0000 - fn: 3305.0000 - accuracy: 0.8786 - val_loss: 0.3990 - val_precision: 0.6318 - val_recall: 0.5363 - val_f1: 0.5791 - val_auc: 0.8452 - val_tp: 2066.0000 - val_tn: 13191.0000 - val_fp: 1204.0000 - val_fn: 1786.0000 - val_accuracy: 0.8361\n",
            "Epoch 4/40\n",
            "107/107 [==============================] - 12s 104ms/step - loss: 0.2900 - precision: 0.7468 - recall: 0.7779 - f1: 0.7611 - auc: 0.9544 - tp: 8968.0000 - tn: 40175.0000 - fp: 3041.0000 - fn: 2560.0000 - accuracy: 0.8977 - val_loss: 0.4121 - val_precision: 0.6282 - val_recall: 0.5291 - val_f1: 0.5742 - val_auc: 0.8450 - val_tp: 2038.0000 - val_tn: 13189.0000 - val_fp: 1206.0000 - val_fn: 1814.0000 - val_accuracy: 0.8345\n",
            "Epoch 5/40\n",
            "107/107 [==============================] - 12s 104ms/step - loss: 0.2330 - precision: 0.7921 - recall: 0.8298 - f1: 0.8099 - auc: 0.9709 - tp: 9566.0000 - tn: 40705.0000 - fp: 2511.0000 - fn: 1962.0000 - accuracy: 0.9183 - val_loss: 0.5284 - val_precision: 0.5492 - val_recall: 0.5999 - val_f1: 0.5721 - val_auc: 0.8316 - val_tp: 2311.0000 - val_tn: 12498.0000 - val_fp: 1897.0000 - val_fn: 1541.0000 - val_accuracy: 0.8116\n",
            "Epoch 6/40\n",
            "107/107 [==============================] - 11s 103ms/step - loss: 0.1983 - precision: 0.8156 - recall: 0.8603 - f1: 0.8367 - auc: 0.9789 - tp: 9918.0000 - tn: 40974.0000 - fp: 2242.0000 - fn: 1610.0000 - accuracy: 0.9296 - val_loss: 0.5615 - val_precision: 0.5859 - val_recall: 0.5452 - val_f1: 0.5644 - val_auc: 0.8272 - val_tp: 2100.0000 - val_tn: 12911.0000 - val_fp: 1484.0000 - val_fn: 1752.0000 - val_accuracy: 0.8227\n",
            "Epoch 7/40\n",
            "107/107 [==============================] - 12s 105ms/step - loss: 0.1684 - precision: 0.8382 - recall: 0.8838 - f1: 0.8595 - auc: 0.9849 - tp: 10188.0000 - tn: 41250.0000 - fp: 1966.0000 - fn: 1340.0000 - accuracy: 0.9396 - val_loss: 0.6221 - val_precision: 0.5399 - val_recall: 0.6096 - val_f1: 0.5710 - val_auc: 0.8263 - val_tp: 2348.0000 - val_tn: 12394.0000 - val_fp: 2001.0000 - val_fn: 1504.0000 - val_accuracy: 0.8079\n",
            "Epoch 8/40\n",
            "107/107 [==============================] - 12s 105ms/step - loss: 0.1464 - precision: 0.8564 - recall: 0.9051 - f1: 0.8802 - auc: 0.9885 - tp: 10434.0000 - tn: 41467.0000 - fp: 1749.0000 - fn: 1094.0000 - accuracy: 0.9481 - val_loss: 0.6762 - val_precision: 0.5756 - val_recall: 0.5779 - val_f1: 0.5762 - val_auc: 0.8189 - val_tp: 2226.0000 - val_tn: 12754.0000 - val_fp: 1641.0000 - val_fn: 1626.0000 - val_accuracy: 0.8210\n",
            "Epoch 9/40\n",
            "107/107 [==============================] - 13s 114ms/step - loss: 0.1328 - precision: 0.8724 - recall: 0.9128 - f1: 0.8921 - auc: 0.9905 - tp: 10523.0000 - tn: 41677.0000 - fp: 1539.0000 - fn: 1005.0000 - accuracy: 0.9535 - val_loss: 0.7276 - val_precision: 0.5833 - val_recall: 0.5646 - val_f1: 0.5717 - val_auc: 0.8128 - val_tp: 2175.0000 - val_tn: 12841.0000 - val_fp: 1554.0000 - val_fn: 1677.0000 - val_accuracy: 0.8229\n",
            "Epoch 10/40\n",
            "107/107 [==============================] - 12s 105ms/step - loss: 0.1214 - precision: 0.8799 - recall: 0.9238 - f1: 0.9010 - auc: 0.9919 - tp: 10649.0000 - tn: 41763.0000 - fp: 1453.0000 - fn: 879.0000 - accuracy: 0.9574 - val_loss: 0.7954 - val_precision: 0.5704 - val_recall: 0.5478 - val_f1: 0.5564 - val_auc: 0.8033 - val_tp: 2110.0000 - val_tn: 12806.0000 - val_fp: 1589.0000 - val_fn: 1742.0000 - val_accuracy: 0.8174\n",
            "Epoch 11/40\n",
            "107/107 [==============================] - 11s 103ms/step - loss: 0.1042 - precision: 0.8974 - recall: 0.9344 - f1: 0.9155 - auc: 0.9941 - tp: 10772.0000 - tn: 41984.0000 - fp: 1232.0000 - fn: 756.0000 - accuracy: 0.9637 - val_loss: 0.8680 - val_precision: 0.5498 - val_recall: 0.5999 - val_f1: 0.5728 - val_auc: 0.8090 - val_tp: 2311.0000 - val_tn: 12503.0000 - val_fp: 1892.0000 - val_fn: 1541.0000 - val_accuracy: 0.8119\n",
            "Epoch 12/40\n",
            "107/107 [==============================] - 12s 104ms/step - loss: 0.0995 - precision: 0.9033 - recall: 0.9390 - f1: 0.9202 - auc: 0.9946 - tp: 10825.0000 - tn: 42057.0000 - fp: 1159.0000 - fn: 703.0000 - accuracy: 0.9660 - val_loss: 0.9306 - val_precision: 0.5765 - val_recall: 0.5491 - val_f1: 0.5610 - val_auc: 0.7981 - val_tp: 2115.0000 - val_tn: 12841.0000 - val_fp: 1554.0000 - val_fn: 1737.0000 - val_accuracy: 0.8196\n",
            "Epoch 13/40\n",
            "107/107 [==============================] - 11s 103ms/step - loss: 0.0881 - precision: 0.9139 - recall: 0.9442 - f1: 0.9284 - auc: 0.9957 - tp: 10885.0000 - tn: 42191.0000 - fp: 1025.0000 - fn: 643.0000 - accuracy: 0.9695 - val_loss: 0.9449 - val_precision: 0.5530 - val_recall: 0.6038 - val_f1: 0.5763 - val_auc: 0.8058 - val_tp: 2326.0000 - val_tn: 12515.0000 - val_fp: 1880.0000 - val_fn: 1526.0000 - val_accuracy: 0.8133\n",
            "36/36 [==============================] - 2s 42ms/step - loss: 0.9449 - precision: 0.5530 - recall: 0.6038 - f1: 0.5762 - auc: 0.8058 - tp: 2326.0000 - tn: 12515.0000 - fp: 1880.0000 - fn: 1526.0000 - accuracy: 0.8133\n",
            "!!! SESSION NUM 1 ---> CV f1: 0.5693876296281815\n",
            "!!! auc: 0.8003043681383133\n",
            "------------------------------------------\n"
          ]
        },
        {
          "output_type": "display_data",
          "data": {
            "text/plain": [
              "<Figure size 432x288 with 1 Axes>"
            ],
            "image/png": "[encoded data removed]"
          },
          "metadata": {
            "needs_background": "light"
          }
        },
        {
          "output_type": "stream",
          "name": "stdout",
          "text": [
            "\n",
            "------------------------------------------\n"
          ]
        },
        {
          "output_type": "display_data",
          "data": {
            "text/plain": [
              "<Figure size 432x288 with 1 Axes>"
            ],
            "image/png": "[encoded data removed]"
          },
          "metadata": {
            "needs_background": "light"
          }
        }
      ],
      "source": [
        "#this is the highest-level method that runs the 2 above, call many times the run(....) method with different params combination\n",
        "\n",
        "#you can choose: 1) to iterate one after all the paramters (not working atm, need to be added optimzier and num-epochs params)\n",
        "#                2) Sample randomly from the paramters we have, useful for having a general idea of the performances\n",
        "\n",
        "#the HParams framework is taken form the Tensorflow webpage as a \"standard\" hyperparameter optimization framework\n",
        "\n",
        "def run_tuning(random_parameters):\n",
        "    #take the user gin parameters\n",
        "    if not random_parameters :\n",
        "        print(\"Trying parameters given by user\")\n",
        "                 \n",
        "        session_num = 1\n",
        "        #this while is here simply because after around 20/25 combinations Colab RAM/my pc RAM is full and i need to restart\n",
        "        emb_dim = int(float(params[0]))#here parameters are ind fiferent orders!\n",
        "        num_units = int(float(params[1]))\n",
        "        opt_lr = float(params[2])\n",
        "        num_layers = int(float(params[3]))\n",
        "        weight_tuner = float(params[4])\n",
        "        dropout = float(params[5])\n",
        "        num_epochs = 40 \n",
        "\n",
        "        hparams = {\n",
        "          HP_NUM_UNITS: num_units, #num un= emb_dim\n",
        "          HP_EMBEDDING_DIM: emb_dim,\n",
        "          HP_OPTIMIZER_LR: opt_lr,\n",
        "          HP_WEIGHT_TUNER: weight_tuner,\n",
        "          HP_NUM_LAYERS: num_layers,\n",
        "          HP_NUM_EPOCHS: num_epochs,\n",
        "          #HP_KERNEL_REGULARIZATION_L2: ker_l2,\n",
        "          #HP_KERNEL_REGULARIZATION_L1: ker_l1\n",
        "          HP_DROPOUT: dropout\n",
        "        }\n",
        "\n",
        "        run_name = \"run-%d\" % session_num\n",
        "\n",
        "        print(\"!--WARNING--! DROPOUT and CLASS_WEIGHT are DISABLED and  EMB_DIM=NUM_UNITS\")\n",
        "\n",
        "        print('--- Starting trial: %s' % run_name)\n",
        "        print({h.name: hparams[h] for h in hparams})\n",
        "\n",
        "        #call the run(..) method defined earlier\n",
        "        run('logsGraphs/hparam_tuningCV/' + run_name, hparams, session_num)\n",
        "\n",
        "\n",
        "            \n",
        "              \n",
        "    if random_parameters :\n",
        "        print(\"Trying parameters at random\")\n",
        "                 \n",
        "        session_num = 0\n",
        "        #this while is here simply because after around 20/25 combinations Colab RAM/my pc RAM is full and i need to restart\n",
        "        while session_num <= 50:\n",
        "            num_units = random.choice(HP_NUM_UNITS.domain.values)\n",
        "            emb_dim = random.choice(HP_EMBEDDING_DIM.domain.values)\n",
        "            \n",
        "            opt_lr = random.choice(HP_OPTIMIZER_LR.domain.values)\n",
        "            weight_tuner = random.choice([0.3, 0.5, 0.7, 1.1, 1.3, 1.5])\n",
        "            num_layers = random.choice(HP_NUM_LAYERS.domain.values)\n",
        "            num_epochs = random.choice(HP_NUM_EPOCHS.domain.values)\n",
        "            dropout = random.choice(HP_DROPOUT.domain.values)\n",
        "            \n",
        "            #creates a dictionary with the random sampled parameters, taken at random every time\n",
        "            hparams = {\n",
        "              HP_NUM_UNITS: num_units,\n",
        "              HP_EMBEDDING_DIM: emb_dim,\n",
        "              HP_OPTIMIZER_LR: opt_lr,\n",
        "              HP_WEIGHT_TUNER: weight_tuner,\n",
        "              HP_NUM_LAYERS: num_layers,\n",
        "              HP_NUM_EPOCHS: num_epochs,\n",
        "              HP_DROPOUT: dropout\n",
        "            }\n",
        "\n",
        "            run_name = \"run-%d\" % session_num\n",
        "            print(\"!--WARNING--! DROPOUT and CLASS_WEIGHT are DISABLED and  EMB_DIM=NUM_UNITS\")\n",
        "            \n",
        "            print('--- Starting trial: %s' % run_name)\n",
        "            print({h.name: hparams[h] for h in hparams})\n",
        "            #call the run(..) method defined earlier\n",
        "            run('logsGraphs/hparam_tuningCV/' + run_name, hparams, session_num)\n",
        "            session_num += 1\n",
        "\n",
        "                \n",
        "run_tuning(random_parameters=False)"
      ]
    },
    {
      "cell_type": "code",
      "execution_count": null,
      "metadata": {
        "id": "TmzNldNcDP3r"
      },
      "outputs": [],
      "source": [
        "#%reload_ext tensorboard\n",
        "#%tensorboard --logdir 'logsGraphs/hparam_tuningCV/' --host localhost --port 9089"
      ]
    },
    {
      "cell_type": "markdown",
      "metadata": {
        "id": "e9SIeoEIDP3t"
      },
      "source": [
        "## Final Refit on the retained Test_set"
      ]
    },
    {
      "cell_type": "code",
      "execution_count": null,
      "metadata": {
        "id": "CwntdrXcLp7U"
      },
      "outputs": [],
      "source": [
        "def get_callbacks():\n",
        "  return [\n",
        "    tfdocs.modeling.EpochDots(),\n",
        "    tf.keras.callbacks.EarlyStopping(patience = 7, monitor = 'val_f1',  mode = 'max', min_delta = 0.05),#ma need an increase?\n",
        "    #tf.keras.callbacks.TensorBoard('logsGraphs/graphsFolder'),\n",
        "  ]"
      ]
    },
    {
      "cell_type": "code",
      "execution_count": null,
      "metadata": {
        "colab": {
          "base_uri": "https://localhost:8080/"
        },
        "id": "uriOqNz9Lp7V",
        "outputId": "eed93209-e514-4745-c970-022e9a896dda"
      },
      "outputs": [
        {
          "output_type": "stream",
          "name": "stdout",
          "text": [
            "Test set Number of 1 : 2709\n",
            "Test set Number of 0 : 10172\n"
          ]
        }
      ],
      "source": [
        "#----- Class Imabalance dealing here\n",
        "labels=np.array([])\n",
        "for example, label in test_dataset.take(-1):\n",
        "    labels=np.concatenate((labels,label.numpy()))\n",
        "    \n",
        "nonzero = np.count_nonzero(labels)\n",
        "print(\"Test set Number of 1 : \"+str(nonzero))\n",
        "print(\"Test set Number of 0 : \"+str(len(labels)-nonzero))"
      ]
    },
    {
      "cell_type": "code",
      "execution_count": null,
      "metadata": {
        "id": "-sJa_ujLDP3t"
      },
      "outputs": [],
      "source": [
        "#redefine the encoding on the WHOLE train set (80% of the dataset)\n",
        "encoder = tf.keras.layers.experimental.preprocessing.TextVectorization(max_tokens=VOCAB_SIZE)\n",
        "encoder.adapt(train_ds_final.map(lambda text, label: text))"
      ]
    },
    {
      "cell_type": "code",
      "source": [
        "emb_dim = int(float(params[0]))#here parameters are ind fiferent orders!\n",
        "num_units = int(float(params[1]))\n",
        "opt_lr = float(params[2])\n",
        "num_layers = int(float(params[3]))\n",
        "weight_tuner = float(params[4])\n",
        "dropout = float(params[5])\n",
        "num_epochs = 40 "
      ],
      "metadata": {
        "id": "toG6cArSZR9m"
      },
      "execution_count": null,
      "outputs": []
    },
    {
      "cell_type": "code",
      "execution_count": null,
      "metadata": {
        "id": "aBty_q_tDP3t"
      },
      "outputs": [],
      "source": [
        "\n",
        "\n",
        "model = tf.keras.Sequential([\n",
        "    \n",
        "    encoder, #input layer\n",
        "    tf.keras.layers.Embedding( #embedding layer\n",
        "        input_dim=len(encoder.get_vocabulary()),\n",
        "        output_dim=emb_dim,\n",
        "        # Use masking to handle the variable sequence lengths\n",
        "        mask_zero=True),\n",
        "  \n",
        "    Bidirectional(tf.keras.layers.LSTM(emb_dim )), \n",
        "    \n",
        "     \n",
        "    \n",
        "    \n",
        "])\n",
        "  \n",
        "for i in range(num_layers):\n",
        "    if num_units/pow(2,i) >1 :\n",
        "        model.add(Dense(num_units/pow(2,i), activation=\"relu\"))\n",
        "        #model.add(Dropout(dropout))\n",
        "\n",
        "model.add(Dense(1,activation='sigmoid')) \n",
        "\n",
        "model.compile(\n",
        "      optimizer=tf.keras.optimizers.Adam(opt_lr),\n",
        "      loss=tf.keras.losses.BinaryCrossentropy(),\n",
        "      metrics=METRICS,\n",
        "  )\n",
        "\n",
        "class_weight = {0: 1., #class 0 weight\n",
        "                1: posWeight/weight_tuner, #uses the weight I set to make them perfectly balanced, I can increase it to overweight pos class!\n",
        "                                 \n",
        "                2: 2.} \n",
        "\n"
      ]
    },
    {
      "cell_type": "code",
      "execution_count": null,
      "metadata": {
        "id": "xci58XusDP3u",
        "colab": {
          "base_uri": "https://localhost:8080/"
        },
        "outputId": "4e11d95b-55c2-4cf9-bf47-5e76de8d6d8d"
      },
      "outputs": [
        {
          "output_type": "stream",
          "name": "stdout",
          "text": [
            "Epoch 1/40\n",
            "143/143 [==============================] - ETA: 0s - loss: 0.6386 - precision: 0.5110 - recall: 0.3725 - f1: 0.3312 - auc: 0.7423 - tp: 7163.0000 - tn: 65152.0000 - fp: 6854.0000 - fn: 12069.0000 - accuracy: 0.7926\n",
            "Epoch: 0, accuracy:0.7926,  auc:0.7423,  f1:0.3312,  fn:12069.0000,  fp:6854.0000,  loss:0.6386,  precision:0.5110,  recall:0.3725,  tn:65152.0000,  tp:7163.0000,  val_accuracy:0.8318,  val_auc:0.8263,  val_f1:0.5112,  val_fn:1579.0000,  val_fp:587.0000,  val_loss:0.3945,  val_precision:0.6581,  val_recall:0.4171,  val_tn:9585.0000,  val_tp:1130.0000,  \n",
            "143/143 [==============================] - 26s 128ms/step - loss: 0.6386 - precision: 0.5110 - recall: 0.3725 - f1: 0.3312 - auc: 0.7423 - tp: 7163.0000 - tn: 65152.0000 - fp: 6854.0000 - fn: 12069.0000 - accuracy: 0.7926 - val_loss: 0.3945 - val_precision: 0.6581 - val_recall: 0.4171 - val_f1: 0.5112 - val_auc: 0.8263 - val_tp: 1130.0000 - val_tn: 9585.0000 - val_fp: 587.0000 - val_fn: 1579.0000 - val_accuracy: 0.8318\n",
            "Epoch 2/40\n",
            "143/143 [==============================] - 15s 103ms/step - loss: 0.4473 - precision: 0.6588 - recall: 0.6131 - f1: 0.6336 - auc: 0.8863 - tp: 9430.0000 - tn: 52728.0000 - fp: 4883.0000 - fn: 5950.0000 - accuracy: 0.8516 - val_loss: 0.4041 - val_precision: 0.5288 - val_recall: 0.6711 - val_f1: 0.5917 - val_auc: 0.8591 - val_tp: 1818.0000 - val_tn: 8552.0000 - val_fp: 1620.0000 - val_fn: 891.0000 - val_accuracy: 0.8051\n",
            "Epoch 3/40\n",
            "143/143 [==============================] - 14s 95ms/step - loss: 0.3500 - precision: 0.7194 - recall: 0.7040 - f1: 0.7109 - auc: 0.9322 - tp: 10828.0000 - tn: 53387.0000 - fp: 4224.0000 - fn: 4552.0000 - accuracy: 0.8798 - val_loss: 0.3715 - val_precision: 0.5991 - val_recall: 0.6205 - val_f1: 0.6043 - val_auc: 0.8656 - val_tp: 1681.0000 - val_tn: 9047.0000 - val_fp: 1125.0000 - val_fn: 1028.0000 - val_accuracy: 0.8329\n",
            "Epoch 4/40\n",
            "143/143 [==============================] - 14s 95ms/step - loss: 0.2914 - precision: 0.7567 - recall: 0.7618 - f1: 0.7589 - auc: 0.9535 - tp: 11716.0000 - tn: 53845.0000 - fp: 3766.0000 - fn: 3664.0000 - accuracy: 0.8982 - val_loss: 0.4243 - val_precision: 0.5714 - val_recall: 0.6486 - val_f1: 0.6054 - val_auc: 0.8639 - val_tp: 1757.0000 - val_tn: 8854.0000 - val_fp: 1318.0000 - val_fn: 952.0000 - val_accuracy: 0.8238\n",
            "Epoch 5/40\n",
            "143/143 [==============================] - 14s 93ms/step - loss: 0.2422 - precision: 0.7859 - recall: 0.8096 - f1: 0.7970 - auc: 0.9680 - tp: 12451.0000 - tn: 54219.0000 - fp: 3392.0000 - fn: 2929.0000 - accuracy: 0.9134 - val_loss: 0.4129 - val_precision: 0.6253 - val_recall: 0.6032 - val_f1: 0.6056 - val_auc: 0.8608 - val_tp: 1634.0000 - val_tn: 9193.0000 - val_fp: 979.0000 - val_fn: 1075.0000 - val_accuracy: 0.8405\n",
            "Epoch 6/40\n",
            "143/143 [==============================] - 14s 96ms/step - loss: 0.2058 - precision: 0.8065 - recall: 0.8499 - f1: 0.8271 - auc: 0.9771 - tp: 13072.0000 - tn: 54474.0000 - fp: 3137.0000 - fn: 2308.0000 - accuracy: 0.9254 - val_loss: 0.5076 - val_precision: 0.5692 - val_recall: 0.6526 - val_f1: 0.6008 - val_auc: 0.8526 - val_tp: 1768.0000 - val_tn: 8834.0000 - val_fp: 1338.0000 - val_fn: 941.0000 - val_accuracy: 0.8231\n",
            "Epoch 7/40\n",
            "143/143 [==============================] - 14s 95ms/step - loss: 0.1761 - precision: 0.8361 - recall: 0.8747 - f1: 0.8543 - auc: 0.9833 - tp: 13453.0000 - tn: 54973.0000 - fp: 2638.0000 - fn: 1927.0000 - accuracy: 0.9375 - val_loss: 0.5632 - val_precision: 0.6048 - val_recall: 0.6072 - val_f1: 0.6114 - val_auc: 0.8447 - val_tp: 1645.0000 - val_tn: 9097.0000 - val_fp: 1075.0000 - val_fn: 1064.0000 - val_accuracy: 0.8339\n",
            "Epoch 8/40\n",
            "143/143 [==============================] - 15s 105ms/step - loss: 0.1634 - precision: 0.8420 - recall: 0.8886 - f1: 0.8642 - auc: 0.9856 - tp: 13666.0000 - tn: 55047.0000 - fp: 2564.0000 - fn: 1714.0000 - accuracy: 0.9414 - val_loss: 0.5845 - val_precision: 0.6183 - val_recall: 0.6002 - val_f1: 0.6060 - val_auc: 0.8422 - val_tp: 1626.0000 - val_tn: 9168.0000 - val_fp: 1004.0000 - val_fn: 1083.0000 - val_accuracy: 0.8380\n",
            "Epoch 9/40\n",
            "143/143 [==============================] - 14s 96ms/step - loss: 0.1431 - precision: 0.8583 - recall: 0.9034 - f1: 0.8800 - auc: 0.9890 - tp: 13894.0000 - tn: 55318.0000 - fp: 2293.0000 - fn: 1486.0000 - accuracy: 0.9482 - val_loss: 0.6843 - val_precision: 0.5913 - val_recall: 0.6264 - val_f1: 0.6046 - val_auc: 0.8399 - val_tp: 1697.0000 - val_tn: 8999.0000 - val_fp: 1173.0000 - val_fn: 1012.0000 - val_accuracy: 0.8304\n"
          ]
        }
      ],
      "source": [
        "#----fitting\n",
        "history = model.fit(train_ds_final, \n",
        "                    epochs = num_epochs, \n",
        "                    #validation_steps=20, #uses only a portion of validation set\n",
        "                    class_weight=class_weight,\n",
        "                    validation_data=test_dataset,\n",
        "                    callbacks=get_callbacks())\n"
      ]
    },
    {
      "cell_type": "code",
      "execution_count": null,
      "metadata": {
        "id": "oz21VOXVLp7X"
      },
      "outputs": [],
      "source": [
        "history2={}\n",
        "history2[\"split \"+str(i+1)]=history\n",
        "history= history2"
      ]
    },
    {
      "cell_type": "code",
      "execution_count": null,
      "metadata": {
        "id": "-FziWcJlDP3w",
        "colab": {
          "base_uri": "https://localhost:8080/",
          "height": 1000
        },
        "outputId": "8b550d2c-0bf3-492e-91c4-aa59840795e1"
      },
      "outputs": [
        {
          "output_type": "display_data",
          "data": {
            "text/plain": [
              "<Figure size 432x288 with 1 Axes>"
            ],
            "image/png": "[encoded data removed]"
          },
          "metadata": {
            "needs_background": "light"
          }
        },
        {
          "output_type": "display_data",
          "data": {
            "text/plain": [
              "<Figure size 432x288 with 1 Axes>"
            ],
            "image/png": "[encoded data removed]"
          },
          "metadata": {
            "needs_background": "light"
          }
        },
        {
          "output_type": "display_data",
          "data": {
            "text/plain": [
              "<Figure size 432x288 with 1 Axes>"
            ],
            "image/png": "[encoded data removed]"
          },
          "metadata": {
            "needs_background": "light"
          }
        },
        {
          "output_type": "display_data",
          "data": {
            "text/plain": [
              "<Figure size 432x288 with 1 Axes>"
            ],
            "image/png": "[encoded data removed]"
          },
          "metadata": {
            "needs_background": "light"
          }
        },
        {
          "output_type": "display_data",
          "data": {
            "text/plain": [
              "<Figure size 432x288 with 1 Axes>"
            ],
            "image/png": "[encoded data removed]"
          },
          "metadata": {
            "needs_background": "light"
          }
        },
        {
          "output_type": "stream",
          "name": "stdout",
          "text": [
            "26/26 [==============================] - 1s 41ms/step - loss: 0.6843 - precision: 0.5913 - recall: 0.6264 - f1: 0.6073 - auc: 0.8399 - tp: 1697.0000 - tn: 8999.0000 - fp: 1173.0000 - fn: 1012.0000 - accuracy: 0.8304\n",
            "Test Accuracy: 0.830370306968689\n",
            "Test Prec: 0.591289222240448\n",
            "Test Recall: 0.6264303922653198\n",
            "Test AUC: 0.8398833870887756\n",
            "Test F1:  0.6072593927383423\n",
            "Test Loss: 0.6843438744544983\n"
          ]
        }
      ],
      "source": [
        "#1 solo layer ora\n",
        "plotter = tfdocs.plots.HistoryPlotter(metric = 'f1', smoothing_std=10)\n",
        "plotter.plot(history)\n",
        "plt.show() \n",
        "\n",
        "plotter = tfdocs.plots.HistoryPlotter(metric = 'auc', smoothing_std=10)\n",
        "plotter.plot(history)\n",
        "plt.show() \n",
        "\n",
        "plotter = tfdocs.plots.HistoryPlotter(metric = 'tp', smoothing_std=10)\n",
        "plotter.plot(history)\n",
        "plt.show() \n",
        "\n",
        "plotter = tfdocs.plots.HistoryPlotter(metric = 'tn', smoothing_std=10)\n",
        "plotter.plot(history)\n",
        "plt.show() \n",
        "\n",
        "plotter = tfdocs.plots.HistoryPlotter(metric = 'accuracy', smoothing_std=10)\n",
        "plotter.plot(history)\n",
        "plt.show() \n",
        "\n",
        "#get you result on the independent test set to asses performance on unseen data\n",
        "test_loss,  test_prec, test_rec, test_f1, test_auc,_1,_2,_3,_4,test_acc = model.evaluate(test_dataset)\n",
        "\n",
        "\n",
        "print('Test Accuracy:', test_acc)\n",
        "print('Test Prec:', test_prec)\n",
        "print('Test Recall:', test_rec)\n",
        "print('Test AUC:', test_auc)\n",
        "print('Test F1: ',test_f1)\n",
        "print('Test Loss:', test_loss)"
      ]
    },
    {
      "cell_type": "markdown",
      "source": [
        "### Save model"
      ],
      "metadata": {
        "id": "ghWZVFWqVzxe"
      }
    },
    {
      "cell_type": "code",
      "source": [
        "model.save('/content/drive/MyDrive/Judging under influence/FINAL_MODELS_SAVED/DEF/RNN/DEF_RNN_PARAGRAPHS',save_format='tf')"
      ],
      "metadata": {
        "colab": {
          "base_uri": "https://localhost:8080/"
        },
        "id": "jXnEQyFUVvGW",
        "outputId": "ec34c57e-79f6-4b2d-a0a2-a894ef350ed9"
      },
      "execution_count": null,
      "outputs": [
        {
          "output_type": "stream",
          "name": "stderr",
          "text": [
            "WARNING:absl:Found untraced functions such as lstm_cell_13_layer_call_fn, lstm_cell_13_layer_call_and_return_conditional_losses, lstm_cell_14_layer_call_fn, lstm_cell_14_layer_call_and_return_conditional_losses while saving (showing 4 of 4). These functions will not be directly callable after loading.\n"
          ]
        },
        {
          "output_type": "stream",
          "name": "stdout",
          "text": [
            "INFO:tensorflow:Assets written to: /content/drive/MyDrive/Judging under influence/FINAL_MODELS_SAVED/DEF/RNN/DEF_RNN_PARAGRAPHS/assets\n"
          ]
        },
        {
          "output_type": "stream",
          "name": "stderr",
          "text": [
            "INFO:tensorflow:Assets written to: /content/drive/MyDrive/Judging under influence/FINAL_MODELS_SAVED/DEF/RNN/DEF_RNN_PARAGRAPHS/assets\n",
            "WARNING:absl:<keras.layers.recurrent.LSTMCell object at 0x7f7452fd35d0> has the same name 'LSTMCell' as a built-in Keras object. Consider renaming <class 'keras.layers.recurrent.LSTMCell'> to avoid naming conflicts when loading with `tf.keras.models.load_model`. If renaming is not possible, pass the object in the `custom_objects` parameter of the load function.\n",
            "WARNING:absl:<keras.layers.recurrent.LSTMCell object at 0x7f74530cf0d0> has the same name 'LSTMCell' as a built-in Keras object. Consider renaming <class 'keras.layers.recurrent.LSTMCell'> to avoid naming conflicts when loading with `tf.keras.models.load_model`. If renaming is not possible, pass the object in the `custom_objects` parameter of the load function.\n"
          ]
        }
      ]
    },
    {
      "cell_type": "code",
      "source": [
        "#loaded_model.load_weights()\n",
        "#we set compile=False because of the custom losses that can't be loaded \n",
        "new_model = tf.keras.models.load_model('/content/drive/MyDrive/Judging under influence/FINAL_MODELS_SAVED/DEF/RNN/DEF_RNN_PARAGRAPHS',compile=False)\n",
        "new_model.summary()"
      ],
      "metadata": {
        "colab": {
          "base_uri": "https://localhost:8080/"
        },
        "id": "V6HSTvaQV4ZY",
        "outputId": "ef0c415c-01f9-4743-c4d0-e3cbf129fe6c"
      },
      "execution_count": null,
      "outputs": [
        {
          "output_type": "stream",
          "name": "stdout",
          "text": [
            "WARNING:tensorflow:Unable to restore custom metric. Please ensure that the layer implements `get_config` and `from_config` when saving. In addition, please use the `custom_objects` arg when calling `load_model()`.\n"
          ]
        },
        {
          "output_type": "stream",
          "name": "stderr",
          "text": [
            "WARNING:tensorflow:Unable to restore custom metric. Please ensure that the layer implements `get_config` and `from_config` when saving. In addition, please use the `custom_objects` arg when calling `load_model()`.\n"
          ]
        },
        {
          "output_type": "stream",
          "name": "stdout",
          "text": [
            "Model: \"sequential_4\"\n",
            "_________________________________________________________________\n",
            " Layer (type)                Output Shape              Param #   \n",
            "=================================================================\n",
            " text_vectorization_4 (TextV  (None, None)             0         \n",
            " ectorization)                                                   \n",
            "                                                                 \n",
            " embedding_4 (Embedding)     (None, None, 38)          1140000   \n",
            "                                                                 \n",
            " bidirectional_4 (Bidirectio  (None, 76)               23408     \n",
            " nal)                                                            \n",
            "                                                                 \n",
            " dense_8 (Dense)             (None, 31)                2387      \n",
            "                                                                 \n",
            " dense_9 (Dense)             (None, 1)                 32        \n",
            "                                                                 \n",
            "=================================================================\n",
            "Total params: 1,165,827\n",
            "Trainable params: 1,165,827\n",
            "Non-trainable params: 0\n",
            "_________________________________________________________________\n"
          ]
        }
      ]
    },
    {
      "cell_type": "code",
      "source": [
        "new_model.compile(\n",
        "          optimizer=tf.keras.optimizers.Adam(opt_lr),\n",
        "          loss=tf.keras.losses.BinaryCrossentropy(),\n",
        "          metrics=METRICS,\n",
        "      )\n",
        "\n"
      ],
      "metadata": {
        "id": "PJDiDDrfV4Xh"
      },
      "execution_count": null,
      "outputs": []
    },
    {
      "cell_type": "code",
      "source": [
        "\n",
        "#get you result on the independent test set to asses performance on unseen data\n",
        "test_loss,  test_prec, test_rec, test_f1, test_auc,_1,_2,_3,_4,test_acc = new_model.evaluate(test_dataset)\n",
        "\n",
        "\n",
        "print('Test Accuracy:', test_acc)\n",
        "print('Test Prec:', test_prec)\n",
        "print('Test Recall:', test_rec)\n",
        "print('Test AUC:', test_auc)\n",
        "print('Test F1: ',test_f1)\n",
        "print('Test Loss:', test_loss)"
      ],
      "metadata": {
        "colab": {
          "base_uri": "https://localhost:8080/"
        },
        "id": "tYpQJe0gV4VM",
        "outputId": "1155ea7b-1617-4aa4-8a84-1b7a7ad9b124"
      },
      "execution_count": null,
      "outputs": [
        {
          "output_type": "stream",
          "name": "stdout",
          "text": [
            "26/26 [==============================] - 6s 42ms/step - loss: 0.6843 - precision: 0.5913 - recall: 0.6264 - f1: 0.6070 - auc: 0.8399 - tp: 3394.0000 - tn: 17998.0000 - fp: 2346.0000 - fn: 2024.0000 - accuracy: 0.8304\n",
            "Test Accuracy: 0.830370306968689\n",
            "Test Prec: 0.591289222240448\n",
            "Test Recall: 0.6264303922653198\n",
            "Test AUC: 0.8398833870887756\n",
            "Test F1:  0.6069505214691162\n",
            "Test Loss: 0.6843438744544983\n"
          ]
        }
      ]
    },
    {
      "cell_type": "markdown",
      "metadata": {
        "id": "EbesvefvLp7Y"
      },
      "source": [
        "## Dummy predictor"
      ]
    },
    {
      "cell_type": "code",
      "execution_count": null,
      "metadata": {
        "id": "wY87JoybDP3w",
        "colab": {
          "base_uri": "https://localhost:8080/"
        },
        "outputId": "e806c098-bc27-4ce9-a5ac-49776e360703"
      },
      "outputs": [
        {
          "output_type": "stream",
          "name": "stdout",
          "text": [
            "Precision : 0.0\n",
            "Recall : 0.0\n",
            "AUC : 0.5\n",
            "F1 : 0.0\n",
            "accuracy: 0.789690241440882\n"
          ]
        },
        {
          "output_type": "stream",
          "name": "stderr",
          "text": [
            "/usr/local/lib/python3.7/dist-packages/sklearn/metrics/_classification.py:1318: UndefinedMetricWarning: Precision is ill-defined and being set to 0.0 due to no predicted samples. Use `zero_division` parameter to control this behavior.\n",
            "  _warn_prf(average, modifier, msg_start, len(result))\n"
          ]
        }
      ],
      "source": [
        "from sklearn.metrics import recall_score,precision_score,roc_curve,roc_auc_score,f1_score,accuracy_score\n",
        "\n",
        "test_labels=[]\n",
        "test_labels=np.array(test_labels)\n",
        "for example, label in test_dataset.take(-1):\n",
        "    _ = example.numpy()\n",
        "    test_labels=np.concatenate((test_labels,label.numpy()))\n",
        "    \n",
        "#print(test_labels)\n",
        "\n",
        "#Results using dummy classification on the test set\n",
        "accuracy = accuracy_score(test_labels,np.zeros(len(test_labels)))#predict all zeroes\n",
        "precision = precision_score(test_labels,np.zeros(len(test_labels)))\n",
        "recall = recall_score(test_labels,np.zeros(len(test_labels)))\n",
        "auc = roc_auc_score(test_labels,np.zeros(len(test_labels)))\n",
        "f1 = f1_score(test_labels,np.zeros(len(test_labels)))\n",
        "\n",
        "\n",
        "\n",
        "print(\"Precision : \"+str(precision))\n",
        "print(\"Recall : \"+str(recall))\n",
        "print(\"AUC : \"+str(auc))\n",
        "print(\"F1 : \"+str(f1))\n",
        "print(\"accuracy: \"+str(accuracy))"
      ]
    },
    {
      "cell_type": "code",
      "execution_count": null,
      "metadata": {
        "id": "QW3rofjkDP3x"
      },
      "outputs": [],
      "source": []
    },
    {
      "cell_type": "code",
      "execution_count": null,
      "metadata": {
        "id": "-tVQQEfwDP3x"
      },
      "outputs": [],
      "source": []
    }
  ],
  "metadata": {
    "accelerator": "GPU",
    "colab": {
      "collapsed_sections": [],
      "provenance": []
    },
    "kernelspec": {
      "display_name": "Python 3 (ipykernel)",
      "language": "python",
      "name": "python3"
    },
    "language_info": {
      "codemirror_mode": {
        "name": "ipython",
        "version": 3
      },
      "file_extension": ".py",
      "mimetype": "text/x-python",
      "name": "python",
      "nbconvert_exporter": "python",
      "pygments_lexer": "ipython3",
      "version": "3.8.10"
    }
  },
  "nbformat": 4,
  "nbformat_minor": 0
}