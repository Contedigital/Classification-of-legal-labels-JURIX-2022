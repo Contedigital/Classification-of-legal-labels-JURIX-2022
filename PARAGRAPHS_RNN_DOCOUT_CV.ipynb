{
  "cells": [
    {
      "cell_type": "code",
      "execution_count": null,
      "metadata": {
        "id": "zyObBalxh2as"
      },
      "outputs": [],
      "source": [
        "#from google.colab import drive\n",
        "#drive.mount('/content/drive')\n",
        "#\n",
        "#!ls \"/content/drive/MyDrive/Judging under influence/DOCOUT/PARAGRAPHS\""
      ]
    },
    {
      "cell_type": "code",
      "execution_count": null,
      "metadata": {
        "id": "Xdx_-uzPDP3Y"
      },
      "outputs": [],
      "source": [
        "#!pip install git+https://github.com/tensorflow/docs   \n",
        "#!pip install pyyaml h5py\n",
        "import numpy as np\n",
        "import shutil\n",
        "\n",
        "import tensorflow as tf\n",
        "import random\n",
        "import matplotlib.pyplot as plt\n",
        "import pandas as pd \n",
        "from tensorboard.plugins.hparams import api as hp\n",
        "from tensorflow.keras import Sequential\n",
        "from tensorflow.keras.layers import Dense, Embedding, GlobalAveragePooling1D, Bidirectional, Dropout\n",
        "\n",
        "import tensorflow_docs as tfdocs\n",
        "import tensorflow_docs.modeling\n",
        "import tensorflow_docs.plots\n",
        "\n",
        "import os \n",
        "os.environ[\"TF_FORCE_GPU_ALLOW_GROWTH\"]=\"true\" #for that erorr in the tuning process"
      ]
    },
    {
      "cell_type": "code",
      "execution_count": null,
      "metadata": {
        "id": "kli5wDF3DP3d"
      },
      "outputs": [],
      "source": [
        "#Keras do not implement F1 so I implemented \"myself\"\n",
        "from keras import backend as K\n",
        "\n",
        "def f1(y_true, y_pred):\n",
        "    def recall(y_true, y_pred):\n",
        "        \"\"\"Recall metric.\n",
        "\n",
        "        Only computes a batch-wise average of recall.\n",
        "\n",
        "        Computes the recall, a metric for multi-label classification of\n",
        "        how many relevant items are selected.\n",
        "        \"\"\"\n",
        "        true_positives = K.sum(K.round(K.clip(y_true * y_pred, 0, 1)))\n",
        "        possible_positives = K.sum(K.round(K.clip(y_true, 0, 1)))\n",
        "        recall = true_positives / (possible_positives + K.epsilon())\n",
        "        return recall\n",
        "\n",
        "    def precision(y_true, y_pred):\n",
        "        \"\"\"Precision metric.\n",
        "\n",
        "        Only computes a batch-wise average of precision.\n",
        "\n",
        "        Computes the precision, a metric for multi-label classification of\n",
        "        how many selected items are relevant.\n",
        "        \"\"\"\n",
        "        true_positives = K.sum(K.round(K.clip(y_true * y_pred, 0, 1)))\n",
        "        predicted_positives = K.sum(K.round(K.clip(y_pred, 0, 1)))\n",
        "        precision = true_positives / (predicted_positives + K.epsilon())\n",
        "        return precision\n",
        "    precision = precision(y_true, y_pred)\n",
        "    recall = recall(y_true, y_pred)\n",
        "    return 2*((precision*recall)/(precision+recall+K.epsilon()))"
      ]
    },
    {
      "cell_type": "code",
      "execution_count": null,
      "metadata": {
        "colab": {
          "base_uri": "https://localhost:8080/",
          "height": 424
        },
        "id": "MszSdNWNDP3f",
        "outputId": "7624d06a-489c-43b9-cde5-7f04c3fd6880"
      },
      "outputs": [
        {
          "data": {
            "text/html": [
              "<div>\n",
              "<style scoped>\n",
              "    .dataframe tbody tr th:only-of-type {\n",
              "        vertical-align: middle;\n",
              "    }\n",
              "\n",
              "    .dataframe tbody tr th {\n",
              "        vertical-align: top;\n",
              "    }\n",
              "\n",
              "    .dataframe thead th {\n",
              "        text-align: right;\n",
              "    }\n",
              "</style>\n",
              "<table border=\"1\" class=\"dataframe\">\n",
              "  <thead>\n",
              "    <tr style=\"text-align: right;\">\n",
              "      <th></th>\n",
              "      <th>TEXT</th>\n",
              "    </tr>\n",
              "  </thead>\n",
              "  <tbody>\n",
              "    <tr>\n",
              "      <th>0</th>\n",
              "      <td>1 . THE QUESTION PUT BY THAT COURT REQUESTS TH...</td>\n",
              "    </tr>\n",
              "    <tr>\n",
              "      <th>1</th>\n",
              "      <td>3 . THE GERMAN GOVERNMENT RAISED THE QUESTION ...</td>\n",
              "    </tr>\n",
              "    <tr>\n",
              "      <th>2</th>\n",
              "      <td>2 . THE CENTRALE RAAD REQUESTS THE COURT, IN T...</td>\n",
              "    </tr>\n",
              "    <tr>\n",
              "      <th>3</th>\n",
              "      <td>1 . THE QUESTION ASKED BY THE SAID COURT FIRST...</td>\n",
              "    </tr>\n",
              "    <tr>\n",
              "      <th>4</th>\n",
              "      <td>2 . THE CENTRALE RAAD ASKS THE COURT IN THE SE...</td>\n",
              "    </tr>\n",
              "    <tr>\n",
              "      <th>...</th>\n",
              "      <td>...</td>\n",
              "    </tr>\n",
              "    <tr>\n",
              "      <th>86123</th>\n",
              "      <td>18. The Finanzgericht Düsseldorf (Finance Cour...</td>\n",
              "    </tr>\n",
              "    <tr>\n",
              "      <th>86124</th>\n",
              "      <td>16. TSI also submitted that the Principal Cust...</td>\n",
              "    </tr>\n",
              "    <tr>\n",
              "      <th>86125</th>\n",
              "      <td>13. Since TSI had declared the handheld partic...</td>\n",
              "    </tr>\n",
              "    <tr>\n",
              "      <th>86126</th>\n",
              "      <td>14. Following an on-site inspection, the Princ...</td>\n",
              "    </tr>\n",
              "    <tr>\n",
              "      <th>86127</th>\n",
              "      <td>15. Since extra-judicial appeal procedures wer...</td>\n",
              "    </tr>\n",
              "  </tbody>\n",
              "</table>\n",
              "<p>86128 rows × 1 columns</p>\n",
              "</div>"
            ],
            "text/plain": [
              "                                                    TEXT\n",
              "0      1 . THE QUESTION PUT BY THAT COURT REQUESTS TH...\n",
              "1      3 . THE GERMAN GOVERNMENT RAISED THE QUESTION ...\n",
              "2      2 . THE CENTRALE RAAD REQUESTS THE COURT, IN T...\n",
              "3      1 . THE QUESTION ASKED BY THE SAID COURT FIRST...\n",
              "4      2 . THE CENTRALE RAAD ASKS THE COURT IN THE SE...\n",
              "...                                                  ...\n",
              "86123  18. The Finanzgericht Düsseldorf (Finance Cour...\n",
              "86124  16. TSI also submitted that the Principal Cust...\n",
              "86125  13. Since TSI had declared the handheld partic...\n",
              "86126  14. Following an on-site inspection, the Princ...\n",
              "86127  15. Since extra-judicial appeal procedures wer...\n",
              "\n",
              "[86128 rows x 1 columns]"
            ]
          },
          "execution_count": 18,
          "metadata": {},
          "output_type": "execute_result"
        }
      ],
      "source": [
        "#-----input and creating of tensors dataset\n",
        "data = pd.read_csv(\"FinalDataset.csv\",index_col = 0,low_memory=False,encoding = \"ISO-8859-1\") #not utf-8 encoded\n",
        "#data = pd.read_csv(\"/content/drive/MyDrive/Judging under influence/DOCOUT/PARAGRAPHS/FinalDataset.csv\",index_col = 0,low_memory=False,encoding = \"ISO-8859-1\") #not utf-8 encoded\n",
        "df=data.filter([\"DOCOUT\",\"TEXT\"], axis=1)\n",
        "df=df.dropna() #non applicable deleted atm\n",
        "df[\"DOCOUT\"]=df[\"DOCOUT\"].astype(int)\n",
        "df.reset_index(drop=True, inplace=True) \n",
        "\n",
        "target = df.pop('DOCOUT')\n",
        "dataset = tf.data.Dataset.from_tensor_slices((df.TEXT.values, target.values))\n",
        "\n",
        "df"
      ]
    },
    {
      "cell_type": "code",
      "execution_count": null,
      "metadata": {
        "id": "qTpSOqN8DP3k"
      },
      "outputs": [],
      "source": [
        "#Here i get the split from the dataset, the split is 80 % for the k-fold and 20% for an independent test set.\n",
        "#The test set is used to asses the performance on unseen data on the best cv values\n",
        "\n",
        "#this is used for testing purposes, generates a dataset of nums from 0 to 19\n",
        "#dataset = tf.data.Dataset.range(20)\n",
        "\n",
        "DATASET_SIZE = dataset.cardinality().numpy()\n",
        "SPLITS = 4\n",
        "AUTOTUNE = tf.data.experimental.AUTOTUNE\n",
        "BATCH_SIZE = 64 #very important! Reducing this in RNN let them run on slower pc at the cost of exec time (increasing does the opposite)\n",
        "TEST_SIZE = 0.15\n",
        "\n",
        "\n",
        "def get_dataset_partitions(ds = dataset, ds_size= DATASET_SIZE, n_splits = SPLITS, test_size=TEST_SIZE, shuffle=True, shuffle_size=DATASET_SIZE, BATCH_SIZE = BATCH_SIZE):\n",
        "    fold_size = 1/n_splits\n",
        "    split_size = ds_size * (1-test_size) * fold_size\n",
        "    CV_folds = []\n",
        "    \n",
        "    if shuffle:\n",
        "        # Specify seed=xx to always have the same split distribution between runs\n",
        "        ds = ds.shuffle(shuffle_size, reshuffle_each_iteration=False, seed=5)#poi 1996\n",
        "    \n",
        "    test_dataset = ds.skip(ds_size * (1-test_size))\n",
        "    cv_dataset = ds.take(ds_size * (1-test_size))\n",
        "    \n",
        "    #print(list(test_dataset.as_numpy_iterator()))\n",
        "    #print(list(cv_dataset.as_numpy_iterator()))\n",
        "    \n",
        "    #print(list(test_dataset.as_numpy_iterator()))\n",
        "    #print(list(cv_dataset.as_numpy_iterator()))\n",
        "    \n",
        "    for i in range(n_splits):         #dataset is divided in 3 pieces for each iteration, train1 | validation | train2 due to take/skip nature\n",
        "        \n",
        "        #we will concatenate train1 and train2 to define the fitting split for the current fold while val will be the validation\n",
        "        \n",
        "        train1 = cv_dataset.take(i * split_size) #each of the 2 train(1 and 2) can be of size [0,fold_size*num_splits-1], val have dimension= fold_size\n",
        "        val = cv_dataset.skip(i * split_size).take(split_size)\n",
        "        train2 = cv_dataset.skip(i * split_size).skip(split_size)\n",
        "    \n",
        "      \n",
        "        #print(list(train1.concatenate(train2).as_numpy_iterator()))\n",
        "        #print(list(val.as_numpy_iterator()))\n",
        "\n",
        "        #we generate a list of tuples. Each tuple contain the train/validation for each fold. The list is indeed SPLITS-long.\n",
        "        CV_folds.append([\n",
        "                         train1.concatenate(train2).shuffle(train1.concatenate(train2).cardinality().numpy()).batch(BATCH_SIZE).prefetch(tf.data.experimental.AUTOTUNE),\n",
        "                         val.shuffle(val.cardinality().numpy()).batch(BATCH_SIZE).prefetch(tf.data.experimental.AUTOTUNE)\n",
        "                        ])\n",
        "        \n",
        "        #print(\"CV:\")\n",
        "        #print(list(CV_folds[i][0].as_numpy_iterator()))\n",
        "        ##print(list(CV_folds[i][1].as_numpy_iterator()))\n",
        "        #print(\"--------------------------------------\")\n",
        "    \n",
        "    \n",
        "    return [CV_folds,\n",
        "            test_dataset.shuffle(test_dataset.cardinality().numpy()).batch(BATCH_SIZE).prefetch(tf.data.experimental.AUTOTUNE),\n",
        "            cv_dataset.shuffle(cv_dataset.cardinality().numpy()).batch(BATCH_SIZE).prefetch(tf.data.experimental.AUTOTUNE)]\n",
        "    \n",
        "\n",
        "\n",
        "CV_folds, test_dataset, train_ds_final = get_dataset_partitions()\n",
        "\n",
        "#print(list(test_dataset.as_numpy_iterator()))\n",
        "#print(list(train_ds_final.as_numpy_iterator()))"
      ]
    },
    {
      "cell_type": "code",
      "execution_count": null,
      "metadata": {
        "colab": {
          "base_uri": "https://localhost:8080/"
        },
        "id": "3ZCBL5taDP3l",
        "outputId": "1009326b-2161-4164-b220-5986245132f4"
      },
      "outputs": [
        {
          "name": "stdout",
          "output_type": "stream",
          "text": [
            "Number of 1 : 16003\n",
            "Number of 0 : 70125\n",
            "Weight of positive elements: 5.381990876710617\n"
          ]
        }
      ],
      "source": [
        "#----- Class Imabalance dealing\n",
        "labels=[]\n",
        "labels=np.array(labels)\n",
        "for example, label in dataset.batch(BATCH_SIZE).prefetch(tf.data.experimental.AUTOTUNE).take(-1):\n",
        "    _ = example.numpy()\n",
        "    labels=np.concatenate((labels,label.numpy()))\n",
        "    \n",
        "#print(len(labels))\n",
        "nonzero = np.count_nonzero(labels)\n",
        "print(\"Number of 1 : \"+str(nonzero))\n",
        "print(\"Number of 0 : \"+str(len(labels)-nonzero))\n",
        "#positive/total ratio:\n",
        "posWeight = len(labels)/nonzero\n",
        "print(\"Weight of positive elements: \"+str(posWeight))"
      ]
    },
    {
      "cell_type": "code",
      "execution_count": null,
      "metadata": {
        "id": "51zvg36mhj8k"
      },
      "outputs": [],
      "source": [
        "#define the metrics I want to see during the iterations\n",
        "METRICS = [\n",
        "      tf.keras.metrics.Precision(name='precision'),\n",
        "      tf.keras.metrics.Recall(name='recall'),\n",
        "      f1, #my f1\n",
        "      tf.keras.metrics.AUC(name='auc'),\n",
        "    \n",
        "      tf.keras.metrics.TruePositives(name='tp'),\n",
        "      tf.keras.metrics.TrueNegatives(name='tn'),\n",
        "      tf.keras.metrics.FalsePositives(name='fp'),\n",
        "      tf.keras.metrics.FalseNegatives(name='fn'), \n",
        "      tf.keras.metrics.BinaryAccuracy(name='accuracy'),\n",
        "      \n",
        "      \n",
        "]"
      ]
    },
    {
      "cell_type": "code",
      "execution_count": null,
      "metadata": {
        "id": "_VXdFU7Yhj8l"
      },
      "outputs": [],
      "source": [
        "def get_callbacks():\n",
        "  return [\n",
        "    tfdocs.modeling.EpochDots(),\n",
        "    tf.keras.callbacks.EarlyStopping(patience = 9, monitor = 'val_f1',  mode = 'max', min_delta = 0.05, restore_best_weights=True),#ma need an increase?\n",
        "    #tf.keras.callbacks.TensorBoard('logsGraphs/graphsFolder'),\n",
        "  ]"
      ]
    },
    {
      "cell_type": "markdown",
      "metadata": {
        "id": "vhQTlO8iDP3m"
      },
      "source": [
        "## Define CV e Tensoboard params"
      ]
    },
    {
      "cell_type": "code",
      "execution_count": null,
      "metadata": {
        "id": "ZSJdOZS8DP3m"
      },
      "outputs": [],
      "source": [
        "#loading of tensorboard and deleting of old logs(windows10 only I guess)\n",
        "%reload_ext tensorboard\n",
        "#shutil.rmtree(\"./logsGraphs\", ignore_errors=True, onerror=None)"
      ]
    },
    {
      "cell_type": "code",
      "execution_count": null,
      "metadata": {
        "id": "fBcLDB7_DP3n"
      },
      "outputs": [],
      "source": [
        "#here I defined the parameters i want to iterate through\n",
        "\n",
        "HP_NUM_UNITS = hp.HParam('num_units', hp.Discrete([64,128]))\n",
        "HP_EMBEDDING_DIM = hp.HParam('emb_dim', hp.Discrete([64,128]))\n",
        "HP_OPTIMIZER_LR = hp.HParam('opt_lr', hp.Discrete([ 0.001, 0.0005, 0.0001, 0.00005, 0.00001]))\n",
        "HP_WEIGHT_TUNER = hp.HParam('pos_weight_tuner', hp.RealInterval(1.0,3.0))#selected later\n",
        "HP_NUM_LAYERS = hp.HParam('num_layers', hp.Discrete([2,3]))#always add +1 per final layer\n",
        "HP_NUM_EPOCHS = hp.HParam('num_epochs', hp.Discrete([40]))\n",
        "HP_OPTIMIZER = hp.HParam('optimizer', hp.Discrete(['adam']))#check adam / remove\n",
        "#HP_KERNEL_REGULARIZATION_L2 = hp.HParam('ker_l2', hp.Discrete([1e-25, 1e-4, 1e-5, 1e-6, 1e-7]))\n",
        "#HP_KERNEL_REGULARIZATION_L1 = hp.HParam('ker_l1', hp.Discrete([1e-25, 1e-4, 1e-5, 1e-6, 1e-7]))\n",
        "HP_DROPOUT = hp.HParam('dropout', hp.Discrete([0.1, 0.2, 0.25, 0.3]))\n",
        "\n",
        "\n",
        "#here we choose the metrics we want to average after CV, we only choose the most important ones to do not loose the focus\n",
        "METRIC1 = 'f1'\n",
        "METRIC2 = 'auc'#attention! If we have 0 precision/recall we might have errors due to AUC implmentation, MAY BE REMOVED\n",
        "\n",
        "with tf.summary.create_file_writer('logsGraphs/hparam_tuningCV').as_default():\n",
        "  hp.hparams_config(\n",
        "    hparams=[HP_NUM_UNITS, HP_EMBEDDING_DIM, HP_OPTIMIZER_LR, HP_WEIGHT_TUNER, HP_NUM_LAYERS, HP_NUM_EPOCHS,HP_OPTIMIZER, HP_DROPOUT],\n",
        "    metrics=[hp.Metric(METRIC1, display_name='f1'),hp.Metric(METRIC2, display_name='auc')],\n",
        "  )\n",
        "\n"
      ]
    },
    {
      "cell_type": "markdown",
      "metadata": {
        "id": "8Rd5JudhDP3o"
      },
      "source": [
        "## Define the CV model"
      ]
    },
    {
      "cell_type": "code",
      "execution_count": null,
      "metadata": {
        "id": "-3-y755vDP3o"
      },
      "outputs": [],
      "source": [
        "#this is the function that creates the ANN given the parameters.\n",
        "#after creating it the ANN is fitted on the current split's train set and vchecked on the current validation set\n",
        "#we return the f1 and auc of the current validation split as the measure of performance of this split\n",
        "#the f1 and auc over all the splits will be later averaged and will be the parameters performance\n",
        "\n",
        "VOCAB_SIZE = 30000#define size of vocabulary, as it says\n",
        "\n",
        "def train_test_model(emb_dim, num_units, learning_rate, weight_normalizer, num_layers, train_dataset, val_dataset, num_epochs, optimizer, dropout):\n",
        "  \n",
        "  encoder = tf.keras.layers.experimental.preprocessing.TextVectorization(max_tokens=VOCAB_SIZE)\n",
        "  encoder.adapt(train_dataset.map(lambda text, label: text))\n",
        "\n",
        "#---------------------------------------------------------------------\n",
        "  model = Sequential([\n",
        "      \n",
        "  encoder,\n",
        "    \n",
        "  Embedding(#embedding layer\n",
        "        input_dim=len(encoder.get_vocabulary()),\n",
        "        output_dim=emb_dim,\n",
        "        # Use masking to handle the variable sequence lengths\n",
        "        mask_zero=True),\n",
        "    \n",
        "  #Bidirectional(tf.keras.layers.LSTM(emb_dim , dropout = 0.1,return_sequences=True)),\n",
        "  \n",
        "  Bidirectional(tf.keras.layers.LSTM(emb_dim , dropout = 0.15)),    \n",
        "  #Dropout(dropout)\n",
        "\n",
        "  ])\n",
        "    \n",
        "  for i in range(num_layers):\n",
        "    if num_units/pow(2,i) >1 :\n",
        "        model.add(Dense(num_units/pow(2,i), activation=\"relu\"))\n",
        "        #model.add(Dropout(dropout))\n",
        "            \n",
        "  model.add(Dense(1,activation='sigmoid')) \n",
        "\n",
        "\n",
        "  class_weight = {0: 1., #class 0 weight\n",
        "                  1: posWeight/weight_normalizer, #uses the weight I set to make them perfectly balanced, I can increase it to overweight pos class!\n",
        "                                     \n",
        "                  2: 2.} \n",
        "    \n",
        "\n",
        "  if optimizer == 'adam':\n",
        "      model.compile(\n",
        "          optimizer=tf.keras.optimizers.Adam(learning_rate),\n",
        "          loss=tf.keras.losses.BinaryCrossentropy(),\n",
        "          metrics=METRICS,\n",
        "      )\n",
        "  if optimizer == 'sgd':\n",
        "    model.compile(\n",
        "          optimizer=tf.keras.optimizers.SGD(learning_rate),\n",
        "          loss=tf.keras.losses.BinaryCrossentropy(),\n",
        "          metrics=METRICS,\n",
        "      )\n",
        "\n",
        "  history = model.fit(\n",
        "             train_dataset,\n",
        "             epochs=num_epochs,\n",
        "             class_weight=class_weight,\n",
        "             validation_data = val_dataset,\n",
        "             callbacks=get_callbacks()\n",
        "             ) \n",
        "\n",
        "  _, prec, recall, f1,auc, tp, tn, fp, fn, accuracy = model.evaluate(val_dataset)#validation we get our performances from this performance assesment\n",
        "  del model\n",
        "  del train_dataset\n",
        "  del val_dataset\n",
        "  return f1,auc, history#take only the most important measures to retain the focus"
      ]
    },
    {
      "cell_type": "code",
      "execution_count": null,
      "metadata": {
        "id": "J_VFzUN-rjHt"
      },
      "outputs": [],
      "source": [
        "#this method runs the cross validation, calling the above method giving it the parameters choosen and recording performances \n",
        "#it computes the average of f1 and auc over the various splits as well\n",
        "\n",
        "def run(run_dir, hparams, session_num):\n",
        "  with tf.summary.create_file_writer(run_dir).as_default():\n",
        "    # record the values used in this trial\n",
        "    hp.hparams(hparams)\n",
        "    f1Score,auc = 0,0\n",
        "    history={}\n",
        "    \n",
        "    for i in range(SPLITS):#averaging over all the splits\n",
        "      print(\"\\nCHECKING SPLIT NUM: \"+str(i+1))\n",
        "      train_dataset,val_dataset = CV_folds[i]\n",
        "      tmpf1,tmpauc,history[\"split \"+str(i+1)] =  train_test_model(emb_dim = hparams[HP_EMBEDDING_DIM],\n",
        "                                                  num_units = hparams[HP_EMBEDDING_DIM],#num_units = embedding best practice\n",
        "                                                  learning_rate = hparams[HP_OPTIMIZER_LR],\n",
        "                                                  weight_normalizer= hparams[HP_WEIGHT_TUNER],\n",
        "                                                  num_layers = hparams[HP_NUM_LAYERS],\n",
        "                                                  num_epochs = hparams[HP_NUM_EPOCHS],\n",
        "                                                  optimizer = hparams[HP_OPTIMIZER],\n",
        "                                                  dropout = hparams[HP_DROPOUT],\n",
        "                                                  train_dataset = train_dataset,\n",
        "                                                  val_dataset = val_dataset)\n",
        "      f1Score += tmpf1\n",
        "      auc += tmpauc\n",
        "      \n",
        "    \n",
        "    f1Score /= SPLITS\n",
        "    auc /= SPLITS\n",
        "    \n",
        "    print(\"!!! SESSION NUM \"+str(session_num)+\" ---> CV f1: \"+str(f1Score))\n",
        "    print(\"!!! auc: \"+str(auc)+\"\\n------------------------------------------\")\n",
        "    \n",
        "    plotter = tfdocs.plots.HistoryPlotter(metric = 'f1', smoothing_std=10)\n",
        "    plotter.plot(history)\n",
        "    plt.show()\n",
        "    print(\"\\n------------------------------------------\")\n",
        "    \n",
        "    plotter = tfdocs.plots.HistoryPlotter(metric = 'auc', smoothing_std=10)\n",
        "    plotter.plot(history)\n",
        "    plt.show()\n",
        "    \n",
        "    tf.summary.scalar(METRIC1, f1Score, step = tf.convert_to_tensor(1, dtype=tf.int64))\n",
        "    tf.summary.scalar(METRIC2, auc, step = tf.convert_to_tensor(1, dtype=tf.int64))"
      ]
    },
    {
      "cell_type": "markdown",
      "metadata": {
        "id": "ESeN56MUhj8s"
      },
      "source": [
        "## Run the tuning model"
      ]
    },
    {
      "cell_type": "code",
      "source": [
        "#run numbr 130\n",
        "\n",
        "#results: 0.5632338374853134,0.8369264602661133"
      ],
      "metadata": {
        "id": "O3jPZ0aifbIA"
      },
      "execution_count": null,
      "outputs": []
    },
    {
      "cell_type": "code",
      "execution_count": null,
      "metadata": {
        "colab": {
          "background_save": true,
          "base_uri": "https://localhost:8080/"
        },
        "id": "z7Jyd_KTDP3q",
        "outputId": "cc9b553e-9982-47c5-c446-2a51dc74d653"
      },
      "outputs": [
        {
          "name": "stdout",
          "output_type": "stream",
          "text": [
            "Trying parameters given by user\n",
            "!--WARNING--! DROPOUT is used only in recurrent layers\n",
            "--- Starting trial: run-1\n",
            "{'num_units': 167, 'emb_dim': 204, 'opt_lr': 2.52851212e-05, 'pos_weight_tuner': 5.02595145, 'num_layers': 3, 'num_epochs': 40, 'optimizer': 'adam', 'dropout': 0.2}\n",
            "\n",
            "CHECKING SPLIT NUM: 1\n",
            "Epoch 1/40\n",
            "861/862 [============================>.] - ETA: 0s - loss: 0.5224 - precision: 0.5533 - recall: 0.0276 - f1: 8.7819e-04 - auc: 0.6015 - tp: 353.0000 - tn: 55812.0000 - fp: 285.0000 - fn: 12434.0000 - accuracy: 0.8154\n",
            "Epoch: 0, accuracy:0.8154,  auc:0.6015,  f1:0.0009,  fn:12437.0000,  fp:285.0000,  loss:0.5224,  precision:0.5533,  recall:0.0276,  tn:55827.0000,  tp:353.0000,  val_accuracy:0.8187,  val_auc:0.6640,  val_f1:0.0000,  val_fn:2499.0000,  val_fp:0.0000,  val_loss:0.4627,  val_precision:0.0000,  val_recall:0.0000,  val_tn:11281.0000,  val_tp:0.0000,  \n",
            "862/862 [==============================] - 72s 73ms/step - loss: 0.5224 - precision: 0.5533 - recall: 0.0276 - f1: 8.7718e-04 - auc: 0.6015 - tp: 353.0000 - tn: 55827.0000 - fp: 285.0000 - fn: 12437.0000 - accuracy: 0.8154 - val_loss: 0.4627 - val_precision: 0.0000e+00 - val_recall: 0.0000e+00 - val_f1: 0.0000e+00 - val_auc: 0.6640 - val_tp: 0.0000e+00 - val_tn: 11281.0000 - val_fp: 0.0000e+00 - val_fn: 2499.0000 - val_accuracy: 0.8187\n",
            "Epoch 2/40\n",
            "862/862 [==============================] - 60s 69ms/step - loss: 0.4434 - precision: 0.6299 - recall: 0.0504 - f1: 0.0760 - auc: 0.7466 - tp: 519.0000 - tn: 44526.0000 - fp: 305.0000 - fn: 9772.0000 - accuracy: 0.8172 - val_loss: 0.3905 - val_precision: 0.5761 - val_recall: 0.2317 - val_f1: 0.3165 - val_auc: 0.7949 - val_tp: 579.0000 - val_tn: 10855.0000 - val_fp: 426.0000 - val_fn: 1920.0000 - val_accuracy: 0.8298\n",
            "Epoch 3/40\n",
            "862/862 [==============================] - 60s 69ms/step - loss: 0.3560 - precision: 0.6605 - recall: 0.4291 - f1: 0.5031 - auc: 0.8576 - tp: 4416.0000 - tn: 42561.0000 - fp: 2270.0000 - fn: 5875.0000 - accuracy: 0.8522 - val_loss: 0.3917 - val_precision: 0.4819 - val_recall: 0.6110 - val_f1: 0.5270 - val_auc: 0.8340 - val_tp: 1527.0000 - val_tn: 9639.0000 - val_fp: 1642.0000 - val_fn: 972.0000 - val_accuracy: 0.8103\n",
            "Epoch 4/40\n",
            "862/862 [==============================] - 59s 68ms/step - loss: 0.3036 - precision: 0.7123 - recall: 0.5569 - f1: 0.6111 - auc: 0.9012 - tp: 5731.0000 - tn: 42516.0000 - fp: 2315.0000 - fn: 4560.0000 - accuracy: 0.8753 - val_loss: 0.3410 - val_precision: 0.6300 - val_recall: 0.4674 - val_f1: 0.5206 - val_auc: 0.8541 - val_tp: 1168.0000 - val_tn: 10595.0000 - val_fp: 686.0000 - val_fn: 1331.0000 - val_accuracy: 0.8536\n",
            "Epoch 5/40\n",
            "862/862 [==============================] - 59s 68ms/step - loss: 0.2685 - precision: 0.7511 - recall: 0.6259 - f1: 0.6730 - auc: 0.9243 - tp: 6441.0000 - tn: 42697.0000 - fp: 2134.0000 - fn: 3850.0000 - accuracy: 0.8914 - val_loss: 0.3352 - val_precision: 0.6729 - val_recall: 0.4454 - val_f1: 0.5212 - val_auc: 0.8623 - val_tp: 1113.0000 - val_tn: 10740.0000 - val_fp: 541.0000 - val_fn: 1386.0000 - val_accuracy: 0.8602\n",
            "Epoch 6/40\n",
            "862/862 [==============================] - 59s 68ms/step - loss: 0.2450 - precision: 0.7712 - recall: 0.6691 - f1: 0.7061 - auc: 0.9381 - tp: 6886.0000 - tn: 42788.0000 - fp: 2043.0000 - fn: 3405.0000 - accuracy: 0.9012 - val_loss: 0.3432 - val_precision: 0.6774 - val_recall: 0.4630 - val_f1: 0.5378 - val_auc: 0.8666 - val_tp: 1157.0000 - val_tn: 10730.0000 - val_fp: 551.0000 - val_fn: 1342.0000 - val_accuracy: 0.8626\n",
            "Epoch 7/40\n",
            "862/862 [==============================] - 59s 68ms/step - loss: 0.2243 - precision: 0.7955 - recall: 0.7065 - f1: 0.7397 - auc: 0.9484 - tp: 7271.0000 - tn: 42962.0000 - fp: 1869.0000 - fn: 3020.0000 - accuracy: 0.9113 - val_loss: 0.3343 - val_precision: 0.6713 - val_recall: 0.4798 - val_f1: 0.5508 - val_auc: 0.8692 - val_tp: 1199.0000 - val_tn: 10694.0000 - val_fp: 587.0000 - val_fn: 1300.0000 - val_accuracy: 0.8631\n",
            "Epoch 8/40\n",
            "862/862 [==============================] - 59s 68ms/step - loss: 0.2115 - precision: 0.8033 - recall: 0.7226 - f1: 0.7507 - auc: 0.9547 - tp: 7436.0000 - tn: 43010.0000 - fp: 1821.0000 - fn: 2855.0000 - accuracy: 0.9152 - val_loss: 0.3366 - val_precision: 0.6553 - val_recall: 0.5066 - val_f1: 0.5551 - val_auc: 0.8715 - val_tp: 1266.0000 - val_tn: 10615.0000 - val_fp: 666.0000 - val_fn: 1233.0000 - val_accuracy: 0.8622\n",
            "Epoch 9/40\n",
            "862/862 [==============================] - 59s 68ms/step - loss: 0.1998 - precision: 0.8176 - recall: 0.7412 - f1: 0.7689 - auc: 0.9596 - tp: 7628.0000 - tn: 43129.0000 - fp: 1702.0000 - fn: 2663.0000 - accuracy: 0.9208 - val_loss: 0.3478 - val_precision: 0.6059 - val_recall: 0.5954 - val_f1: 0.5898 - val_auc: 0.8719 - val_tp: 1488.0000 - val_tn: 10313.0000 - val_fp: 968.0000 - val_fn: 1011.0000 - val_accuracy: 0.8564\n",
            "Epoch 10/40\n",
            "862/862 [==============================] - 59s 68ms/step - loss: 0.1873 - precision: 0.8231 - recall: 0.7617 - f1: 0.7835 - auc: 0.9652 - tp: 7839.0000 - tn: 43146.0000 - fp: 1685.0000 - fn: 2452.0000 - accuracy: 0.9249 - val_loss: 0.3509 - val_precision: 0.6798 - val_recall: 0.4818 - val_f1: 0.5481 - val_auc: 0.8710 - val_tp: 1204.0000 - val_tn: 10714.0000 - val_fp: 567.0000 - val_fn: 1295.0000 - val_accuracy: 0.8649\n",
            "Epoch 11/40\n",
            "862/862 [==============================] - 59s 68ms/step - loss: 0.1813 - precision: 0.8336 - recall: 0.7708 - f1: 0.7936 - auc: 0.9671 - tp: 7932.0000 - tn: 43248.0000 - fp: 1583.0000 - fn: 2359.0000 - accuracy: 0.9285 - val_loss: 0.3543 - val_precision: 0.6286 - val_recall: 0.5566 - val_f1: 0.5773 - val_auc: 0.8714 - val_tp: 1391.0000 - val_tn: 10459.0000 - val_fp: 822.0000 - val_fn: 1108.0000 - val_accuracy: 0.8599\n",
            "Epoch 12/40\n",
            "862/862 [==============================] - 60s 69ms/step - loss: 0.1744 - precision: 0.8387 - recall: 0.7796 - f1: 0.7990 - auc: 0.9696 - tp: 8023.0000 - tn: 43288.0000 - fp: 1543.0000 - fn: 2268.0000 - accuracy: 0.9309 - val_loss: 0.3790 - val_precision: 0.7219 - val_recall: 0.4290 - val_f1: 0.5257 - val_auc: 0.8678 - val_tp: 1072.0000 - val_tn: 10868.0000 - val_fp: 413.0000 - val_fn: 1427.0000 - val_accuracy: 0.8665\n",
            "Epoch 13/40\n",
            "862/862 [==============================] - 60s 69ms/step - loss: 0.1683 - precision: 0.8443 - recall: 0.7857 - f1: 0.8065 - auc: 0.9718 - tp: 8086.0000 - tn: 43340.0000 - fp: 1491.0000 - fn: 2205.0000 - accuracy: 0.9329 - val_loss: 0.3625 - val_precision: 0.6543 - val_recall: 0.5294 - val_f1: 0.5767 - val_auc: 0.8703 - val_tp: 1323.0000 - val_tn: 10582.0000 - val_fp: 699.0000 - val_fn: 1176.0000 - val_accuracy: 0.8639\n",
            "Epoch 14/40\n",
            "862/862 [==============================] - 60s 68ms/step - loss: 0.1621 - precision: 0.8505 - recall: 0.7967 - f1: 0.8157 - auc: 0.9739 - tp: 8199.0000 - tn: 43390.0000 - fp: 1441.0000 - fn: 2092.0000 - accuracy: 0.9359 - val_loss: 0.3629 - val_precision: 0.6265 - val_recall: 0.5678 - val_f1: 0.5843 - val_auc: 0.8707 - val_tp: 1419.0000 - val_tn: 10435.0000 - val_fp: 846.0000 - val_fn: 1080.0000 - val_accuracy: 0.8602\n",
            "Epoch 15/40\n",
            "862/862 [==============================] - 59s 68ms/step - loss: 0.1570 - precision: 0.8557 - recall: 0.8013 - f1: 0.8215 - auc: 0.9756 - tp: 8246.0000 - tn: 43440.0000 - fp: 1391.0000 - fn: 2045.0000 - accuracy: 0.9377 - val_loss: 0.3826 - val_precision: 0.6081 - val_recall: 0.5974 - val_f1: 0.5883 - val_auc: 0.8707 - val_tp: 1493.0000 - val_tn: 10319.0000 - val_fp: 962.0000 - val_fn: 1006.0000 - val_accuracy: 0.8572\n",
            "Epoch 16/40\n",
            "862/862 [==============================] - 59s 68ms/step - loss: 0.1526 - precision: 0.8572 - recall: 0.8081 - f1: 0.8260 - auc: 0.9769 - tp: 8316.0000 - tn: 43446.0000 - fp: 1385.0000 - fn: 1975.0000 - accuracy: 0.9390 - val_loss: 0.3763 - val_precision: 0.6231 - val_recall: 0.5558 - val_f1: 0.5743 - val_auc: 0.8684 - val_tp: 1389.0000 - val_tn: 10441.0000 - val_fp: 840.0000 - val_fn: 1110.0000 - val_accuracy: 0.8585\n",
            "Epoch 17/40\n",
            "862/862 [==============================] - 59s 68ms/step - loss: 0.1465 - precision: 0.8669 - recall: 0.8131 - f1: 0.8333 - auc: 0.9788 - tp: 8368.0000 - tn: 43546.0000 - fp: 1285.0000 - fn: 1923.0000 - accuracy: 0.9418 - val_loss: 0.3951 - val_precision: 0.6254 - val_recall: 0.5618 - val_f1: 0.5813 - val_auc: 0.8675 - val_tp: 1404.0000 - val_tn: 10440.0000 - val_fp: 841.0000 - val_fn: 1095.0000 - val_accuracy: 0.8595\n",
            "Epoch 18/40\n",
            "862/862 [==============================] - 59s 68ms/step - loss: 0.1435 - precision: 0.8677 - recall: 0.8160 - f1: 0.8329 - auc: 0.9795 - tp: 8397.0000 - tn: 43551.0000 - fp: 1280.0000 - fn: 1894.0000 - accuracy: 0.9424 - val_loss: 0.3864 - val_precision: 0.6544 - val_recall: 0.5182 - val_f1: 0.5681 - val_auc: 0.8640 - val_tp: 1295.0000 - val_tn: 10597.0000 - val_fp: 684.0000 - val_fn: 1204.0000 - val_accuracy: 0.8630\n",
            "216/216 [==============================] - 6s 27ms/step - loss: 0.3478 - precision: 0.6059 - recall: 0.5954 - f1: 0.5898 - auc: 0.8719 - tp: 1488.0000 - tn: 10313.0000 - fp: 968.0000 - fn: 1011.0000 - accuracy: 0.8564\n",
            "\n",
            "CHECKING SPLIT NUM: 2\n",
            "Epoch 1/40\n",
            "862/862 [==============================] - ETA: 0s - loss: 0.5200 - precision: 0.6056 - recall: 0.1170 - f1: 0.0000e+00 - auc: 0.6334 - tp: 1488.0000 - tn: 55213.0000 - fp: 969.0000 - fn: 11232.0000 - accuracy: 0.8229\n",
            "Epoch: 0, accuracy:0.8229,  auc:0.6334,  f1:0.0000,  fn:11232.0000,  fp:969.0000,  loss:0.5200,  precision:0.6056,  recall:0.1170,  tn:55213.0000,  tp:1488.0000,  val_accuracy:0.8136,  val_auc:0.6495,  val_f1:0.0000,  val_fn:2569.0000,  val_fp:0.0000,  val_loss:0.4680,  val_precision:0.0000,  val_recall:0.0000,  val_tn:11211.0000,  val_tp:0.0000,  \n",
            "862/862 [==============================] - 72s 73ms/step - loss: 0.5200 - precision: 0.6056 - recall: 0.1170 - f1: 0.0000e+00 - auc: 0.6334 - tp: 1488.0000 - tn: 55213.0000 - fp: 969.0000 - fn: 11232.0000 - accuracy: 0.8229 - val_loss: 0.4680 - val_precision: 0.0000e+00 - val_recall: 0.0000e+00 - val_f1: 0.0000e+00 - val_auc: 0.6495 - val_tp: 0.0000e+00 - val_tn: 11211.0000 - val_fp: 0.0000e+00 - val_fn: 2569.0000 - val_accuracy: 0.8136\n",
            "Epoch 2/40\n",
            "862/862 [==============================] - 61s 69ms/step - loss: 0.4470 - precision: 0.6645 - recall: 0.0198 - f1: 0.0316 - auc: 0.7366 - tp: 202.0000 - tn: 44799.0000 - fp: 102.0000 - fn: 10019.0000 - accuracy: 0.8164 - val_loss: 0.4032 - val_precision: 0.5908 - val_recall: 0.1000 - val_f1: 0.1597 - val_auc: 0.7845 - val_tp: 257.0000 - val_tn: 11033.0000 - val_fp: 178.0000 - val_fn: 2312.0000 - val_accuracy: 0.8193\n",
            "Epoch 3/40\n",
            "862/862 [==============================] - 60s 69ms/step - loss: 0.3665 - precision: 0.6439 - recall: 0.3893 - f1: 0.4648 - auc: 0.8479 - tp: 3979.0000 - tn: 42700.0000 - fp: 2201.0000 - fn: 6242.0000 - accuracy: 0.8468 - val_loss: 0.3659 - val_precision: 0.6171 - val_recall: 0.4040 - val_f1: 0.4760 - val_auc: 0.8316 - val_tp: 1038.0000 - val_tn: 10567.0000 - val_fp: 644.0000 - val_fn: 1531.0000 - val_accuracy: 0.8422\n",
            "Epoch 4/40\n",
            "862/862 [==============================] - 60s 68ms/step - loss: 0.3069 - precision: 0.6957 - recall: 0.5724 - f1: 0.6148 - auc: 0.8984 - tp: 5851.0000 - tn: 42342.0000 - fp: 2559.0000 - fn: 4370.0000 - accuracy: 0.8743 - val_loss: 0.3496 - val_precision: 0.6312 - val_recall: 0.4457 - val_f1: 0.5068 - val_auc: 0.8502 - val_tp: 1145.0000 - val_tn: 10542.0000 - val_fp: 669.0000 - val_fn: 1424.0000 - val_accuracy: 0.8481\n",
            "Epoch 5/40\n",
            "862/862 [==============================] - 60s 69ms/step - loss: 0.2698 - precision: 0.7356 - recall: 0.6438 - f1: 0.6755 - auc: 0.9237 - tp: 6580.0000 - tn: 42536.0000 - fp: 2365.0000 - fn: 3641.0000 - accuracy: 0.8910 - val_loss: 0.3483 - val_precision: 0.6418 - val_recall: 0.4597 - val_f1: 0.5212 - val_auc: 0.8588 - val_tp: 1181.0000 - val_tn: 10552.0000 - val_fp: 659.0000 - val_fn: 1388.0000 - val_accuracy: 0.8515\n",
            "Epoch 6/40\n",
            "862/862 [==============================] - 60s 69ms/step - loss: 0.2430 - precision: 0.7689 - recall: 0.6808 - f1: 0.7127 - auc: 0.9387 - tp: 6958.0000 - tn: 42810.0000 - fp: 2091.0000 - fn: 3263.0000 - accuracy: 0.9029 - val_loss: 0.3444 - val_precision: 0.6232 - val_recall: 0.5138 - val_f1: 0.5474 - val_auc: 0.8645 - val_tp: 1320.0000 - val_tn: 10413.0000 - val_fp: 798.0000 - val_fn: 1249.0000 - val_accuracy: 0.8515\n",
            "Epoch 7/40\n",
            "862/862 [==============================] - 60s 69ms/step - loss: 0.2242 - precision: 0.7865 - recall: 0.7074 - f1: 0.7353 - auc: 0.9485 - tp: 7230.0000 - tn: 42938.0000 - fp: 1963.0000 - fn: 2991.0000 - accuracy: 0.9101 - val_loss: 0.3375 - val_precision: 0.6352 - val_recall: 0.5239 - val_f1: 0.5614 - val_auc: 0.8681 - val_tp: 1346.0000 - val_tn: 10438.0000 - val_fp: 773.0000 - val_fn: 1223.0000 - val_accuracy: 0.8552\n",
            "Epoch 8/40\n",
            "862/862 [==============================] - 60s 68ms/step - loss: 0.2089 - precision: 0.8013 - recall: 0.7289 - f1: 0.7511 - auc: 0.9558 - tp: 7450.0000 - tn: 43054.0000 - fp: 1847.0000 - fn: 2771.0000 - accuracy: 0.9162 - val_loss: 0.3412 - val_precision: 0.6552 - val_recall: 0.5095 - val_f1: 0.5609 - val_auc: 0.8708 - val_tp: 1309.0000 - val_tn: 10522.0000 - val_fp: 689.0000 - val_fn: 1260.0000 - val_accuracy: 0.8586\n",
            "Epoch 9/40\n",
            "862/862 [==============================] - 60s 69ms/step - loss: 0.1954 - precision: 0.8183 - recall: 0.7444 - f1: 0.7719 - auc: 0.9613 - tp: 7609.0000 - tn: 43212.0000 - fp: 1689.0000 - fn: 2612.0000 - accuracy: 0.9220 - val_loss: 0.3415 - val_precision: 0.6453 - val_recall: 0.5317 - val_f1: 0.5680 - val_auc: 0.8718 - val_tp: 1366.0000 - val_tn: 10460.0000 - val_fp: 751.0000 - val_fn: 1203.0000 - val_accuracy: 0.8582\n",
            "Epoch 10/40\n",
            "862/862 [==============================] - 61s 69ms/step - loss: 0.1853 - precision: 0.8267 - recall: 0.7590 - f1: 0.7827 - auc: 0.9654 - tp: 7758.0000 - tn: 43275.0000 - fp: 1626.0000 - fn: 2463.0000 - accuracy: 0.9258 - val_loss: 0.3626 - val_precision: 0.6488 - val_recall: 0.5356 - val_f1: 0.5745 - val_auc: 0.8694 - val_tp: 1376.0000 - val_tn: 10466.0000 - val_fp: 745.0000 - val_fn: 1193.0000 - val_accuracy: 0.8594\n",
            "Epoch 11/40\n",
            "862/862 [==============================] - 60s 69ms/step - loss: 0.1777 - precision: 0.8332 - recall: 0.7759 - f1: 0.7945 - auc: 0.9681 - tp: 7930.0000 - tn: 43314.0000 - fp: 1587.0000 - fn: 2291.0000 - accuracy: 0.9296 - val_loss: 0.3579 - val_precision: 0.6514 - val_recall: 0.5411 - val_f1: 0.5827 - val_auc: 0.8717 - val_tp: 1390.0000 - val_tn: 10467.0000 - val_fp: 744.0000 - val_fn: 1179.0000 - val_accuracy: 0.8604\n",
            "Epoch 12/40\n",
            "862/862 [==============================] - 60s 69ms/step - loss: 0.1674 - precision: 0.8421 - recall: 0.7835 - f1: 0.8038 - auc: 0.9719 - tp: 8008.0000 - tn: 43399.0000 - fp: 1502.0000 - fn: 2213.0000 - accuracy: 0.9326 - val_loss: 0.3727 - val_precision: 0.6796 - val_recall: 0.4905 - val_f1: 0.5554 - val_auc: 0.8705 - val_tp: 1260.0000 - val_tn: 10617.0000 - val_fp: 594.0000 - val_fn: 1309.0000 - val_accuracy: 0.8619\n",
            "Epoch 13/40\n",
            "862/862 [==============================] - 60s 69ms/step - loss: 0.1628 - precision: 0.8475 - recall: 0.7942 - f1: 0.8137 - auc: 0.9734 - tp: 8118.0000 - tn: 43440.0000 - fp: 1461.0000 - fn: 2103.0000 - accuracy: 0.9353 - val_loss: 0.3748 - val_precision: 0.6688 - val_recall: 0.5313 - val_f1: 0.5778 - val_auc: 0.8711 - val_tp: 1365.0000 - val_tn: 10535.0000 - val_fp: 676.0000 - val_fn: 1204.0000 - val_accuracy: 0.8636\n",
            "Epoch 14/40\n",
            "862/862 [==============================] - 60s 69ms/step - loss: 0.1568 - precision: 0.8532 - recall: 0.7991 - f1: 0.8181 - auc: 0.9753 - tp: 8168.0000 - tn: 43496.0000 - fp: 1405.0000 - fn: 2053.0000 - accuracy: 0.9373 - val_loss: 0.3749 - val_precision: 0.6595 - val_recall: 0.5239 - val_f1: 0.5720 - val_auc: 0.8704 - val_tp: 1346.0000 - val_tn: 10516.0000 - val_fp: 695.0000 - val_fn: 1223.0000 - val_accuracy: 0.8608\n",
            "Epoch 15/40\n",
            "862/862 [==============================] - 61s 69ms/step - loss: 0.1509 - precision: 0.8573 - recall: 0.8076 - f1: 0.8255 - auc: 0.9772 - tp: 8254.0000 - tn: 43527.0000 - fp: 1374.0000 - fn: 1967.0000 - accuracy: 0.9394 - val_loss: 0.4151 - val_precision: 0.6708 - val_recall: 0.5029 - val_f1: 0.5655 - val_auc: 0.8647 - val_tp: 1292.0000 - val_tn: 10577.0000 - val_fp: 634.0000 - val_fn: 1277.0000 - val_accuracy: 0.8613\n",
            "216/216 [==============================] - 6s 27ms/step - loss: 0.3444 - precision: 0.6232 - recall: 0.5138 - f1: 0.5492 - auc: 0.8645 - tp: 1320.0000 - tn: 10413.0000 - fp: 798.0000 - fn: 1249.0000 - accuracy: 0.8515\n",
            "\n",
            "CHECKING SPLIT NUM: 3\n",
            "Epoch 1/40\n",
            "861/862 [============================>.] - ETA: 0s - loss: 0.5237 - precision: 0.5917 - recall: 0.1048 - f1: 0.0018 - auc: 0.6299 - tp: 1342.0000 - tn: 55155.0000 - fp: 926.0000 - fn: 11461.0000 - accuracy: 0.8202\n",
            "Epoch: 0, accuracy:0.8202,  auc:0.6299,  f1:0.0018,  fn:11464.0000,  fp:926.0000,  loss:0.5237,  precision:0.5917,  recall:0.1048,  tn:55170.0000,  tp:1342.0000,  val_accuracy:0.8147,  val_auc:0.6596,  val_f1:0.0000,  val_fn:2553.0000,  val_fp:0.0000,  val_loss:0.4683,  val_precision:0.0000,  val_recall:0.0000,  val_tn:11227.0000,  val_tp:0.0000,  \n",
            "862/862 [==============================] - 71s 74ms/step - loss: 0.5237 - precision: 0.5917 - recall: 0.1048 - f1: 0.0018 - auc: 0.6299 - tp: 1342.0000 - tn: 55170.0000 - fp: 926.0000 - fn: 11464.0000 - accuracy: 0.8202 - val_loss: 0.4683 - val_precision: 0.0000e+00 - val_recall: 0.0000e+00 - val_f1: 0.0000e+00 - val_auc: 0.6596 - val_tp: 0.0000e+00 - val_tn: 11227.0000 - val_fp: 0.0000e+00 - val_fn: 2553.0000 - val_accuracy: 0.8147\n",
            "Epoch 2/40\n",
            "862/862 [==============================] - 61s 70ms/step - loss: 0.4456 - precision: 0.6123 - recall: 0.0543 - f1: 0.0820 - auc: 0.7404 - tp: 556.0000 - tn: 44533.0000 - fp: 352.0000 - fn: 9681.0000 - accuracy: 0.8180 - val_loss: 0.4087 - val_precision: 0.6161 - val_recall: 0.1383 - val_f1: 0.2130 - val_auc: 0.7814 - val_tp: 353.0000 - val_tn: 11007.0000 - val_fp: 220.0000 - val_fn: 2200.0000 - val_accuracy: 0.8244\n",
            "Epoch 3/40\n",
            "862/862 [==============================] - 60s 69ms/step - loss: 0.3586 - precision: 0.6623 - recall: 0.4126 - f1: 0.4914 - auc: 0.8535 - tp: 4224.0000 - tn: 42731.0000 - fp: 2154.0000 - fn: 6013.0000 - accuracy: 0.8518 - val_loss: 0.3669 - val_precision: 0.6354 - val_recall: 0.3345 - val_f1: 0.4202 - val_auc: 0.8282 - val_tp: 854.0000 - val_tn: 10737.0000 - val_fp: 490.0000 - val_fn: 1699.0000 - val_accuracy: 0.8411\n",
            "Epoch 4/40\n",
            "862/862 [==============================] - 61s 70ms/step - loss: 0.3034 - precision: 0.7242 - recall: 0.5473 - f1: 0.6138 - auc: 0.9001 - tp: 5603.0000 - tn: 42751.0000 - fp: 2134.0000 - fn: 4634.0000 - accuracy: 0.8772 - val_loss: 0.3570 - val_precision: 0.6479 - val_recall: 0.4101 - val_f1: 0.4868 - val_auc: 0.8461 - val_tp: 1047.0000 - val_tn: 10658.0000 - val_fp: 569.0000 - val_fn: 1506.0000 - val_accuracy: 0.8494\n",
            "Epoch 5/40\n",
            "862/862 [==============================] - 61s 70ms/step - loss: 0.2686 - precision: 0.7569 - recall: 0.6114 - f1: 0.6645 - auc: 0.9239 - tp: 6259.0000 - tn: 42875.0000 - fp: 2010.0000 - fn: 3978.0000 - accuracy: 0.8914 - val_loss: 0.3523 - val_precision: 0.6340 - val_recall: 0.4892 - val_f1: 0.5373 - val_auc: 0.8559 - val_tp: 1249.0000 - val_tn: 10506.0000 - val_fp: 721.0000 - val_fn: 1304.0000 - val_accuracy: 0.8530\n",
            "Epoch 6/40\n",
            "862/862 [==============================] - 61s 69ms/step - loss: 0.2428 - precision: 0.7837 - recall: 0.6629 - f1: 0.7060 - auc: 0.9385 - tp: 6786.0000 - tn: 43012.0000 - fp: 1873.0000 - fn: 3451.0000 - accuracy: 0.9034 - val_loss: 0.3419 - val_precision: 0.6433 - val_recall: 0.4924 - val_f1: 0.5429 - val_auc: 0.8612 - val_tp: 1257.0000 - val_tn: 10530.0000 - val_fp: 697.0000 - val_fn: 1296.0000 - val_accuracy: 0.8554\n",
            "Epoch 7/40\n",
            "862/862 [==============================] - 61s 70ms/step - loss: 0.2227 - precision: 0.8047 - recall: 0.6994 - f1: 0.7396 - auc: 0.9489 - tp: 7160.0000 - tn: 43147.0000 - fp: 1738.0000 - fn: 3077.0000 - accuracy: 0.9126 - val_loss: 0.3458 - val_precision: 0.6396 - val_recall: 0.4928 - val_f1: 0.5422 - val_auc: 0.8638 - val_tp: 1258.0000 - val_tn: 10518.0000 - val_fp: 709.0000 - val_fn: 1295.0000 - val_accuracy: 0.8546\n",
            "Epoch 8/40\n",
            "862/862 [==============================] - 60s 69ms/step - loss: 0.2104 - precision: 0.8097 - recall: 0.7176 - f1: 0.7519 - auc: 0.9547 - tp: 7346.0000 - tn: 43158.0000 - fp: 1727.0000 - fn: 2891.0000 - accuracy: 0.9162 - val_loss: 0.3498 - val_precision: 0.6619 - val_recall: 0.4700 - val_f1: 0.5348 - val_auc: 0.8643 - val_tp: 1200.0000 - val_tn: 10614.0000 - val_fp: 613.0000 - val_fn: 1353.0000 - val_accuracy: 0.8573\n",
            "Epoch 9/40\n",
            "862/862 [==============================] - 60s 69ms/step - loss: 0.1953 - precision: 0.8237 - recall: 0.7405 - f1: 0.7708 - auc: 0.9612 - tp: 7580.0000 - tn: 43263.0000 - fp: 1622.0000 - fn: 2657.0000 - accuracy: 0.9224 - val_loss: 0.3582 - val_precision: 0.6328 - val_recall: 0.5190 - val_f1: 0.5598 - val_auc: 0.8661 - val_tp: 1325.0000 - val_tn: 10458.0000 - val_fp: 769.0000 - val_fn: 1228.0000 - val_accuracy: 0.8551\n",
            "Epoch 10/40\n",
            "862/862 [==============================] - 61s 69ms/step - loss: 0.1858 - precision: 0.8330 - recall: 0.7544 - f1: 0.7845 - auc: 0.9651 - tp: 7723.0000 - tn: 43337.0000 - fp: 1548.0000 - fn: 2514.0000 - accuracy: 0.9263 - val_loss: 0.3794 - val_precision: 0.6596 - val_recall: 0.4849 - val_f1: 0.5414 - val_auc: 0.8623 - val_tp: 1238.0000 - val_tn: 10588.0000 - val_fp: 639.0000 - val_fn: 1315.0000 - val_accuracy: 0.8582\n",
            "Epoch 11/40\n",
            "862/862 [==============================] - 61s 69ms/step - loss: 0.1769 - precision: 0.8428 - recall: 0.7644 - f1: 0.7937 - auc: 0.9686 - tp: 7825.0000 - tn: 43425.0000 - fp: 1460.0000 - fn: 2412.0000 - accuracy: 0.9298 - val_loss: 0.3740 - val_precision: 0.6387 - val_recall: 0.5041 - val_f1: 0.5511 - val_auc: 0.8614 - val_tp: 1287.0000 - val_tn: 10499.0000 - val_fp: 728.0000 - val_fn: 1266.0000 - val_accuracy: 0.8553\n",
            "Epoch 12/40\n",
            "862/862 [==============================] - 61s 70ms/step - loss: 0.1702 - precision: 0.8461 - recall: 0.7785 - f1: 0.8038 - auc: 0.9710 - tp: 7970.0000 - tn: 43435.0000 - fp: 1450.0000 - fn: 2267.0000 - accuracy: 0.9326 - val_loss: 0.3838 - val_precision: 0.6130 - val_recall: 0.5523 - val_f1: 0.5717 - val_auc: 0.8663 - val_tp: 1410.0000 - val_tn: 10337.0000 - val_fp: 890.0000 - val_fn: 1143.0000 - val_accuracy: 0.8525\n",
            "Epoch 13/40\n",
            "862/862 [==============================] - 60s 69ms/step - loss: 0.1632 - precision: 0.8527 - recall: 0.7869 - f1: 0.8106 - auc: 0.9732 - tp: 8055.0000 - tn: 43494.0000 - fp: 1391.0000 - fn: 2182.0000 - accuracy: 0.9352 - val_loss: 0.3872 - val_precision: 0.6325 - val_recall: 0.5225 - val_f1: 0.5570 - val_auc: 0.8637 - val_tp: 1334.0000 - val_tn: 10452.0000 - val_fp: 775.0000 - val_fn: 1219.0000 - val_accuracy: 0.8553\n",
            "Epoch 14/40\n",
            "862/862 [==============================] - 61s 69ms/step - loss: 0.1584 - precision: 0.8556 - recall: 0.7930 - f1: 0.8164 - auc: 0.9749 - tp: 8118.0000 - tn: 43515.0000 - fp: 1370.0000 - fn: 2119.0000 - accuracy: 0.9367 - val_loss: 0.3987 - val_precision: 0.6528 - val_recall: 0.4994 - val_f1: 0.5540 - val_auc: 0.8624 - val_tp: 1275.0000 - val_tn: 10549.0000 - val_fp: 678.0000 - val_fn: 1278.0000 - val_accuracy: 0.8581\n",
            "216/216 [==============================] - 6s 26ms/step - loss: 0.3523 - precision: 0.6340 - recall: 0.4892 - f1: 0.5411 - auc: 0.8559 - tp: 1249.0000 - tn: 10506.0000 - fp: 721.0000 - fn: 1304.0000 - accuracy: 0.8530\n",
            "\n",
            "CHECKING SPLIT NUM: 4\n",
            "Epoch 1/40\n",
            "861/862 [============================>.] - ETA: 0s - loss: 0.5171 - precision: 0.6337 - recall: 0.0983 - f1: 3.4843e-04 - auc: 0.6287 - tp: 1251.0000 - tn: 55433.0000 - fp: 723.0000 - fn: 11477.0000 - accuracy: 0.8229\n",
            "Epoch: 0, accuracy:0.8229,  auc:0.6287,  f1:0.0003,  fn:11481.0000,  fp:723.0000,  loss:0.5171,  precision:0.6337,  recall:0.0983,  tn:55447.0000,  tp:1251.0000,  val_accuracy:0.8105,  val_auc:0.6605,  val_f1:0.0000,  val_fn:2611.0000,  val_fp:0.0000,  val_loss:0.4708,  val_precision:0.0000,  val_recall:0.0000,  val_tn:11169.0000,  val_tp:0.0000,  \n",
            "862/862 [==============================] - 74s 74ms/step - loss: 0.5171 - precision: 0.6337 - recall: 0.0983 - f1: 3.4803e-04 - auc: 0.6287 - tp: 1251.0000 - tn: 55447.0000 - fp: 723.0000 - fn: 11481.0000 - accuracy: 0.8229 - val_loss: 0.4708 - val_precision: 0.0000e+00 - val_recall: 0.0000e+00 - val_f1: 0.0000e+00 - val_auc: 0.6605 - val_tp: 0.0000e+00 - val_tn: 11169.0000 - val_fp: 0.0000e+00 - val_fn: 2611.0000 - val_accuracy: 0.8105\n",
            "Epoch 2/40\n",
            "862/862 [==============================] - 62s 70ms/step - loss: 0.4397 - precision: 0.6318 - recall: 0.0534 - f1: 0.0814 - auc: 0.7468 - tp: 544.0000 - tn: 44626.0000 - fp: 317.0000 - fn: 9635.0000 - accuracy: 0.8195 - val_loss: 0.3989 - val_precision: 0.5838 - val_recall: 0.2681 - val_f1: 0.3509 - val_auc: 0.7980 - val_tp: 700.0000 - val_tn: 10670.0000 - val_fp: 499.0000 - val_fn: 1911.0000 - val_accuracy: 0.8251\n",
            "Epoch 3/40\n",
            "862/862 [==============================] - 61s 70ms/step - loss: 0.3560 - precision: 0.6518 - recall: 0.4226 - f1: 0.4975 - auc: 0.8566 - tp: 4302.0000 - tn: 42645.0000 - fp: 2298.0000 - fn: 5877.0000 - accuracy: 0.8517 - val_loss: 0.3656 - val_precision: 0.6294 - val_recall: 0.4098 - val_f1: 0.4807 - val_auc: 0.8375 - val_tp: 1070.0000 - val_tn: 10539.0000 - val_fp: 630.0000 - val_fn: 1541.0000 - val_accuracy: 0.8425\n",
            "Epoch 4/40\n",
            "862/862 [==============================] - 61s 70ms/step - loss: 0.3008 - precision: 0.7115 - recall: 0.5589 - f1: 0.6123 - auc: 0.9023 - tp: 5689.0000 - tn: 42636.0000 - fp: 2307.0000 - fn: 4490.0000 - accuracy: 0.8767 - val_loss: 0.3440 - val_precision: 0.6574 - val_recall: 0.4447 - val_f1: 0.5182 - val_auc: 0.8552 - val_tp: 1161.0000 - val_tn: 10564.0000 - val_fp: 605.0000 - val_fn: 1450.0000 - val_accuracy: 0.8509\n",
            "Epoch 5/40\n",
            "862/862 [==============================] - 61s 70ms/step - loss: 0.2664 - precision: 0.7488 - recall: 0.6272 - f1: 0.6682 - auc: 0.9253 - tp: 6384.0000 - tn: 42801.0000 - fp: 2142.0000 - fn: 3795.0000 - accuracy: 0.8923 - val_loss: 0.3467 - val_precision: 0.6573 - val_recall: 0.4856 - val_f1: 0.5450 - val_auc: 0.8638 - val_tp: 1268.0000 - val_tn: 10508.0000 - val_fp: 661.0000 - val_fn: 1343.0000 - val_accuracy: 0.8546\n",
            "Epoch 6/40\n",
            "862/862 [==============================] - 61s 70ms/step - loss: 0.2415 - precision: 0.7692 - recall: 0.6728 - f1: 0.7057 - auc: 0.9396 - tp: 6848.0000 - tn: 42888.0000 - fp: 2055.0000 - fn: 3331.0000 - accuracy: 0.9023 - val_loss: 0.3376 - val_precision: 0.6591 - val_recall: 0.5094 - val_f1: 0.5625 - val_auc: 0.8683 - val_tp: 1330.0000 - val_tn: 10481.0000 - val_fp: 688.0000 - val_fn: 1281.0000 - val_accuracy: 0.8571\n",
            "Epoch 7/40\n",
            "862/862 [==============================] - 61s 70ms/step - loss: 0.2232 - precision: 0.7920 - recall: 0.7083 - f1: 0.7374 - auc: 0.9488 - tp: 7210.0000 - tn: 43050.0000 - fp: 1893.0000 - fn: 2969.0000 - accuracy: 0.9118 - val_loss: 0.3433 - val_precision: 0.6334 - val_recall: 0.5465 - val_f1: 0.5763 - val_auc: 0.8710 - val_tp: 1427.0000 - val_tn: 10343.0000 - val_fp: 826.0000 - val_fn: 1184.0000 - val_accuracy: 0.8541\n",
            "Epoch 8/40\n",
            "862/862 [==============================] - 61s 69ms/step - loss: 0.2087 - precision: 0.7997 - recall: 0.7266 - f1: 0.7539 - auc: 0.9557 - tp: 7396.0000 - tn: 43091.0000 - fp: 1852.0000 - fn: 2783.0000 - accuracy: 0.9159 - val_loss: 0.3453 - val_precision: 0.6593 - val_recall: 0.5285 - val_f1: 0.5742 - val_auc: 0.8725 - val_tp: 1380.0000 - val_tn: 10456.0000 - val_fp: 713.0000 - val_fn: 1231.0000 - val_accuracy: 0.8589\n",
            "Epoch 9/40\n",
            "862/862 [==============================] - 61s 70ms/step - loss: 0.1964 - precision: 0.8134 - recall: 0.7485 - f1: 0.7730 - auc: 0.9611 - tp: 7619.0000 - tn: 43195.0000 - fp: 1748.0000 - fn: 2560.0000 - accuracy: 0.9218 - val_loss: 0.3824 - val_precision: 0.6603 - val_recall: 0.5285 - val_f1: 0.5743 - val_auc: 0.8687 - val_tp: 1380.0000 - val_tn: 10459.0000 - val_fp: 710.0000 - val_fn: 1231.0000 - val_accuracy: 0.8591\n",
            "Epoch 10/40\n",
            "862/862 [==============================] - 61s 70ms/step - loss: 0.1891 - precision: 0.8214 - recall: 0.7524 - f1: 0.7775 - auc: 0.9639 - tp: 7659.0000 - tn: 43278.0000 - fp: 1665.0000 - fn: 2520.0000 - accuracy: 0.9241 - val_loss: 0.3658 - val_precision: 0.5848 - val_recall: 0.6350 - val_f1: 0.6003 - val_auc: 0.8743 - val_tp: 1658.0000 - val_tn: 9992.0000 - val_fp: 1177.0000 - val_fn: 953.0000 - val_accuracy: 0.8454\n",
            "Epoch 11/40\n",
            "862/862 [==============================] - 60s 69ms/step - loss: 0.1799 - precision: 0.8279 - recall: 0.7720 - f1: 0.7879 - auc: 0.9677 - tp: 7858.0000 - tn: 43310.0000 - fp: 1633.0000 - fn: 2321.0000 - accuracy: 0.9283 - val_loss: 0.3706 - val_precision: 0.6451 - val_recall: 0.5550 - val_f1: 0.5801 - val_auc: 0.8741 - val_tp: 1449.0000 - val_tn: 10372.0000 - val_fp: 797.0000 - val_fn: 1162.0000 - val_accuracy: 0.8578\n",
            "Epoch 12/40\n",
            "862/862 [==============================] - 61s 69ms/step - loss: 0.1711 - precision: 0.8386 - recall: 0.7833 - f1: 0.8019 - auc: 0.9706 - tp: 7973.0000 - tn: 43408.0000 - fp: 1535.0000 - fn: 2206.0000 - accuracy: 0.9321 - val_loss: 0.3672 - val_precision: 0.6115 - val_recall: 0.6028 - val_f1: 0.5928 - val_auc: 0.8749 - val_tp: 1574.0000 - val_tn: 10169.0000 - val_fp: 1000.0000 - val_fn: 1037.0000 - val_accuracy: 0.8522\n",
            "Epoch 13/40\n",
            "862/862 [==============================] - 61s 69ms/step - loss: 0.1706 - precision: 0.8375 - recall: 0.7853 - f1: 0.8021 - auc: 0.9710 - tp: 7994.0000 - tn: 43392.0000 - fp: 1551.0000 - fn: 2185.0000 - accuracy: 0.9322 - val_loss: 0.3735 - val_precision: 0.6684 - val_recall: 0.5289 - val_f1: 0.5830 - val_auc: 0.8731 - val_tp: 1381.0000 - val_tn: 10484.0000 - val_fp: 685.0000 - val_fn: 1230.0000 - val_accuracy: 0.8610\n",
            "Epoch 14/40\n",
            "862/862 [==============================] - 61s 69ms/step - loss: 0.1599 - precision: 0.8446 - recall: 0.8010 - f1: 0.8131 - auc: 0.9746 - tp: 8153.0000 - tn: 43443.0000 - fp: 1500.0000 - fn: 2026.0000 - accuracy: 0.9360 - val_loss: 0.3758 - val_precision: 0.6166 - val_recall: 0.5956 - val_f1: 0.5956 - val_auc: 0.8742 - val_tp: 1555.0000 - val_tn: 10202.0000 - val_fp: 967.0000 - val_fn: 1056.0000 - val_accuracy: 0.8532\n",
            "Epoch 15/40\n",
            "862/862 [==============================] - 61s 69ms/step - loss: 0.1545 - precision: 0.8531 - recall: 0.8052 - f1: 0.8206 - auc: 0.9762 - tp: 8196.0000 - tn: 43532.0000 - fp: 1411.0000 - fn: 1983.0000 - accuracy: 0.9384 - val_loss: 0.3762 - val_precision: 0.6539 - val_recall: 0.5500 - val_f1: 0.5881 - val_auc: 0.8731 - val_tp: 1436.0000 - val_tn: 10409.0000 - val_fp: 760.0000 - val_fn: 1175.0000 - val_accuracy: 0.8596\n",
            "Epoch 16/40\n",
            "862/862 [==============================] - 61s 70ms/step - loss: 0.1482 - precision: 0.8569 - recall: 0.8155 - f1: 0.8286 - auc: 0.9783 - tp: 8301.0000 - tn: 43557.0000 - fp: 1386.0000 - fn: 1878.0000 - accuracy: 0.9408 - val_loss: 0.4264 - val_precision: 0.7043 - val_recall: 0.4707 - val_f1: 0.5480 - val_auc: 0.8663 - val_tp: 1229.0000 - val_tn: 10653.0000 - val_fp: 516.0000 - val_fn: 1382.0000 - val_accuracy: 0.8623\n",
            "Epoch 17/40\n",
            "862/862 [==============================] - 61s 69ms/step - loss: 0.1415 - precision: 0.8648 - recall: 0.8219 - f1: 0.8358 - auc: 0.9802 - tp: 8366.0000 - tn: 43635.0000 - fp: 1308.0000 - fn: 1813.0000 - accuracy: 0.9434 - val_loss: 0.4054 - val_precision: 0.6786 - val_recall: 0.4990 - val_f1: 0.5633 - val_auc: 0.8679 - val_tp: 1303.0000 - val_tn: 10552.0000 - val_fp: 617.0000 - val_fn: 1308.0000 - val_accuracy: 0.8603\n",
            "Epoch 18/40\n",
            "862/862 [==============================] - 61s 70ms/step - loss: 0.1404 - precision: 0.8669 - recall: 0.8240 - f1: 0.8388 - auc: 0.9806 - tp: 8387.0000 - tn: 43655.0000 - fp: 1288.0000 - fn: 1792.0000 - accuracy: 0.9441 - val_loss: 0.4075 - val_precision: 0.6650 - val_recall: 0.5147 - val_f1: 0.5683 - val_auc: 0.8688 - val_tp: 1344.0000 - val_tn: 10492.0000 - val_fp: 677.0000 - val_fn: 1267.0000 - val_accuracy: 0.8589\n",
            "Epoch 19/40\n",
            "862/862 [==============================] - 61s 70ms/step - loss: 0.1364 - precision: 0.8721 - recall: 0.8277 - f1: 0.8424 - auc: 0.9815 - tp: 8425.0000 - tn: 43707.0000 - fp: 1236.0000 - fn: 1754.0000 - accuracy: 0.9458 - val_loss: 0.4019 - val_precision: 0.5872 - val_recall: 0.6254 - val_f1: 0.5988 - val_auc: 0.8715 - val_tp: 1633.0000 - val_tn: 10021.0000 - val_fp: 1148.0000 - val_fn: 978.0000 - val_accuracy: 0.8457\n",
            "216/216 [==============================] - 6s 27ms/step - loss: 0.3658 - precision: 0.5848 - recall: 0.6350 - f1: 0.6012 - auc: 0.8743 - tp: 1658.0000 - tn: 9992.0000 - fp: 1177.0000 - fn: 953.0000 - accuracy: 0.8454\n",
            "\n",
            "CHECKING SPLIT NUM: 5\n",
            "Epoch 1/40\n",
            "862/862 [==============================] - ETA: 0s - loss: 0.5251 - precision: 0.5605 - recall: 0.1317 - f1: 0.0026 - auc: 0.6338 - tp: 1691.0000 - tn: 54732.0000 - fp: 1326.0000 - fn: 11153.0000 - accuracy: 0.8189\n",
            "Epoch: 0, accuracy:0.8189,  auc:0.6338,  f1:0.0026,  fn:11153.0000,  fp:1326.0000,  loss:0.5251,  precision:0.5605,  recall:0.1317,  tn:54732.0000,  tp:1691.0000,  val_accuracy:0.8144,  val_auc:0.6434,  val_f1:0.0000,  val_fn:2557.0000,  val_fp:0.0000,  val_loss:0.4677,  val_precision:0.0000,  val_recall:0.0000,  val_tn:11223.0000,  val_tp:0.0000,  \n",
            "862/862 [==============================] - 73s 74ms/step - loss: 0.5251 - precision: 0.5605 - recall: 0.1317 - f1: 0.0026 - auc: 0.6338 - tp: 1691.0000 - tn: 54732.0000 - fp: 1326.0000 - fn: 11153.0000 - accuracy: 0.8189 - val_loss: 0.4677 - val_precision: 0.0000e+00 - val_recall: 0.0000e+00 - val_f1: 0.0000e+00 - val_auc: 0.6434 - val_tp: 0.0000e+00 - val_tn: 11223.0000 - val_fp: 0.0000e+00 - val_fn: 2557.0000 - val_accuracy: 0.8144\n",
            "Epoch 2/40\n",
            "862/862 [==============================] - 61s 70ms/step - loss: 0.4491 - precision: 0.6392 - recall: 0.0341 - f1: 0.0534 - auc: 0.7320 - tp: 349.0000 - tn: 44692.0000 - fp: 197.0000 - fn: 9884.0000 - accuracy: 0.8171 - val_loss: 0.4027 - val_precision: 0.6019 - val_recall: 0.1697 - val_f1: 0.2509 - val_auc: 0.7806 - val_tp: 434.0000 - val_tn: 10936.0000 - val_fp: 287.0000 - val_fn: 2123.0000 - val_accuracy: 0.8251\n",
            "Epoch 3/40\n",
            "862/862 [==============================] - 61s 69ms/step - loss: 0.3637 - precision: 0.6500 - recall: 0.3932 - f1: 0.4720 - auc: 0.8488 - tp: 4024.0000 - tn: 42722.0000 - fp: 2167.0000 - fn: 6209.0000 - accuracy: 0.8480 - val_loss: 0.3632 - val_precision: 0.6372 - val_recall: 0.3923 - val_f1: 0.4754 - val_auc: 0.8327 - val_tp: 1003.0000 - val_tn: 10652.0000 - val_fp: 571.0000 - val_fn: 1554.0000 - val_accuracy: 0.8458\n",
            "Epoch 4/40\n",
            "862/862 [==============================] - 61s 69ms/step - loss: 0.3093 - precision: 0.7134 - recall: 0.5274 - f1: 0.5928 - auc: 0.8961 - tp: 5397.0000 - tn: 42721.0000 - fp: 2168.0000 - fn: 4836.0000 - accuracy: 0.8729 - val_loss: 0.3486 - val_precision: 0.7228 - val_recall: 0.3528 - val_f1: 0.4587 - val_auc: 0.8525 - val_tp: 902.0000 - val_tn: 10877.0000 - val_fp: 346.0000 - val_fn: 1655.0000 - val_accuracy: 0.8548\n",
            "Epoch 5/40\n",
            "862/862 [==============================] - 61s 70ms/step - loss: 0.2729 - precision: 0.7521 - recall: 0.6047 - f1: 0.6551 - auc: 0.9214 - tp: 6188.0000 - tn: 42849.0000 - fp: 2040.0000 - fn: 4045.0000 - accuracy: 0.8896 - val_loss: 0.3685 - val_precision: 0.7411 - val_recall: 0.3661 - val_f1: 0.4746 - val_auc: 0.8550 - val_tp: 936.0000 - val_tn: 10896.0000 - val_fp: 327.0000 - val_fn: 1621.0000 - val_accuracy: 0.8586\n",
            "Epoch 6/40\n",
            "862/862 [==============================] - 61s 70ms/step - loss: 0.2465 - precision: 0.7755 - recall: 0.6606 - f1: 0.7025 - auc: 0.9370 - tp: 6760.0000 - tn: 42932.0000 - fp: 1957.0000 - fn: 3473.0000 - accuracy: 0.9015 - val_loss: 0.3318 - val_precision: 0.6580 - val_recall: 0.5170 - val_f1: 0.5666 - val_auc: 0.8676 - val_tp: 1322.0000 - val_tn: 10536.0000 - val_fp: 687.0000 - val_fn: 1235.0000 - val_accuracy: 0.8605\n",
            "Epoch 7/40\n",
            "862/862 [==============================] - 61s 70ms/step - loss: 0.2279 - precision: 0.7920 - recall: 0.6915 - f1: 0.7298 - auc: 0.9468 - tp: 7076.0000 - tn: 43031.0000 - fp: 1858.0000 - fn: 3157.0000 - accuracy: 0.9090 - val_loss: 0.3426 - val_precision: 0.6277 - val_recall: 0.5651 - val_f1: 0.5857 - val_auc: 0.8698 - val_tp: 1445.0000 - val_tn: 10366.0000 - val_fp: 857.0000 - val_fn: 1112.0000 - val_accuracy: 0.8571\n",
            "Epoch 8/40\n",
            "862/862 [==============================] - 61s 70ms/step - loss: 0.2146 - precision: 0.8041 - recall: 0.7151 - f1: 0.7448 - auc: 0.9530 - tp: 7318.0000 - tn: 43106.0000 - fp: 1783.0000 - fn: 2915.0000 - accuracy: 0.9148 - val_loss: 0.3566 - val_precision: 0.6797 - val_recall: 0.5022 - val_f1: 0.5625 - val_auc: 0.8684 - val_tp: 1284.0000 - val_tn: 10618.0000 - val_fp: 605.0000 - val_fn: 1273.0000 - val_accuracy: 0.8637\n",
            "Epoch 9/40\n",
            "862/862 [==============================] - 61s 69ms/step - loss: 0.2005 - precision: 0.8122 - recall: 0.7397 - f1: 0.7652 - auc: 0.9595 - tp: 7569.0000 - tn: 43139.0000 - fp: 1750.0000 - fn: 2664.0000 - accuracy: 0.9199 - val_loss: 0.3419 - val_precision: 0.6923 - val_recall: 0.5076 - val_f1: 0.5714 - val_auc: 0.8719 - val_tp: 1298.0000 - val_tn: 10646.0000 - val_fp: 577.0000 - val_fn: 1259.0000 - val_accuracy: 0.8668\n",
            "Epoch 10/40\n",
            "862/862 [==============================] - 61s 70ms/step - loss: 0.1908 - precision: 0.8232 - recall: 0.7493 - f1: 0.7761 - auc: 0.9635 - tp: 7668.0000 - tn: 43242.0000 - fp: 1647.0000 - fn: 2565.0000 - accuracy: 0.9236 - val_loss: 0.3663 - val_precision: 0.6822 - val_recall: 0.5213 - val_f1: 0.5756 - val_auc: 0.8681 - val_tp: 1333.0000 - val_tn: 10602.0000 - val_fp: 621.0000 - val_fn: 1224.0000 - val_accuracy: 0.8661\n",
            "Epoch 11/40\n",
            "862/862 [==============================] - 61s 70ms/step - loss: 0.1838 - precision: 0.8318 - recall: 0.7662 - f1: 0.7910 - auc: 0.9661 - tp: 7841.0000 - tn: 43304.0000 - fp: 1585.0000 - fn: 2392.0000 - accuracy: 0.9279 - val_loss: 0.3583 - val_precision: 0.7121 - val_recall: 0.4924 - val_f1: 0.5665 - val_auc: 0.8701 - val_tp: 1259.0000 - val_tn: 10714.0000 - val_fp: 509.0000 - val_fn: 1298.0000 - val_accuracy: 0.8689\n",
            "Epoch 12/40\n",
            "862/862 [==============================] - 61s 70ms/step - loss: 0.1734 - precision: 0.8411 - recall: 0.7813 - f1: 0.8030 - auc: 0.9699 - tp: 7995.0000 - tn: 43379.0000 - fp: 1510.0000 - fn: 2238.0000 - accuracy: 0.9320 - val_loss: 0.3628 - val_precision: 0.6976 - val_recall: 0.4998 - val_f1: 0.5713 - val_auc: 0.8698 - val_tp: 1278.0000 - val_tn: 10669.0000 - val_fp: 554.0000 - val_fn: 1279.0000 - val_accuracy: 0.8670\n",
            "Epoch 13/40\n",
            "862/862 [==============================] - 61s 69ms/step - loss: 0.1684 - precision: 0.8430 - recall: 0.7852 - f1: 0.8057 - auc: 0.9718 - tp: 8035.0000 - tn: 43393.0000 - fp: 1496.0000 - fn: 2198.0000 - accuracy: 0.9330 - val_loss: 0.3747 - val_precision: 0.7097 - val_recall: 0.4904 - val_f1: 0.5652 - val_auc: 0.8678 - val_tp: 1254.0000 - val_tn: 10710.0000 - val_fp: 513.0000 - val_fn: 1303.0000 - val_accuracy: 0.8682\n",
            "Epoch 14/40\n",
            "862/862 [==============================] - 61s 69ms/step - loss: 0.1624 - precision: 0.8509 - recall: 0.7923 - f1: 0.8138 - auc: 0.9739 - tp: 8108.0000 - tn: 43468.0000 - fp: 1421.0000 - fn: 2125.0000 - accuracy: 0.9357 - val_loss: 0.3828 - val_precision: 0.6662 - val_recall: 0.5299 - val_f1: 0.5753 - val_auc: 0.8669 - val_tp: 1355.0000 - val_tn: 10544.0000 - val_fp: 679.0000 - val_fn: 1202.0000 - val_accuracy: 0.8635\n",
            "Epoch 15/40\n",
            "862/862 [==============================] - 61s 70ms/step - loss: 0.1570 - precision: 0.8537 - recall: 0.8026 - f1: 0.8217 - auc: 0.9755 - tp: 8213.0000 - tn: 43482.0000 - fp: 1407.0000 - fn: 2020.0000 - accuracy: 0.9378 - val_loss: 0.3965 - val_precision: 0.6924 - val_recall: 0.5045 - val_f1: 0.5681 - val_auc: 0.8624 - val_tp: 1290.0000 - val_tn: 10650.0000 - val_fp: 573.0000 - val_fn: 1267.0000 - val_accuracy: 0.8665\n",
            "216/216 [==============================] - 6s 27ms/step - loss: 0.3318 - precision: 0.6580 - recall: 0.5170 - f1: 0.5697 - auc: 0.8676 - tp: 1322.0000 - tn: 10536.0000 - fp: 687.0000 - fn: 1235.0000 - accuracy: 0.8605\n",
            "!!! SESSION NUM 1 ---> CV f1: 0.5701956629753113\n",
            "!!! auc: 0.866824746131897\n",
            "------------------------------------------\n"
          ]
        },
        {
          "data": {
            "image/png": "[encoded data removed]",
            "text/plain": [
              "<Figure size 432x288 with 1 Axes>"
            ]
          },
          "metadata": {
            "needs_background": "light"
          },
          "output_type": "display_data"
        },
        {
          "name": "stdout",
          "output_type": "stream",
          "text": [
            "\n",
            "------------------------------------------\n"
          ]
        },
        {
          "data": {
            "image/png": "[encoded data removed]",
            "text/plain": [
              "<Figure size 432x288 with 1 Axes>"
            ]
          },
          "metadata": {
            "needs_background": "light"
          },
          "output_type": "display_data"
        }
      ],
      "source": [
        "#this is the highest-level method that runs the 2 above, call many times the run(....) method with different params combination\n",
        "\n",
        "#you can choose: 1) to iterate one after all the paramters (not working atm, need to be added optimzier and num-epochs params)\n",
        "#                2) Sample randomly from the paramters we have, useful for having a general idea of the performances\n",
        "\n",
        "#the HParams framework is taken form the Tensorflow webpage as a \"standard\" hyperparameter optimization framework\n",
        "\n",
        "def run_tuning(random_parameters):\n",
        "    #take the user gin parameters\n",
        "    if not random_parameters :\n",
        "        print(\"Trying parameters given by user\")\n",
        "                 \n",
        "        session_num = 1\n",
        "        #this while is here simply because after around 20/25 combinations Colab RAM/my pc RAM is full and i need to restart\n",
        "        \n",
        "        num_units = int(1.67978975e+02)\n",
        "\n",
        "        emb_dim = int(2.04549913e+02)\n",
        "        opt_lr = 2.52851212e-05\n",
        "        weight_tuner = 5.02595145e+00\n",
        "        num_layers = int(3.08611230e+00)\n",
        "        num_epochs = 40\n",
        "        optimizer = random.choice(HP_OPTIMIZER.domain.values)\n",
        "        #ker_l2 = random.choice(HP_KERNEL_REGULARIZATION_L2.domain.values)\n",
        "        #ker_l1 = random.choice(HP_KERNEL_REGULARIZATION_L1.domain.values)\n",
        "        \n",
        "        #USED ONLY IN RNN!!!\n",
        "        dropout = 0.2\n",
        "        #creates a dictionary with the random sampled parameters, taken at random every time\n",
        "\n",
        "        hparams = {\n",
        "          HP_NUM_UNITS: num_units, #num un= emb_dim\n",
        "          HP_EMBEDDING_DIM: emb_dim,\n",
        "          HP_OPTIMIZER_LR: opt_lr,\n",
        "          HP_WEIGHT_TUNER: weight_tuner,\n",
        "          HP_NUM_LAYERS: num_layers,\n",
        "          HP_NUM_EPOCHS: num_epochs,\n",
        "          HP_OPTIMIZER: optimizer,\n",
        "          #HP_KERNEL_REGULARIZATION_L2: ker_l2,\n",
        "          #HP_KERNEL_REGULARIZATION_L1: ker_l1\n",
        "          HP_DROPOUT: dropout\n",
        "        }\n",
        "\n",
        "        run_name = \"run-%d\" % session_num\n",
        "\n",
        "        print(\"!--WARNING--! DROPOUT is used only in recurrent layers\")\n",
        "\n",
        "        print('--- Starting trial: %s' % run_name)\n",
        "        print({h.name: hparams[h] for h in hparams})\n",
        "\n",
        "        #call the run(..) method defined earlier\n",
        "        run('logsGraphs/hparam_tuningCV/' + run_name, hparams, session_num)\n",
        "\n",
        "\n",
        "            \n",
        "              \n",
        "    if random_parameters :\n",
        "        print(\"Trying parameters at random\")\n",
        "                 \n",
        "        session_num = 0\n",
        "        #this while is here simply because after around 20/25 combinations Colab RAM/my pc RAM is full and i need to restart\n",
        "        while session_num <= 50:\n",
        "            num_units = random.choice(HP_NUM_UNITS.domain.values)\n",
        "            emb_dim = random.choice(HP_EMBEDDING_DIM.domain.values)\n",
        "            \n",
        "            opt_lr = random.choice(HP_OPTIMIZER_LR.domain.values)\n",
        "            weight_tuner = random.choice([0.3, 0.5, 0.7, 1.1, 1.3, 1.5])\n",
        "            num_layers = random.choice(HP_NUM_LAYERS.domain.values)\n",
        "            num_epochs = random.choice(HP_NUM_EPOCHS.domain.values)\n",
        "            optimizer = random.choice(HP_OPTIMIZER.domain.values)\n",
        "            dropout = random.choice(HP_DROPOUT.domain.values)\n",
        "            \n",
        "            #creates a dictionary with the random sampled parameters, taken at random every time\n",
        "            hparams = {\n",
        "              HP_NUM_UNITS: num_units,\n",
        "              HP_EMBEDDING_DIM: emb_dim,\n",
        "              HP_OPTIMIZER_LR: opt_lr,\n",
        "              HP_WEIGHT_TUNER: weight_tuner,\n",
        "              HP_NUM_LAYERS: num_layers,\n",
        "              HP_NUM_EPOCHS: num_epochs,\n",
        "              HP_OPTIMIZER: optimizer,\n",
        "              HP_DROPOUT: dropout\n",
        "            }\n",
        "\n",
        "            run_name = \"run-%d\" % session_num\n",
        "            print(\"!--WARNING--! DROPOUT is used only in recurrent layers\")\n",
        "            \n",
        "            print('--- Starting trial: %s' % run_name)\n",
        "            print({h.name: hparams[h] for h in hparams})\n",
        "            #call the run(..) method defined earlier\n",
        "            run('logsGraphs/hparam_tuningCV/' + run_name, hparams, session_num)\n",
        "            session_num += 1\n",
        "\n",
        "                \n",
        "run_tuning(random_parameters=False)"
      ]
    },
    {
      "cell_type": "code",
      "execution_count": null,
      "metadata": {
        "colab": {
          "background_save": true
        },
        "id": "TmzNldNcDP3r"
      },
      "outputs": [],
      "source": [
        "#%reload_ext tensorboard\n",
        "#%tensorboard --logdir 'logsGraphs/hparam_tuningCV/' --host localhost --port 9089"
      ]
    },
    {
      "cell_type": "markdown",
      "metadata": {
        "id": "e9SIeoEIDP3t"
      },
      "source": [
        "## Final Refit on the retained Test_set"
      ]
    },
    {
      "cell_type": "code",
      "execution_count": null,
      "metadata": {
        "colab": {
          "background_save": true
        },
        "id": "UbQFI1YMhj8u"
      },
      "outputs": [],
      "source": [
        "def get_callbacks():\n",
        "  return [\n",
        "    tfdocs.modeling.EpochDots(),\n",
        "    tf.keras.callbacks.EarlyStopping(patience = 7, monitor = 'val_f1',  mode = 'max', min_delta = 0.05),#ma need an increase?\n",
        "    #tf.keras.callbacks.TensorBoard('logsGraphs/graphsFolder'),\n",
        "  ]"
      ]
    },
    {
      "cell_type": "code",
      "execution_count": null,
      "metadata": {
        "colab": {
          "background_save": true
        },
        "id": "krdZ-LG4tV2S"
      },
      "outputs": [],
      "source": [
        "\n",
        "METRICS = [\n",
        "      tf.keras.metrics.Precision(name='precision'),\n",
        "      tf.keras.metrics.Recall(name='recall'),\n",
        "      f1, #my f1\n",
        "      tf.keras.metrics.AUC(name='auc'),\n",
        "    \n",
        "      tf.keras.metrics.TruePositives(name='tp'),\n",
        "      tf.keras.metrics.TrueNegatives(name='tn'),\n",
        "      tf.keras.metrics.FalsePositives(name='fp'),\n",
        "      tf.keras.metrics.FalseNegatives(name='fn'), \n",
        "      tf.keras.metrics.BinaryAccuracy(name='accuracy'),\n",
        "      \n",
        "      \n",
        "      #keras.metrics.AUC(name='prc', curve='PR'), # precision-recall curve\n",
        "]"
      ]
    },
    {
      "cell_type": "code",
      "execution_count": null,
      "metadata": {
        "colab": {
          "background_save": true
        },
        "id": "lvOUaBKkhj8v",
        "outputId": "e546067f-492c-4d35-b44f-485bf60fe24d"
      },
      "outputs": [
        {
          "name": "stdout",
          "output_type": "stream",
          "text": [
            "Test set Number of 1 : 3213\n",
            "Test set Number of 0 : 14013\n"
          ]
        }
      ],
      "source": [
        "#----- Class Imabalance dealing here\n",
        "labels=np.array([])\n",
        "for example, label in test_dataset.take(-1):\n",
        "    labels=np.concatenate((labels,label.numpy()))\n",
        "    \n",
        "nonzero = np.count_nonzero(labels)\n",
        "print(\"Test set Number of 1 : \"+str(nonzero))\n",
        "print(\"Test set Number of 0 : \"+str(len(labels)-nonzero))"
      ]
    },
    {
      "cell_type": "code",
      "execution_count": null,
      "metadata": {
        "colab": {
          "background_save": true
        },
        "id": "-sJa_ujLDP3t"
      },
      "outputs": [],
      "source": [
        "#redefine the encoding on the WHOLE train set (80% of the dataset)\n",
        "encoder = tf.keras.layers.experimental.preprocessing.TextVectorization(max_tokens=VOCAB_SIZE)\n",
        "encoder.adapt(train_ds_final.map(lambda text, label: text))"
      ]
    },
    {
      "cell_type": "code",
      "execution_count": null,
      "metadata": {
        "colab": {
          "background_save": true
        },
        "id": "vKX1HO8oDP3t"
      },
      "outputs": [],
      "source": [
        "#these best are the best of the leaked models, they seem to have good perormances here as well \n",
        "\n",
        "#Absolute best: {'num_units': 128, 'emb_dim': 256, 'opt_lr': 0.005, 'pos_weight_tuner': 1.7}\n",
        "#run-22: {'num_units': 128, 'emb_dim': 256, 'opt_lr': 0.005, 'pos_weight_tuner': 1.3}\n",
        "#run-19: {'num_units': 128, 'emb_dim': 256, 'opt_lr': 0.001, 'pos_weight_tuner': 1.7}\n",
        "#run-46: {'num_units': 256, 'emb_dim': 256, 'opt_lr': 0.001, 'pos_weight_tuner': 1.2}\n",
        "#embedding_dim = 256\n",
        "#weight_divider = 1.7\n",
        "#num_units = 128\n",
        "#learning_rate = 0.005\n",
        "#num_layers = 5\n",
        "#num_epochs = 20\n",
        "#kernel_l1 =0"
      ]
    },
    {
      "cell_type": "code",
      "execution_count": null,
      "metadata": {
        "colab": {
          "background_save": true
        },
        "id": "t-sgCa5Ehj8w"
      },
      "outputs": [],
      "source": [
        "num_units = int(1.67978975e+02)\n",
        "\n",
        "emb_dim = int(2.04549913e+02)\n",
        "learning_rate = 2.52851212e-05\n",
        "weight_normalizer = 5.02595145e+00\n",
        "num_layers = int(3.08611230e+00)\n",
        "\n"
      ]
    },
    {
      "cell_type": "code",
      "execution_count": null,
      "metadata": {
        "colab": {
          "background_save": true
        },
        "id": "aBty_q_tDP3t"
      },
      "outputs": [],
      "source": [
        "\n",
        "\n",
        "model = Sequential([\n",
        "      \n",
        "    encoder,\n",
        "\n",
        "    Embedding(#embedding layer\n",
        "        input_dim=len(encoder.get_vocabulary()),\n",
        "        output_dim=emb_dim,\n",
        "        # Use masking to handle the variable sequence lengths\n",
        "        mask_zero=True),\n",
        "\n",
        "    #Bidirectional(tf.keras.layers.LSTM(emb_dim , dropout = 0.1,return_sequences=True)),\n",
        "\n",
        "    Bidirectional(tf.keras.layers.LSTM(emb_dim , dropout = 0.15))\n",
        "    #Dropout(dropout)\n",
        "\n",
        "    ])\n",
        "    \n",
        "for i in range(num_layers):\n",
        "    if num_units/pow(2,i) >1 :\n",
        "        model.add(Dense(num_units/pow(2,i), activation=\"relu\"))\n",
        "        #model.add(Dropout(dropout))\n",
        "\n",
        "model.add(Dense(1,activation='sigmoid')) \n",
        "\n",
        "\n",
        "class_weight = {0: 1., #class 0 weight\n",
        "              1: posWeight/weight_normalizer, #uses the weight I set to make them perfectly balanced, I can increase it to overweight pos class!\n",
        "\n",
        "              2: 2.} \n",
        "\n",
        "\n"
      ]
    },
    {
      "cell_type": "code",
      "execution_count": null,
      "metadata": {
        "id": "xci58XusDP3u",
        "outputId": "3d184e0c-d326-45da-814a-4cbf26e1d763"
      },
      "outputs": [
        {
          "name": "stdout",
          "output_type": "stream",
          "text": [
            "Epoch 1/50\n"
          ]
        },
        {
          "name": "stderr",
          "output_type": "stream",
          "text": [
            "2022-04-14 12:12:54.265220: I tensorflow/stream_executor/cuda/cuda_dnn.cc:368] Loaded cuDNN version 8302\n"
          ]
        },
        {
          "name": "stdout",
          "output_type": "stream",
          "text": [
            "4306/4307 [============================>.] - ETA: 0s - loss: 0.4773 - precision: 0.5806 - recall: 0.0177 - f1: 0.0223 - auc: 0.6579 - tp: 227.0000 - tn: 55943.0000 - fp: 164.0000 - fn: 12562.0000 - accuracy: 0.8153\n",
            "Epoch: 0, accuracy:0.8153,  auc:0.6579,  f1:0.0223,  fn:12563.0000,  fp:164.0000,  loss:0.4773,  precision:0.5806,  recall:0.0177,  tn:55948.0000,  tp:227.0000,  val_accuracy:0.8246,  val_auc:0.7869,  val_f1:0.2102,  val_fn:2683.0000,  val_fp:339.0000,  val_loss:0.3992,  val_precision:0.6099,  val_recall:0.1650,  val_tn:13674.0000,  val_tp:530.0000,  \n",
            "4307/4307 [==============================] - 229s 51ms/step - loss: 0.4773 - precision: 0.5806 - recall: 0.0177 - f1: 0.0223 - auc: 0.6579 - tp: 227.0000 - tn: 55948.0000 - fp: 164.0000 - fn: 12563.0000 - accuracy: 0.8153 - val_loss: 0.3992 - val_precision: 0.6099 - val_recall: 0.1650 - val_f1: 0.2102 - val_auc: 0.7869 - val_tp: 530.0000 - val_tn: 13674.0000 - val_fp: 339.0000 - val_fn: 2683.0000 - val_accuracy: 0.8246\n",
            "Epoch 2/50\n",
            "4307/4307 [==============================] - 219s 51ms/step - loss: 0.3641 - precision: 0.6422 - recall: 0.4028 - f1: 0.4224 - auc: 0.8482 - tp: 5152.0000 - tn: 53241.0000 - fp: 2871.0000 - fn: 7638.0000 - accuracy: 0.8475 - val_loss: 0.3452 - val_precision: 0.6754 - val_recall: 0.3697 - val_f1: 0.4100 - val_auc: 0.8514 - val_tp: 1188.0000 - val_tn: 13442.0000 - val_fp: 571.0000 - val_fn: 2025.0000 - val_accuracy: 0.8493\n",
            "Epoch 3/50\n",
            "4307/4307 [==============================] - 221s 51ms/step - loss: 0.2999 - precision: 0.7148 - recall: 0.5584 - f1: 0.5555 - auc: 0.9023 - tp: 7142.0000 - tn: 53262.0000 - fp: 2850.0000 - fn: 5648.0000 - accuracy: 0.8767 - val_loss: 0.3275 - val_precision: 0.7014 - val_recall: 0.4423 - val_f1: 0.4621 - val_auc: 0.8725 - val_tp: 1421.0000 - val_tn: 13408.0000 - val_fp: 605.0000 - val_fn: 1792.0000 - val_accuracy: 0.8608\n",
            "Epoch 4/50\n",
            "4307/4307 [==============================] - 220s 51ms/step - loss: 0.2635 - precision: 0.7517 - recall: 0.6246 - f1: 0.6140 - auc: 0.9266 - tp: 7988.0000 - tn: 53474.0000 - fp: 2638.0000 - fn: 4802.0000 - accuracy: 0.8920 - val_loss: 0.3232 - val_precision: 0.6252 - val_recall: 0.5882 - val_f1: 0.5507 - val_auc: 0.8798 - val_tp: 1890.0000 - val_tn: 12880.0000 - val_fp: 1133.0000 - val_fn: 1323.0000 - val_accuracy: 0.8574\n",
            "Epoch 5/50\n",
            "4307/4307 [==============================] - 221s 51ms/step - loss: 0.2387 - precision: 0.7760 - recall: 0.6676 - f1: 0.6505 - auc: 0.9406 - tp: 8538.0000 - tn: 53648.0000 - fp: 2464.0000 - fn: 4252.0000 - accuracy: 0.9025 - val_loss: 0.3186 - val_precision: 0.6548 - val_recall: 0.5702 - val_f1: 0.5425 - val_auc: 0.8839 - val_tp: 1832.0000 - val_tn: 13047.0000 - val_fp: 966.0000 - val_fn: 1381.0000 - val_accuracy: 0.8638\n",
            "Epoch 6/50\n",
            "4307/4307 [==============================] - 221s 51ms/step - loss: 0.2221 - precision: 0.7920 - recall: 0.6951 - f1: 0.6755 - auc: 0.9490 - tp: 8890.0000 - tn: 53777.0000 - fp: 2335.0000 - fn: 3900.0000 - accuracy: 0.9095 - val_loss: 0.3289 - val_precision: 0.7361 - val_recall: 0.4488 - val_f1: 0.4789 - val_auc: 0.8853 - val_tp: 1442.0000 - val_tn: 13496.0000 - val_fp: 517.0000 - val_fn: 1771.0000 - val_accuracy: 0.8672\n",
            "Epoch 7/50\n",
            "4307/4307 [==============================] - 221s 51ms/step - loss: 0.2072 - precision: 0.8079 - recall: 0.7142 - f1: 0.6929 - auc: 0.9557 - tp: 9135.0000 - tn: 53940.0000 - fp: 2172.0000 - fn: 3655.0000 - accuracy: 0.9154 - val_loss: 0.3338 - val_precision: 0.6620 - val_recall: 0.5749 - val_f1: 0.5531 - val_auc: 0.8878 - val_tp: 1847.0000 - val_tn: 13070.0000 - val_fp: 943.0000 - val_fn: 1366.0000 - val_accuracy: 0.8660\n",
            "Epoch 8/50\n",
            "4307/4307 [==============================] - 221s 51ms/step - loss: 0.1956 - precision: 0.8186 - recall: 0.7362 - f1: 0.7093 - auc: 0.9613 - tp: 9416.0000 - tn: 54025.0000 - fp: 2087.0000 - fn: 3374.0000 - accuracy: 0.9207 - val_loss: 0.3248 - val_precision: 0.6773 - val_recall: 0.5403 - val_f1: 0.5411 - val_auc: 0.8861 - val_tp: 1736.0000 - val_tn: 13186.0000 - val_fp: 827.0000 - val_fn: 1477.0000 - val_accuracy: 0.8662\n",
            "Epoch 9/50\n",
            "4307/4307 [==============================] - 222s 51ms/step - loss: 0.1844 - precision: 0.8349 - recall: 0.7507 - f1: 0.7257 - auc: 0.9657 - tp: 9602.0000 - tn: 54213.0000 - fp: 1899.0000 - fn: 3188.0000 - accuracy: 0.9262 - val_loss: 0.4201 - val_precision: 0.6266 - val_recall: 0.6162 - val_f1: 0.5665 - val_auc: 0.8865 - val_tp: 1980.0000 - val_tn: 12833.0000 - val_fp: 1180.0000 - val_fn: 1233.0000 - val_accuracy: 0.8599\n",
            "Epoch 10/50\n",
            "4307/4307 [==============================] - 221s 51ms/step - loss: 0.1741 - precision: 0.8418 - recall: 0.7677 - f1: 0.7445 - auc: 0.9696 - tp: 9819.0000 - tn: 54267.0000 - fp: 1845.0000 - fn: 2971.0000 - accuracy: 0.9301 - val_loss: 0.3489 - val_precision: 0.6658 - val_recall: 0.5599 - val_f1: 0.5438 - val_auc: 0.8849 - val_tp: 1799.0000 - val_tn: 13110.0000 - val_fp: 903.0000 - val_fn: 1414.0000 - val_accuracy: 0.8655\n",
            "Epoch 11/50\n",
            "4307/4307 [==============================] - 222s 51ms/step - loss: 0.1654 - precision: 0.8511 - recall: 0.7800 - f1: 0.7539 - auc: 0.9726 - tp: 9976.0000 - tn: 54367.0000 - fp: 1745.0000 - fn: 2814.0000 - accuracy: 0.9338 - val_loss: 0.3784 - val_precision: 0.5944 - val_recall: 0.6446 - val_f1: 0.5586 - val_auc: 0.8846 - val_tp: 2071.0000 - val_tn: 12600.0000 - val_fp: 1413.0000 - val_fn: 1142.0000 - val_accuracy: 0.8517\n"
          ]
        }
      ],
      "source": [
        "model.compile(\n",
        "          optimizer=tf.keras.optimizers.Adam(learning_rate),\n",
        "          loss=tf.keras.losses.BinaryCrossentropy(),\n",
        "          metrics=METRICS,\n",
        "      )\n",
        "\n",
        "\n",
        "\n",
        "#----fitting\n",
        "history = model.fit(train_ds_final, \n",
        "                    epochs = 50, \n",
        "                    #validation_steps=20, #uses only a portion of validation set\n",
        "                    class_weight=class_weight,\n",
        "                    validation_data=test_dataset,\n",
        "                    callbacks=get_callbacks())\n"
      ]
    },
    {
      "cell_type": "code",
      "execution_count": null,
      "metadata": {
        "id": "bC8d7LEHhj8y"
      },
      "outputs": [],
      "source": [
        "history2={}\n",
        "history2[\"split \"+str(i+1)]=history\n",
        "history= history2"
      ]
    },
    {
      "cell_type": "code",
      "execution_count": null,
      "metadata": {
        "id": "-FziWcJlDP3w",
        "outputId": "d43ee7ec-5789-4610-f318-d80528c1b285"
      },
      "outputs": [
        {
          "data": {
            "image/png": "[encoded data removed]",
            "text/plain": [
              "<Figure size 432x288 with 1 Axes>"
            ]
          },
          "metadata": {
            "needs_background": "light"
          },
          "output_type": "display_data"
        },
        {
          "data": {
            "image/png": "[encoded data removed]",
            "text/plain": [
              "<Figure size 432x288 with 1 Axes>"
            ]
          },
          "metadata": {
            "needs_background": "light"
          },
          "output_type": "display_data"
        },
        {
          "data": {
            "image/png": "[encoded data removed]",
            "text/plain": [
              "<Figure size 432x288 with 1 Axes>"
            ]
          },
          "metadata": {
            "needs_background": "light"
          },
          "output_type": "display_data"
        },
        {
          "data": {
            "image/png": "[encoded data removed]",
            "text/plain": [
              "<Figure size 432x288 with 1 Axes>"
            ]
          },
          "metadata": {
            "needs_background": "light"
          },
          "output_type": "display_data"
        },
        {
          "data": {
            "image/png": "[encoded data removed]",
            "text/plain": [
              "<Figure size 432x288 with 1 Axes>"
            ]
          },
          "metadata": {
            "needs_background": "light"
          },
          "output_type": "display_data"
        },
        {
          "name": "stdout",
          "output_type": "stream",
          "text": [
            "1077/1077 [==============================] - 22s 20ms/step - loss: 0.3784 - precision: 0.5944 - recall: 0.6446 - f1: 0.5618 - auc: 0.8846 - tp: 2071.0000 - tn: 12600.0000 - fp: 1413.0000 - fn: 1142.0000 - accuracy: 0.8517\n",
            "Test Accuracy: 0.8516777157783508\n",
            "Test Prec: 0.5944316983222961\n",
            "Test Recall: 0.644568920135498\n",
            "Test AUC: 0.8845880627632141\n",
            "Test F1:  0.5617635846138\n",
            "Test Loss: 0.37838271260261536\n"
          ]
        }
      ],
      "source": [
        "#1 solo layer ora\n",
        "plotter = tfdocs.plots.HistoryPlotter(metric = 'f1', smoothing_std=10)\n",
        "plotter.plot(history)\n",
        "plt.show() \n",
        "\n",
        "plotter = tfdocs.plots.HistoryPlotter(metric = 'auc', smoothing_std=10)\n",
        "plotter.plot(history)\n",
        "plt.show() \n",
        "\n",
        "plotter = tfdocs.plots.HistoryPlotter(metric = 'tp', smoothing_std=10)\n",
        "plotter.plot(history)\n",
        "plt.show() \n",
        "\n",
        "plotter = tfdocs.plots.HistoryPlotter(metric = 'tn', smoothing_std=10)\n",
        "plotter.plot(history)\n",
        "plt.show() \n",
        "\n",
        "plotter = tfdocs.plots.HistoryPlotter(metric = 'accuracy', smoothing_std=10)\n",
        "plotter.plot(history)\n",
        "plt.show() \n",
        "\n",
        "#get you result on the independent test set to asses performance on unseen data\n",
        "test_loss,  test_prec, test_rec, test_f1, test_auc,_1,_2,_3,_4,test_acc = model.evaluate(test_dataset)\n",
        "\n",
        "\n",
        "print('Test Accuracy:', test_acc)\n",
        "print('Test Prec:', test_prec)\n",
        "print('Test Recall:', test_rec)\n",
        "print('Test AUC:', test_auc)\n",
        "print('Test F1: ',test_f1)\n",
        "print('Test Loss:', test_loss)"
      ]
    },
    {
      "cell_type": "markdown",
      "metadata": {
        "id": "eDkUeMpsPXer"
      },
      "source": [
        "## Save the model for future usage"
      ]
    },
    {
      "cell_type": "code",
      "execution_count": null,
      "metadata": {
        "id": "esIRUjp3PXes",
        "outputId": "5513773a-d2d6-4ee0-b4df-7ec557bed69d"
      },
      "outputs": [
        {
          "name": "stderr",
          "output_type": "stream",
          "text": [
            "WARNING:absl:Found untraced functions such as lstm_cell_4_layer_call_fn, lstm_cell_4_layer_call_and_return_conditional_losses, lstm_cell_5_layer_call_fn, lstm_cell_5_layer_call_and_return_conditional_losses while saving (showing 4 of 4). These functions will not be directly callable after loading.\n"
          ]
        },
        {
          "name": "stdout",
          "output_type": "stream",
          "text": [
            "INFO:tensorflow:Assets written to: DOCOUT_RNN_JUDGS/assets\n"
          ]
        },
        {
          "name": "stderr",
          "output_type": "stream",
          "text": [
            "INFO:tensorflow:Assets written to: DOCOUT_RNN_JUDGS/assets\n",
            "WARNING:absl:<keras.layers.recurrent.LSTMCell object at 0x7fa615b407f0> has the same name 'LSTMCell' as a built-in Keras object. Consider renaming <class 'keras.layers.recurrent.LSTMCell'> to avoid naming conflicts when loading with `tf.keras.models.load_model`. If renaming is not possible, pass the object in the `custom_objects` parameter of the load function.\n",
            "WARNING:absl:<keras.layers.recurrent.LSTMCell object at 0x7fa615beca90> has the same name 'LSTMCell' as a built-in Keras object. Consider renaming <class 'keras.layers.recurrent.LSTMCell'> to avoid naming conflicts when loading with `tf.keras.models.load_model`. If renaming is not possible, pass the object in the `custom_objects` parameter of the load function.\n"
          ]
        }
      ],
      "source": [
        "model.save('DOCOUT_RNN_PARAGRAPHS',save_format='tf')"
      ]
    },
    {
      "cell_type": "code",
      "execution_count": null,
      "metadata": {
        "id": "QuDRw5r6PXes",
        "outputId": "dce70087-4192-47b3-dce8-1e6a8f84e79b"
      },
      "outputs": [
        {
          "name": "stdout",
          "output_type": "stream",
          "text": [
            "WARNING:tensorflow:Unable to restore custom metric. Please ensure that the layer implements `get_config` and `from_config` when saving. In addition, please use the `custom_objects` arg when calling `load_model()`.\n"
          ]
        },
        {
          "name": "stderr",
          "output_type": "stream",
          "text": [
            "WARNING:tensorflow:Unable to restore custom metric. Please ensure that the layer implements `get_config` and `from_config` when saving. In addition, please use the `custom_objects` arg when calling `load_model()`.\n",
            "2022-04-14 14:13:24.967844: W tensorflow/core/common_runtime/graph_constructor.cc:803] Node 'cond/while' has 13 outputs but the _output_shapes attribute specifies shapes for 46 outputs. Output shapes may be inaccurate.\n",
            "2022-04-14 14:13:24.980921: W tensorflow/core/common_runtime/graph_constructor.cc:803] Node 'cond' has 5 outputs but the _output_shapes attribute specifies shapes for 46 outputs. Output shapes may be inaccurate.\n",
            "2022-04-14 14:13:28.692793: W tensorflow/core/common_runtime/graph_constructor.cc:803] Node 'cond/while' has 13 outputs but the _output_shapes attribute specifies shapes for 46 outputs. Output shapes may be inaccurate.\n",
            "2022-04-14 14:13:29.065571: W tensorflow/core/common_runtime/graph_constructor.cc:803] Node 'cond/while' has 13 outputs but the _output_shapes attribute specifies shapes for 46 outputs. Output shapes may be inaccurate.\n",
            "2022-04-14 14:13:29.078602: W tensorflow/core/common_runtime/graph_constructor.cc:803] Node 'cond' has 5 outputs but the _output_shapes attribute specifies shapes for 46 outputs. Output shapes may be inaccurate.\n",
            "2022-04-14 14:13:29.453517: W tensorflow/core/common_runtime/graph_constructor.cc:803] Node 'cond/while' has 13 outputs but the _output_shapes attribute specifies shapes for 46 outputs. Output shapes may be inaccurate.\n",
            "2022-04-14 14:13:29.465850: W tensorflow/core/common_runtime/graph_constructor.cc:803] Node 'cond' has 5 outputs but the _output_shapes attribute specifies shapes for 46 outputs. Output shapes may be inaccurate.\n",
            "2022-04-14 14:13:29.665015: W tensorflow/core/common_runtime/graph_constructor.cc:803] Node 'cond/while' has 13 outputs but the _output_shapes attribute specifies shapes for 46 outputs. Output shapes may be inaccurate.\n",
            "2022-04-14 14:13:29.778711: W tensorflow/core/common_runtime/graph_constructor.cc:803] Node 'cond/while' has 13 outputs but the _output_shapes attribute specifies shapes for 46 outputs. Output shapes may be inaccurate.\n",
            "2022-04-14 14:13:29.791669: W tensorflow/core/common_runtime/graph_constructor.cc:803] Node 'cond' has 5 outputs but the _output_shapes attribute specifies shapes for 46 outputs. Output shapes may be inaccurate.\n",
            "2022-04-14 14:13:29.879364: W tensorflow/core/common_runtime/graph_constructor.cc:803] Node 'cond' has 5 outputs but the _output_shapes attribute specifies shapes for 46 outputs. Output shapes may be inaccurate.\n",
            "2022-04-14 14:13:30.449012: W tensorflow/core/common_runtime/graph_constructor.cc:803] Node 'cond/while' has 13 outputs but the _output_shapes attribute specifies shapes for 46 outputs. Output shapes may be inaccurate.\n",
            "2022-04-14 14:13:30.462511: W tensorflow/core/common_runtime/graph_constructor.cc:803] Node 'cond' has 5 outputs but the _output_shapes attribute specifies shapes for 46 outputs. Output shapes may be inaccurate.\n",
            "2022-04-14 14:13:30.750478: W tensorflow/core/common_runtime/graph_constructor.cc:803] Node 'cond/while' has 13 outputs but the _output_shapes attribute specifies shapes for 46 outputs. Output shapes may be inaccurate.\n",
            "2022-04-14 14:13:30.763004: W tensorflow/core/common_runtime/graph_constructor.cc:803] Node 'cond' has 5 outputs but the _output_shapes attribute specifies shapes for 46 outputs. Output shapes may be inaccurate.\n",
            "2022-04-14 14:13:30.849238: W tensorflow/core/common_runtime/graph_constructor.cc:803] Node 'cond/while' has 13 outputs but the _output_shapes attribute specifies shapes for 46 outputs. Output shapes may be inaccurate.\n",
            "2022-04-14 14:13:30.903291: W tensorflow/core/common_runtime/graph_constructor.cc:803] Node 'cond' has 5 outputs but the _output_shapes attribute specifies shapes for 46 outputs. Output shapes may be inaccurate.\n",
            "2022-04-14 14:13:30.944108: W tensorflow/core/common_runtime/graph_constructor.cc:803] Node 'cond/while' has 13 outputs but the _output_shapes attribute specifies shapes for 46 outputs. Output shapes may be inaccurate.\n",
            "2022-04-14 14:13:30.957051: W tensorflow/core/common_runtime/graph_constructor.cc:803] Node 'cond' has 5 outputs but the _output_shapes attribute specifies shapes for 46 outputs. Output shapes may be inaccurate.\n",
            "2022-04-14 14:13:31.629130: W tensorflow/core/common_runtime/graph_constructor.cc:803] Node 'cond/while' has 13 outputs but the _output_shapes attribute specifies shapes for 46 outputs. Output shapes may be inaccurate.\n",
            "2022-04-14 14:13:31.642262: W tensorflow/core/common_runtime/graph_constructor.cc:803] Node 'cond' has 5 outputs but the _output_shapes attribute specifies shapes for 46 outputs. Output shapes may be inaccurate.\n",
            "2022-04-14 14:13:31.980681: W tensorflow/core/common_runtime/graph_constructor.cc:803] Node 'cond/while' has 13 outputs but the _output_shapes attribute specifies shapes for 46 outputs. Output shapes may be inaccurate.\n",
            "2022-04-14 14:13:31.993077: W tensorflow/core/common_runtime/graph_constructor.cc:803] Node 'cond' has 5 outputs but the _output_shapes attribute specifies shapes for 46 outputs. Output shapes may be inaccurate.\n",
            "2022-04-14 14:13:32.008078: W tensorflow/core/common_runtime/graph_constructor.cc:803] Node 'cond/while' has 13 outputs but the _output_shapes attribute specifies shapes for 46 outputs. Output shapes may be inaccurate.\n",
            "2022-04-14 14:13:32.021742: W tensorflow/core/common_runtime/graph_constructor.cc:803] Node 'cond' has 5 outputs but the _output_shapes attribute specifies shapes for 46 outputs. Output shapes may be inaccurate.\n",
            "2022-04-14 14:13:32.349596: W tensorflow/core/common_runtime/graph_constructor.cc:803] Node 'cond/while' has 13 outputs but the _output_shapes attribute specifies shapes for 46 outputs. Output shapes may be inaccurate.\n",
            "2022-04-14 14:13:32.362475: W tensorflow/core/common_runtime/graph_constructor.cc:803] Node 'cond' has 5 outputs but the _output_shapes attribute specifies shapes for 46 outputs. Output shapes may be inaccurate.\n",
            "2022-04-14 14:13:32.460796: W tensorflow/core/common_runtime/graph_constructor.cc:803] Node 'cond' has 5 outputs but the _output_shapes attribute specifies shapes for 46 outputs. Output shapes may be inaccurate.\n"
          ]
        },
        {
          "name": "stdout",
          "output_type": "stream",
          "text": [
            "Model: \"sequential\"\n",
            "_________________________________________________________________\n",
            " Layer (type)                Output Shape              Param #   \n",
            "=================================================================\n",
            " text_vectorization (TextVec  (None, None)             0         \n",
            " torization)                                                     \n",
            "                                                                 \n",
            " embedding (Embedding)       (None, None, 204)         12240000  \n",
            "                                                                 \n",
            " bidirectional (Bidirectiona  (None, 408)              667488    \n",
            " l)                                                              \n",
            "                                                                 \n",
            " dense (Dense)               (None, 167)               68303     \n",
            "                                                                 \n",
            " dense_1 (Dense)             (None, 83)                13944     \n",
            "                                                                 \n",
            " dense_2 (Dense)             (None, 41)                3444      \n",
            "                                                                 \n",
            " dense_3 (Dense)             (None, 1)                 42        \n",
            "                                                                 \n",
            "=================================================================\n",
            "Total params: 12,993,221\n",
            "Trainable params: 12,993,221\n",
            "Non-trainable params: 0\n",
            "_________________________________________________________________\n"
          ]
        }
      ],
      "source": [
        "#loaded_model.load_weights()\n",
        "#we set compile=False because of the custom losses that can't be loaded \n",
        "new_model = tf.keras.models.load_model('DOCOUT_RNN_PARAGRAPHS',compile=False)\n",
        "new_model.summary()"
      ]
    },
    {
      "cell_type": "code",
      "execution_count": null,
      "metadata": {
        "id": "CVSue0ZsPXes"
      },
      "outputs": [],
      "source": [
        "new_model.compile(\n",
        "          optimizer=tf.keras.optimizers.Adam(learning_rate),\n",
        "          loss=tf.keras.losses.BinaryCrossentropy(),\n",
        "          metrics=METRICS,\n",
        "      )\n",
        "\n"
      ]
    },
    {
      "cell_type": "code",
      "execution_count": null,
      "metadata": {
        "id": "rmTKXCwkPXet",
        "outputId": "fba3651e-6880-4792-cafe-6c83366579e9"
      },
      "outputs": [
        {
          "name": "stdout",
          "output_type": "stream",
          "text": [
            "1077/1077 [==============================] - 27s 21ms/step - loss: 0.3784 - precision: 0.5944 - recall: 0.6446 - f1: 0.5692 - auc: 0.8846 - tp: 6213.0000 - tn: 37800.0000 - fp: 4239.0000 - fn: 3426.0000 - accuracy: 0.8517\n",
            "Test Accuracy: 0.8516777157783508\n",
            "Test Prec: 0.5944316983222961\n",
            "Test Recall: 0.644568920135498\n",
            "Test AUC: 0.8845880627632141\n",
            "Test F1:  0.5692134499549866\n",
            "Test Loss: 0.3783823847770691\n"
          ]
        }
      ],
      "source": [
        "\n",
        "#get you result on the independent test set to asses performance on unseen data\n",
        "test_loss,  test_prec, test_rec, test_f1, test_auc,_1,_2,_3,_4,test_acc = new_model.evaluate(test_dataset)\n",
        "\n",
        "\n",
        "print('Test Accuracy:', test_acc)\n",
        "print('Test Prec:', test_prec)\n",
        "print('Test Recall:', test_rec)\n",
        "print('Test AUC:', test_auc)\n",
        "print('Test F1: ',test_f1)\n",
        "print('Test Loss:', test_loss)"
      ]
    },
    {
      "cell_type": "markdown",
      "metadata": {
        "id": "18PXsRhthj8y"
      },
      "source": [
        "## Dummy predictor"
      ]
    },
    {
      "cell_type": "code",
      "execution_count": null,
      "metadata": {
        "id": "wY87JoybDP3w",
        "outputId": "b9007852-9ed2-4828-de2f-15cea7ee4f8c"
      },
      "outputs": [
        {
          "name": "stdout",
          "output_type": "stream",
          "text": [
            "Precision : 0.0\n",
            "Recall : 0.0\n",
            "AUC : 0.5\n",
            "F1 : 0.0\n",
            "accuracy: 0.8134796238244514\n"
          ]
        },
        {
          "name": "stderr",
          "output_type": "stream",
          "text": [
            "/home/alessandro/.local/lib/python3.8/site-packages/sklearn/metrics/_classification.py:1318: UndefinedMetricWarning: Precision is ill-defined and being set to 0.0 due to no predicted samples. Use `zero_division` parameter to control this behavior.\n",
            "  _warn_prf(average, modifier, msg_start, len(result))\n"
          ]
        }
      ],
      "source": [
        "from sklearn.metrics import recall_score,precision_score,roc_curve,roc_auc_score,f1_score,accuracy_score\n",
        "\n",
        "test_labels=[]\n",
        "test_labels=np.array(test_labels)\n",
        "for example, label in test_dataset.take(-1):\n",
        "    _ = example.numpy()\n",
        "    test_labels=np.concatenate((test_labels,label.numpy()))\n",
        "    \n",
        "#print(test_labels)\n",
        "\n",
        "#Results using dummy classification on the test set\n",
        "accuracy = accuracy_score(test_labels,np.zeros(len(test_labels)))#predict all zeroes\n",
        "precision = precision_score(test_labels,np.zeros(len(test_labels)))\n",
        "recall = recall_score(test_labels,np.zeros(len(test_labels)))\n",
        "auc = roc_auc_score(test_labels,np.zeros(len(test_labels)))\n",
        "f1 = f1_score(test_labels,np.zeros(len(test_labels)))\n",
        "\n",
        "\n",
        "\n",
        "print(\"Precision : \"+str(precision))\n",
        "print(\"Recall : \"+str(recall))\n",
        "print(\"AUC : \"+str(auc))\n",
        "print(\"F1 : \"+str(f1))\n",
        "print(\"accuracy: \"+str(accuracy))"
      ]
    },
    {
      "cell_type": "code",
      "execution_count": null,
      "metadata": {
        "id": "QW3rofjkDP3x"
      },
      "outputs": [],
      "source": []
    },
    {
      "cell_type": "code",
      "execution_count": null,
      "metadata": {
        "id": "-tVQQEfwDP3x"
      },
      "outputs": [],
      "source": []
    }
  ],
  "metadata": {
    "accelerator": "GPU",
    "colab": {
      "collapsed_sections": [
        "8Rd5JudhDP3o"
      ],
      "provenance": []
    },
    "kernelspec": {
      "display_name": "Python 3 (ipykernel)",
      "language": "python",
      "name": "python3"
    },
    "language_info": {
      "codemirror_mode": {
        "name": "ipython",
        "version": 3
      },
      "file_extension": ".py",
      "mimetype": "text/x-python",
      "name": "python",
      "nbconvert_exporter": "python",
      "pygments_lexer": "ipython3",
      "version": "3.8.10"
    }
  },
  "nbformat": 4,
  "nbformat_minor": 0
}