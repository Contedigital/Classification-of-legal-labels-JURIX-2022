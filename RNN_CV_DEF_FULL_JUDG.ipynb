{
  "cells": [
    {
      "cell_type": "markdown",
      "metadata": {
        "id": "7SN5USFEIIK3"
      },
      "source": [
        "# Word embeddings"
      ]
    },
    {
      "cell_type": "markdown",
      "metadata": {
        "id": "Aojnnc7sXrab"
      },
      "source": [
        "<table class=\"tfo-notebook-buttons\" align=\"left\">\n",
        "  <td>\n",
        "    <a target=\"_blank\" href=\"https://www.tensorflow.org/text/guide/word_embeddings\">\n",
        "    <img src=\"https://www.tensorflow.org/images/tf_logo_32px.png\" />\n",
        "    View on TensorFlow.org</a>\n",
        "  </td>\n",
        "  <td>\n",
        "    <a target=\"_blank\" href=\"https://colab.research.google.com/github/tensorflow/text/blob/master/docs/guide/word_embeddings.ipynb\">\n",
        "    <img src=\"https://www.tensorflow.org/images/colab_logo_32px.png\" />\n",
        "    Run in Google Colab</a>\n",
        "  </td>\n",
        "  <td>\n",
        "    <a target=\"_blank\" href=\"https://github.com/tensorflow/text/blob/master/docs/guide/word_embeddings.ipynb\">\n",
        "    <img src=\"https://www.tensorflow.org/images/GitHub-Mark-32px.png\" />\n",
        "    View source on GitHub</a>\n",
        "  </td>\n",
        "  <td>\n",
        "    <a href=\"https://storage.googleapis.com/tensorflow_docs/text/docs/guide/word_embeddings.ipynb\"><img src=\"https://www.tensorflow.org/images/download_logo_32px.png\" />Download notebook</a>\n",
        "  </td>\n",
        "</table>"
      ]
    },
    {
      "cell_type": "code",
      "execution_count": null,
      "metadata": {
        "id": "em6DswF4Nreq",
        "colab": {
          "base_uri": "https://localhost:8080/"
        },
        "outputId": "013ab883-e96d-4b72-90cb-0dd2b83ff935"
      },
      "outputs": [
        {
          "output_type": "stream",
          "name": "stdout",
          "text": [
            "Mounted at /content/drive\n",
            "FinalDatasetFullJudgements_NOFRENCH.csv  FinalDatasetParagraphs.csv\n"
          ]
        }
      ],
      "source": [
        "from google.colab import drive\n",
        "drive.mount('/content/drive')\n",
        "\n",
        "!ls \"/content/drive/MyDrive/Judging under influence/datasets\""
      ]
    },
    {
      "cell_type": "code",
      "execution_count": null,
      "metadata": {
        "colab": {
          "base_uri": "https://localhost:8080/"
        },
        "id": "RutaI-Tpev3T",
        "outputId": "14428007-3072-4a33-a088-63deadd1794c",
        "tags": []
      },
      "outputs": [
        {
          "output_type": "stream",
          "name": "stdout",
          "text": [
            "Looking in indexes: https://pypi.org/simple, https://us-python.pkg.dev/colab-wheels/public/simple/\n",
            "Collecting git+https://github.com/tensorflow/docs\n",
            "  Cloning https://github.com/tensorflow/docs to /tmp/pip-req-build-ivps6fit\n",
            "  Running command git clone -q https://github.com/tensorflow/docs /tmp/pip-req-build-ivps6fit\n",
            "Requirement already satisfied: astor in /usr/local/lib/python3.7/dist-packages (from tensorflow-docs==0.0.0.dev0) (0.8.1)\n",
            "Requirement already satisfied: absl-py in /usr/local/lib/python3.7/dist-packages (from tensorflow-docs==0.0.0.dev0) (1.1.0)\n",
            "Requirement already satisfied: jinja2 in /usr/local/lib/python3.7/dist-packages (from tensorflow-docs==0.0.0.dev0) (2.11.3)\n",
            "Requirement already satisfied: protobuf<3.20,>=3.12.0 in /usr/local/lib/python3.7/dist-packages (from tensorflow-docs==0.0.0.dev0) (3.17.3)\n",
            "Requirement already satisfied: pyyaml in /usr/local/lib/python3.7/dist-packages (from tensorflow-docs==0.0.0.dev0) (3.13)\n",
            "Requirement already satisfied: six>=1.9 in /usr/local/lib/python3.7/dist-packages (from protobuf<3.20,>=3.12.0->tensorflow-docs==0.0.0.dev0) (1.15.0)\n",
            "Requirement already satisfied: MarkupSafe>=0.23 in /usr/local/lib/python3.7/dist-packages (from jinja2->tensorflow-docs==0.0.0.dev0) (2.0.1)\n",
            "Building wheels for collected packages: tensorflow-docs\n",
            "  Building wheel for tensorflow-docs (setup.py) ... \u001b[?25l\u001b[?25hdone\n",
            "  Created wheel for tensorflow-docs: filename=tensorflow_docs-0.0.0.dev0-py3-none-any.whl size=180247 sha256=13e86fc92437e79ee84193eac43fa385a0c67ebf821b2c3e5401fde3e5770090\n",
            "  Stored in directory: /tmp/pip-ephem-wheel-cache-jt0y6ztg/wheels/cc/c4/d8/5341e93b6376c5c929c49469fce21155eb69cef1a4da4ce32c\n",
            "Successfully built tensorflow-docs\n",
            "Installing collected packages: tensorflow-docs\n",
            "Successfully installed tensorflow-docs-0.0.0.dev0\n",
            "Num GPUs Available:  1\n"
          ]
        }
      ],
      "source": [
        "!pip install git+https://github.com/tensorflow/docs   \n",
        "\n",
        "import io\n",
        "import random\n",
        "import os\n",
        "import re\n",
        "import shutil\n",
        "import string\n",
        "import tensorflow as tf\n",
        "import pandas as pd\n",
        "import numpy as np\n",
        "from matplotlib import pyplot as plt\n",
        "from sklearn.model_selection import KFold \n",
        "\n",
        "from tensorflow.keras import Sequential\n",
        "from tensorflow.keras.layers import Dense, Embedding, GlobalAveragePooling1D, Bidirectional, Dropout\n",
        "from tensorflow.keras.layers.experimental.preprocessing import TextVectorization\n",
        "from tensorboard.plugins.hparams import api as hp\n",
        "\n",
        "import tensorflow_docs as tfdocs\n",
        "import tensorflow_docs.modeling\n",
        "import tensorflow_docs.plots\n",
        "\n",
        "\n",
        "print(\"Num GPUs Available: \", len(tf.config.list_physical_devices('GPU')))"
      ]
    },
    {
      "cell_type": "markdown",
      "metadata": {
        "id": "SZUQErGewZxE"
      },
      "source": [
        "## Setup"
      ]
    },
    {
      "cell_type": "code",
      "execution_count": null,
      "metadata": {
        "id": "mgBky-b-oB8L"
      },
      "outputs": [],
      "source": [
        "#Keras do not implement F1 so I implemented \"myself\"\n",
        "from tensorflow.keras import backend as K\n",
        "\n",
        "def f1(y_true, y_pred):\n",
        "    def recall(y_true, y_pred):\n",
        "        \"\"\"Recall metric.\n",
        "\n",
        "        Only computes a batch-wise average of recall.\n",
        "\n",
        "        Computes the recall, a metric for multi-label classification of\n",
        "        how many relevant items are selected.\n",
        "        \"\"\"\n",
        "        true_positives = K.sum(K.round(K.clip(y_true * y_pred, 0, 1)))\n",
        "        possible_positives = K.sum(K.round(K.clip(y_true, 0, 1)))\n",
        "        recall = true_positives / (possible_positives + K.epsilon())\n",
        "        return recall\n",
        "\n",
        "    def precision(y_true, y_pred):\n",
        "        \"\"\"Precision metric.\n",
        "\n",
        "        Only computes a batch-wise average of precision.\n",
        "\n",
        "        Computes the precision, a metric for multi-label classification of\n",
        "        how many selected items are relevant.\n",
        "        \"\"\"\n",
        "        true_positives = K.sum(K.round(K.clip(y_true * y_pred, 0, 1)))\n",
        "        predicted_positives = K.sum(K.round(K.clip(y_pred, 0, 1)))\n",
        "        precision = true_positives / (predicted_positives + K.epsilon())\n",
        "        return precision\n",
        "    precision = precision(y_true, y_pred)\n",
        "    recall = recall(y_true, y_pred)\n",
        "    return 2*((precision*recall)/(precision+recall+K.epsilon()))"
      ]
    },
    {
      "cell_type": "code",
      "execution_count": null,
      "metadata": {
        "colab": {
          "base_uri": "https://localhost:8080/",
          "height": 677
        },
        "id": "v_P91tdFoB8L",
        "outputId": "1d89acff-3619-4eab-b7b8-2f58ff6e0a84"
      },
      "outputs": [
        {
          "output_type": "execute_result",
          "data": {
            "text/plain": [
              "      DEF                                               TEXT\n",
              "1684    0  1. This request for a preliminary ruling conce...\n",
              "1685    0  1. These requests for a preliminary ruling con...\n",
              "1686    0  1. This request for a preliminary ruling conce...\n",
              "1687    0  1. This request for a preliminary ruling conce...\n",
              "1688    1  1. This request for a preliminary ruling conce...\n",
              "1689    0  1. This request for a preliminary ruling conce...\n",
              "1690    0  1. This request for a preliminary ruling conce...\n",
              "1691    0  1. This request for a preliminary ruling conce...\n",
              "1692    0  1. This request for a preliminary ruling conce...\n",
              "1693    1  1. This request for a preliminary ruling conce...\n",
              "1694    0  1. By its application, the European Commission...\n",
              "1695    0  1. This request for a preliminary ruling conce...\n",
              "1696    1  1. This request for a preliminary ruling conce...\n",
              "1697    0  1. This request for a preliminary ruling conce...\n",
              "1698    1  1. This request for a preliminary ruling conce...\n",
              "1699    1  1. This reference for a preliminary ruling con...\n",
              "1700    0  1. This request for a preliminary ruling conce...\n",
              "1701    1  1. This request for a preliminary ruling conce...\n",
              "1702    0  1. By its appeal, Canon Europa NV (ÂCanon Eur...\n",
              "1703    0  1. By its appeal, Kyocera Mita Europe BV (ÂKy..."
            ],
            "text/html": [
              "\n",
              "  <div id=\"df-6733202b-aecd-4104-b1e3-0913e78d538a\">\n",
              "    <div class=\"colab-df-container\">\n",
              "      <div>\n",
              "<style scoped>\n",
              "    .dataframe tbody tr th:only-of-type {\n",
              "        vertical-align: middle;\n",
              "    }\n",
              "\n",
              "    .dataframe tbody tr th {\n",
              "        vertical-align: top;\n",
              "    }\n",
              "\n",
              "    .dataframe thead th {\n",
              "        text-align: right;\n",
              "    }\n",
              "</style>\n",
              "<table border=\"1\" class=\"dataframe\">\n",
              "  <thead>\n",
              "    <tr style=\"text-align: right;\">\n",
              "      <th></th>\n",
              "      <th>DEF</th>\n",
              "      <th>TEXT</th>\n",
              "    </tr>\n",
              "  </thead>\n",
              "  <tbody>\n",
              "    <tr>\n",
              "      <th>1684</th>\n",
              "      <td>0</td>\n",
              "      <td>1. This request for a preliminary ruling conce...</td>\n",
              "    </tr>\n",
              "    <tr>\n",
              "      <th>1685</th>\n",
              "      <td>0</td>\n",
              "      <td>1. These requests for a preliminary ruling con...</td>\n",
              "    </tr>\n",
              "    <tr>\n",
              "      <th>1686</th>\n",
              "      <td>0</td>\n",
              "      <td>1. This request for a preliminary ruling conce...</td>\n",
              "    </tr>\n",
              "    <tr>\n",
              "      <th>1687</th>\n",
              "      <td>0</td>\n",
              "      <td>1. This request for a preliminary ruling conce...</td>\n",
              "    </tr>\n",
              "    <tr>\n",
              "      <th>1688</th>\n",
              "      <td>1</td>\n",
              "      <td>1. This request for a preliminary ruling conce...</td>\n",
              "    </tr>\n",
              "    <tr>\n",
              "      <th>1689</th>\n",
              "      <td>0</td>\n",
              "      <td>1. This request for a preliminary ruling conce...</td>\n",
              "    </tr>\n",
              "    <tr>\n",
              "      <th>1690</th>\n",
              "      <td>0</td>\n",
              "      <td>1. This request for a preliminary ruling conce...</td>\n",
              "    </tr>\n",
              "    <tr>\n",
              "      <th>1691</th>\n",
              "      <td>0</td>\n",
              "      <td>1. This request for a preliminary ruling conce...</td>\n",
              "    </tr>\n",
              "    <tr>\n",
              "      <th>1692</th>\n",
              "      <td>0</td>\n",
              "      <td>1. This request for a preliminary ruling conce...</td>\n",
              "    </tr>\n",
              "    <tr>\n",
              "      <th>1693</th>\n",
              "      <td>1</td>\n",
              "      <td>1. This request for a preliminary ruling conce...</td>\n",
              "    </tr>\n",
              "    <tr>\n",
              "      <th>1694</th>\n",
              "      <td>0</td>\n",
              "      <td>1. By its application, the European Commission...</td>\n",
              "    </tr>\n",
              "    <tr>\n",
              "      <th>1695</th>\n",
              "      <td>0</td>\n",
              "      <td>1. This request for a preliminary ruling conce...</td>\n",
              "    </tr>\n",
              "    <tr>\n",
              "      <th>1696</th>\n",
              "      <td>1</td>\n",
              "      <td>1. This request for a preliminary ruling conce...</td>\n",
              "    </tr>\n",
              "    <tr>\n",
              "      <th>1697</th>\n",
              "      <td>0</td>\n",
              "      <td>1. This request for a preliminary ruling conce...</td>\n",
              "    </tr>\n",
              "    <tr>\n",
              "      <th>1698</th>\n",
              "      <td>1</td>\n",
              "      <td>1. This request for a preliminary ruling conce...</td>\n",
              "    </tr>\n",
              "    <tr>\n",
              "      <th>1699</th>\n",
              "      <td>1</td>\n",
              "      <td>1. This reference for a preliminary ruling con...</td>\n",
              "    </tr>\n",
              "    <tr>\n",
              "      <th>1700</th>\n",
              "      <td>0</td>\n",
              "      <td>1. This request for a preliminary ruling conce...</td>\n",
              "    </tr>\n",
              "    <tr>\n",
              "      <th>1701</th>\n",
              "      <td>1</td>\n",
              "      <td>1. This request for a preliminary ruling conce...</td>\n",
              "    </tr>\n",
              "    <tr>\n",
              "      <th>1702</th>\n",
              "      <td>0</td>\n",
              "      <td>1. By its appeal, Canon Europa NV (ÂCanon Eur...</td>\n",
              "    </tr>\n",
              "    <tr>\n",
              "      <th>1703</th>\n",
              "      <td>0</td>\n",
              "      <td>1. By its appeal, Kyocera Mita Europe BV (ÂKy...</td>\n",
              "    </tr>\n",
              "  </tbody>\n",
              "</table>\n",
              "</div>\n",
              "      <button class=\"colab-df-convert\" onclick=\"convertToInteractive('df-6733202b-aecd-4104-b1e3-0913e78d538a')\"\n",
              "              title=\"Convert this dataframe to an interactive table.\"\n",
              "              style=\"display:none;\">\n",
              "        \n",
              "  <svg xmlns=\"http://www.w3.org/2000/svg\" height=\"24px\"viewBox=\"0 0 24 24\"\n",
              "       width=\"24px\">\n",
              "    <path d=\"M0 0h24v24H0V0z\" fill=\"none\"/>\n",
              "    <path d=\"M18.56 5.44l.94 2.06.94-2.06 2.06-.94-2.06-.94-.94-2.06-.94 2.06-2.06.94zm-11 1L8.5 8.5l.94-2.06 2.06-.94-2.06-.94L8.5 2.5l-.94 2.06-2.06.94zm10 10l.94 2.06.94-2.06 2.06-.94-2.06-.94-.94-2.06-.94 2.06-2.06.94z\"/><path d=\"M17.41 7.96l-1.37-1.37c-.4-.4-.92-.59-1.43-.59-.52 0-1.04.2-1.43.59L10.3 9.45l-7.72 7.72c-.78.78-.78 2.05 0 2.83L4 21.41c.39.39.9.59 1.41.59.51 0 1.02-.2 1.41-.59l7.78-7.78 2.81-2.81c.8-.78.8-2.07 0-2.86zM5.41 20L4 18.59l7.72-7.72 1.47 1.35L5.41 20z\"/>\n",
              "  </svg>\n",
              "      </button>\n",
              "      \n",
              "  <style>\n",
              "    .colab-df-container {\n",
              "      display:flex;\n",
              "      flex-wrap:wrap;\n",
              "      gap: 12px;\n",
              "    }\n",
              "\n",
              "    .colab-df-convert {\n",
              "      background-color: #E8F0FE;\n",
              "      border: none;\n",
              "      border-radius: 50%;\n",
              "      cursor: pointer;\n",
              "      display: none;\n",
              "      fill: #1967D2;\n",
              "      height: 32px;\n",
              "      padding: 0 0 0 0;\n",
              "      width: 32px;\n",
              "    }\n",
              "\n",
              "    .colab-df-convert:hover {\n",
              "      background-color: #E2EBFA;\n",
              "      box-shadow: 0px 1px 2px rgba(60, 64, 67, 0.3), 0px 1px 3px 1px rgba(60, 64, 67, 0.15);\n",
              "      fill: #174EA6;\n",
              "    }\n",
              "\n",
              "    [theme=dark] .colab-df-convert {\n",
              "      background-color: #3B4455;\n",
              "      fill: #D2E3FC;\n",
              "    }\n",
              "\n",
              "    [theme=dark] .colab-df-convert:hover {\n",
              "      background-color: #434B5C;\n",
              "      box-shadow: 0px 1px 3px 1px rgba(0, 0, 0, 0.15);\n",
              "      filter: drop-shadow(0px 1px 2px rgba(0, 0, 0, 0.3));\n",
              "      fill: #FFFFFF;\n",
              "    }\n",
              "  </style>\n",
              "\n",
              "      <script>\n",
              "        const buttonEl =\n",
              "          document.querySelector('#df-6733202b-aecd-4104-b1e3-0913e78d538a button.colab-df-convert');\n",
              "        buttonEl.style.display =\n",
              "          google.colab.kernel.accessAllowed ? 'block' : 'none';\n",
              "\n",
              "        async function convertToInteractive(key) {\n",
              "          const element = document.querySelector('#df-6733202b-aecd-4104-b1e3-0913e78d538a');\n",
              "          const dataTable =\n",
              "            await google.colab.kernel.invokeFunction('convertToInteractive',\n",
              "                                                     [key], {});\n",
              "          if (!dataTable) return;\n",
              "\n",
              "          const docLinkHtml = 'Like what you see? Visit the ' +\n",
              "            '<a target=\"_blank\" href=https://colab.research.google.com/notebooks/data_table.ipynb>data table notebook</a>'\n",
              "            + ' to learn more about interactive tables.';\n",
              "          element.innerHTML = '';\n",
              "          dataTable['output_type'] = 'display_data';\n",
              "          await google.colab.output.renderOutput(dataTable, element);\n",
              "          const docLink = document.createElement('div');\n",
              "          docLink.innerHTML = docLinkHtml;\n",
              "          element.appendChild(docLink);\n",
              "        }\n",
              "      </script>\n",
              "    </div>\n",
              "  </div>\n",
              "  "
            ]
          },
          "metadata": {},
          "execution_count": 9
        }
      ],
      "source": [
        "#-----input and creating of tensors dataset\n",
        "data = pd.read_csv(\"/content/drive/MyDrive/Judging under influence/datasets/FinalDatasetFullJudgements_NOFRENCH.csv\",index_col = 0,low_memory=False,encoding = \"ISO-8859-1\") #not utf-8 encoded\n",
        "#data = pd.read_csv(\"FinalDatasetFullJudgements_NOFRENCH.csv\",index_col = 0,low_memory=False,encoding = \"ISO-8859-1\") #not utf-8 encoded\n",
        "\n",
        "df=data.filter([\"DEF\",\"TEXT\"], axis=1)\n",
        "df=df.dropna() #non applicable deleted atm\n",
        "df[\"DEF\"]=df[\"DEF\"].astype(int)\n",
        "df.reset_index(drop=True, inplace=True) \n",
        "\n",
        "\n",
        "df.tail(20)"
      ]
    },
    {
      "cell_type": "code",
      "execution_count": null,
      "metadata": {
        "colab": {
          "base_uri": "https://localhost:8080/",
          "height": 140
        },
        "id": "6e9fOhMbBxTc",
        "outputId": "117dd94b-dff6-4675-b266-4b4b57273bba"
      },
      "outputs": [
        {
          "output_type": "execute_result",
          "data": {
            "text/plain": [
              "'1. By its appeal, Kyocera Mita Europe BV (Â\\x91Kyocera Mita EuropeÂ\\x92) seeks to have set aside the order of the General Court of the European Union of 16Â\\xa0September 2014 in Kyocera Mita Europe  v Commission  (T-35/11, EU:T:2014:795; Â\\x91the order under appealÂ\\x92), by which it declared inadmissible its action seeking the annulment in part of the annex to Commission Regulation (EU) NoÂ\\xa0861/2010 of 5Â\\xa0October 2010 amending Annex I to Council Regulation (EEC) NoÂ\\xa02658/87 on the tariff and statistical nomenclature and on the Common Customs Tariff (OJ 2010 LÂ\\xa0284, p.Â\\xa01; Â\\x91the contested regulationÂ\\x92).\\r\\nLegal context\\r\\nRegulation (EEC) NoÂ\\xa02913/922. The sixth and eighth recitals in the preamble to Council Regulation (EEC) NoÂ\\xa02913/92 of 12Â\\xa0October 1992 establishing the Community Customs Code (OJ 1992 LÂ\\xa0302, p.Â\\xa01), as amended by Council Regulation (EC) NoÂ\\xa01186/2009 of 16Â\\xa0November 2009 (OJ 2009 LÂ\\xa0324, p.Â\\xa023; Â\\x91the Customs CodeÂ\\x92) state:\\r\\nÂ\\x91Â\\x85 in view of the paramount importance of external trade for the Community, customs formalities and controls should be abolished or at least kept to a minimum;\\r\\nÂ\\x85\\r\\nÂ\\x85 in adopting the measures required to implement this Code, the utmost care must be taken to prevent any fraud or irregularity liable to affect adversely the General Budget of the European Communities Â\\x85Â\\x92.3. ArticleÂ\\xa04 of the Customs Code provides:\\r\\nÂ\\x91For the purposes of this Code, the following definitions shall apply:\\r\\nÂ\\x85\\r\\n(5) Â\\x93DecisionÂ\\x94 means any official act by the customs authorities pertaining to customs rules giving a ruling on a particular case, such act having legal effects on one or more specific or identifiable persons; this term covers, inter alia, binding information within the meaning of ArticleÂ\\xa012.\\r\\nÂ\\x85\\r\\n(17) Â\\x93Customs declarationÂ\\x94 means the act whereby a person indicates in the prescribed form and manner a wish to place goods under the common transit procedure.\\r\\nÂ\\x85\\r\\n(20) Â\\x93Release of goodsÂ\\x94 means the act whereby the customs authorities make goods available for the purposes stipulated by the customs procedure under which they are placed.\\r\\nÂ\\x85Â\\x924. ArticleÂ\\xa059(1) of that code states:\\r\\nÂ\\x91All goods intended to be placed under a customs procedure shall be covered by a declaration for that customs procedure.Â\\x925. ArticleÂ\\xa061 of that code is worded as follows:\\r\\nÂ\\x91The customs declaration shall be made:\\r\\n(a) in writing; or\\r\\n(b) using a data-processing technique where provided for by provisions laid down in accordance with the committee procedure or where authorised by the customs authorities; or\\r\\n(c) by means of a normal declaration or any other act whereby the holder of the goods expresses his wish to place them under a customs procedure, where such a possibility is provided for by the rules adopted in accordance with the committee procedure.Â\\x926. ArticleÂ\\xa062 of that code provides:\\r\\nÂ\\x911. Declarations in writing shall be made on a form corresponding to the official specimen prescribed for that purpose. They shall be signed and contain all the particulars necessary for implementation of the provisions governing the customs procedure for which the goods are declared.\\r\\n2. The declaration shall be accompanied by all the documents required for implementation of the provisions governing the customs procedure for which the goods are declared.Â\\x927. Under ArticleÂ\\xa063 of the Customs Code:\\r\\nÂ\\x91Declarations which comply with the conditions laid down in ArticleÂ\\xa062 shall be accepted by the customs authorities immediately, provided that the goods to which they refer are presented to customs.Â\\x928. ArticleÂ\\xa066 of that code is worded as follows:\\r\\nÂ\\x911. The customs authorities shall, at the request of the declarant, invalidate a declaration already accepted where the declarant furnishes proof that goods were declared in error for the customs procedure covered by that declaration or that, as a result of special circumstances, the placing of the goods under the customs procedure for which they were declared is no longer justified.\\r\\nNevertheless, where the customs authorities have informed the declarant of their intention to examine the goods, a request for invalidation of the declaration shall not be accepted until after the examination has taken place.\\r\\n2. The declaration shall not be invalidated after the goods have been released, expect in cases defined in accordance with the committee procedure.\\r\\n3. Invalidation of the declaration shall be without prejudice to the application of the penal provisions in force.Â\\x929. Under ArticleÂ\\xa073(1) of that code:\\r\\nÂ\\x91Without prejudice to ArticleÂ\\xa074, where the conditions for placing the goods under the procedure in question are fulfilled and provided the goods are not subject to any prohibitive or restrictive measures, the customs authorities shall release the goods as soon as the particulars in the declaration have been verified or accepted without verification. The same shall apply where such verification cannot be completed within a reasonable period of time and the goods are no longer required to be present for verification purposes.Â\\x9210. Under ArticleÂ\\xa074 of that code:\\r\\nÂ\\x911. Where acceptance of a customs declaration gives rise to a customs debt, the goods covered by the declaration shall not be released unless the customs debt has been paid or secured. However, without prejudice to paragraphÂ\\xa02, this provision shall not apply to the temporary importation procedure with partial relief from import duties.\\r\\n2. Where, pursuant to the provisions governing the customs procedure for which the goods are declared, the customs authorities require the provision of a security, the said goods shall not be released for the customs procedure in question until such security is provided.Â\\x9211. ArticleÂ\\xa076 of the Customs Code provides:\\r\\nÂ\\x911. In order to simplify completion of formalities and procedures as far as possible while ensuring that operations are conducted in a proper manner, the customs authorities shall, under conditions laid down in accordance with the committee procedure, grant permission for:\\r\\n(a) the declaration referred to in ArticleÂ\\xa062 to omit certain of the particulars referred to in paragraphÂ\\xa01 of that Article [or] for some of the documents referred to in paragraphÂ\\xa02 of that Article not to be attached thereto;\\r\\n(b) a commercial or administrative document, accompanied by request for the goods to be placed under the customs procedure in question, to be lodged in place of the declaration referred to in ArticleÂ\\xa062;\\r\\n(c) the goods to be entered for the procedure in question by means of an entry in the records; in this case, the customs authorities may waive the requirement that the declarant presents the goods to customs.\\r\\nThe simplified declaration, commercial or administrative document or entry in the records must contain at least the particulars necessary for identification of the goods. Where the goods are entered in the records, the date of such entry must be included.\\r\\n2. Except in cases to be determined in accordance with the committee procedure, the declarant shall furnish a supplementary declaration which may be of a general, periodic or recapitulative nature.\\r\\n3. Supplementary declarations and the simplified declarations referred to in subparagraphsÂ\\xa01(a), (b) and (c), shall be deemed to constitute a single, indivisible instrument taking effect on the date of acceptance of the simplified declarations; in the cases referred to in subparagraphÂ\\xa01(c), entry in the records shall have the same legal force as acceptance of the declaration referred to in ArticleÂ\\xa062.\\r\\n4. Special simplified procedures for the Community transit procedure shall be laid down in accordance with the committee procedure.Â\\x9212. ArticleÂ\\xa077(1) of that code is worded as follows:\\r\\nÂ\\x91Where the customs declaration is made by means of a data-processing technique within the meaning of ArticleÂ\\xa061(b), or by an oral declaration or any other act within the meaning of ArticleÂ\\xa061(c), ArticlesÂ\\xa062 to 76 shall apply mutatis mutandis  without prejudice to the principles set out therein.Â\\x9213. Under ArticleÂ\\xa078(1) of the Customs Code, in the section entitled Â\\x91Post-clearance examination of declarationsÂ\\x92:\\r\\nÂ\\x91The customs authorities may, on their own initiative or at the request of the declarant, amend the declaration after release of the goods.Â\\x9214. ArticleÂ\\xa0217(1) of that code is worded as follows:\\r\\nÂ\\x91Each and every amount of import duty or export duty resulting from a customs debt, hereinafter called Â\\x93amount of dutyÂ\\x94, shall be calculated by the customs authorities as soon as they have the necessary particulars, and entered by those authorities in the accounting records or on any other equivalent medium (entry in the accounts).\\r\\nÂ\\x85Â\\x9215. Under ArticleÂ\\xa0221(1) and (2) of the code:\\r\\nÂ\\x911. As soon as it has been entered in the accounts, the amount of duty shall be communicated to the debtor in accordance with appropriate procedures.\\r\\n2. Where the amount of duty payable has been entered, for guidance, in the customs declaration, the customs authorities may specify that it shall not be communicated in accordance with paragraphÂ\\xa01 unless the amount of duty indicated does not correspond to the amount determined by the authorities.\\r\\nÂ\\x85 [W]here use is made of the possibility provided for in the preceding subparagraph, release of the goods by the customs authorities shall be equivalent to communication to the debtor of the amount of duty entered in the accounts.Â\\x9216. Procedures for the repayment or remission of duties are governed by ArticleÂ\\xa0236 of the Customs Code, which provides as follows:\\r\\nÂ\\x911. Import duties Â\\x85 shall be repaid in so far as it is established that when they were paid the amount of such duties was not legally owed or that the amount has been entered in the accounts contrary to ArticleÂ\\xa0220(2).\\r\\nImport duties Â\\x85 shall be remitted in so far as it is established that when they were entered in the accounts the amount of such duties was not legally owed or that the amount has been entered in the accounts contrary to ArticleÂ\\xa0220(2).\\r\\nNo repayment or remission shall be granted when the facts which led to the payment or entry in the accounts of an amount which was not legally owed are the result of deliberate action by the person concerned.\\r\\n2. Import duties or export duties shall be repaid or remitted upon submission of an application to the appropriate customs office within a period of three years from the date on which the amount of those duties was communicated to the debtor.\\r\\nThat period shall be extended if the person concerned provides evidence that he was prevented from submitting his application within the said period as a result of unforeseeable circumstances or force majeure.\\r\\nWhere the customs authorities themselves discover within this period that one or other of the situations described in the first and second subparagraphs of paragraphÂ\\xa01 exists, they shall repay or remit on their own initiative.Â\\x9217. ArticlesÂ\\xa0243 to 246 of the Customs Code form Title VIII thereof, entitled Â\\x91AppealsÂ\\x92. ArticleÂ\\xa0243 is worded as follows:\\r\\nÂ\\x911. Any person shall have the right to appeal against decisions taken by the customs authorities which relate to the application of customs legislation, and which concern him directly and individually.\\r\\nAny person who has applied to the customs authorities for a decision relating to the application of customs legislation and has not obtained a ruling on that request within the period referred to in ArticleÂ\\xa06(2) shall also be entitled to exercise the right of appeal.\\r\\nThe appeal must be lodged in the Member State where the decision has been taken or applied for.\\r\\n2. The right of appeal may be exercised:\\r\\n(a) initially, before the customs authorities designated for that purpose by the Member States;\\r\\n(b) subsequently, before an independent body, which may be a judicial authority or an equivalent specialised body, according to the provisions in force in the Member States.Â\\x9218. ArticleÂ\\xa0244 of that code provides:\\r\\nÂ\\x91The submission of an appeal shall not cause implementation of the disputed decision to be suspended.\\r\\nThe customs authorities shall, however, suspend implementation of such decision in whole or in part where they have good reason to believe that the disputed decision is inconsistent with customs legislation or that irreparable damage is to be feared for the person concerned.\\r\\nWhere the disputed decision has the effect of causing import duties Â\\x85 to be charged, suspension of implementation of that decision shall be subject to the existence or lodging of a security. However, such security need not be required where such a requirement would be likely, owing to the debtorÂ\\x92s circumstances, to cause serious economic or social difficulties.Â\\x9219. ArticleÂ\\xa0245 of that code is worded as follows:\\r\\nÂ\\x91The provisions for the implementation of the appeals procedure shall be determined by the Member States.Â\\x9220. ArticleÂ\\xa0246 of that code provides:\\r\\nÂ\\x91This title shall not apply to appeals lodged with a view to the annulment or revision of a decision taken by the customs authorities on the basis of criminal law.Â\\x92\\r\\nThe contested regulation21. Council Regulation (EEC) NoÂ\\xa02658/87 of 23Â\\xa0July 1987 on the tariff and statistical nomenclature and on the Common Customs Tariff (OJ 1987 LÂ\\xa0256, p.Â\\xa01) put in place a complete nomenclature of products imported and exported in the European Union. That combined nomenclature is in Annex I to that regulation.22. In accordance with ArticleÂ\\xa012(1) of Regulation NoÂ\\xa02658/87, the Commission is to adopt each year by means of a regulation a complete version of the Combined Nomenclature together with the rates of excise duty, as it results from measures adopted by the Council of the European Union or by the Commission. That regulation is to apply from 1 January of the following year.23. Thus, the Combined Nomenclature was replaced, with effect from 1Â\\xa0January 2011, by that in the annex to the contested regulation (Â\\x91the CNÂ\\x92).24. Subheading 8443 31 of the CN, included in Chapter 84 thereof, concerns multifunctional machines, that is to say printers, copying or facsimile machines which Â\\x91perform two or more of the functions of printing, copying or facsimile transmission, capable of connecting to an automatic data-processing machine or to a networkÂ\\x92 (Â\\x91MFMsÂ\\x92). That subheading includes the following three subdivisions:\\r\\n>lt>825. Under the CN, the import of MFMs falling within code 8443Â\\xa031Â\\xa091 is subject to a Â\\x91conventional dutyÂ\\x92 the rate of which is 6%. However, MFMs falling within the two other subdivisions of subheading 8443 31 of the CN benefit from an exemption.\\r\\nThe procedure before the General Court and the order under appeal26. By application registered at the Registry of the General Court on 24Â\\xa0January 2011, Kyocera Mita Europe, a company importing and distributing in the EU digital office equipment, in particular MFMs, brought an action seeking the annulment in part of the contested regulation, being of the view, inter alia, that that regulation was invalid in that it amended the rates of customs duty applicable to certain MFMs.27. By a document registered at the Registry of the General Court on 14Â\\xa0April 2011, the Commission raised a plea of inadmissibility under ArticleÂ\\xa0114 of the Rules of Procedure of the General Court on the ground, in essence, that the contested regulation did not directly affect Kyocera Mita Europe and that, in any event, that regulation entailed implementing measures. Furthermore, Kyocera Mita Europe accepted that the contested regulation was not addressed to it and that it was not individually affected by it. Accordingly, in the view of the Commission, it did not have standing to bring proceedings under the fourth paragraph of ArticleÂ\\xa0263 TFEU. Kyocera Mita Europe submitted its observations on that plea of inadmissibility on 8Â\\xa0June 2011.28. Under ArticleÂ\\xa0114(4) of the Rules of Procedure of the General Court, that Court decided to rule on the plea of inadmissibility raised by the Commission without examining the substance of the case.29. In the order under appeal, the General Court dismissed the action as inadmissible. In paragraphÂ\\xa047 of that order, it held that the introduction of subdivisions in a subheading of the Combined Nomenclature such as that effected by the contested regulation was liable to produce real and definitive legal effects on the situation of importers only through the intervention of individual measures taken by the national customs authorities following submission of the customs declaration, since those measures could, depending on the case, lead to the release of the goods or the communication to the debtor of the amount of duty payable.30. The General Court thus decided, in paragraphÂ\\xa055 of the order under appeal, that the contested regulation did not constitute a regulatory act which does not entail implementing measures within the meaning of the fourth paragraph of ArticleÂ\\xa0263 TFEU and that since Kyocera Mita Europe was not able to show that it was individually concerned by the provisions of the contested regulation which it challenged, it did not have standing to bring an action for the annulment of those provisions.\\r\\nForms of order sought by the parties and the procedure before the Court of Justice31. Kyocera Mita Europe claims that the Court of Justice should:\\r\\nÂ\\x96 hold that the appeal is admissible and set aside the order under appeal;\\r\\nÂ\\x96 refer the action back to the General Court for the dispute to be decided on the merits; and\\r\\nÂ\\x96 order the Commission to pay all the costs at first instance and on appeal.32. The Commission contends that the Court of Justice should:\\r\\nÂ\\x96 dismiss the appeal; and\\r\\nÂ\\x96 order Kyocera Mita Europe to pay the costs of the proceedings.33. By order of 19Â\\xa0December 2011, the President of the Court of Justice decided to join Cases C-552/14Â\\xa0P and C-553/14Â\\xa0P for the purposes of the written procedure and the oral procedure. He granted the appellantÂ\\x92s application not to join the cases for the purposes of the judgment.\\r\\nThe appeal34. By its single ground of appeal, divided into five parts, Kyocera Mita Europe argues that the General Court erred in law in its interpretation and application of ArticleÂ\\xa0263 TFEU in that it concluded that the contested regulation entailed implementing measures within the meaning of that provision.35. The first and second parts of the ground of appeal should be examined together.\\r\\nThe first and second parts\\r\\nArguments of the parties36. By the first part of its ground of appeal, Kyocera Mita Europe submits that, in paragraphsÂ\\xa035 and 36 and 38 to 46 of the order under appeal, the General Court erred in law by imprecisely identifying or interpreting the conditions which must, in law, be satisfied by the contested regulation to entail implementing measures.37. Kyocera Mita Europe is of the opinion that the General Court was incorrect to hold that the contested regulation did not produce concrete and definitive effects with regard to it and that any obligation following from the contested regulation had to take the form of a decision concerning the tariff classification. Kyocera Mita Europe submits that the tariff classification of the MFMs and the obligations which follow therefrom with regard to it are clearly provided for in the contested regulation and that accordingly it is not necessary for the measures to be taken to tailor the effects of that regulation to it. Furthermore, in the view of the appellant, implementing measures, within the meaning of ArticleÂ\\xa0263 TFEU, cannot constitute optional measures. The checks carried out by the customs authorities are optional and therefore irrelevant to the examination of the admissibility of the action for annulment.38. According to Kyocera Mita Europe, the General CourtÂ\\x92s analysis of the various stages of the import procedure is also irrelevant. In any event, the General Court erred in law by mixing the existence and the recovery of the customs debt. In that regard, Kyocera Mita Europe submits that it is the acceptance of the customs declaration which crystallises the effects of the contested regulation and that, since the General Court accepted that that acceptance did not constitute an implementing measure within the meaning of ArticleÂ\\xa0263 TFEU, that regulation therefore produces concrete and definitive obligations, while not entailing implementing measures.39. By the second part of its ground of appeal, Kyocera Mita Europe argues that, in paragraphsÂ\\xa042 to 47 of the order under appeal, the General Court erred in law and gave contradictory and insufficient reasons for its decision when declaring that the release of the goods and the communication of the amount of the duties to be paid constituted decisions concerning the tariff classification.40. Kyocera Mita Europe submits that the General CourtÂ\\x92s reasoning is contradictory, given that it does not give the same reasons for its decision, as regards the release of the goods, as those in paragraphÂ\\xa039 of the order under appeal, according to which acceptance of the customs declaration does not imply any decision. Furthermore, Kyocera Mita Europe is of the view that the General Court does not explain on what basis the release of the goods constitutes a decision concerning tariff classification and, in paragraphsÂ\\xa041 and 43 of the order under appeal, seems only to suppose that to be the case, which equates to a failure to state reasons.41. In addition, it follows from the first subparagraph of ArticleÂ\\xa0221(2) of the Customs Code that the communication of the amount of the duties to be paid is not always made. Accordingly, if the release of the goods is the only act adopted and if it does not constitute a decision concerning tariff classification, Kyocera Mita Europe argues that there is no decision concerning tariff classification for the goods in that hypothetical case. Furthermore, the mere Â\\x91agreementÂ\\x92 of the customs authorities on the tariff classification, as set out in paragraphÂ\\xa043 of the order under appeal, cannot constitute such a decision.42. In any event, Kyocera Mita Europe submits that the General Court erred in law, given that ArticlesÂ\\xa0217(1) and 221 of the Customs Code are not such as to establish that the communication of the amount of the duties to be paid contains a decision concerning the tariff classification of the goods in question.43. The Commission disputes Kyocera Mita EuropeÂ\\x92s line of argument.\\r\\nFindings of the Court44. It must be borne in mind that, in order to assess whether a regulatory act entails implementing measures, it should be assessed by reference to the position of the person pleading the right to bring proceedings under the final limb of the fourth paragraph of ArticleÂ\\xa0263 TFEU. It is therefore irrelevant whether the act in question entails implementing measures with regard to other persons (judgments in TelefÃ³nica  v Commission , C-274/12Â\\xa0P, EU:C:2013:852, paragraphÂ\\xa030, and T & L Sugars and Sidul AÃ§Ãºcares  v Commission , C-456/13Â\\xa0P, EU:C:2015:284, paragraphÂ\\xa032).45. In addition, in that assessment, reference should be made exclusively to the subject-matter of the action and, where an applicant seeks only the partial annulment of an act, it is solely any implementing measures which that part of the act may entail that must, as the case may be, be taken into consideration (judgment in TelefÃ³nica  v Commission , C-274/12Â\\xa0P, EU:C:2013:852, paragraphÂ\\xa031, and order in Forgital Italy  v Council , C-84/14Â\\xa0P, EU:C:2015:517, paragraphÂ\\xa052).46. The Court has, moreover, held that it is irrelevant to ascertaining whether or not those measures are mechanical in nature (see, to that effect, judgment in T & L Sugars and Sidul AÃ§Ãºcares  v Commission , C-456/13Â\\xa0P, EU:C:2015:284, paragraphsÂ\\xa041 and 42).47. In the present case, in order to determine whether the contested regulation entails implementing measures, it is necessary to ascertain whether that regulation, in particular the part of its annex concerned by the appellantÂ\\x92s imports, determines itself the tariff classification of the MFMs imported by Kyocera Mita Europe and, accordingly, the duties applicable on their import or whether a decision of an administrative authority is needed for the purposes of that classification.48. In that regard, in paragraphsÂ\\xa035 and 36 of the order under appeal, the General Court rightly held that, although the contested regulation requires Kyocera Mita Europe to state, in its customs declarations, the subdivisions of subheading 8443 31 when importing MFMs, that regulation does not, however, imply either a decision as regards the tariff classification stated by Kyocera Mita Europe in its customs declaration or, in consequence, a decision on the amount of customs duties which may be due.49. The customs system, as instituted by the Customs Code and of which the contested regulation forms part, provides that the receipt of duties fixed by the latter regulation is carried out, in all cases, on the basis of measures adopted by the national authorities.50. Clearly, therefore, ArticleÂ\\xa0221(1) of the Customs Code provides that Â\\x91[a]s soon as it has been entered in the accounts, the amount of duty shall be communicated to the debtorÂ\\x92. The communication allows persons liable for customs debts to have full knowledge of their rights (see, to that effect, judgment in Molenbergnatie , C-201/04, EU:C:2006:136, paragraphÂ\\xa053). By communicating the amount of the duty payable, the customs authorities thus communicate their decision concerning the tariff classification stated by the debtor in its customs declaration. In addition, that communication enables the debtor, as necessary, to defend his rights (see, to that effect, judgment in Direct Parcel Distribution Belgium , C-264/08, EU:C:2010:43, paragraphÂ\\xa029).51. Accordingly, the General Court was right to hold, in paragraphÂ\\xa042 of the judgment under appeal, that the communication of the amount of duty contains a decision concerning the tariff classification of the goods concerned.52. Furthermore, by holding that, under ArticleÂ\\xa0221(2) of the Customs Code, the release of the goods can be equated to the communication of the amount of the duty, the General Court merely read that provision and, in so doing, gave reasons sufficient in law for its decision that the release of the goods could also constitute a decision concerning the tariff classification (see, to that effect, order in Forgital Italy  v Council , C-84/14Â\\xa0P, EU:C:2015:517, paragraphsÂ\\xa061 and 62).53. Contrary to the appellantÂ\\x92s submissions, the acceptance of a customs declaration does not Â\\x91bring into beingÂ\\x92 the effects of the contested regulation in so far as, firstly, such an acceptance does not equate to a decision concerning the tariff classification of the goods in question and, secondly, it does not determine the duty to which the import of those goods is subject. When a customs declaration is accepted, the customs authorities do not take a decision on the accuracy of the information provided by the declarant, but merely verifies that the conditions laid down in ArticlesÂ\\xa062 and 63 of the Customs Code have been satisfied (see, to that effect, judgment in DP grup , C-138/10, EU:C:2011:587, paragraphÂ\\xa039).54. The appellantÂ\\x92s argument that the implementing measures, within the meaning of ArticleÂ\\xa0263 TFEU, should not constitute optional measures such as the checks carried out by the customs authorities cannot succeed. It must be noted that the General Court does not state at all in the order under appeal that those checks imply a decision concerning the tariff classification of the goods imported, such as indicated in the customs declaration and that such checks constitute, accordingly, implementing measures within the meaning of ArticleÂ\\xa0263 TFEU.55. Consequently, it must be held that the General Court was correct to decide that the contested regulation entailed implementing measures after having shown that, depending on the situation, the communication to the debtor of the amount of duty or the grant of the release of the goods implies a decision concerning the tariff classification of the goods in question.56. It follows that the first and second parts of the single ground of appeal must be rejected as unfounded.\\r\\nThe third part\\r\\nArguments of the parties57. By the third part of its ground of appeal, Kyocera Mita Europe submits that the General Court, in paragraphÂ\\xa052 of the order under appeal, erred in law and failed to state sufficient reasons for the finding that the release of the goods or the communication of the amount of duty payable had legal effects and ought to be open to challenge at national level.58. Kyocera Mita Europe submits, in particular, that the General Court is wrong to assume that any act which produces certain effects is necessarily open to challenge. According to the appellant, neither the release of the goods nor the communication of the amount of the duty payable is such as to change its legal position since they are not acts requiring an assessment on the part of the customs administration open to challenge. It argues that the only way to obtain a decision open to challenge would be to submit an incorrect declaration and thus to contravene the law.59. Kyocera Mita Europe also notes that it cannot challenge an act which simply confirms what it has stated in its customs declaration and argues that, from the point of view of both national and EU law, confirmatory acts cannot be challenged.60. The Commission disputes Kyocera Mita EuropeÂ\\x92s line of argument.\\r\\nFindings of the Court61. It must be borne in mind that where a regulatory act entails implementing measures, judicial review of compliance with the EU legal order was ensured irrespective of whether those measures were adopted by the European Union or the Member States. Natural or legal persons who are unable, because of the conditions governing admissibility laid down in the fourth paragraph of ArticleÂ\\xa0263 TFEU, to challenge a regulatory act of the European Union directly before the EU judicature are protected against the application to them of such an act by the ability to challenge the implementing measures which the act entails (judgments in TelefÃ³nica  v Commission , C-274/12Â\\xa0P, EU:C:2013:852, paragraphÂ\\xa028, and T & L Sugars and Sidul AÃ§Ãºcares  v Commission , C-456/13Â\\xa0P, EU:C:2015:284, paragraphÂ\\xa030).62. In that regard, it must be borne in mind that the second subparagraph of ArticleÂ\\xa019(1) TEU states that Member States are to provide remedies sufficient to ensure effective legal protection in the fields covered by EU law.63. Thus, as the General Court rightly points out in paragraphÂ\\xa051 of the order under appeal, secondary EU law has expressly prescribed the remedy available to import duty debtors who consider that such duties have been wrongly imposed on them by the customs authorities. That remedy is exercisable at national level, in accordance with the appeals procedure implemented by the Member State in question in compliance with the principles set out in ArticlesÂ\\xa0243 to 246 of the Customs Code which form Title VIII of that code.64. Accordingly, and in the light of the findings made in respect of the first and second parts of this ground of appeal, it must be held that, in paragraphÂ\\xa052 of the order under appeal, the General Court correctly decided that the release of the goods or, depending on the case, the communication of the amount of duty payable, being implementing measures within the meaning of the fourth paragraph of ArticleÂ\\xa0263 TFEU, must be open to challenge at national level.65. Furthermore, paragraphÂ\\xa052 of the order under appeal must be read in conjunction with the preceding paragraphsÂ\\xa050 and 51. That reading enables it to be found that the General Court gave reasons sufficient in law for the considerations in paragraphÂ\\xa052 thereof which are disputed by the appellant.66. Furthermore, with regard to the appellantÂ\\x92s assertion that it cannot challenge an act which confirms information which it gave in its customs declaration, it suffices to note that the fact that a decision concerning the tariff classification of imported goods repeats information provided by the importer in its declaration does not make that decision a confirmatory act, since that presupposes the existence of a prior decision and so does not deprive it of its challengeable nature (see, to that effect, order Forgital Italy  v Council , C-84/14Â\\xa0P, EU:C:2015:517, paragraphsÂ\\xa060 to 62).67. Accordingly, the third part of the single ground of appeal is unfounded.\\r\\nThe fourth part\\r\\nArguments of the parties68. By the fourth part of its ground of appeal, Kyocera Mita Europe argues that the General Court erred in law and failed to state reasons sufficient in law for the consideration in paragraphÂ\\xa054 of the order under appeal that the use of simplified procedures or data-processing techniques did not permit any derogation from the powers devolved to national authorities and that, in that case, the contested regulation also entailed implementing measures.69. Kyocera Mita Europe submits that since simplified procedures, provided for in particular in ArticleÂ\\xa076 of the Customs Code, and data-processing techniques, referred to in particular in ArticleÂ\\xa061(b) of that code, were used for the import of goods into the European Union, the admissibility of the action should be examined in the sole light of the provisions applicable to the procedures and techniques in question and that, accordingly, the review carried out by the General Court in the light of the normal customs procedure could not enable it to be determined whether Kyocera Mita Europe had standing to bring an action, within the meaning of ArticleÂ\\xa0263 TFEU. That review ought to have taken account of the substantive differences between the simplified procedures and data-processing techniques used by Kyocera Mita Europe.70. Moreover, Kyocera Mita Europe is of the opinion that the General Court, in paragraphÂ\\xa054 of the order under appeal, fails to identify the simplified customs formalities and merely cites the order in BSI  v Council (T-551/11, EU:T:2013:60) which does not concern the procedures referred to in ArticlesÂ\\xa061 and 76 of the Customs Code, with the result that it fails to give reasons sufficient in law in that regard.71. The Commission disputes Kyocera Mita EuropeÂ\\x92s line of argument.\\r\\nFindings of the Court72. With regard to the General CourtÂ\\x92s statement, in paragraphÂ\\xa054 of the order under appeal, that the use of simplified procedures does not mean that no measure is adopted by the customs authorities, it is clear from the sixth and eighth recitals in the preamble to the Customs Code that the aim of the simplified customs procedures is that Â\\x91customs formalities and controls should be Â\\x85 kept to a minimumÂ\\x92 whilst ensuring that the simplifications provided for are not liable to affect adversely the customs interests of the European Union (see, to that effect, judgment in GÃ¶ritz Intransco International , C-292/96, EU:C:1998:8, paragraphÂ\\xa022). The use of data-processing techniques, which is part of the wish to simplify customs procedures, meets the same objective.73. There is nothing in ArticleÂ\\xa076 of the Customs Code, which lays down procedures simplifying the formalities relating to the customs declaration or, more generally, in that code which leads to the conclusion that the use of those simplified procedures has the result that no decision concerning the tariff classification of the imported goods as regards the declarant. That article states, furthermore, that that simplification of the procedure is made Â\\x91while ensuring that operations are conducted in a proper mannerÂ\\x92.74. It is also appropriate to deduce from the wording of ArticleÂ\\xa061 of the Customs Cost that the customs declaration made by means of a data-processing technique is equivalent to that made in writing. ArticleÂ\\xa077 of the Customs Code provides, in that regard, that, where the customs declaration is made by means of a data-processing technique, ArticlesÂ\\xa062 to 76, dealing with declarations made in writing, are to apply mutatis mutandis  without prejudice to the principles set out therein.75. Moreover, it must be noted that ArticleÂ\\xa078 of the Customs Code, which allows national customs authorities to make post-clearance checks of the declarations, makes no distinction between the declarations made under the normal procedure and those made under the simplified procedure or using data-processing techniques.76. It follows from the foregoing considerations that the aim of using simplified procedures and data-processing techniques is not to derogate from the powers conferred on the national customs authorities but to facilitate the customs formalities, particularly in order to accelerate the transport of goods.77. Thus, it was without erring in law that the General Court held that the use of simplified procedures or data-processing techniques did not permit derogations from the powers devolved to the national authorities and that the contested regulation entailed implementing measures.78. Concerning the allegation that reasons insufficient in law are given for the considerations in paragraphÂ\\xa054 of the order under appeal, it must be borne in mind that, in accordance with the settled case-law of the Court of Justice, the duty of the General Court to state reasons for its judgments does not require it to provide a statement of reasons which follows, exhaustively and one by one, all the arguments put forward by the parties to the dispute. The reasoning may therefore be implied, on condition that it enables the persons concerned to understand the grounds of the General CourtÂ\\x92s judgment and provides the Court of Justice with sufficient evidence to exercise its powers of review on appeal (see, inter alia, judgments in A2A  v Commission , C-318/09Â\\xa0P, EU:C:2011:856, paragraphÂ\\xa097, and Greece  v Commission , C-391/13Â\\xa0P, EU:C:2014:2061, paragraphÂ\\xa058).79. Although the General Court, in paragraphÂ\\xa054 of the order under appeal, does not identify in detail the formalities to the simplification of which it refers, it is nevertheless appropriate to note that the appellant, at first instance, raised the fact that its declarations had been made using the simplified procedure and using a data-processing technique. It follows that the General Court was clearly referring to those formalities.80. With respect to the reference in paragraphÂ\\xa054 of the order under appeal to the order in BSI  v Council (T-551/11, EU:T:2013:60), although it is true that that order did not refer to ArticlesÂ\\xa061 and 76 of the Customs Code but to ArticleÂ\\xa0221 of that code, the reference in paragraphÂ\\xa049 of that precedent, which states that the simplification of a customs procedure does not mean that no measure is adopted by the customs authorities, is relevant to the present case since such a consideration applies to both the simplification provided for in ArticleÂ\\xa0221 of the Customs Code and to the simplifications referred to in ArticlesÂ\\xa061 and 76 of that code.81. Accordingly, Kyocera Mita EuropeÂ\\x92s argument that reasons insufficient in law have been given for the General CourtÂ\\x92s considerations in paragraphÂ\\xa054 of the order under appeal is unfounded.82. It follows that the fourth part of the single ground of appeal is unfounded.\\r\\nThe fifth part\\r\\nArguments of the parties83. By the fifth part of its ground of appeal, Kyocera Mita Europe submits that the General Court erred in law, in paragraphÂ\\xa053 of the order under appeal, by taking into account the request to invalidate a customs declaration, provided for in ArticleÂ\\xa066 of the Customs Code, or the request for reimbursement of the duty, provided for in ArticleÂ\\xa0236 of that code, as factors relevant to ascertaining whether the contested regulation entailed implementing measures.84. Kyocera Mita Europe submits that those requests are optional procedures and that the aim of the criterion laid down in ArticleÂ\\xa0263 TFEU is not to seek every national measure open to challenge before the national courts. Furthermore, those procedures are not necessary in order for the contested regulation to produce effects.85. The Commission disputes Kyocera Mita EuropeÂ\\x92s line of argument.\\r\\nFindings of the Court86. It is apparent from paragraphÂ\\xa052 of the order under appeal that the General Court held that there were procedures for appeal at national level available to the appellant to challenge the tariff classification made following its customs declaration. In paragraphÂ\\xa053 of that order, the General Court set out the courses of action open to the appellant to challenge national implementing measures, such as the procedures for the invalidation of a customs declaration and for reimbursement of duty paid. That indication serves only to illustrate the conclusions reached by the General Court in paragraphsÂ\\xa051 and 52 of the order under appeal.87. It was thus for the sake of completeness that the General Court noted, in paragraphÂ\\xa053 of the order under appeal, that an importer could rely on ArticlesÂ\\xa066 or 236 of the Customs Code to show that it had available to it measures enabling it to mount a challenge at national level.88. In accordance with the settled case-law of the Court, complaints directed against the grounds of a decision of the General Court included purely for the sake of completeness cannot lead to the decision being set aside and are therefore nugatory (judgments in Dansk RÃ¸rindustri and Others  v Commission , C-189/02Â\\xa0P, C-202/02Â\\xa0P, C-205/02Â\\xa0P to C-208/02Â\\xa0P and C-213/02Â\\xa0P, EU:C:2005:408, paragraphÂ\\xa0148, and WÃ¼nsche Handelsgesellschaft International  v Commission , C-7/14Â\\xa0P, EU:C:2015:205, paragraphÂ\\xa072).89. In those circumstances, the fifth part of the single ground of appeal must be rejected as nugatory and the single ground of appeal must be rejected in its entirety as being in part unfounded and in part nugatory.90. It follows from all the foregoing considerations that the present appeal must be dismissed in its entirety.\\r\\nCosts91. In accordance with ArticleÂ\\xa0184(2) of the Rules of Procedure of the Court of Justice, where the appeal is unfounded, the Court shall make a decision as to costs. Under ArticleÂ\\xa0138(1) of those rules, which apply to the procedure on appeal by virtue of ArticleÂ\\xa0184(1) thereof, the unsuccessful party must be ordered to pay the costs if they have been applied for in the successful partyÂ\\x92s pleadings. As the Commission has applied for costs and Kyocera Mita Europe has been unsuccessful, the appellant must be ordered to pay the costs relating to the present proceedings.'"
            ],
            "application/vnd.google.colaboratory.intrinsic+json": {
              "type": "string"
            }
          },
          "metadata": {},
          "execution_count": 10
        }
      ],
      "source": [
        "df.iloc[1703].TEXT"
      ]
    },
    {
      "cell_type": "code",
      "execution_count": null,
      "metadata": {
        "colab": {
          "base_uri": "https://localhost:8080/",
          "height": 424
        },
        "id": "tm-rtKP9P-mX",
        "outputId": "4f2f6ac2-527b-4e23-e7b5-3266d895c60b"
      },
      "outputs": [
        {
          "output_type": "execute_result",
          "data": {
            "text/plain": [
              "      DEF                                               TEXT  \\\n",
              "0       0  1 . THE MEANING OF THE FIRST PARAGRAPH OF ARTI...   \n",
              "1       1  1 . THE QUESTION PUT BY THAT COURT REQUESTS TH...   \n",
              "2       0  1 . THE QUESTION ASKED BY THE SAID COURT FIRST...   \n",
              "3       0  1 . IT APPEARS FROM THE INFORMATION SUPPLIED B...   \n",
              "4       0  1 . THE FIRST AND SECOND QUESTIONS\\r\\nIN ITS F...   \n",
              "...   ...                                                ...   \n",
              "1699    1  1. This reference for a preliminary ruling con...   \n",
              "1700    0  1. This request for a preliminary ruling conce...   \n",
              "1701    1  1. This request for a preliminary ruling conce...   \n",
              "1702    0  1. By its appeal, Canon Europa NV (ÂCanon Eur...   \n",
              "1703    0  1. By its appeal, Kyocera Mita Europe BV (ÂKy...   \n",
              "\n",
              "                                             CLEAN_TEXT  \n",
              "0     the meaning of the first paragraph of article ...  \n",
              "1     the question put by that court requests the co...  \n",
              "2     the question asked by the said court first req...  \n",
              "3     it appears from the information supplied by th...  \n",
              "4     the first and second questions in its first qu...  \n",
              "...                                                 ...  \n",
              "1699  this reference for a preliminary ruling concer...  \n",
              "1700  this request for a preliminary ruling concerns...  \n",
              "1701  this request for a preliminary ruling concerns...  \n",
              "1702  by its appeal canon europa nv â canon europaâ ...  \n",
              "1703  by its appeal kyocera mita europe bv â kyocera...  \n",
              "\n",
              "[1704 rows x 3 columns]"
            ],
            "text/html": [
              "\n",
              "  <div id=\"df-3a5aab0a-55e6-4fee-891b-ea55ebcda13c\">\n",
              "    <div class=\"colab-df-container\">\n",
              "      <div>\n",
              "<style scoped>\n",
              "    .dataframe tbody tr th:only-of-type {\n",
              "        vertical-align: middle;\n",
              "    }\n",
              "\n",
              "    .dataframe tbody tr th {\n",
              "        vertical-align: top;\n",
              "    }\n",
              "\n",
              "    .dataframe thead th {\n",
              "        text-align: right;\n",
              "    }\n",
              "</style>\n",
              "<table border=\"1\" class=\"dataframe\">\n",
              "  <thead>\n",
              "    <tr style=\"text-align: right;\">\n",
              "      <th></th>\n",
              "      <th>DEF</th>\n",
              "      <th>TEXT</th>\n",
              "      <th>CLEAN_TEXT</th>\n",
              "    </tr>\n",
              "  </thead>\n",
              "  <tbody>\n",
              "    <tr>\n",
              "      <th>0</th>\n",
              "      <td>0</td>\n",
              "      <td>1 . THE MEANING OF THE FIRST PARAGRAPH OF ARTI...</td>\n",
              "      <td>the meaning of the first paragraph of article ...</td>\n",
              "    </tr>\n",
              "    <tr>\n",
              "      <th>1</th>\n",
              "      <td>1</td>\n",
              "      <td>1 . THE QUESTION PUT BY THAT COURT REQUESTS TH...</td>\n",
              "      <td>the question put by that court requests the co...</td>\n",
              "    </tr>\n",
              "    <tr>\n",
              "      <th>2</th>\n",
              "      <td>0</td>\n",
              "      <td>1 . THE QUESTION ASKED BY THE SAID COURT FIRST...</td>\n",
              "      <td>the question asked by the said court first req...</td>\n",
              "    </tr>\n",
              "    <tr>\n",
              "      <th>3</th>\n",
              "      <td>0</td>\n",
              "      <td>1 . IT APPEARS FROM THE INFORMATION SUPPLIED B...</td>\n",
              "      <td>it appears from the information supplied by th...</td>\n",
              "    </tr>\n",
              "    <tr>\n",
              "      <th>4</th>\n",
              "      <td>0</td>\n",
              "      <td>1 . THE FIRST AND SECOND QUESTIONS\\r\\nIN ITS F...</td>\n",
              "      <td>the first and second questions in its first qu...</td>\n",
              "    </tr>\n",
              "    <tr>\n",
              "      <th>...</th>\n",
              "      <td>...</td>\n",
              "      <td>...</td>\n",
              "      <td>...</td>\n",
              "    </tr>\n",
              "    <tr>\n",
              "      <th>1699</th>\n",
              "      <td>1</td>\n",
              "      <td>1. This reference for a preliminary ruling con...</td>\n",
              "      <td>this reference for a preliminary ruling concer...</td>\n",
              "    </tr>\n",
              "    <tr>\n",
              "      <th>1700</th>\n",
              "      <td>0</td>\n",
              "      <td>1. This request for a preliminary ruling conce...</td>\n",
              "      <td>this request for a preliminary ruling concerns...</td>\n",
              "    </tr>\n",
              "    <tr>\n",
              "      <th>1701</th>\n",
              "      <td>1</td>\n",
              "      <td>1. This request for a preliminary ruling conce...</td>\n",
              "      <td>this request for a preliminary ruling concerns...</td>\n",
              "    </tr>\n",
              "    <tr>\n",
              "      <th>1702</th>\n",
              "      <td>0</td>\n",
              "      <td>1. By its appeal, Canon Europa NV (ÂCanon Eur...</td>\n",
              "      <td>by its appeal canon europa nv â canon europaâ ...</td>\n",
              "    </tr>\n",
              "    <tr>\n",
              "      <th>1703</th>\n",
              "      <td>0</td>\n",
              "      <td>1. By its appeal, Kyocera Mita Europe BV (ÂKy...</td>\n",
              "      <td>by its appeal kyocera mita europe bv â kyocera...</td>\n",
              "    </tr>\n",
              "  </tbody>\n",
              "</table>\n",
              "<p>1704 rows × 3 columns</p>\n",
              "</div>\n",
              "      <button class=\"colab-df-convert\" onclick=\"convertToInteractive('df-3a5aab0a-55e6-4fee-891b-ea55ebcda13c')\"\n",
              "              title=\"Convert this dataframe to an interactive table.\"\n",
              "              style=\"display:none;\">\n",
              "        \n",
              "  <svg xmlns=\"http://www.w3.org/2000/svg\" height=\"24px\"viewBox=\"0 0 24 24\"\n",
              "       width=\"24px\">\n",
              "    <path d=\"M0 0h24v24H0V0z\" fill=\"none\"/>\n",
              "    <path d=\"M18.56 5.44l.94 2.06.94-2.06 2.06-.94-2.06-.94-.94-2.06-.94 2.06-2.06.94zm-11 1L8.5 8.5l.94-2.06 2.06-.94-2.06-.94L8.5 2.5l-.94 2.06-2.06.94zm10 10l.94 2.06.94-2.06 2.06-.94-2.06-.94-.94-2.06-.94 2.06-2.06.94z\"/><path d=\"M17.41 7.96l-1.37-1.37c-.4-.4-.92-.59-1.43-.59-.52 0-1.04.2-1.43.59L10.3 9.45l-7.72 7.72c-.78.78-.78 2.05 0 2.83L4 21.41c.39.39.9.59 1.41.59.51 0 1.02-.2 1.41-.59l7.78-7.78 2.81-2.81c.8-.78.8-2.07 0-2.86zM5.41 20L4 18.59l7.72-7.72 1.47 1.35L5.41 20z\"/>\n",
              "  </svg>\n",
              "      </button>\n",
              "      \n",
              "  <style>\n",
              "    .colab-df-container {\n",
              "      display:flex;\n",
              "      flex-wrap:wrap;\n",
              "      gap: 12px;\n",
              "    }\n",
              "\n",
              "    .colab-df-convert {\n",
              "      background-color: #E8F0FE;\n",
              "      border: none;\n",
              "      border-radius: 50%;\n",
              "      cursor: pointer;\n",
              "      display: none;\n",
              "      fill: #1967D2;\n",
              "      height: 32px;\n",
              "      padding: 0 0 0 0;\n",
              "      width: 32px;\n",
              "    }\n",
              "\n",
              "    .colab-df-convert:hover {\n",
              "      background-color: #E2EBFA;\n",
              "      box-shadow: 0px 1px 2px rgba(60, 64, 67, 0.3), 0px 1px 3px 1px rgba(60, 64, 67, 0.15);\n",
              "      fill: #174EA6;\n",
              "    }\n",
              "\n",
              "    [theme=dark] .colab-df-convert {\n",
              "      background-color: #3B4455;\n",
              "      fill: #D2E3FC;\n",
              "    }\n",
              "\n",
              "    [theme=dark] .colab-df-convert:hover {\n",
              "      background-color: #434B5C;\n",
              "      box-shadow: 0px 1px 3px 1px rgba(0, 0, 0, 0.15);\n",
              "      filter: drop-shadow(0px 1px 2px rgba(0, 0, 0, 0.3));\n",
              "      fill: #FFFFFF;\n",
              "    }\n",
              "  </style>\n",
              "\n",
              "      <script>\n",
              "        const buttonEl =\n",
              "          document.querySelector('#df-3a5aab0a-55e6-4fee-891b-ea55ebcda13c button.colab-df-convert');\n",
              "        buttonEl.style.display =\n",
              "          google.colab.kernel.accessAllowed ? 'block' : 'none';\n",
              "\n",
              "        async function convertToInteractive(key) {\n",
              "          const element = document.querySelector('#df-3a5aab0a-55e6-4fee-891b-ea55ebcda13c');\n",
              "          const dataTable =\n",
              "            await google.colab.kernel.invokeFunction('convertToInteractive',\n",
              "                                                     [key], {});\n",
              "          if (!dataTable) return;\n",
              "\n",
              "          const docLinkHtml = 'Like what you see? Visit the ' +\n",
              "            '<a target=\"_blank\" href=https://colab.research.google.com/notebooks/data_table.ipynb>data table notebook</a>'\n",
              "            + ' to learn more about interactive tables.';\n",
              "          element.innerHTML = '';\n",
              "          dataTable['output_type'] = 'display_data';\n",
              "          await google.colab.output.renderOutput(dataTable, element);\n",
              "          const docLink = document.createElement('div');\n",
              "          docLink.innerHTML = docLinkHtml;\n",
              "          element.appendChild(docLink);\n",
              "        }\n",
              "      </script>\n",
              "    </div>\n",
              "  </div>\n",
              "  "
            ]
          },
          "metadata": {},
          "execution_count": 11
        }
      ],
      "source": [
        "import nltk\n",
        "from nltk.tokenize import RegexpTokenizer\n",
        "\n",
        "def remove_punctuation_numbers(input_text):\n",
        "    '''\n",
        "    Function to remove English stopwords from a Pandas Series using NLTK.\n",
        "    \n",
        "    Parameters:\n",
        "        input_text : text to clean as pandas series\n",
        "    Output:\n",
        "        cleaned Pandas Series \n",
        "    '''\n",
        "    \n",
        "    \n",
        "    #select only the text, no puctuation\n",
        "    tokenizer = RegexpTokenizer(r'\\w+')\n",
        "    #remove numbers\n",
        "    text_nonum = re.sub(r'\\d+', '', input_text)\n",
        "    \n",
        "    words = tokenizer.tokenize(text_nonum.lower())\n",
        "    #words = input_text.lower().split() \n",
        "    #remove stopwords\n",
        "    #clean_words = [word for word in words if (word not in stopwords_list or word in whitelist) and len(word) > 1] \n",
        "    return \" \".join(words) \n",
        "\n",
        "#remove the punctuation and numbers, keep stopwords\n",
        "df['CLEAN_TEXT'] = df.TEXT.apply(remove_punctuation_numbers)\n",
        "df"
      ]
    },
    {
      "cell_type": "code",
      "execution_count": null,
      "metadata": {
        "id": "aAPejgvPNyXq"
      },
      "outputs": [],
      "source": [
        "#we use clean text :)\n",
        "target = df.pop('DEF')\n",
        "dataset = tf.data.Dataset.from_tensor_slices((df.CLEAN_TEXT.values, target.values))"
      ]
    },
    {
      "cell_type": "code",
      "execution_count": null,
      "metadata": {
        "id": "yl9c6FF8uHx7"
      },
      "outputs": [],
      "source": [
        "#Here i get the split from the dataset, the split is 80 % for the k-fold and 20% for an independent test set.\n",
        "#The test set is used to asses the performance on unseen data on the best cv values\n",
        "\n",
        "#this is used for testing purposes, generates a dataset of nums from 0 to 19\n",
        "#dataset = tf.data.Dataset.range(20)\n",
        "\n",
        "DATASET_SIZE = dataset.cardinality().numpy()\n",
        "SPLITS = 4\n",
        "AUTOTUNE = tf.data.experimental.AUTOTUNE\n",
        "BATCH_SIZE = 32 #very important! Reducing this in RNN let them run on slower pc at the cost of exec time (increasing does the opposite)\n",
        "TEST_SIZE = 0.15\n",
        "\n",
        "\n",
        "def get_dataset_partitions(ds = dataset, ds_size= DATASET_SIZE, n_splits = SPLITS, test_size=TEST_SIZE, shuffle=True, shuffle_size=DATASET_SIZE, BATCH_SIZE = BATCH_SIZE):\n",
        "    fold_size = 1/n_splits\n",
        "    split_size = ds_size * (1-test_size) * fold_size\n",
        "    CV_folds = []\n",
        "    \n",
        "    if shuffle:\n",
        "        # Specify seed=xx to always have the same split distribution between runs\n",
        "        ds = ds.shuffle(shuffle_size, reshuffle_each_iteration=False, seed=5)#poi 1996\n",
        "    \n",
        "    test_dataset = ds.skip(ds_size * (1-test_size))\n",
        "    cv_dataset = ds.take(ds_size * (1-test_size))\n",
        "    \n",
        "    #print(list(test_dataset.as_numpy_iterator()))\n",
        "    #print(list(cv_dataset.as_numpy_iterator()))\n",
        "    \n",
        "    #print(list(test_dataset.as_numpy_iterator()))\n",
        "    #print(list(cv_dataset.as_numpy_iterator()))\n",
        "    \n",
        "    for i in range(n_splits):         #dataset is divided in 3 pieces for each iteration, train1 | validation | train2 due to take/skip nature\n",
        "        \n",
        "        #we will concatenate train1 and train2 to define the fitting split for the current fold while val will be the validation\n",
        "        \n",
        "        train1 = cv_dataset.take(i * split_size) #each of the 2 train(1 and 2) can be of size [0,fold_size*num_splits-1], val have dimension= fold_size\n",
        "        val = cv_dataset.skip(i * split_size).take(split_size)\n",
        "        train2 = cv_dataset.skip(i * split_size).skip(split_size)\n",
        "    \n",
        "      \n",
        "        #print(list(train1.concatenate(train2).as_numpy_iterator()))\n",
        "        #print(list(val.as_numpy_iterator()))\n",
        "\n",
        "        #we generate a list of tuples. Each tuple contain the train/validation for each fold. The list is indeed SPLITS-long.\n",
        "        CV_folds.append([\n",
        "                         train1.concatenate(train2).shuffle(train1.concatenate(train2).cardinality().numpy()).batch(BATCH_SIZE).prefetch(tf.data.experimental.AUTOTUNE),\n",
        "                         val.shuffle(val.cardinality().numpy()).batch(BATCH_SIZE).prefetch(tf.data.experimental.AUTOTUNE)\n",
        "                        ])\n",
        "        \n",
        "        #print(\"CV:\")\n",
        "        #print(list(CV_folds[i][0].as_numpy_iterator()))\n",
        "        ##print(list(CV_folds[i][1].as_numpy_iterator()))\n",
        "        #print(\"--------------------------------------\")\n",
        "    \n",
        "    \n",
        "    return [CV_folds,\n",
        "            test_dataset.shuffle(test_dataset.cardinality().numpy()).batch(BATCH_SIZE).prefetch(tf.data.experimental.AUTOTUNE),\n",
        "            cv_dataset.shuffle(cv_dataset.cardinality().numpy()).batch(BATCH_SIZE).prefetch(tf.data.experimental.AUTOTUNE)]\n",
        "    \n",
        "\n",
        "\n",
        "CV_folds, test_dataset, train_ds_final = get_dataset_partitions(shuffle=False)\n",
        "\n",
        "#print(list(test_dataset.as_numpy_iterator()))\n",
        "#print(list(train_ds_final.as_numpy_iterator()))"
      ]
    },
    {
      "cell_type": "code",
      "execution_count": null,
      "metadata": {
        "colab": {
          "base_uri": "https://localhost:8080/"
        },
        "id": "Ceq2In3soB8O",
        "outputId": "5c65d3c2-dac4-4a5b-c0b9-e1e515f556cd"
      },
      "outputs": [
        {
          "output_type": "stream",
          "name": "stdout",
          "text": [
            "Total Number of 1 : 305\n",
            "Total Number of 0 : 1399\n",
            "Weight of positive elements: 5.586885245901639\n"
          ]
        }
      ],
      "source": [
        "#----- Class Imabalance dealing here\n",
        "labels=[]\n",
        "labels=np.array(labels)\n",
        "for example, label in dataset.batch(BATCH_SIZE).prefetch(tf.data.experimental.AUTOTUNE).take(-1):\n",
        "    _ = example.numpy()\n",
        "    labels=np.concatenate((labels,label.numpy()))\n",
        "    \n",
        "nonzero = np.count_nonzero(labels)\n",
        "print(\"Total Number of 1 : \"+str(nonzero))\n",
        "print(\"Total Number of 0 : \"+str(len(labels)-nonzero))\n",
        "\n",
        "#positive/total ratio:\n",
        "posWeight = len(labels)/nonzero\n",
        "print(\"Weight of positive elements: \"+str(posWeight))\n",
        "\n",
        "\n"
      ]
    },
    {
      "cell_type": "code",
      "execution_count": null,
      "metadata": {
        "id": "DTobcJ85oB8P"
      },
      "outputs": [],
      "source": [
        "#loading of tensorboard and deleting of old logs(windows10 only I guess)\n",
        "%load_ext tensorboard\n",
        "#shutil.rmtree(\"./logsGraphs\", ignore_errors=True, onerror=None)"
      ]
    },
    {
      "cell_type": "code",
      "execution_count": null,
      "metadata": {
        "id": "NhWHdG7EoB8Q"
      },
      "outputs": [],
      "source": [
        "#define the metrics I want to see during the iterations\n",
        "METRICS = [\n",
        "      tf.keras.metrics.Precision(name='precision'),\n",
        "      tf.keras.metrics.Recall(name='recall'),\n",
        "      f1, #my f1\n",
        "      tf.keras.metrics.AUC(name='auc'),\n",
        "    \n",
        "      tf.keras.metrics.TruePositives(name='tp'),\n",
        "      tf.keras.metrics.TrueNegatives(name='tn'),\n",
        "      tf.keras.metrics.FalsePositives(name='fp'),\n",
        "      tf.keras.metrics.FalseNegatives(name='fn'), \n",
        "      tf.keras.metrics.BinaryAccuracy(name='accuracy'),\n",
        "      \n",
        "      \n",
        "]"
      ]
    },
    {
      "cell_type": "code",
      "execution_count": null,
      "metadata": {
        "id": "qso5E9aQuHyE"
      },
      "outputs": [],
      "source": [
        "def get_callbacks():\n",
        "  return [\n",
        "    tfdocs.modeling.EpochDots(),\n",
        "    tf.keras.callbacks.EarlyStopping(patience = 15, monitor = 'val_f1',  mode = 'max', min_delta = 0.01, restore_best_weights=True ),\n",
        "\n",
        "    #tf.keras.callbacks.TensorBoard('logsGraphs/graphsFolder'),\n",
        "  ]"
      ]
    },
    {
      "cell_type": "code",
      "execution_count": null,
      "metadata": {
        "id": "Epp_BO3toB8Q"
      },
      "outputs": [],
      "source": [
        "#here I defined the parameters i want to iterate through\n",
        "\n",
        "HP_NUM_UNITS = hp.HParam('num_units', hp.Discrete([64, 128, 256]))\n",
        "HP_EMBEDDING_DIM = hp.HParam('emb_dim', hp.Discrete([64, 128, 256]))\n",
        "HP_OPTIMIZER_LR = hp.HParam('opt_lr', hp.Discrete([0.001, 0.0005, 0.0001]))\n",
        "HP_WEIGHT_TUNER = hp.HParam('pos_weight_tuner', hp.RealInterval(1.0,3.0))#selected later actually, but need a definition here\n",
        "HP_NUM_LAYERS = hp.HParam('num_layers', hp.Discrete([2, 3]))#always add +1 for the final layer\n",
        "HP_NUM_EPOCHS = hp.HParam('num_epochs', hp.Discrete([40]))\n",
        "HP_OPTIMIZER = hp.HParam('optimizer', hp.Discrete(['adam']))\n",
        "#HP_KERNEL_REGULARIZATION_L2 = hp.HParam('ker_l2', hp.Discrete([1e-25, 1e-4, 1e-5, 1e-6, 1e-7]))\n",
        "#HP_KERNEL_REGULARIZATION_L1 = hp.HParam('ker_l1', hp.Discrete([1e-25, 1e-4, 1e-5, 1e-6, 1e-7]))\n",
        "HP_DROPOUT = hp.HParam('dropout', hp.Discrete([0.000000000000000000001, 0.1, 0.2, 0.25, 0.3]))\n",
        "#here we choose the metrics we want to average after CV, we only choose the most important one to do not loose the focus\n",
        "METRIC1 = 'f1'\n",
        "METRIC2 = 'auc'#attention! If we have 0 precision/recall we might have errors due to AUC implmentation, MAY BE REMOVED\n",
        "\n",
        "with tf.summary.create_file_writer('logsGraphs/hparam_tuningCV').as_default():\n",
        "  hp.hparams_config(\n",
        "    hparams=[HP_NUM_UNITS, HP_EMBEDDING_DIM, HP_OPTIMIZER_LR, HP_WEIGHT_TUNER, HP_NUM_LAYERS, HP_NUM_EPOCHS, HP_OPTIMIZER,  HP_DROPOUT],\n",
        "    metrics=[hp.Metric(METRIC1, display_name='f1'), hp.Metric(METRIC2, display_name='auc')],\n",
        "  )\n",
        "\n"
      ]
    },
    {
      "cell_type": "markdown",
      "metadata": {
        "id": "aGicgV5qT0wh"
      },
      "source": [
        "## Text preprocessing"
      ]
    },
    {
      "cell_type": "markdown",
      "metadata": {
        "id": "N6NZSqIIoU0Y"
      },
      "source": [
        "Next, define the dataset preprocessing steps required for your sentiment classification model. Initialize a TextVectorization layer with the desired parameters to vectorize movie reviews. You can learn more about using this layer in the [Text Classification](https://www.tensorflow.org/tutorials/keras/text_classification) tutorial."
      ]
    },
    {
      "cell_type": "markdown",
      "metadata": {
        "id": "zI9_wLIiWO8Z"
      },
      "source": [
        "## Create the CV classification model"
      ]
    },
    {
      "cell_type": "code",
      "execution_count": null,
      "metadata": {
        "id": "11HTdhhQoB8S"
      },
      "outputs": [],
      "source": [
        "#this is the function that creates the ANN given the parameters.\n",
        "#after creating it the ANN is fitted on the current split's train set and vchecked on the current validation set\n",
        "#we return the f1 and auc of the current validation split as the measure of performance of this split\n",
        "#the f1 and auc over all the splits will be later averaged and will be the parameters performance\n",
        "\n",
        "\n",
        "# Vocabulary size and number of words in a sequence.\n",
        "VOCAB_SIZE = 30000 #o 5k??\n",
        "\n",
        "def train_test_model(emb_dim, num_units, learning_rate, weight_normalizer, num_layers, train_dataset, val_dataset, num_epochs, dropout, ker_l1=0, ker_l2=0, predictions = False, ret_model=False ):\n",
        "  \n",
        "  encoder = tf.keras.layers.experimental.preprocessing.TextVectorization(max_tokens=VOCAB_SIZE)\n",
        "  encoder.adapt(train_dataset.map(lambda text, label: text))\n",
        "\n",
        "#---------------------------------------------------------------------\n",
        "  model = Sequential([\n",
        "      \n",
        "  encoder,\n",
        "    \n",
        "  Embedding(#embedding layer\n",
        "        input_dim=len(encoder.get_vocabulary()),\n",
        "        output_dim=emb_dim,\n",
        "        # Use masking to handle the variable sequence lengths\n",
        "        mask_zero=True),\n",
        "    \n",
        "  Bidirectional(tf.keras.layers.LSTM(emb_dim , dropout = 0.1,return_sequences=True)),\n",
        "  \n",
        "  Bidirectional(tf.keras.layers.LSTM(emb_dim , dropout = 0.1)),    \n",
        "  #Dropout(dropout)\n",
        "\n",
        "  ])\n",
        "    \n",
        "  for i in range(num_layers):\n",
        "    if num_units/pow(2,i) >1 :\n",
        "        model.add(Dense(num_units/pow(2,i), activation=\"relu\"))\n",
        "        model.add(Dropout(dropout))\n",
        "            \n",
        "  model.add(Dense(1,activation='sigmoid')) \n",
        "\n",
        "\n",
        "  class_weight = {0: 1., #class 0 weight\n",
        "                  1: posWeight/weight_normalizer, #uses the weight I set to make them perfectly balanced, I can increase it to overweight pos class!\n",
        "                                     \n",
        "                  2: 2.} \n",
        "    \n",
        "\n",
        "  \n",
        "  model.compile(\n",
        "      optimizer=tf.keras.optimizers.Adam(learning_rate),\n",
        "      loss=tf.keras.losses.BinaryCrossentropy(),\n",
        "      metrics=METRICS,\n",
        "  )\n",
        "  \n",
        "  history = model.fit(\n",
        "             train_dataset,\n",
        "             epochs=num_epochs,\n",
        "             class_weight=class_weight,\n",
        "             validation_data = val_dataset,\n",
        "             callbacks=get_callbacks()\n",
        "             ) \n",
        "\n",
        "  _, prec, recall, f1,auc, tp, tn, fp, fn, accuracy = model.evaluate(val_dataset)#validation we get our performances from this performance assesment\n",
        "  \n",
        "  if predictions:\n",
        "    preds = model.predict(test_dataset,verbose =1)\n",
        "    preds = [1 if num >= 0.5 else 0 for num in preds]\n",
        "    return f1,auc,history,preds\n",
        "  if ret_model:\n",
        "    return f1,auc,history,model\n",
        "  else:\n",
        "    return f1,auc,history #we only take the most important measures to have a straightforward idea of performance"
      ]
    },
    {
      "cell_type": "markdown",
      "metadata": {
        "id": "JjLNgKO7W2fe"
      },
      "source": [
        "## RUN the created model"
      ]
    },
    {
      "cell_type": "code",
      "execution_count": null,
      "metadata": {
        "id": "QAMeUtmYoB8T"
      },
      "outputs": [],
      "source": [
        "#this method runs the cross validation, calling the above method giving it the parameters choosen and recording performances \n",
        "#it computes the average of f1 and auc over the various splits as well\n",
        "\n",
        "def run(run_dir, hparams, session_num):\n",
        "  with tf.summary.create_file_writer(run_dir).as_default():\n",
        "    # record the values used in this trial\n",
        "    hp.hparams(hparams)\n",
        "    f1Score,auc = 0,0\n",
        "    history = {}\n",
        "    for i in range(SPLITS):#averaging over all the splits\n",
        "      \n",
        "      print(\"\\nCHECKING SPLIT NUM: \"+str(i+1))\n",
        "      train_dataset,val_dataset = CV_folds[i]\n",
        "      print()\n",
        "      tmpf1,tmpauc,history[\"split \"+str(i+1)],model = train_test_model(emb_dim = hparams[HP_EMBEDDING_DIM],\n",
        "                                      num_units = hparams[HP_EMBEDDING_DIM], #!!! BEST PRACTICE\n",
        "                                      learning_rate = hparams[HP_OPTIMIZER_LR],\n",
        "                                      weight_normalizer= hparams[HP_WEIGHT_TUNER],\n",
        "                                      num_layers = hparams[HP_NUM_LAYERS],\n",
        "                                      num_epochs = hparams[HP_NUM_EPOCHS],\n",
        "                                      #ker_l2 = hparams[HP_KERNEL_REGULARIZATION_L2],\n",
        "                                      #ker_l1 = hparams[HP_KERNEL_REGULARIZATION_L1],\n",
        "                                      dropout = hparams[HP_DROPOUT],\n",
        "                                      train_dataset = train_dataset,\n",
        "                                      val_dataset = val_dataset,\n",
        "                                      ret_model = True)\n",
        "        \n",
        "      \n",
        "      f1Score += tmpf1\n",
        "      auc += tmpauc\n",
        "      \n",
        "    \n",
        "    f1Score /= SPLITS\n",
        "    auc /= SPLITS\n",
        "    \n",
        "    print(\"!!! SESSION NUM \"+str(session_num)+\" ---> CV VALIDATION f1: \"+str(f1Score))\n",
        "    print(\"!!! auc: \"+str(auc))\n",
        "    \n",
        "    plotter = tfdocs.plots.HistoryPlotter(metric = 'f1', smoothing_std=10)\n",
        "    plotter.plot(history)\n",
        "    plt.show()\n",
        "    print(\"\\n------------------------------------------\")\n",
        "    \n",
        "    plotter = tfdocs.plots.HistoryPlotter(metric = 'auc', smoothing_std=10)\n",
        "    plotter.plot(history)\n",
        "    plt.show()\n",
        "    \n",
        "    \n",
        "    tf.summary.scalar(METRIC1, f1Score, step = tf.convert_to_tensor(1, dtype=tf.int64))\n",
        "    tf.summary.scalar(METRIC2, auc, step = tf.convert_to_tensor(1, dtype=tf.int64))\n",
        "    \n",
        "    return model"
      ]
    },
    {
      "cell_type": "code",
      "execution_count": null,
      "metadata": {
        "id": "B-bl3wA8uHyM"
      },
      "outputs": [],
      "source": [
        "## PARAMETERS TO TEST:\n",
        "#these 2 are good results\n",
        "#param = ['78', '280.186002', '0.001063', '2.229772', '2.080047', '0.174231']\n",
        "#param = ['97.545495', '281.170117', '0.001063', '1.565771', '2.342309', '0.148752']\n",
        "param =  ['30.422095', '26.887514', '0.000154', '1.090484', '0.513936', '0.147310']"
      ]
    },
    {
      "cell_type": "code",
      "execution_count": null,
      "metadata": {
        "colab": {
          "base_uri": "https://localhost:8080/",
          "height": 1000
        },
        "id": "igsQr90JoB8T",
        "outputId": "8b0607b9-80f3-44ab-ba1d-94139a5e6bf7",
        "scrolled": true
      },
      "outputs": [
        {
          "name": "stdout",
          "output_type": "stream",
          "text": [
            "Using parameters given by the operator\n",
            "{'emb_dim': 30, 'num_units': 26, 'opt_lr': 0.000154, 'pos_weight_tuner': 1.090484, 'num_layers': 0, 'num_epochs': 50, 'dropout': 0.14731}\n",
            "\n",
            "CHECKING SPLIT NUM: 1\n",
            "\n",
            "Epoch 1/50\n",
            "34/34 [==============================] - ETA: 0s - loss: 1.1948 - precision: 0.1927 - recall: 0.7390 - f1: 0.2815 - auc: 0.5593 - tp: 201.0000 - tn: 334.0000 - fp: 842.0000 - fn: 71.0000 - accuracy: 0.3695\n",
            "Epoch: 0, accuracy:0.3695,  auc:0.5593,  f1:0.2815,  fn:71.0000,  fp:842.0000,  loss:1.1948,  precision:0.1927,  recall:0.7390,  tn:334.0000,  tp:201.0000,  val_accuracy:0.1160,  val_auc:0.5254,  val_f1:0.2073,  val_fn:0.0000,  val_fp:320.0000,  val_loss:0.7023,  val_precision:0.1160,  val_recall:1.0000,  val_tn:0.0000,  val_tp:42.0000,  \n",
            "34/34 [==============================] - 71s 2s/step - loss: 1.1948 - precision: 0.1927 - recall: 0.7390 - f1: 0.2815 - auc: 0.5593 - tp: 201.0000 - tn: 334.0000 - fp: 842.0000 - fn: 71.0000 - accuracy: 0.3695 - val_loss: 0.7023 - val_precision: 0.1160 - val_recall: 1.0000 - val_f1: 0.2073 - val_auc: 0.5254 - val_tp: 42.0000 - val_tn: 0.0000e+00 - val_fp: 320.0000 - val_fn: 0.0000e+00 - val_accuracy: 0.1160\n",
            "Epoch 2/50\n",
            "34/34 [==============================] - 50s 1s/step - loss: 1.1910 - precision: 0.1759 - recall: 1.0000 - f1: 0.2922 - auc: 0.6466 - tp: 191.0000 - tn: 0.0000e+00 - fp: 895.0000 - fn: 0.0000e+00 - accuracy: 0.1759 - val_loss: 0.7053 - val_precision: 0.1160 - val_recall: 1.0000 - val_f1: 0.1936 - val_auc: 0.5774 - val_tp: 42.0000 - val_tn: 0.0000e+00 - val_fp: 320.0000 - val_fn: 0.0000e+00 - val_accuracy: 0.1160\n",
            "Epoch 3/50\n",
            "34/34 [==============================] - 50s 1s/step - loss: 1.1850 - precision: 0.1853 - recall: 1.0000 - f1: 0.3086 - auc: 0.7053 - tp: 191.0000 - tn: 55.0000 - fp: 840.0000 - fn: 0.0000e+00 - accuracy: 0.2265 - val_loss: 0.7063 - val_precision: 0.1232 - val_recall: 1.0000 - val_f1: 0.2016 - val_auc: 0.5958 - val_tp: 42.0000 - val_tn: 21.0000 - val_fp: 299.0000 - val_fn: 0.0000e+00 - val_accuracy: 0.1740\n",
            "Epoch 4/50\n",
            "34/34 [==============================] - 49s 1s/step - loss: 1.1686 - precision: 0.2392 - recall: 0.9895 - f1: 0.3815 - auc: 0.7547 - tp: 189.0000 - tn: 294.0000 - fp: 601.0000 - fn: 2.0000 - accuracy: 0.4448 - val_loss: 0.7052 - val_precision: 0.1278 - val_recall: 0.9524 - val_f1: 0.2257 - val_auc: 0.5867 - val_tp: 40.0000 - val_tn: 47.0000 - val_fp: 273.0000 - val_fn: 2.0000 - val_accuracy: 0.2403\n",
            "Epoch 5/50\n",
            "34/34 [==============================] - 49s 1s/step - loss: 1.1105 - precision: 0.2298 - recall: 0.9843 - f1: 0.3692 - auc: 0.7901 - tp: 188.0000 - tn: 265.0000 - fp: 630.0000 - fn: 3.0000 - accuracy: 0.4171 - val_loss: 0.7160 - val_precision: 0.1498 - val_recall: 0.8095 - val_f1: 0.2600 - val_auc: 0.6464 - val_tp: 34.0000 - val_tn: 127.0000 - val_fp: 193.0000 - val_fn: 8.0000 - val_accuracy: 0.4448\n",
            "Epoch 6/50\n",
            "34/34 [==============================] - 50s 1s/step - loss: 0.9218 - precision: 0.3859 - recall: 0.8586 - f1: 0.5241 - auc: 0.8286 - tp: 164.0000 - tn: 634.0000 - fp: 261.0000 - fn: 27.0000 - accuracy: 0.7348 - val_loss: 0.4576 - val_precision: 0.2692 - val_recall: 0.3333 - val_f1: 0.2979 - val_auc: 0.6647 - val_tp: 14.0000 - val_tn: 282.0000 - val_fp: 38.0000 - val_fn: 28.0000 - val_accuracy: 0.8177\n",
            "Epoch 7/50\n",
            "34/34 [==============================] - 50s 1s/step - loss: 0.7336 - precision: 0.4504 - recall: 0.8796 - f1: 0.5805 - auc: 0.9010 - tp: 168.0000 - tn: 690.0000 - fp: 205.0000 - fn: 23.0000 - accuracy: 0.7901 - val_loss: 0.4430 - val_precision: 0.2581 - val_recall: 0.3810 - val_f1: 0.2605 - val_auc: 0.6670 - val_tp: 16.0000 - val_tn: 274.0000 - val_fp: 46.0000 - val_fn: 26.0000 - val_accuracy: 0.8011\n",
            "Epoch 8/50\n",
            "34/34 [==============================] - 50s 1s/step - loss: 0.6525 - precision: 0.5059 - recall: 0.9005 - f1: 0.6521 - auc: 0.9189 - tp: 172.0000 - tn: 727.0000 - fp: 168.0000 - fn: 19.0000 - accuracy: 0.8278 - val_loss: 0.3560 - val_precision: 0.3529 - val_recall: 0.1429 - val_f1: 0.1329 - val_auc: 0.6661 - val_tp: 6.0000 - val_tn: 309.0000 - val_fp: 11.0000 - val_fn: 36.0000 - val_accuracy: 0.8702\n",
            "Epoch 9/50\n",
            "34/34 [==============================] - 50s 1s/step - loss: 0.4961 - precision: 0.6344 - recall: 0.9267 - f1: 0.7349 - auc: 0.9604 - tp: 177.0000 - tn: 793.0000 - fp: 102.0000 - fn: 14.0000 - accuracy: 0.8932 - val_loss: 0.3577 - val_precision: 0.3462 - val_recall: 0.2143 - val_f1: 0.2390 - val_auc: 0.6848 - val_tp: 9.0000 - val_tn: 303.0000 - val_fp: 17.0000 - val_fn: 33.0000 - val_accuracy: 0.8619\n",
            "Epoch 10/50\n",
            "34/34 [==============================] - 50s 1s/step - loss: 0.3833 - precision: 0.6911 - recall: 0.9372 - f1: 0.7950 - auc: 0.9761 - tp: 179.0000 - tn: 815.0000 - fp: 80.0000 - fn: 12.0000 - accuracy: 0.9153 - val_loss: 0.3813 - val_precision: 0.2895 - val_recall: 0.2619 - val_f1: 0.1982 - val_auc: 0.6602 - val_tp: 11.0000 - val_tn: 293.0000 - val_fp: 27.0000 - val_fn: 31.0000 - val_accuracy: 0.8398\n",
            "Epoch 11/50\n",
            "34/34 [==============================] - 49s 1s/step - loss: 0.2583 - precision: 0.7839 - recall: 0.9686 - f1: 0.8659 - auc: 0.9915 - tp: 185.0000 - tn: 844.0000 - fp: 51.0000 - fn: 6.0000 - accuracy: 0.9475 - val_loss: 0.4023 - val_precision: 0.3333 - val_recall: 0.0714 - val_f1: 0.0875 - val_auc: 0.6051 - val_tp: 3.0000 - val_tn: 314.0000 - val_fp: 6.0000 - val_fn: 39.0000 - val_accuracy: 0.8757\n",
            "Epoch 12/50\n",
            "34/34 [==============================] - 50s 1s/step - loss: 0.2249 - precision: 0.8009 - recall: 0.9686 - f1: 0.8642 - auc: 0.9936 - tp: 185.0000 - tn: 849.0000 - fp: 46.0000 - fn: 6.0000 - accuracy: 0.9521 - val_loss: 0.3945 - val_precision: 0.2941 - val_recall: 0.1190 - val_f1: 0.1282 - val_auc: 0.6475 - val_tp: 5.0000 - val_tn: 308.0000 - val_fp: 12.0000 - val_fn: 37.0000 - val_accuracy: 0.8646\n",
            "Epoch 13/50\n",
            "34/34 [==============================] - 51s 1s/step - loss: 0.1466 - precision: 0.8630 - recall: 0.9895 - f1: 0.9182 - auc: 0.9984 - tp: 189.0000 - tn: 865.0000 - fp: 30.0000 - fn: 2.0000 - accuracy: 0.9705 - val_loss: 0.4202 - val_precision: 0.2333 - val_recall: 0.1667 - val_f1: 0.1500 - val_auc: 0.6391 - val_tp: 7.0000 - val_tn: 297.0000 - val_fp: 23.0000 - val_fn: 35.0000 - val_accuracy: 0.8398\n",
            "Epoch 14/50\n",
            "34/34 [==============================] - 50s 1s/step - loss: 0.1450 - precision: 0.8873 - recall: 0.9895 - f1: 0.9276 - auc: 0.9982 - tp: 189.0000 - tn: 871.0000 - fp: 24.0000 - fn: 2.0000 - accuracy: 0.9761 - val_loss: 0.4396 - val_precision: 0.2609 - val_recall: 0.1429 - val_f1: 0.1625 - val_auc: 0.6202 - val_tp: 6.0000 - val_tn: 303.0000 - val_fp: 17.0000 - val_fn: 36.0000 - val_accuracy: 0.8536\n",
            "Epoch 15/50\n",
            "34/34 [==============================] - 53s 2s/step - loss: 0.1429 - precision: 0.9043 - recall: 0.9895 - f1: 0.9438 - auc: 0.9984 - tp: 189.0000 - tn: 875.0000 - fp: 20.0000 - fn: 2.0000 - accuracy: 0.9797 - val_loss: 0.4283 - val_precision: 0.2143 - val_recall: 0.1429 - val_f1: 0.1558 - val_auc: 0.6333 - val_tp: 6.0000 - val_tn: 298.0000 - val_fp: 22.0000 - val_fn: 36.0000 - val_accuracy: 0.8398\n",
            "Epoch 16/50\n",
            "34/34 [==============================] - 51s 2s/step - loss: 0.0850 - precision: 0.9223 - recall: 0.9948 - f1: 0.9578 - auc: 0.9996 - tp: 190.0000 - tn: 879.0000 - fp: 16.0000 - fn: 1.0000 - accuracy: 0.9843 - val_loss: 0.4381 - val_precision: 0.2069 - val_recall: 0.1429 - val_f1: 0.1246 - val_auc: 0.6390 - val_tp: 6.0000 - val_tn: 297.0000 - val_fp: 23.0000 - val_fn: 36.0000 - val_accuracy: 0.8370\n",
            "Epoch 17/50\n",
            "34/34 [==============================] - 52s 2s/step - loss: 0.0665 - precision: 0.9409 - recall: 1.0000 - f1: 0.9725 - auc: 0.9998 - tp: 191.0000 - tn: 883.0000 - fp: 12.0000 - fn: 0.0000e+00 - accuracy: 0.9890 - val_loss: 0.4403 - val_precision: 0.2000 - val_recall: 0.1190 - val_f1: 0.1444 - val_auc: 0.6503 - val_tp: 5.0000 - val_tn: 300.0000 - val_fp: 20.0000 - val_fn: 37.0000 - val_accuracy: 0.8425\n",
            "Epoch 18/50\n",
            "34/34 [==============================] - 52s 2s/step - loss: 0.0580 - precision: 0.9598 - recall: 1.0000 - f1: 0.9705 - auc: 0.9999 - tp: 191.0000 - tn: 887.0000 - fp: 8.0000 - fn: 0.0000e+00 - accuracy: 0.9926 - val_loss: 0.4884 - val_precision: 0.1400 - val_recall: 0.1667 - val_f1: 0.1460 - val_auc: 0.6250 - val_tp: 7.0000 - val_tn: 277.0000 - val_fp: 43.0000 - val_fn: 35.0000 - val_accuracy: 0.7845\n",
            "Epoch 19/50\n",
            "34/34 [==============================] - 50s 1s/step - loss: 0.0497 - precision: 0.9550 - recall: 1.0000 - f1: 0.9499 - auc: 0.9999 - tp: 191.0000 - tn: 886.0000 - fp: 9.0000 - fn: 0.0000e+00 - accuracy: 0.9917 - val_loss: 0.4678 - val_precision: 0.2083 - val_recall: 0.1190 - val_f1: 0.1833 - val_auc: 0.6209 - val_tp: 5.0000 - val_tn: 301.0000 - val_fp: 19.0000 - val_fn: 37.0000 - val_accuracy: 0.8453\n",
            "Epoch 20/50\n",
            "34/34 [==============================] - 50s 1s/step - loss: 0.0464 - precision: 0.9646 - recall: 1.0000 - f1: 0.9795 - auc: 0.9999 - tp: 191.0000 - tn: 888.0000 - fp: 7.0000 - fn: 0.0000e+00 - accuracy: 0.9936 - val_loss: 0.4924 - val_precision: 0.2000 - val_recall: 0.1667 - val_f1: 0.1213 - val_auc: 0.6226 - val_tp: 7.0000 - val_tn: 292.0000 - val_fp: 28.0000 - val_fn: 35.0000 - val_accuracy: 0.8260\n",
            "Epoch 21/50\n",
            "34/34 [==============================] - 51s 2s/step - loss: 0.0391 - precision: 0.9745 - recall: 1.0000 - f1: 0.9881 - auc: 0.9999 - tp: 191.0000 - tn: 890.0000 - fp: 5.0000 - fn: 0.0000e+00 - accuracy: 0.9954 - val_loss: 0.4894 - val_precision: 0.1818 - val_recall: 0.1429 - val_f1: 0.2028 - val_auc: 0.6251 - val_tp: 6.0000 - val_tn: 293.0000 - val_fp: 27.0000 - val_fn: 36.0000 - val_accuracy: 0.8260\n",
            "12/12 [==============================] - 3s 287ms/step - loss: 0.4576 - precision: 0.2692 - recall: 0.3333 - f1: 0.2797 - auc: 0.6647 - tp: 14.0000 - tn: 282.0000 - fp: 38.0000 - fn: 28.0000 - accuracy: 0.8177\n",
            "\n",
            "CHECKING SPLIT NUM: 2\n",
            "\n",
            "Epoch 1/50\n",
            "34/34 [==============================] - ETA: 0s - loss: 1.2031 - precision: 0.1889 - recall: 0.6356 - f1: 0.2784 - auc: 0.5877 - tp: 150.0000 - tn: 568.0000 - fp: 644.0000 - fn: 86.0000 - accuracy: 0.4959\n",
            "Epoch: 0, accuracy:0.4959,  auc:0.5877,  f1:0.2784,  fn:86.0000,  fp:644.0000,  loss:1.2031,  precision:0.1889,  recall:0.6356,  tn:568.0000,  tp:150.0000,  val_accuracy:0.2044,  val_auc:0.4057,  val_f1:0.2192,  val_fn:0.0000,  val_fp:288.0000,  val_loss:0.6972,  val_precision:0.1193,  val_recall:1.0000,  val_tn:35.0000,  val_tp:39.0000,  \n",
            "34/34 [==============================] - 71s 2s/step - loss: 1.2031 - precision: 0.1889 - recall: 0.6356 - f1: 0.2784 - auc: 0.5877 - tp: 150.0000 - tn: 568.0000 - fp: 644.0000 - fn: 86.0000 - accuracy: 0.4959 - val_loss: 0.6972 - val_precision: 0.1193 - val_recall: 1.0000 - val_f1: 0.2192 - val_auc: 0.4057 - val_tp: 39.0000 - val_tn: 35.0000 - val_fp: 288.0000 - val_fn: 0.0000e+00 - val_accuracy: 0.2044\n",
            "Epoch 2/50\n",
            "34/34 [==============================] - 50s 1s/step - loss: 1.1991 - precision: 0.1835 - recall: 1.0000 - f1: 0.3074 - auc: 0.6347 - tp: 194.0000 - tn: 29.0000 - fp: 863.0000 - fn: 0.0000e+00 - accuracy: 0.2053 - val_loss: 0.7021 - val_precision: 0.1154 - val_recall: 1.0000 - val_f1: 0.2108 - val_auc: 0.5551 - val_tp: 39.0000 - val_tn: 24.0000 - val_fp: 299.0000 - val_fn: 0.0000e+00 - val_accuracy: 0.1740\n",
            "Epoch 3/50\n",
            "34/34 [==============================] - 51s 2s/step - loss: 1.1926 - precision: 0.1913 - recall: 1.0000 - f1: 0.3160 - auc: 0.7245 - tp: 194.0000 - tn: 72.0000 - fp: 820.0000 - fn: 0.0000e+00 - accuracy: 0.2449 - val_loss: 0.7075 - val_precision: 0.1196 - val_recall: 1.0000 - val_f1: 0.1957 - val_auc: 0.5866 - val_tp: 39.0000 - val_tn: 36.0000 - val_fp: 287.0000 - val_fn: 0.0000e+00 - val_accuracy: 0.2072\n",
            "Epoch 4/50\n",
            "34/34 [==============================] - 50s 1s/step - loss: 1.1762 - precision: 0.1923 - recall: 1.0000 - f1: 0.3182 - auc: 0.7485 - tp: 194.0000 - tn: 77.0000 - fp: 815.0000 - fn: 0.0000e+00 - accuracy: 0.2495 - val_loss: 0.7201 - val_precision: 0.1218 - val_recall: 0.9744 - val_f1: 0.2134 - val_auc: 0.6476 - val_tp: 38.0000 - val_tn: 49.0000 - val_fp: 274.0000 - val_fn: 1.0000 - val_accuracy: 0.2403\n",
            "Epoch 5/50\n",
            "34/34 [==============================] - 52s 2s/step - loss: 1.1165 - precision: 0.2201 - recall: 0.9948 - f1: 0.3597 - auc: 0.8021 - tp: 193.0000 - tn: 208.0000 - fp: 684.0000 - fn: 1.0000 - accuracy: 0.3692 - val_loss: 0.6860 - val_precision: 0.1466 - val_recall: 0.7179 - val_f1: 0.2441 - val_auc: 0.6857 - val_tp: 28.0000 - val_tn: 160.0000 - val_fp: 163.0000 - val_fn: 11.0000 - val_accuracy: 0.5193\n",
            "Epoch 6/50\n",
            "34/34 [==============================] - 51s 2s/step - loss: 0.9774 - precision: 0.3581 - recall: 0.7938 - f1: 0.4845 - auc: 0.8106 - tp: 154.0000 - tn: 616.0000 - fp: 276.0000 - fn: 40.0000 - accuracy: 0.7090 - val_loss: 0.7290 - val_precision: 0.1279 - val_recall: 0.7179 - val_f1: 0.1947 - val_auc: 0.6675 - val_tp: 28.0000 - val_tn: 132.0000 - val_fp: 191.0000 - val_fn: 11.0000 - val_accuracy: 0.4420\n",
            "Epoch 7/50\n",
            "34/34 [==============================] - 51s 1s/step - loss: 0.7957 - precision: 0.4268 - recall: 0.8711 - f1: 0.5730 - auc: 0.8875 - tp: 169.0000 - tn: 665.0000 - fp: 227.0000 - fn: 25.0000 - accuracy: 0.7680 - val_loss: 0.5578 - val_precision: 0.2800 - val_recall: 0.5385 - val_f1: 0.3377 - val_auc: 0.7190 - val_tp: 21.0000 - val_tn: 269.0000 - val_fp: 54.0000 - val_fn: 18.0000 - val_accuracy: 0.8011\n",
            "Epoch 8/50\n",
            "34/34 [==============================] - 51s 2s/step - loss: 0.5984 - precision: 0.5811 - recall: 0.8866 - f1: 0.6934 - auc: 0.9425 - tp: 172.0000 - tn: 768.0000 - fp: 124.0000 - fn: 22.0000 - accuracy: 0.8656 - val_loss: 0.6325 - val_precision: 0.1689 - val_recall: 0.6410 - val_f1: 0.2795 - val_auc: 0.6735 - val_tp: 25.0000 - val_tn: 200.0000 - val_fp: 123.0000 - val_fn: 14.0000 - val_accuracy: 0.6215\n",
            "Epoch 9/50\n",
            "34/34 [==============================] - 52s 2s/step - loss: 0.4757 - precision: 0.5915 - recall: 0.9330 - f1: 0.7031 - auc: 0.9676 - tp: 181.0000 - tn: 767.0000 - fp: 125.0000 - fn: 13.0000 - accuracy: 0.8729 - val_loss: 0.3347 - val_precision: 0.2941 - val_recall: 0.1282 - val_f1: 0.2000 - val_auc: 0.6952 - val_tp: 5.0000 - val_tn: 311.0000 - val_fp: 12.0000 - val_fn: 34.0000 - val_accuracy: 0.8729\n",
            "Epoch 10/50\n",
            "34/34 [==============================] - 49s 1s/step - loss: 0.3378 - precision: 0.7802 - recall: 0.9330 - f1: 0.8374 - auc: 0.9853 - tp: 181.0000 - tn: 841.0000 - fp: 51.0000 - fn: 13.0000 - accuracy: 0.9411 - val_loss: 0.5675 - val_precision: 0.2400 - val_recall: 0.6154 - val_f1: 0.3601 - val_auc: 0.7093 - val_tp: 24.0000 - val_tn: 247.0000 - val_fp: 76.0000 - val_fn: 15.0000 - val_accuracy: 0.7486\n",
            "Epoch 11/50\n",
            "34/34 [==============================] - 49s 1s/step - loss: 0.2611 - precision: 0.7673 - recall: 0.9691 - f1: 0.8576 - auc: 0.9935 - tp: 188.0000 - tn: 835.0000 - fp: 57.0000 - fn: 6.0000 - accuracy: 0.9420 - val_loss: 0.4217 - val_precision: 0.2537 - val_recall: 0.4359 - val_f1: 0.3120 - val_auc: 0.6887 - val_tp: 17.0000 - val_tn: 273.0000 - val_fp: 50.0000 - val_fn: 22.0000 - val_accuracy: 0.8011\n",
            "Epoch 12/50\n",
            "34/34 [==============================] - 50s 1s/step - loss: 0.1894 - precision: 0.8826 - recall: 0.9691 - f1: 0.9208 - auc: 0.9968 - tp: 188.0000 - tn: 867.0000 - fp: 25.0000 - fn: 6.0000 - accuracy: 0.9715 - val_loss: 0.4371 - val_precision: 0.2955 - val_recall: 0.3333 - val_f1: 0.2615 - val_auc: 0.6786 - val_tp: 13.0000 - val_tn: 292.0000 - val_fp: 31.0000 - val_fn: 26.0000 - val_accuracy: 0.8425\n",
            "Epoch 13/50\n",
            "34/34 [==============================] - 49s 1s/step - loss: 0.1326 - precision: 0.9143 - recall: 0.9897 - f1: 0.9333 - auc: 0.9989 - tp: 192.0000 - tn: 874.0000 - fp: 18.0000 - fn: 2.0000 - accuracy: 0.9816 - val_loss: 0.4025 - val_precision: 0.3548 - val_recall: 0.2821 - val_f1: 0.2483 - val_auc: 0.6885 - val_tp: 11.0000 - val_tn: 303.0000 - val_fp: 20.0000 - val_fn: 28.0000 - val_accuracy: 0.8674\n",
            "Epoch 14/50\n",
            "34/34 [==============================] - 50s 1s/step - loss: 0.1176 - precision: 0.9048 - recall: 0.9794 - f1: 0.9433 - auc: 0.9985 - tp: 190.0000 - tn: 872.0000 - fp: 20.0000 - fn: 4.0000 - accuracy: 0.9779 - val_loss: 0.3837 - val_precision: 0.2632 - val_recall: 0.1282 - val_f1: 0.1231 - val_auc: 0.6860 - val_tp: 5.0000 - val_tn: 309.0000 - val_fp: 14.0000 - val_fn: 34.0000 - val_accuracy: 0.8674\n",
            "Epoch 15/50\n",
            "34/34 [==============================] - 50s 1s/step - loss: 0.0798 - precision: 0.9554 - recall: 0.9948 - f1: 0.9701 - auc: 0.9997 - tp: 193.0000 - tn: 883.0000 - fp: 9.0000 - fn: 1.0000 - accuracy: 0.9908 - val_loss: 0.4405 - val_precision: 0.2979 - val_recall: 0.3590 - val_f1: 0.2751 - val_auc: 0.6926 - val_tp: 14.0000 - val_tn: 290.0000 - val_fp: 33.0000 - val_fn: 25.0000 - val_accuracy: 0.8398\n",
            "Epoch 16/50\n",
            "34/34 [==============================] - 50s 1s/step - loss: 0.0595 - precision: 0.9602 - recall: 0.9948 - f1: 0.9759 - auc: 0.9998 - tp: 193.0000 - tn: 884.0000 - fp: 8.0000 - fn: 1.0000 - accuracy: 0.9917 - val_loss: 0.4340 - val_precision: 0.2941 - val_recall: 0.2564 - val_f1: 0.2671 - val_auc: 0.6874 - val_tp: 10.0000 - val_tn: 299.0000 - val_fp: 24.0000 - val_fn: 29.0000 - val_accuracy: 0.8536\n",
            "Epoch 17/50\n",
            "34/34 [==============================] - 49s 1s/step - loss: 0.0476 - precision: 0.9650 - recall: 0.9948 - f1: 0.9547 - auc: 0.9999 - tp: 193.0000 - tn: 885.0000 - fp: 7.0000 - fn: 1.0000 - accuracy: 0.9926 - val_loss: 0.4322 - val_precision: 0.2812 - val_recall: 0.2308 - val_f1: 0.2235 - val_auc: 0.6738 - val_tp: 9.0000 - val_tn: 300.0000 - val_fp: 23.0000 - val_fn: 30.0000 - val_accuracy: 0.8536\n",
            "Epoch 18/50\n",
            "34/34 [==============================] - 50s 1s/step - loss: 0.0353 - precision: 0.9897 - recall: 0.9948 - f1: 0.9943 - auc: 1.0000 - tp: 193.0000 - tn: 890.0000 - fp: 2.0000 - fn: 1.0000 - accuracy: 0.9972 - val_loss: 0.4209 - val_precision: 0.3636 - val_recall: 0.2051 - val_f1: 0.1634 - val_auc: 0.6715 - val_tp: 8.0000 - val_tn: 309.0000 - val_fp: 14.0000 - val_fn: 31.0000 - val_accuracy: 0.8757\n",
            "Epoch 19/50\n",
            "34/34 [==============================] - 51s 1s/step - loss: 0.0400 - precision: 0.9747 - recall: 0.9948 - f1: 0.9870 - auc: 0.9999 - tp: 193.0000 - tn: 887.0000 - fp: 5.0000 - fn: 1.0000 - accuracy: 0.9945 - val_loss: 0.4223 - val_precision: 0.3243 - val_recall: 0.3077 - val_f1: 0.2779 - val_auc: 0.6836 - val_tp: 12.0000 - val_tn: 298.0000 - val_fp: 25.0000 - val_fn: 27.0000 - val_accuracy: 0.8564\n",
            "Epoch 20/50\n",
            "34/34 [==============================] - 50s 1s/step - loss: 0.0352 - precision: 0.9847 - recall: 0.9948 - f1: 0.9891 - auc: 0.9999 - tp: 193.0000 - tn: 889.0000 - fp: 3.0000 - fn: 1.0000 - accuracy: 0.9963 - val_loss: 0.4174 - val_precision: 0.4286 - val_recall: 0.1538 - val_f1: 0.2037 - val_auc: 0.7018 - val_tp: 6.0000 - val_tn: 315.0000 - val_fp: 8.0000 - val_fn: 33.0000 - val_accuracy: 0.8867\n",
            "Epoch 21/50\n",
            "34/34 [==============================] - 51s 2s/step - loss: 0.0260 - precision: 0.9948 - recall: 0.9948 - f1: 0.9922 - auc: 1.0000 - tp: 193.0000 - tn: 891.0000 - fp: 1.0000 - fn: 1.0000 - accuracy: 0.9982 - val_loss: 0.4627 - val_precision: 0.3056 - val_recall: 0.2821 - val_f1: 0.2500 - val_auc: 0.6825 - val_tp: 11.0000 - val_tn: 298.0000 - val_fp: 25.0000 - val_fn: 28.0000 - val_accuracy: 0.8536\n",
            "Epoch 22/50\n",
            "34/34 [==============================] - 51s 2s/step - loss: 0.0222 - precision: 0.9948 - recall: 0.9948 - f1: 0.9954 - auc: 1.0000 - tp: 193.0000 - tn: 891.0000 - fp: 1.0000 - fn: 1.0000 - accuracy: 0.9982 - val_loss: 0.4494 - val_precision: 0.3462 - val_recall: 0.2308 - val_f1: 0.2303 - val_auc: 0.7062 - val_tp: 9.0000 - val_tn: 306.0000 - val_fp: 17.0000 - val_fn: 30.0000 - val_accuracy: 0.8702\n",
            "Epoch 23/50\n",
            "34/34 [==============================] - 51s 2s/step - loss: 0.0192 - precision: 0.9948 - recall: 0.9948 - f1: 0.9960 - auc: 1.0000 - tp: 193.0000 - tn: 891.0000 - fp: 1.0000 - fn: 1.0000 - accuracy: 0.9982 - val_loss: 0.4687 - val_precision: 0.2857 - val_recall: 0.3077 - val_f1: 0.2282 - val_auc: 0.7020 - val_tp: 12.0000 - val_tn: 293.0000 - val_fp: 30.0000 - val_fn: 27.0000 - val_accuracy: 0.8425\n",
            "Epoch 24/50\n",
            "34/34 [==============================] - 52s 2s/step - loss: 0.0215 - precision: 0.9897 - recall: 0.9948 - f1: 0.9921 - auc: 1.0000 - tp: 193.0000 - tn: 890.0000 - fp: 2.0000 - fn: 1.0000 - accuracy: 0.9972 - val_loss: 0.4668 - val_precision: 0.3333 - val_recall: 0.2821 - val_f1: 0.2144 - val_auc: 0.6757 - val_tp: 11.0000 - val_tn: 301.0000 - val_fp: 22.0000 - val_fn: 28.0000 - val_accuracy: 0.8619\n",
            "Epoch 25/50\n",
            "34/34 [==============================] - 50s 1s/step - loss: 0.0159 - precision: 0.9948 - recall: 0.9948 - f1: 0.9938 - auc: 1.0000 - tp: 193.0000 - tn: 891.0000 - fp: 1.0000 - fn: 1.0000 - accuracy: 0.9982 - val_loss: 0.4536 - val_precision: 0.3333 - val_recall: 0.2821 - val_f1: 0.2542 - val_auc: 0.6898 - val_tp: 11.0000 - val_tn: 301.0000 - val_fp: 22.0000 - val_fn: 28.0000 - val_accuracy: 0.8619\n",
            "12/12 [==============================] - 4s 314ms/step - loss: 0.5675 - precision: 0.2400 - recall: 0.6154 - f1: 0.3444 - auc: 0.7093 - tp: 24.0000 - tn: 247.0000 - fp: 76.0000 - fn: 15.0000 - accuracy: 0.7486\n",
            "\n",
            "CHECKING SPLIT NUM: 3\n",
            "\n",
            "Epoch 1/50\n",
            "34/34 [==============================] - ETA: 0s - loss: 1.1186 - precision: 0.1913 - recall: 0.3930 - f1: 0.1992 - auc: 0.6031 - tp: 79.0000 - tn: 913.0000 - fp: 334.0000 - fn: 122.0000 - accuracy: 0.6851\n",
            "Epoch: 0, accuracy:0.6851,  auc:0.6031,  f1:0.1992,  fn:122.0000,  fp:334.0000,  loss:1.1186,  precision:0.1913,  recall:0.3930,  tn:913.0000,  tp:79.0000,  val_accuracy:0.8039,  val_auc:0.5284,  val_f1:0.0000,  val_fn:71.0000,  val_fp:0.0000,  val_loss:0.6859,  val_precision:0.0000,  val_recall:0.0000,  val_tn:291.0000,  val_tp:0.0000,  \n",
            "34/34 [==============================] - 71s 2s/step - loss: 1.1186 - precision: 0.1913 - recall: 0.3930 - f1: 0.1992 - auc: 0.6031 - tp: 79.0000 - tn: 913.0000 - fp: 334.0000 - fn: 122.0000 - accuracy: 0.6851 - val_loss: 0.6859 - val_precision: 0.0000e+00 - val_recall: 0.0000e+00 - val_f1: 0.0000e+00 - val_auc: 0.5284 - val_tp: 0.0000e+00 - val_tn: 291.0000 - val_fp: 0.0000e+00 - val_fn: 71.0000 - val_accuracy: 0.8039\n",
            "Epoch 2/50\n",
            "34/34 [==============================] - 50s 1s/step - loss: 1.1137 - precision: 0.2222 - recall: 0.0494 - f1: 0.0669 - auc: 0.6465 - tp: 8.0000 - tn: 896.0000 - fp: 28.0000 - fn: 154.0000 - accuracy: 0.8324 - val_loss: 0.6718 - val_precision: 0.0000e+00 - val_recall: 0.0000e+00 - val_f1: 0.0000e+00 - val_auc: 0.5739 - val_tp: 0.0000e+00 - val_tn: 291.0000 - val_fp: 0.0000e+00 - val_fn: 71.0000 - val_accuracy: 0.8039\n",
            "Epoch 3/50\n",
            "34/34 [==============================] - 52s 2s/step - loss: 1.1046 - precision: 0.3478 - recall: 0.2469 - f1: 0.2685 - auc: 0.7059 - tp: 40.0000 - tn: 849.0000 - fp: 75.0000 - fn: 122.0000 - accuracy: 0.8186 - val_loss: 0.6525 - val_precision: 0.0000e+00 - val_recall: 0.0000e+00 - val_f1: 0.0000e+00 - val_auc: 0.6000 - val_tp: 0.0000e+00 - val_tn: 291.0000 - val_fp: 0.0000e+00 - val_fn: 71.0000 - val_accuracy: 0.8039\n",
            "Epoch 4/50\n",
            "34/34 [==============================] - 51s 2s/step - loss: 1.0813 - precision: 0.3161 - recall: 0.3395 - f1: 0.2979 - auc: 0.7365 - tp: 55.0000 - tn: 805.0000 - fp: 119.0000 - fn: 107.0000 - accuracy: 0.7919 - val_loss: 0.5991 - val_precision: 0.0000e+00 - val_recall: 0.0000e+00 - val_f1: 0.0000e+00 - val_auc: 0.6663 - val_tp: 0.0000e+00 - val_tn: 291.0000 - val_fp: 0.0000e+00 - val_fn: 71.0000 - val_accuracy: 0.8039\n",
            "Epoch 5/50\n",
            "34/34 [==============================] - 49s 1s/step - loss: 1.0036 - precision: 0.3169 - recall: 0.3580 - f1: 0.3164 - auc: 0.7662 - tp: 58.0000 - tn: 799.0000 - fp: 125.0000 - fn: 104.0000 - accuracy: 0.7891 - val_loss: 0.5624 - val_precision: 1.0000 - val_recall: 0.0423 - val_f1: 0.0661 - val_auc: 0.7071 - val_tp: 3.0000 - val_tn: 291.0000 - val_fp: 0.0000e+00 - val_fn: 68.0000 - val_accuracy: 0.8122\n",
            "Epoch 6/50\n",
            "34/34 [==============================] - 52s 2s/step - loss: 0.8884 - precision: 0.4234 - recall: 0.6481 - f1: 0.5100 - auc: 0.8192 - tp: 105.0000 - tn: 781.0000 - fp: 143.0000 - fn: 57.0000 - accuracy: 0.8158 - val_loss: 0.4731 - val_precision: 0.4082 - val_recall: 0.2817 - val_f1: 0.3463 - val_auc: 0.7325 - val_tp: 20.0000 - val_tn: 262.0000 - val_fp: 29.0000 - val_fn: 51.0000 - val_accuracy: 0.7790\n",
            "Epoch 7/50\n",
            "34/34 [==============================] - 52s 2s/step - loss: 0.7384 - precision: 0.4930 - recall: 0.8642 - f1: 0.6150 - auc: 0.8603 - tp: 140.0000 - tn: 780.0000 - fp: 144.0000 - fn: 22.0000 - accuracy: 0.8471 - val_loss: 0.4811 - val_precision: 0.3592 - val_recall: 0.5211 - val_f1: 0.4369 - val_auc: 0.7399 - val_tp: 37.0000 - val_tn: 225.0000 - val_fp: 66.0000 - val_fn: 34.0000 - val_accuracy: 0.7238\n",
            "Epoch 8/50\n",
            "34/34 [==============================] - 51s 2s/step - loss: 0.6281 - precision: 0.5071 - recall: 0.8765 - f1: 0.6373 - auc: 0.8927 - tp: 142.0000 - tn: 786.0000 - fp: 138.0000 - fn: 20.0000 - accuracy: 0.8545 - val_loss: 0.4717 - val_precision: 0.4058 - val_recall: 0.3944 - val_f1: 0.3637 - val_auc: 0.7403 - val_tp: 28.0000 - val_tn: 250.0000 - val_fp: 41.0000 - val_fn: 43.0000 - val_accuracy: 0.7680\n",
            "Epoch 9/50\n",
            "34/34 [==============================] - 51s 2s/step - loss: 0.4841 - precision: 0.5584 - recall: 0.9444 - f1: 0.6854 - auc: 0.9493 - tp: 153.0000 - tn: 803.0000 - fp: 121.0000 - fn: 9.0000 - accuracy: 0.8803 - val_loss: 0.4413 - val_precision: 0.5385 - val_recall: 0.0986 - val_f1: 0.1557 - val_auc: 0.7459 - val_tp: 7.0000 - val_tn: 285.0000 - val_fp: 6.0000 - val_fn: 64.0000 - val_accuracy: 0.8066\n",
            "Epoch 10/50\n",
            "34/34 [==============================] - 49s 1s/step - loss: 0.4023 - precision: 0.6802 - recall: 0.9321 - f1: 0.7542 - auc: 0.9708 - tp: 151.0000 - tn: 853.0000 - fp: 71.0000 - fn: 11.0000 - accuracy: 0.9245 - val_loss: 0.4416 - val_precision: 0.5000 - val_recall: 0.2817 - val_f1: 0.2998 - val_auc: 0.7645 - val_tp: 20.0000 - val_tn: 271.0000 - val_fp: 20.0000 - val_fn: 51.0000 - val_accuracy: 0.8039\n",
            "Epoch 11/50\n",
            "34/34 [==============================] - 51s 2s/step - loss: 0.3514 - precision: 0.7028 - recall: 0.9198 - f1: 0.7923 - auc: 0.9738 - tp: 149.0000 - tn: 861.0000 - fp: 63.0000 - fn: 13.0000 - accuracy: 0.9300 - val_loss: 0.4611 - val_precision: 0.4762 - val_recall: 0.4225 - val_f1: 0.3945 - val_auc: 0.7701 - val_tp: 30.0000 - val_tn: 258.0000 - val_fp: 33.0000 - val_fn: 41.0000 - val_accuracy: 0.7956\n",
            "Epoch 12/50\n",
            "34/34 [==============================] - 51s 2s/step - loss: 0.3067 - precision: 0.7027 - recall: 0.9630 - f1: 0.8080 - auc: 0.9844 - tp: 156.0000 - tn: 858.0000 - fp: 66.0000 - fn: 6.0000 - accuracy: 0.9337 - val_loss: 0.5029 - val_precision: 0.4242 - val_recall: 0.3944 - val_f1: 0.4063 - val_auc: 0.7495 - val_tp: 28.0000 - val_tn: 253.0000 - val_fp: 38.0000 - val_fn: 43.0000 - val_accuracy: 0.7762\n",
            "Epoch 13/50\n",
            "34/34 [==============================] - 51s 2s/step - loss: 0.2191 - precision: 0.7879 - recall: 0.9630 - f1: 0.8439 - auc: 0.9918 - tp: 156.0000 - tn: 882.0000 - fp: 42.0000 - fn: 6.0000 - accuracy: 0.9558 - val_loss: 0.5023 - val_precision: 0.4423 - val_recall: 0.3239 - val_f1: 0.3376 - val_auc: 0.7597 - val_tp: 23.0000 - val_tn: 262.0000 - val_fp: 29.0000 - val_fn: 48.0000 - val_accuracy: 0.7873\n",
            "Epoch 14/50\n",
            "34/34 [==============================] - 51s 2s/step - loss: 0.2225 - precision: 0.7959 - recall: 0.9630 - f1: 0.8712 - auc: 0.9902 - tp: 156.0000 - tn: 884.0000 - fp: 40.0000 - fn: 6.0000 - accuracy: 0.9576 - val_loss: 0.5756 - val_precision: 0.3974 - val_recall: 0.4366 - val_f1: 0.4092 - val_auc: 0.7601 - val_tp: 31.0000 - val_tn: 244.0000 - val_fp: 47.0000 - val_fn: 40.0000 - val_accuracy: 0.7597\n",
            "Epoch 15/50\n",
            "34/34 [==============================] - 52s 2s/step - loss: 0.1572 - precision: 0.8689 - recall: 0.9815 - f1: 0.8862 - auc: 0.9964 - tp: 159.0000 - tn: 900.0000 - fp: 24.0000 - fn: 3.0000 - accuracy: 0.9751 - val_loss: 0.4850 - val_precision: 0.5882 - val_recall: 0.1408 - val_f1: 0.2083 - val_auc: 0.7476 - val_tp: 10.0000 - val_tn: 284.0000 - val_fp: 7.0000 - val_fn: 61.0000 - val_accuracy: 0.8122\n",
            "Epoch 16/50\n",
            "34/34 [==============================] - 50s 1s/step - loss: 0.1234 - precision: 0.9143 - recall: 0.9877 - f1: 0.9551 - auc: 0.9983 - tp: 160.0000 - tn: 909.0000 - fp: 15.0000 - fn: 2.0000 - accuracy: 0.9843 - val_loss: 0.5196 - val_precision: 0.5517 - val_recall: 0.2254 - val_f1: 0.3147 - val_auc: 0.7442 - val_tp: 16.0000 - val_tn: 278.0000 - val_fp: 13.0000 - val_fn: 55.0000 - val_accuracy: 0.8122\n",
            "Epoch 17/50\n",
            "34/34 [==============================] - 52s 2s/step - loss: 0.0888 - precision: 0.9524 - recall: 0.9877 - f1: 0.9405 - auc: 0.9990 - tp: 160.0000 - tn: 916.0000 - fp: 8.0000 - fn: 2.0000 - accuracy: 0.9908 - val_loss: 0.5429 - val_precision: 0.4615 - val_recall: 0.0845 - val_f1: 0.1251 - val_auc: 0.7338 - val_tp: 6.0000 - val_tn: 284.0000 - val_fp: 7.0000 - val_fn: 65.0000 - val_accuracy: 0.8011\n",
            "Epoch 18/50\n",
            "34/34 [==============================] - 53s 2s/step - loss: 0.0697 - precision: 0.9581 - recall: 0.9877 - f1: 0.9721 - auc: 0.9996 - tp: 160.0000 - tn: 917.0000 - fp: 7.0000 - fn: 2.0000 - accuracy: 0.9917 - val_loss: 0.5498 - val_precision: 0.5556 - val_recall: 0.2113 - val_f1: 0.2585 - val_auc: 0.7432 - val_tp: 15.0000 - val_tn: 279.0000 - val_fp: 12.0000 - val_fn: 56.0000 - val_accuracy: 0.8122\n",
            "Epoch 19/50\n",
            "34/34 [==============================] - 51s 2s/step - loss: 0.0578 - precision: 0.9756 - recall: 0.9877 - f1: 0.9830 - auc: 0.9997 - tp: 160.0000 - tn: 920.0000 - fp: 4.0000 - fn: 2.0000 - accuracy: 0.9945 - val_loss: 0.6257 - val_precision: 0.5000 - val_recall: 0.1831 - val_f1: 0.2087 - val_auc: 0.7324 - val_tp: 13.0000 - val_tn: 278.0000 - val_fp: 13.0000 - val_fn: 58.0000 - val_accuracy: 0.8039\n",
            "Epoch 20/50\n",
            "34/34 [==============================] - 53s 2s/step - loss: 0.0463 - precision: 0.9758 - recall: 0.9938 - f1: 0.9686 - auc: 0.9999 - tp: 161.0000 - tn: 920.0000 - fp: 4.0000 - fn: 1.0000 - accuracy: 0.9954 - val_loss: 0.6556 - val_precision: 0.4000 - val_recall: 0.0845 - val_f1: 0.1000 - val_auc: 0.7381 - val_tp: 6.0000 - val_tn: 282.0000 - val_fp: 9.0000 - val_fn: 65.0000 - val_accuracy: 0.7956\n",
            "Epoch 21/50\n",
            "34/34 [==============================] - 52s 2s/step - loss: 0.0428 - precision: 0.9877 - recall: 0.9938 - f1: 0.9923 - auc: 0.9999 - tp: 161.0000 - tn: 922.0000 - fp: 2.0000 - fn: 1.0000 - accuracy: 0.9972 - val_loss: 0.5019 - val_precision: 0.5185 - val_recall: 0.1972 - val_f1: 0.3100 - val_auc: 0.7611 - val_tp: 14.0000 - val_tn: 278.0000 - val_fp: 13.0000 - val_fn: 57.0000 - val_accuracy: 0.8066\n",
            "Epoch 22/50\n",
            "34/34 [==============================] - 51s 2s/step - loss: 0.0374 - precision: 0.9817 - recall: 0.9938 - f1: 0.9610 - auc: 0.9999 - tp: 161.0000 - tn: 921.0000 - fp: 3.0000 - fn: 1.0000 - accuracy: 0.9963 - val_loss: 0.5710 - val_precision: 0.5000 - val_recall: 0.1690 - val_f1: 0.2011 - val_auc: 0.7445 - val_tp: 12.0000 - val_tn: 279.0000 - val_fp: 12.0000 - val_fn: 59.0000 - val_accuracy: 0.8039\n",
            "12/12 [==============================] - 7s 557ms/step - loss: 0.4811 - precision: 0.3592 - recall: 0.5211 - f1: 0.4443 - auc: 0.7399 - tp: 37.0000 - tn: 225.0000 - fp: 66.0000 - fn: 34.0000 - accuracy: 0.7238\n",
            "\n",
            "CHECKING SPLIT NUM: 4\n",
            "\n",
            "Epoch 1/50\n",
            "34/34 [==============================] - ETA: 0s - loss: 1.0914 - precision: 0.2979 - recall: 0.2511 - f1: 0.1025 - auc: 0.5807 - tp: 56.0000 - tn: 1093.0000 - fp: 132.0000 - fn: 167.0000 - accuracy: 0.7935\n",
            "Epoch: 0, accuracy:0.7935,  auc:0.5807,  f1:0.1025,  fn:167.0000,  fp:132.0000,  loss:1.0914,  precision:0.2979,  recall:0.2511,  tn:1093.0000,  tp:56.0000,  val_accuracy:0.7762,  val_auc:0.6331,  val_f1:0.0000,  val_fn:81.0000,  val_fp:0.0000,  val_loss:0.6835,  val_precision:0.0000,  val_recall:0.0000,  val_tn:281.0000,  val_tp:0.0000,  \n",
            "34/34 [==============================] - 60s 1s/step - loss: 1.0914 - precision: 0.2979 - recall: 0.2511 - f1: 0.1025 - auc: 0.5807 - tp: 56.0000 - tn: 1093.0000 - fp: 132.0000 - fn: 167.0000 - accuracy: 0.7935 - val_loss: 0.6835 - val_precision: 0.0000e+00 - val_recall: 0.0000e+00 - val_f1: 0.0000e+00 - val_auc: 0.6331 - val_tp: 0.0000e+00 - val_tn: 281.0000 - val_fp: 0.0000e+00 - val_fn: 81.0000 - val_accuracy: 0.7762\n",
            "Epoch 2/50\n",
            "34/34 [==============================] - 40s 1s/step - loss: 1.0866 - precision: 0.0000e+00 - recall: 0.0000e+00 - f1: 0.0000e+00 - auc: 0.6502 - tp: 0.0000e+00 - tn: 934.0000 - fp: 0.0000e+00 - fn: 152.0000 - accuracy: 0.8600 - val_loss: 0.6729 - val_precision: 0.0000e+00 - val_recall: 0.0000e+00 - val_f1: 0.0000e+00 - val_auc: 0.6573 - val_tp: 0.0000e+00 - val_tn: 281.0000 - val_fp: 0.0000e+00 - val_fn: 81.0000 - val_accuracy: 0.7762\n",
            "Epoch 3/50\n",
            "34/34 [==============================] - 41s 1s/step - loss: 1.0816 - precision: 0.0000e+00 - recall: 0.0000e+00 - f1: 0.0000e+00 - auc: 0.6311 - tp: 0.0000e+00 - tn: 934.0000 - fp: 0.0000e+00 - fn: 152.0000 - accuracy: 0.8600 - val_loss: 0.6546 - val_precision: 0.0000e+00 - val_recall: 0.0000e+00 - val_f1: 0.0000e+00 - val_auc: 0.6738 - val_tp: 0.0000e+00 - val_tn: 281.0000 - val_fp: 0.0000e+00 - val_fn: 81.0000 - val_accuracy: 0.7762\n",
            "Epoch 4/50\n",
            "34/34 [==============================] - 41s 1s/step - loss: 1.0709 - precision: 0.0000e+00 - recall: 0.0000e+00 - f1: 0.0000e+00 - auc: 0.8105 - tp: 0.0000e+00 - tn: 934.0000 - fp: 0.0000e+00 - fn: 152.0000 - accuracy: 0.8600 - val_loss: 0.6343 - val_precision: 0.0000e+00 - val_recall: 0.0000e+00 - val_f1: 0.0000e+00 - val_auc: 0.6900 - val_tp: 0.0000e+00 - val_tn: 281.0000 - val_fp: 0.0000e+00 - val_fn: 81.0000 - val_accuracy: 0.7762\n",
            "Epoch 5/50\n",
            "34/34 [==============================] - 41s 1s/step - loss: 1.0444 - precision: 0.0000e+00 - recall: 0.0000e+00 - f1: 0.0000e+00 - auc: 0.8531 - tp: 0.0000e+00 - tn: 934.0000 - fp: 0.0000e+00 - fn: 152.0000 - accuracy: 0.8600 - val_loss: 0.6013 - val_precision: 0.0000e+00 - val_recall: 0.0000e+00 - val_f1: 0.0000e+00 - val_auc: 0.7004 - val_tp: 0.0000e+00 - val_tn: 281.0000 - val_fp: 0.0000e+00 - val_fn: 81.0000 - val_accuracy: 0.7762\n",
            "Epoch 6/50\n",
            "34/34 [==============================] - 41s 1s/step - loss: 0.9640 - precision: 1.0000 - recall: 0.0395 - f1: 0.0579 - auc: 0.8549 - tp: 6.0000 - tn: 934.0000 - fp: 0.0000e+00 - fn: 146.0000 - accuracy: 0.8656 - val_loss: 0.5513 - val_precision: 0.8333 - val_recall: 0.0617 - val_f1: 0.0877 - val_auc: 0.7115 - val_tp: 5.0000 - val_tn: 280.0000 - val_fp: 1.0000 - val_fn: 76.0000 - val_accuracy: 0.7873\n",
            "Epoch 7/50\n",
            "34/34 [==============================] - 39s 1s/step - loss: 0.8081 - precision: 0.6190 - recall: 0.5987 - f1: 0.5928 - auc: 0.9036 - tp: 91.0000 - tn: 878.0000 - fp: 56.0000 - fn: 61.0000 - accuracy: 0.8923 - val_loss: 0.5019 - val_precision: 0.4706 - val_recall: 0.4938 - val_f1: 0.4722 - val_auc: 0.7480 - val_tp: 40.0000 - val_tn: 236.0000 - val_fp: 45.0000 - val_fn: 41.0000 - val_accuracy: 0.7624\n",
            "Epoch 8/50\n",
            "34/34 [==============================] - 41s 1s/step - loss: 0.9277 - precision: 0.6205 - recall: 0.6776 - f1: 0.5717 - auc: 0.8328 - tp: 103.0000 - tn: 871.0000 - fp: 63.0000 - fn: 49.0000 - accuracy: 0.8969 - val_loss: 0.4994 - val_precision: 0.4167 - val_recall: 0.5556 - val_f1: 0.4582 - val_auc: 0.7416 - val_tp: 45.0000 - val_tn: 218.0000 - val_fp: 63.0000 - val_fn: 36.0000 - val_accuracy: 0.7265\n",
            "Epoch 9/50\n",
            "34/34 [==============================] - 41s 1s/step - loss: 0.5782 - precision: 0.6298 - recall: 0.8618 - f1: 0.7153 - auc: 0.9560 - tp: 131.0000 - tn: 857.0000 - fp: 77.0000 - fn: 21.0000 - accuracy: 0.9098 - val_loss: 0.5476 - val_precision: 0.3939 - val_recall: 0.6420 - val_f1: 0.4436 - val_auc: 0.7230 - val_tp: 52.0000 - val_tn: 201.0000 - val_fp: 80.0000 - val_fn: 29.0000 - val_accuracy: 0.6989\n",
            "Epoch 10/50\n",
            "34/34 [==============================] - 41s 1s/step - loss: 0.4831 - precision: 0.6761 - recall: 0.9474 - f1: 0.7872 - auc: 0.9662 - tp: 144.0000 - tn: 865.0000 - fp: 69.0000 - fn: 8.0000 - accuracy: 0.9291 - val_loss: 0.5096 - val_precision: 0.4125 - val_recall: 0.4074 - val_f1: 0.3559 - val_auc: 0.7262 - val_tp: 33.0000 - val_tn: 234.0000 - val_fp: 47.0000 - val_fn: 48.0000 - val_accuracy: 0.7376\n",
            "Epoch 11/50\n",
            "34/34 [==============================] - 41s 1s/step - loss: 0.4715 - precision: 0.7401 - recall: 0.8618 - f1: 0.7950 - auc: 0.9515 - tp: 131.0000 - tn: 888.0000 - fp: 46.0000 - fn: 21.0000 - accuracy: 0.9383 - val_loss: 0.4795 - val_precision: 0.6286 - val_recall: 0.2716 - val_f1: 0.3578 - val_auc: 0.7318 - val_tp: 22.0000 - val_tn: 268.0000 - val_fp: 13.0000 - val_fn: 59.0000 - val_accuracy: 0.8011\n",
            "Epoch 12/50\n",
            "34/34 [==============================] - 40s 1s/step - loss: 0.3136 - precision: 0.7653 - recall: 0.9868 - f1: 0.8465 - auc: 0.9935 - tp: 150.0000 - tn: 888.0000 - fp: 46.0000 - fn: 2.0000 - accuracy: 0.9558 - val_loss: 0.5465 - val_precision: 0.3942 - val_recall: 0.5062 - val_f1: 0.4481 - val_auc: 0.7174 - val_tp: 41.0000 - val_tn: 218.0000 - val_fp: 63.0000 - val_fn: 40.0000 - val_accuracy: 0.7155\n",
            "Epoch 13/50\n",
            "34/34 [==============================] - 40s 1s/step - loss: 0.2556 - precision: 0.8418 - recall: 0.9803 - f1: 0.8813 - auc: 0.9930 - tp: 149.0000 - tn: 906.0000 - fp: 28.0000 - fn: 3.0000 - accuracy: 0.9715 - val_loss: 0.5567 - val_precision: 0.4412 - val_recall: 0.3704 - val_f1: 0.3796 - val_auc: 0.7187 - val_tp: 30.0000 - val_tn: 243.0000 - val_fp: 38.0000 - val_fn: 51.0000 - val_accuracy: 0.7541\n",
            "Epoch 14/50\n",
            "34/34 [==============================] - 39s 1s/step - loss: 0.2983 - precision: 0.7790 - recall: 0.9276 - f1: 0.8335 - auc: 0.9870 - tp: 141.0000 - tn: 894.0000 - fp: 40.0000 - fn: 11.0000 - accuracy: 0.9530 - val_loss: 0.8510 - val_precision: 0.4444 - val_recall: 0.0988 - val_f1: 0.1363 - val_auc: 0.6829 - val_tp: 8.0000 - val_tn: 271.0000 - val_fp: 10.0000 - val_fn: 73.0000 - val_accuracy: 0.7707\n",
            "Epoch 15/50\n",
            "34/34 [==============================] - 40s 1s/step - loss: 0.3068 - precision: 0.8662 - recall: 0.8947 - f1: 0.8126 - auc: 0.9883 - tp: 136.0000 - tn: 913.0000 - fp: 21.0000 - fn: 16.0000 - accuracy: 0.9659 - val_loss: 0.5835 - val_precision: 0.6129 - val_recall: 0.2346 - val_f1: 0.3097 - val_auc: 0.7020 - val_tp: 19.0000 - val_tn: 269.0000 - val_fp: 12.0000 - val_fn: 62.0000 - val_accuracy: 0.7956\n",
            "Epoch 16/50\n",
            "34/34 [==============================] - 42s 1s/step - loss: 0.1573 - precision: 0.8837 - recall: 1.0000 - f1: 0.9407 - auc: 0.9976 - tp: 152.0000 - tn: 914.0000 - fp: 20.0000 - fn: 0.0000e+00 - accuracy: 0.9816 - val_loss: 0.6874 - val_precision: 0.4118 - val_recall: 0.2593 - val_f1: 0.2776 - val_auc: 0.6837 - val_tp: 21.0000 - val_tn: 251.0000 - val_fp: 30.0000 - val_fn: 60.0000 - val_accuracy: 0.7514\n",
            "Epoch 17/50\n",
            "34/34 [==============================] - 40s 1s/step - loss: 0.1443 - precision: 0.8935 - recall: 0.9934 - f1: 0.9363 - auc: 0.9981 - tp: 151.0000 - tn: 916.0000 - fp: 18.0000 - fn: 1.0000 - accuracy: 0.9825 - val_loss: 0.6724 - val_precision: 0.5161 - val_recall: 0.1975 - val_f1: 0.2356 - val_auc: 0.6911 - val_tp: 16.0000 - val_tn: 266.0000 - val_fp: 15.0000 - val_fn: 65.0000 - val_accuracy: 0.7790\n",
            "Epoch 18/50\n",
            "34/34 [==============================] - 41s 1s/step - loss: 0.1180 - precision: 0.9441 - recall: 1.0000 - f1: 0.9685 - auc: 0.9984 - tp: 152.0000 - tn: 925.0000 - fp: 9.0000 - fn: 0.0000e+00 - accuracy: 0.9917 - val_loss: 0.6764 - val_precision: 0.4524 - val_recall: 0.2346 - val_f1: 0.2603 - val_auc: 0.6897 - val_tp: 19.0000 - val_tn: 258.0000 - val_fp: 23.0000 - val_fn: 62.0000 - val_accuracy: 0.7652\n",
            "Epoch 19/50\n",
            "34/34 [==============================] - 41s 1s/step - loss: 0.1045 - precision: 0.9383 - recall: 1.0000 - f1: 0.9613 - auc: 0.9990 - tp: 152.0000 - tn: 924.0000 - fp: 10.0000 - fn: 0.0000e+00 - accuracy: 0.9908 - val_loss: 0.7075 - val_precision: 0.4231 - val_recall: 0.2716 - val_f1: 0.3115 - val_auc: 0.6971 - val_tp: 22.0000 - val_tn: 251.0000 - val_fp: 30.0000 - val_fn: 59.0000 - val_accuracy: 0.7541\n",
            "Epoch 20/50\n",
            "34/34 [==============================] - 41s 1s/step - loss: 0.0823 - precision: 0.9500 - recall: 1.0000 - f1: 0.9625 - auc: 0.9993 - tp: 152.0000 - tn: 926.0000 - fp: 8.0000 - fn: 0.0000e+00 - accuracy: 0.9926 - val_loss: 0.7799 - val_precision: 0.4255 - val_recall: 0.2469 - val_f1: 0.2788 - val_auc: 0.6805 - val_tp: 20.0000 - val_tn: 254.0000 - val_fp: 27.0000 - val_fn: 61.0000 - val_accuracy: 0.7569\n",
            "Epoch 21/50\n",
            "34/34 [==============================] - 40s 1s/step - loss: 0.0787 - precision: 0.9677 - recall: 0.9868 - f1: 0.9709 - auc: 0.9994 - tp: 150.0000 - tn: 929.0000 - fp: 5.0000 - fn: 2.0000 - accuracy: 0.9936 - val_loss: 0.7974 - val_precision: 0.4419 - val_recall: 0.2346 - val_f1: 0.2797 - val_auc: 0.6777 - val_tp: 19.0000 - val_tn: 257.0000 - val_fp: 24.0000 - val_fn: 62.0000 - val_accuracy: 0.7624\n",
            "Epoch 22/50\n",
            "34/34 [==============================] - 40s 1s/step - loss: 0.0680 - precision: 0.9740 - recall: 0.9868 - f1: 0.9729 - auc: 0.9995 - tp: 150.0000 - tn: 930.0000 - fp: 4.0000 - fn: 2.0000 - accuracy: 0.9945 - val_loss: 0.8774 - val_precision: 0.4839 - val_recall: 0.1852 - val_f1: 0.2517 - val_auc: 0.6431 - val_tp: 15.0000 - val_tn: 265.0000 - val_fp: 16.0000 - val_fn: 66.0000 - val_accuracy: 0.7735\n",
            "12/12 [==============================] - 10s 758ms/step - loss: 0.5019 - precision: 0.4706 - recall: 0.4938 - f1: 0.4214 - auc: 0.7480 - tp: 40.0000 - tn: 236.0000 - fp: 45.0000 - fn: 41.0000 - accuracy: 0.7624\n",
            "!!! SESSION NUM 0 ---> CV VALIDATION f1: 0.372452549636364\n",
            "!!! auc: 0.7154758721590042\n"
          ]
        },
        {
          "data": {
            "image/png": "[encoded data removed]",
            "text/plain": [
              "<Figure size 432x288 with 1 Axes>"
            ]
          },
          "metadata": {
            "needs_background": "light"
          },
          "output_type": "display_data"
        },
        {
          "name": "stdout",
          "output_type": "stream",
          "text": [
            "\n",
            "------------------------------------------\n"
          ]
        },
        {
          "data": {
            "image/png": "[encoded data removed]",
            "text/plain": [
              "<Figure size 432x288 with 1 Axes>"
            ]
          },
          "metadata": {
            "needs_background": "light"
          },
          "output_type": "display_data"
        }
      ],
      "source": [
        "#this is the highest-level method that runs the 2 above, call many times the run(....) method with different params combination\n",
        "\n",
        "#you can choose: 1) to iterate one after all the paramters (not working atm, need to be added optimzier and num-epochs params)\n",
        "#                2) Sample randomly from the paramters we have, useful for having a general idea of the performances\n",
        "\n",
        "#the HParams framework is taken form the Tensorflow webpage as a \"standard\" hyperparameter optimization framework\n",
        "\n",
        "def run_tuning(random_parameters):\n",
        "    #take all the paramters one after all trying all the combinations\n",
        "    if not random_parameters :\n",
        "        \n",
        "          #all values tuning way         \n",
        "        print(\"Using parameters given by the operator\")\n",
        "        \n",
        "        #print(param)\n",
        "      \n",
        "        hparams = {\n",
        "          HP_EMBEDDING_DIM:int(float(param[0])),\n",
        "          HP_NUM_UNITS: int(float(param[1])), #forse eb dim e num units sono inverititi\n",
        "          HP_OPTIMIZER_LR: float(param[2]),\n",
        "          HP_WEIGHT_TUNER:  float(param[3]),\n",
        "          HP_NUM_LAYERS: int(float(param[4])),\n",
        "          HP_NUM_EPOCHS: 50,\n",
        "          #HP_KERNEL_REGULARIZATION_L2: ker_l2,\n",
        "          #HP_KERNEL_REGULARIZATION_L1: ker_l1\n",
        "          HP_DROPOUT: float(param[5])\n",
        "        }\n",
        "\n",
        "\n",
        "        print({h.name: hparams[h] for h in hparams})\n",
        "        model = run('logsGraphs/hparam_tuningCV/' + \"result check\", hparams, 0)\n",
        "        return model\n",
        "                    \n",
        "                \n",
        "     #randomly sample parameters   \n",
        "    if random_parameters :\n",
        "        print(\"Trying parameters at random\")\n",
        "                 \n",
        "        session_num = 0\n",
        "        #this while is here simply because after around 20/25 combinations Colab RAM/my pc RAM is full and i need to restart\n",
        "        while session_num <= 50:\n",
        "            num_units = random.choice(HP_NUM_UNITS.domain.values)\n",
        "            \n",
        "            emb_dim = random.choice(HP_EMBEDDING_DIM.domain.values)\n",
        "            opt_lr = random.choice(HP_OPTIMIZER_LR.domain.values)\n",
        "            weight_tuner = random.choice([0.3,0.5,0.7,0.9, 1, 1.1, 1.2])\n",
        "            num_layers = random.choice(HP_NUM_LAYERS.domain.values)\n",
        "            num_epochs = random.choice(HP_NUM_EPOCHS.domain.values)\n",
        "            optimizer = random.choice(HP_OPTIMIZER.domain.values)\n",
        "            #ker_l2 = random.choice(HP_KERNEL_REGULARIZATION_L2.domain.values)\n",
        "            #ker_l1 = random.choice(HP_KERNEL_REGULARIZATION_L1.domain.values)\n",
        "            dropout = random.choice(HP_DROPOUT.domain.values)\n",
        "            #creates a dictionary with the random sampled parameters, taken at random every time\n",
        "            \n",
        "            hparams = {\n",
        "              HP_NUM_UNITS: emb_dim, #num un= emb_dim\n",
        "              HP_EMBEDDING_DIM: emb_dim,\n",
        "              HP_OPTIMIZER_LR: opt_lr,\n",
        "              HP_WEIGHT_TUNER: weight_tuner,\n",
        "              HP_NUM_LAYERS: num_layers,\n",
        "              HP_NUM_EPOCHS: num_epochs,\n",
        "              HP_OPTIMIZER: optimizer,\n",
        "              #HP_KERNEL_REGULARIZATION_L2: ker_l2,\n",
        "              #HP_KERNEL_REGULARIZATION_L1: ker_l1\n",
        "              HP_DROPOUT: dropout\n",
        "            }\n",
        "            \n",
        "            run_name = \"run-%d\" % session_num\n",
        "            \n",
        "            print(\"!--WARNING--! DROPOUT and CLASS_WEIGHT are DISABLED and  EMB_DIM=NUM_UNITS\")\n",
        "            \n",
        "            print('--- Starting trial: %s' % run_name)\n",
        "            print({h.name: hparams[h] for h in hparams})\n",
        "            \n",
        "            #call the run(..) method defined earlier\n",
        "            run('logsGraphs/hparam_tuningCV/' + run_name, hparams, session_num)\n",
        "            \n",
        "            \n",
        "            \n",
        "            session_num += 1\n",
        "\n",
        "                \n",
        "model = run_tuning(random_parameters=False)"
      ]
    },
    {
      "cell_type": "markdown",
      "metadata": {
        "id": "cc19qGxZuHyP"
      },
      "source": [
        "## Test check"
      ]
    },
    {
      "cell_type": "code",
      "execution_count": null,
      "metadata": {
        "id": "WjdLEXkNuHyP"
      },
      "outputs": [],
      "source": [
        "def runTest(run_dir, hparams, session_num, predictions=False,ret_model=False):\n",
        "  with tf.summary.create_file_writer(run_dir).as_default():\n",
        "    # record the values used in this trial\n",
        "    hp.hparams(hparams)\n",
        "    f1Score,auc = 0,0 \n",
        "    history = {}\n",
        "    \n",
        "      \n",
        "    \n",
        "      \n",
        "    \n",
        "    f1Score,auc,history[\"split \"+str(0)],model = train_test_model(emb_dim = hparams[HP_EMBEDDING_DIM],\n",
        "                                  num_units = hparams[HP_EMBEDDING_DIM], #!!! BEST PRACTICE\n",
        "                                  learning_rate = hparams[HP_OPTIMIZER_LR],\n",
        "                                  weight_normalizer= hparams[HP_WEIGHT_TUNER],\n",
        "                                  num_layers = hparams[HP_NUM_LAYERS],\n",
        "                                  num_epochs = hparams[HP_NUM_EPOCHS],\n",
        "                                  #ker_l2 = hparams[HP_KERNEL_REGULARIZATION_L2],\n",
        "                                  #ker_l1 = hparams[HP_KERNEL_REGULARIZATION_L1],\n",
        "                                  dropout = hparams[HP_DROPOUT],\n",
        "                                  train_dataset = train_ds_final,\n",
        "                                  val_dataset = test_dataset,\n",
        "                                  ret_model = True)\n",
        " \n",
        "    print(\"!!! f1: \"+str(f1Score))\n",
        "    print(\"!!! auc: \"+str(auc))\n",
        "    \n",
        "    #vocab 15k\n",
        "    plotter = tfdocs.plots.HistoryPlotter(metric = 'f1', smoothing_std=10)\n",
        "    plotter.plot(history)\n",
        "    plt.show() \n",
        "\n",
        "    plotter = tfdocs.plots.HistoryPlotter(metric = 'auc', smoothing_std=10)\n",
        "    plotter.plot(history)\n",
        "    plt.show() \n",
        "\n",
        "    plotter = tfdocs.plots.HistoryPlotter(metric = 'tp', smoothing_std=10)\n",
        "    plotter.plot(history)\n",
        "    plt.show() \n",
        "\n",
        "    plotter = tfdocs.plots.HistoryPlotter(metric = 'tn', smoothing_std=10)\n",
        "    plotter.plot(history)\n",
        "    plt.show() \n",
        "\n",
        "    plotter = tfdocs.plots.HistoryPlotter(metric = 'accuracy', smoothing_std=10)\n",
        "    plotter.plot(history)\n",
        "    plt.show() \n",
        "    \n",
        "    \n",
        "    tf.summary.scalar(METRIC1, f1Score, step = tf.convert_to_tensor(1, dtype=tf.int64))\n",
        "    tf.summary.scalar(METRIC2, auc, step = tf.convert_to_tensor(1, dtype=tf.int64))\n",
        "    \n",
        "    if predictions:\n",
        "      return preds\n",
        "\n",
        "    if ret_model:\n",
        "      return model"
      ]
    },
    {
      "cell_type": "code",
      "execution_count": null,
      "metadata": {
        "colab": {
          "base_uri": "https://localhost:8080/",
          "height": 1000
        },
        "id": "769f-SMruHyQ",
        "outputId": "09a434db-0232-40b7-d93b-7b15c0b08fe6"
      },
      "outputs": [
        {
          "name": "stdout",
          "output_type": "stream",
          "text": [
            "Using parameters given by the operator\n",
            "{'num_units': 26, 'emb_dim': 30, 'opt_lr': 0.000154, 'pos_weight_tuner': 0.513936, 'num_layers': 1, 'num_epochs': 50, 'dropout': 0.14731}\n",
            "Epoch 1/50\n"
          ]
        },
        {
          "name": "stderr",
          "output_type": "stream",
          "text": [
            "2022-04-14 13:28:00.742825: I tensorflow/stream_executor/cuda/cuda_dnn.cc:368] Loaded cuDNN version 8302\n"
          ]
        },
        {
          "name": "stdout",
          "output_type": "stream",
          "text": [
            "46/46 [==============================] - ETA: 0s - loss: 1.7793 - precision: 0.1650 - recall: 0.9270 - f1: 0.2673 - auc: 0.5266 - tp: 216.0000 - tn: 122.0000 - fp: 1093.0000 - fn: 17.0000 - accuracy: 0.2334\n",
            "Epoch: 0, accuracy:0.2334,  auc:0.5266,  f1:0.2673,  fn:17.0000,  fp:1093.0000,  loss:1.7793,  precision:0.1650,  recall:0.9270,  tn:122.0000,  tp:216.0000,  val_accuracy:0.2812,  val_auc:0.5000,  val_f1:0.4345,  val_fn:0.0000,  val_fp:184.0000,  val_loss:0.7123,  val_precision:0.2812,  val_recall:1.0000,  val_tn:0.0000,  val_tp:72.0000,  \n",
            "46/46 [==============================] - 84s 2s/step - loss: 1.7793 - precision: 0.1650 - recall: 0.9270 - f1: 0.2673 - auc: 0.5266 - tp: 216.0000 - tn: 122.0000 - fp: 1093.0000 - fn: 17.0000 - accuracy: 0.2334 - val_loss: 0.7123 - val_precision: 0.2812 - val_recall: 1.0000 - val_f1: 0.4345 - val_auc: 0.5000 - val_tp: 72.0000 - val_tn: 0.0000e+00 - val_fp: 184.0000 - val_fn: 0.0000e+00 - val_accuracy: 0.2812\n",
            "Epoch 2/50\n",
            "46/46 [==============================] - 65s 1s/step - loss: 1.7217 - precision: 0.1609 - recall: 1.0000 - f1: 0.2679 - auc: 0.5496 - tp: 233.0000 - tn: 0.0000e+00 - fp: 1215.0000 - fn: 0.0000e+00 - accuracy: 0.1609 - val_loss: 0.7801 - val_precision: 0.2812 - val_recall: 1.0000 - val_f1: 0.4325 - val_auc: 0.5762 - val_tp: 72.0000 - val_tn: 0.0000e+00 - val_fp: 184.0000 - val_fn: 0.0000e+00 - val_accuracy: 0.2812\n",
            "Epoch 3/50\n",
            "46/46 [==============================] - 62s 1s/step - loss: 1.6230 - precision: 0.1609 - recall: 1.0000 - f1: 0.2682 - auc: 0.5648 - tp: 233.0000 - tn: 0.0000e+00 - fp: 1215.0000 - fn: 0.0000e+00 - accuracy: 0.1609 - val_loss: 0.9976 - val_precision: 0.2812 - val_recall: 1.0000 - val_f1: 0.4347 - val_auc: 0.6043 - val_tp: 72.0000 - val_tn: 0.0000e+00 - val_fp: 184.0000 - val_fn: 0.0000e+00 - val_accuracy: 0.2812\n",
            "Epoch 4/50\n",
            "46/46 [==============================] - 64s 1s/step - loss: 1.5748 - precision: 0.1609 - recall: 1.0000 - f1: 0.2671 - auc: 0.6814 - tp: 233.0000 - tn: 0.0000e+00 - fp: 1215.0000 - fn: 0.0000e+00 - accuracy: 0.1609 - val_loss: 1.0214 - val_precision: 0.2812 - val_recall: 1.0000 - val_f1: 0.4339 - val_auc: 0.6259 - val_tp: 72.0000 - val_tn: 0.0000e+00 - val_fp: 184.0000 - val_fn: 0.0000e+00 - val_accuracy: 0.2812\n",
            "Epoch 5/50\n",
            "46/46 [==============================] - 63s 1s/step - loss: 1.5113 - precision: 0.1626 - recall: 1.0000 - f1: 0.2789 - auc: 0.7579 - tp: 233.0000 - tn: 15.0000 - fp: 1200.0000 - fn: 0.0000e+00 - accuracy: 0.1713 - val_loss: 1.2413 - val_precision: 0.2812 - val_recall: 1.0000 - val_f1: 0.4316 - val_auc: 0.6347 - val_tp: 72.0000 - val_tn: 0.0000e+00 - val_fp: 184.0000 - val_fn: 0.0000e+00 - val_accuracy: 0.2812\n",
            "Epoch 6/50\n",
            "46/46 [==============================] - 64s 1s/step - loss: 1.4177 - precision: 0.1799 - recall: 1.0000 - f1: 0.2999 - auc: 0.8021 - tp: 233.0000 - tn: 153.0000 - fp: 1062.0000 - fn: 0.0000e+00 - accuracy: 0.2666 - val_loss: 1.3192 - val_precision: 0.3064 - val_recall: 1.0000 - val_f1: 0.4653 - val_auc: 0.6388 - val_tp: 72.0000 - val_tn: 21.0000 - val_fp: 163.0000 - val_fn: 0.0000e+00 - val_accuracy: 0.3633\n",
            "Epoch 7/50\n",
            "46/46 [==============================] - 63s 1s/step - loss: 1.2352 - precision: 0.2354 - recall: 0.9828 - f1: 0.3789 - auc: 0.8541 - tp: 229.0000 - tn: 471.0000 - fp: 744.0000 - fn: 4.0000 - accuracy: 0.4834 - val_loss: 1.3540 - val_precision: 0.3090 - val_recall: 1.0000 - val_f1: 0.4682 - val_auc: 0.6238 - val_tp: 72.0000 - val_tn: 23.0000 - val_fp: 161.0000 - val_fn: 0.0000e+00 - val_accuracy: 0.3711\n",
            "Epoch 8/50\n",
            "46/46 [==============================] - 64s 1s/step - loss: 0.9499 - precision: 0.3582 - recall: 0.9700 - f1: 0.5270 - auc: 0.9219 - tp: 226.0000 - tn: 810.0000 - fp: 405.0000 - fn: 7.0000 - accuracy: 0.7155 - val_loss: 1.0103 - val_precision: 0.3180 - val_recall: 0.9583 - val_f1: 0.4732 - val_auc: 0.6166 - val_tp: 69.0000 - val_tn: 36.0000 - val_fp: 148.0000 - val_fn: 3.0000 - val_accuracy: 0.4102\n",
            "Epoch 9/50\n",
            "46/46 [==============================] - 61s 1s/step - loss: 0.9469 - precision: 0.3328 - recall: 0.9485 - f1: 0.5034 - auc: 0.9061 - tp: 221.0000 - tn: 772.0000 - fp: 443.0000 - fn: 12.0000 - accuracy: 0.6858 - val_loss: 1.3167 - val_precision: 0.3131 - val_recall: 0.9306 - val_f1: 0.4656 - val_auc: 0.6005 - val_tp: 67.0000 - val_tn: 37.0000 - val_fp: 147.0000 - val_fn: 5.0000 - val_accuracy: 0.4062\n",
            "Epoch 10/50\n",
            "46/46 [==============================] - 62s 1s/step - loss: 0.6492 - precision: 0.5166 - recall: 0.9356 - f1: 0.6642 - auc: 0.9574 - tp: 218.0000 - tn: 1011.0000 - fp: 204.0000 - fn: 15.0000 - accuracy: 0.8488 - val_loss: 0.9403 - val_precision: 0.3000 - val_recall: 0.5000 - val_f1: 0.3717 - val_auc: 0.5640 - val_tp: 36.0000 - val_tn: 100.0000 - val_fp: 84.0000 - val_fn: 36.0000 - val_accuracy: 0.5312\n",
            "Epoch 11/50\n",
            "46/46 [==============================] - 65s 1s/step - loss: 0.4584 - precision: 0.6116 - recall: 0.9528 - f1: 0.7378 - auc: 0.9811 - tp: 222.0000 - tn: 1074.0000 - fp: 141.0000 - fn: 11.0000 - accuracy: 0.8950 - val_loss: 1.6039 - val_precision: 0.3065 - val_recall: 0.7917 - val_f1: 0.4248 - val_auc: 0.5550 - val_tp: 57.0000 - val_tn: 55.0000 - val_fp: 129.0000 - val_fn: 15.0000 - val_accuracy: 0.4375\n",
            "Epoch 12/50\n",
            "46/46 [==============================] - 64s 1s/step - loss: 0.3854 - precision: 0.6281 - recall: 0.9785 - f1: 0.7636 - auc: 0.9897 - tp: 228.0000 - tn: 1080.0000 - fp: 135.0000 - fn: 5.0000 - accuracy: 0.9033 - val_loss: 1.0580 - val_precision: 0.2984 - val_recall: 0.5139 - val_f1: 0.3582 - val_auc: 0.5683 - val_tp: 37.0000 - val_tn: 97.0000 - val_fp: 87.0000 - val_fn: 35.0000 - val_accuracy: 0.5234\n",
            "Epoch 13/50\n",
            "46/46 [==============================] - 62s 1s/step - loss: 0.2175 - precision: 0.8382 - recall: 0.9785 - f1: 0.8927 - auc: 0.9964 - tp: 228.0000 - tn: 1171.0000 - fp: 44.0000 - fn: 5.0000 - accuracy: 0.9662 - val_loss: 1.1610 - val_precision: 0.2809 - val_recall: 0.3472 - val_f1: 0.3052 - val_auc: 0.5621 - val_tp: 25.0000 - val_tn: 120.0000 - val_fp: 64.0000 - val_fn: 47.0000 - val_accuracy: 0.5664\n",
            "Epoch 14/50\n",
            "46/46 [==============================] - 65s 1s/step - loss: 0.1404 - precision: 0.8817 - recall: 0.9914 - f1: 0.9075 - auc: 0.9989 - tp: 231.0000 - tn: 1184.0000 - fp: 31.0000 - fn: 2.0000 - accuracy: 0.9772 - val_loss: 1.3829 - val_precision: 0.3113 - val_recall: 0.4583 - val_f1: 0.3509 - val_auc: 0.5594 - val_tp: 33.0000 - val_tn: 111.0000 - val_fp: 73.0000 - val_fn: 39.0000 - val_accuracy: 0.5625\n",
            "Epoch 15/50\n",
            "46/46 [==============================] - 65s 1s/step - loss: 0.3602 - precision: 0.6113 - recall: 0.9785 - f1: 0.7821 - auc: 0.9890 - tp: 228.0000 - tn: 1070.0000 - fp: 145.0000 - fn: 5.0000 - accuracy: 0.8964 - val_loss: 1.0549 - val_precision: 0.2821 - val_recall: 0.3056 - val_f1: 0.2838 - val_auc: 0.5693 - val_tp: 22.0000 - val_tn: 128.0000 - val_fp: 56.0000 - val_fn: 50.0000 - val_accuracy: 0.5859\n",
            "Epoch 16/50\n",
            "46/46 [==============================] - 63s 1s/step - loss: 0.0973 - precision: 0.9243 - recall: 0.9957 - f1: 0.9568 - auc: 0.9992 - tp: 232.0000 - tn: 1196.0000 - fp: 19.0000 - fn: 1.0000 - accuracy: 0.9862 - val_loss: 1.3975 - val_precision: 0.2771 - val_recall: 0.3194 - val_f1: 0.2886 - val_auc: 0.5759 - val_tp: 23.0000 - val_tn: 124.0000 - val_fp: 60.0000 - val_fn: 49.0000 - val_accuracy: 0.5742\n",
            "Epoch 17/50\n",
            "46/46 [==============================] - 64s 1s/step - loss: 0.0659 - precision: 0.9395 - recall: 1.0000 - f1: 0.9614 - auc: 0.9994 - tp: 233.0000 - tn: 1200.0000 - fp: 15.0000 - fn: 0.0000e+00 - accuracy: 0.9896 - val_loss: 1.4991 - val_precision: 0.2870 - val_recall: 0.4306 - val_f1: 0.3372 - val_auc: 0.5522 - val_tp: 31.0000 - val_tn: 107.0000 - val_fp: 77.0000 - val_fn: 41.0000 - val_accuracy: 0.5391\n",
            "Epoch 18/50\n",
            "46/46 [==============================] - 64s 1s/step - loss: 0.0557 - precision: 0.9355 - recall: 0.9957 - f1: 0.9672 - auc: 0.9994 - tp: 232.0000 - tn: 1199.0000 - fp: 16.0000 - fn: 1.0000 - accuracy: 0.9883 - val_loss: 1.3886 - val_precision: 0.3014 - val_recall: 0.3056 - val_f1: 0.3036 - val_auc: 0.5671 - val_tp: 22.0000 - val_tn: 133.0000 - val_fp: 51.0000 - val_fn: 50.0000 - val_accuracy: 0.6055\n",
            "Epoch 19/50\n",
            "46/46 [==============================] - 61s 1s/step - loss: 0.0383 - precision: 0.9708 - recall: 1.0000 - f1: 0.9835 - auc: 0.9998 - tp: 233.0000 - tn: 1208.0000 - fp: 7.0000 - fn: 0.0000e+00 - accuracy: 0.9952 - val_loss: 1.5931 - val_precision: 0.2771 - val_recall: 0.3194 - val_f1: 0.2804 - val_auc: 0.5500 - val_tp: 23.0000 - val_tn: 124.0000 - val_fp: 60.0000 - val_fn: 49.0000 - val_accuracy: 0.5742\n",
            "Epoch 20/50\n",
            "46/46 [==============================] - 63s 1s/step - loss: 0.0420 - precision: 0.9510 - recall: 1.0000 - f1: 0.9712 - auc: 0.9997 - tp: 233.0000 - tn: 1203.0000 - fp: 12.0000 - fn: 0.0000e+00 - accuracy: 0.9917 - val_loss: 1.7178 - val_precision: 0.3058 - val_recall: 0.5139 - val_f1: 0.3719 - val_auc: 0.5511 - val_tp: 37.0000 - val_tn: 100.0000 - val_fp: 84.0000 - val_fn: 35.0000 - val_accuracy: 0.5352\n",
            "Epoch 21/50\n",
            "46/46 [==============================] - 61s 1s/step - loss: 0.0476 - precision: 0.9357 - recall: 1.0000 - f1: 0.9463 - auc: 0.9994 - tp: 233.0000 - tn: 1199.0000 - fp: 16.0000 - fn: 0.0000e+00 - accuracy: 0.9890 - val_loss: 1.8264 - val_precision: 0.2970 - val_recall: 0.4167 - val_f1: 0.3349 - val_auc: 0.5598 - val_tp: 30.0000 - val_tn: 113.0000 - val_fp: 71.0000 - val_fn: 42.0000 - val_accuracy: 0.5586\n",
            "8/8 [==============================] - 6s 700ms/step - loss: 1.3192 - precision: 0.3064 - recall: 1.0000 - f1: 0.4648 - auc: 0.6388 - tp: 72.0000 - tn: 21.0000 - fp: 163.0000 - fn: 0.0000e+00 - accuracy: 0.3633\n",
            "!!! f1: 0.46484583616256714\n",
            "!!! auc: 0.6388133764266968\n"
          ]
        },
        {
          "data": {
            "image/png": "[encoded data removed]",
            "text/plain": [
              "<Figure size 432x288 with 1 Axes>"
            ]
          },
          "metadata": {
            "needs_background": "light"
          },
          "output_type": "display_data"
        },
        {
          "data": {
            "image/png": "[encoded data removed]",
            "text/plain": [
              "<Figure size 432x288 with 1 Axes>"
            ]
          },
          "metadata": {
            "needs_background": "light"
          },
          "output_type": "display_data"
        },
        {
          "data": {
            "image/png": "[encoded data removed]",
            "text/plain": [
              "<Figure size 432x288 with 1 Axes>"
            ]
          },
          "metadata": {
            "needs_background": "light"
          },
          "output_type": "display_data"
        },
        {
          "data": {
            "image/png": "[encoded data removed]",
            "text/plain": [
              "<Figure size 432x288 with 1 Axes>"
            ]
          },
          "metadata": {
            "needs_background": "light"
          },
          "output_type": "display_data"
        },
        {
          "data": {
            "image/png": "[encoded data removed]",
            "text/plain": [
              "<Figure size 432x288 with 1 Axes>"
            ]
          },
          "metadata": {
            "needs_background": "light"
          },
          "output_type": "display_data"
        }
      ],
      "source": [
        "print(\"Using parameters given by the operator\")\n",
        "\n",
        "\n",
        "hparams = {\n",
        "          HP_NUM_UNITS: int(float(param[1])), #num un= emb_dim\n",
        "          HP_EMBEDDING_DIM:int(float(param[0])),\n",
        "          HP_OPTIMIZER_LR: float(param[2]),\n",
        "          HP_WEIGHT_TUNER:  float(param[4]),\n",
        "          HP_NUM_LAYERS: int(float(param[3])),\n",
        "          HP_NUM_EPOCHS: 50,\n",
        "          #HP_KERNEL_REGULARIZATION_L2: ker_l2,\n",
        "          #HP_KERNEL_REGULARIZATION_L1: ker_l1\n",
        "          HP_DROPOUT: float(param[5])\n",
        "        }\n",
        "\n",
        "\n",
        "print({h.name: hparams[h] for h in hparams})\n",
        "final_model = runTest('logsGraphs/hparam_tuningCV/' + \"result check\", hparams, 0, ret_model = True)"
      ]
    },
    {
      "cell_type": "markdown",
      "metadata": {
        "id": "-KH7944kLpPz"
      },
      "source": [
        "## Save model for further usage"
      ]
    },
    {
      "cell_type": "code",
      "execution_count": null,
      "metadata": {
        "id": "IppT9jr6LpP0",
        "outputId": "3f00cc95-1c81-4f93-d6cd-08493e07d4dc"
      },
      "outputs": [
        {
          "name": "stderr",
          "output_type": "stream",
          "text": [
            "2022-04-14 13:51:46.574573: W tensorflow/python/util/util.cc:368] Sets are not currently considered sequences, but this may change in the future, so consider avoiding using them.\n",
            "WARNING:absl:Found untraced functions such as lstm_cell_1_layer_call_fn, lstm_cell_1_layer_call_and_return_conditional_losses, lstm_cell_2_layer_call_fn, lstm_cell_2_layer_call_and_return_conditional_losses, lstm_cell_4_layer_call_fn while saving (showing 5 of 8). These functions will not be directly callable after loading.\n"
          ]
        },
        {
          "name": "stdout",
          "output_type": "stream",
          "text": [
            "INFO:tensorflow:Assets written to: DEF_RNN_FULL/assets\n"
          ]
        },
        {
          "name": "stderr",
          "output_type": "stream",
          "text": [
            "INFO:tensorflow:Assets written to: DEF_RNN_FULL/assets\n",
            "WARNING:absl:<keras.layers.recurrent.LSTMCell object at 0x7fed706fb700> has the same name 'LSTMCell' as a built-in Keras object. Consider renaming <class 'keras.layers.recurrent.LSTMCell'> to avoid naming conflicts when loading with `tf.keras.models.load_model`. If renaming is not possible, pass the object in the `custom_objects` parameter of the load function.\n",
            "WARNING:absl:<keras.layers.recurrent.LSTMCell object at 0x7fed70777c40> has the same name 'LSTMCell' as a built-in Keras object. Consider renaming <class 'keras.layers.recurrent.LSTMCell'> to avoid naming conflicts when loading with `tf.keras.models.load_model`. If renaming is not possible, pass the object in the `custom_objects` parameter of the load function.\n",
            "WARNING:absl:<keras.layers.recurrent.LSTMCell object at 0x7fed7076f2b0> has the same name 'LSTMCell' as a built-in Keras object. Consider renaming <class 'keras.layers.recurrent.LSTMCell'> to avoid naming conflicts when loading with `tf.keras.models.load_model`. If renaming is not possible, pass the object in the `custom_objects` parameter of the load function.\n",
            "WARNING:absl:<keras.layers.recurrent.LSTMCell object at 0x7fed7076fee0> has the same name 'LSTMCell' as a built-in Keras object. Consider renaming <class 'keras.layers.recurrent.LSTMCell'> to avoid naming conflicts when loading with `tf.keras.models.load_model`. If renaming is not possible, pass the object in the `custom_objects` parameter of the load function.\n"
          ]
        }
      ],
      "source": [
        "final_model.save('DEF_RNN_FULL',save_format='tf')"
      ]
    },
    {
      "cell_type": "code",
      "execution_count": null,
      "metadata": {
        "id": "ZlVUzlfNLpP0",
        "outputId": "5e70cba3-3f7e-46ea-9d89-b3785b832ddb"
      },
      "outputs": [
        {
          "name": "stdout",
          "output_type": "stream",
          "text": [
            "WARNING:tensorflow:Unable to restore custom metric. Please ensure that the layer implements `get_config` and `from_config` when saving. In addition, please use the `custom_objects` arg when calling `load_model()`.\n"
          ]
        },
        {
          "name": "stderr",
          "output_type": "stream",
          "text": [
            "WARNING:tensorflow:Unable to restore custom metric. Please ensure that the layer implements `get_config` and `from_config` when saving. In addition, please use the `custom_objects` arg when calling `load_model()`.\n",
            "2022-04-14 13:52:11.729068: W tensorflow/core/common_runtime/graph_constructor.cc:803] Node 'cond/while' has 13 outputs but the _output_shapes attribute specifies shapes for 46 outputs. Output shapes may be inaccurate.\n",
            "2022-04-14 13:52:12.245834: W tensorflow/core/common_runtime/graph_constructor.cc:803] Node 'cond/while' has 13 outputs but the _output_shapes attribute specifies shapes for 46 outputs. Output shapes may be inaccurate.\n",
            "2022-04-14 13:52:13.063274: W tensorflow/core/common_runtime/graph_constructor.cc:803] Node 'cond/while' has 14 outputs but the _output_shapes attribute specifies shapes for 48 outputs. Output shapes may be inaccurate.\n",
            "2022-04-14 13:52:13.630502: W tensorflow/core/common_runtime/graph_constructor.cc:803] Node 'cond/while' has 14 outputs but the _output_shapes attribute specifies shapes for 48 outputs. Output shapes may be inaccurate.\n",
            "2022-04-14 13:52:13.643638: W tensorflow/core/common_runtime/graph_constructor.cc:803] Node 'cond' has 5 outputs but the _output_shapes attribute specifies shapes for 48 outputs. Output shapes may be inaccurate.\n",
            "2022-04-14 13:52:13.679086: W tensorflow/core/common_runtime/graph_constructor.cc:803] Node 'cond/while' has 13 outputs but the _output_shapes attribute specifies shapes for 46 outputs. Output shapes may be inaccurate.\n",
            "2022-04-14 13:52:14.022149: W tensorflow/core/common_runtime/graph_constructor.cc:803] Node 'cond/while' has 14 outputs but the _output_shapes attribute specifies shapes for 48 outputs. Output shapes may be inaccurate.\n",
            "2022-04-14 13:52:14.034976: W tensorflow/core/common_runtime/graph_constructor.cc:803] Node 'cond' has 5 outputs but the _output_shapes attribute specifies shapes for 48 outputs. Output shapes may be inaccurate.\n",
            "2022-04-14 13:52:14.076251: W tensorflow/core/common_runtime/graph_constructor.cc:803] Node 'cond' has 5 outputs but the _output_shapes attribute specifies shapes for 48 outputs. Output shapes may be inaccurate.\n",
            "2022-04-14 13:52:14.112112: W tensorflow/core/common_runtime/graph_constructor.cc:803] Node 'cond/while' has 13 outputs but the _output_shapes attribute specifies shapes for 46 outputs. Output shapes may be inaccurate.\n",
            "2022-04-14 13:52:14.124313: W tensorflow/core/common_runtime/graph_constructor.cc:803] Node 'cond' has 5 outputs but the _output_shapes attribute specifies shapes for 46 outputs. Output shapes may be inaccurate.\n",
            "2022-04-14 13:52:14.743935: W tensorflow/core/common_runtime/graph_constructor.cc:803] Node 'cond/while' has 14 outputs but the _output_shapes attribute specifies shapes for 48 outputs. Output shapes may be inaccurate.\n",
            "2022-04-14 13:52:14.756493: W tensorflow/core/common_runtime/graph_constructor.cc:803] Node 'cond' has 5 outputs but the _output_shapes attribute specifies shapes for 48 outputs. Output shapes may be inaccurate.\n",
            "2022-04-14 13:52:15.265715: W tensorflow/core/common_runtime/graph_constructor.cc:803] Node 'cond' has 5 outputs but the _output_shapes attribute specifies shapes for 46 outputs. Output shapes may be inaccurate.\n",
            "2022-04-14 13:52:15.507100: W tensorflow/core/common_runtime/graph_constructor.cc:803] Node 'cond/while' has 13 outputs but the _output_shapes attribute specifies shapes for 46 outputs. Output shapes may be inaccurate.\n",
            "2022-04-14 13:52:20.330511: W tensorflow/core/common_runtime/graph_constructor.cc:803] Node 'cond/while' has 13 outputs but the _output_shapes attribute specifies shapes for 46 outputs. Output shapes may be inaccurate.\n",
            "2022-04-14 13:52:20.726459: W tensorflow/core/common_runtime/graph_constructor.cc:803] Node 'cond/while' has 14 outputs but the _output_shapes attribute specifies shapes for 48 outputs. Output shapes may be inaccurate.\n",
            "2022-04-14 13:52:20.739078: W tensorflow/core/common_runtime/graph_constructor.cc:803] Node 'cond' has 5 outputs but the _output_shapes attribute specifies shapes for 48 outputs. Output shapes may be inaccurate.\n",
            "2022-04-14 13:52:20.786602: W tensorflow/core/common_runtime/graph_constructor.cc:803] Node 'cond/while' has 13 outputs but the _output_shapes attribute specifies shapes for 46 outputs. Output shapes may be inaccurate.\n",
            "2022-04-14 13:52:20.798400: W tensorflow/core/common_runtime/graph_constructor.cc:803] Node 'cond' has 5 outputs but the _output_shapes attribute specifies shapes for 46 outputs. Output shapes may be inaccurate.\n",
            "2022-04-14 13:52:21.198461: W tensorflow/core/common_runtime/graph_constructor.cc:803] Node 'cond/while' has 14 outputs but the _output_shapes attribute specifies shapes for 48 outputs. Output shapes may be inaccurate.\n",
            "2022-04-14 13:52:21.210663: W tensorflow/core/common_runtime/graph_constructor.cc:803] Node 'cond' has 5 outputs but the _output_shapes attribute specifies shapes for 48 outputs. Output shapes may be inaccurate.\n",
            "2022-04-14 13:52:21.235105: W tensorflow/core/common_runtime/graph_constructor.cc:803] Node 'cond' has 5 outputs but the _output_shapes attribute specifies shapes for 46 outputs. Output shapes may be inaccurate.\n",
            "2022-04-14 13:52:21.357858: W tensorflow/core/common_runtime/graph_constructor.cc:803] Node 'cond/while' has 14 outputs but the _output_shapes attribute specifies shapes for 48 outputs. Output shapes may be inaccurate.\n",
            "2022-04-14 13:52:21.530352: W tensorflow/core/common_runtime/graph_constructor.cc:803] Node 'cond/while' has 13 outputs but the _output_shapes attribute specifies shapes for 46 outputs. Output shapes may be inaccurate.\n",
            "2022-04-14 13:52:21.542862: W tensorflow/core/common_runtime/graph_constructor.cc:803] Node 'cond' has 5 outputs but the _output_shapes attribute specifies shapes for 46 outputs. Output shapes may be inaccurate.\n",
            "2022-04-14 13:52:21.653669: W tensorflow/core/common_runtime/graph_constructor.cc:803] Node 'cond' has 5 outputs but the _output_shapes attribute specifies shapes for 46 outputs. Output shapes may be inaccurate.\n",
            "2022-04-14 13:52:21.717261: W tensorflow/core/common_runtime/graph_constructor.cc:803] Node 'cond' has 5 outputs but the _output_shapes attribute specifies shapes for 46 outputs. Output shapes may be inaccurate.\n",
            "2022-04-14 13:52:22.515402: W tensorflow/core/common_runtime/graph_constructor.cc:803] Node 'cond' has 5 outputs but the _output_shapes attribute specifies shapes for 48 outputs. Output shapes may be inaccurate.\n",
            "2022-04-14 13:52:22.529872: W tensorflow/core/common_runtime/graph_constructor.cc:803] Node 'cond/while' has 14 outputs but the _output_shapes attribute specifies shapes for 48 outputs. Output shapes may be inaccurate.\n",
            "2022-04-14 13:52:22.667302: W tensorflow/core/common_runtime/graph_constructor.cc:803] Node 'cond/while' has 14 outputs but the _output_shapes attribute specifies shapes for 48 outputs. Output shapes may be inaccurate.\n",
            "2022-04-14 13:52:23.021929: W tensorflow/core/common_runtime/graph_constructor.cc:803] Node 'cond/while' has 13 outputs but the _output_shapes attribute specifies shapes for 46 outputs. Output shapes may be inaccurate.\n",
            "2022-04-14 13:52:23.048143: W tensorflow/core/common_runtime/graph_constructor.cc:803] Node 'cond' has 5 outputs but the _output_shapes attribute specifies shapes for 48 outputs. Output shapes may be inaccurate.\n",
            "2022-04-14 13:52:23.224028: W tensorflow/core/common_runtime/graph_constructor.cc:803] Node 'cond/while' has 13 outputs but the _output_shapes attribute specifies shapes for 46 outputs. Output shapes may be inaccurate.\n",
            "2022-04-14 13:52:23.236745: W tensorflow/core/common_runtime/graph_constructor.cc:803] Node 'cond' has 5 outputs but the _output_shapes attribute specifies shapes for 46 outputs. Output shapes may be inaccurate.\n",
            "2022-04-14 13:52:23.532062: W tensorflow/core/common_runtime/graph_constructor.cc:803] Node 'cond' has 5 outputs but the _output_shapes attribute specifies shapes for 46 outputs. Output shapes may be inaccurate.\n",
            "2022-04-14 13:52:23.787412: W tensorflow/core/common_runtime/graph_constructor.cc:803] Node 'cond/while' has 14 outputs but the _output_shapes attribute specifies shapes for 48 outputs. Output shapes may be inaccurate.\n",
            "2022-04-14 13:52:23.799940: W tensorflow/core/common_runtime/graph_constructor.cc:803] Node 'cond' has 5 outputs but the _output_shapes attribute specifies shapes for 48 outputs. Output shapes may be inaccurate.\n",
            "2022-04-14 13:52:23.956673: W tensorflow/core/common_runtime/graph_constructor.cc:803] Node 'cond/while' has 13 outputs but the _output_shapes attribute specifies shapes for 46 outputs. Output shapes may be inaccurate.\n",
            "2022-04-14 13:52:24.558950: W tensorflow/core/common_runtime/graph_constructor.cc:803] Node 'cond/while' has 14 outputs but the _output_shapes attribute specifies shapes for 48 outputs. Output shapes may be inaccurate.\n",
            "2022-04-14 13:52:24.571547: W tensorflow/core/common_runtime/graph_constructor.cc:803] Node 'cond' has 5 outputs but the _output_shapes attribute specifies shapes for 48 outputs. Output shapes may be inaccurate.\n",
            "2022-04-14 13:52:24.822357: W tensorflow/core/common_runtime/graph_constructor.cc:803] Node 'cond/while' has 14 outputs but the _output_shapes attribute specifies shapes for 48 outputs. Output shapes may be inaccurate.\n",
            "2022-04-14 13:52:24.834960: W tensorflow/core/common_runtime/graph_constructor.cc:803] Node 'cond' has 5 outputs but the _output_shapes attribute specifies shapes for 48 outputs. Output shapes may be inaccurate.\n",
            "2022-04-14 13:52:24.923661: W tensorflow/core/common_runtime/graph_constructor.cc:803] Node 'cond' has 5 outputs but the _output_shapes attribute specifies shapes for 46 outputs. Output shapes may be inaccurate.\n",
            "2022-04-14 13:52:26.899816: W tensorflow/core/common_runtime/graph_constructor.cc:803] Node 'cond/while' has 14 outputs but the _output_shapes attribute specifies shapes for 48 outputs. Output shapes may be inaccurate.\n",
            "2022-04-14 13:52:26.921630: W tensorflow/core/common_runtime/graph_constructor.cc:803] Node 'cond' has 5 outputs but the _output_shapes attribute specifies shapes for 48 outputs. Output shapes may be inaccurate.\n",
            "2022-04-14 13:52:27.115462: W tensorflow/core/common_runtime/graph_constructor.cc:803] Node 'cond/while' has 13 outputs but the _output_shapes attribute specifies shapes for 46 outputs. Output shapes may be inaccurate.\n",
            "2022-04-14 13:52:27.136095: W tensorflow/core/common_runtime/graph_constructor.cc:803] Node 'cond' has 5 outputs but the _output_shapes attribute specifies shapes for 46 outputs. Output shapes may be inaccurate.\n",
            "2022-04-14 13:52:27.223751: W tensorflow/core/common_runtime/graph_constructor.cc:803] Node 'cond' has 5 outputs but the _output_shapes attribute specifies shapes for 48 outputs. Output shapes may be inaccurate.\n",
            "2022-04-14 13:52:27.779865: W tensorflow/core/common_runtime/graph_constructor.cc:803] Node 'cond/while' has 13 outputs but the _output_shapes attribute specifies shapes for 46 outputs. Output shapes may be inaccurate.\n",
            "2022-04-14 13:52:27.793647: W tensorflow/core/common_runtime/graph_constructor.cc:803] Node 'cond' has 5 outputs but the _output_shapes attribute specifies shapes for 46 outputs. Output shapes may be inaccurate.\n",
            "2022-04-14 13:52:27.818039: W tensorflow/core/common_runtime/graph_constructor.cc:803] Node 'cond' has 5 outputs but the _output_shapes attribute specifies shapes for 46 outputs. Output shapes may be inaccurate.\n",
            "2022-04-14 13:52:27.933521: W tensorflow/core/common_runtime/graph_constructor.cc:803] Node 'cond/while' has 14 outputs but the _output_shapes attribute specifies shapes for 48 outputs. Output shapes may be inaccurate.\n",
            "2022-04-14 13:52:27.946727: W tensorflow/core/common_runtime/graph_constructor.cc:803] Node 'cond' has 5 outputs but the _output_shapes attribute specifies shapes for 48 outputs. Output shapes may be inaccurate.\n",
            "2022-04-14 13:52:28.168586: W tensorflow/core/common_runtime/graph_constructor.cc:803] Node 'cond/while' has 13 outputs but the _output_shapes attribute specifies shapes for 46 outputs. Output shapes may be inaccurate.\n",
            "2022-04-14 13:52:28.415537: W tensorflow/core/common_runtime/graph_constructor.cc:803] Node 'cond' has 5 outputs but the _output_shapes attribute specifies shapes for 46 outputs. Output shapes may be inaccurate.\n"
          ]
        },
        {
          "name": "stdout",
          "output_type": "stream",
          "text": [
            "Model: \"sequential\"\n",
            "_________________________________________________________________\n",
            " Layer (type)                Output Shape              Param #   \n",
            "=================================================================\n",
            " text_vectorization (TextVec  (None, None)             0         \n",
            " torization)                                                     \n",
            "                                                                 \n",
            " embedding (Embedding)       (None, None, 30)          731730    \n",
            "                                                                 \n",
            " bidirectional (Bidirectiona  (None, None, 60)         14640     \n",
            " l)                                                              \n",
            "                                                                 \n",
            " bidirectional_1 (Bidirectio  (None, 60)               21840     \n",
            " nal)                                                            \n",
            "                                                                 \n",
            " dense (Dense)               (None, 30)                1830      \n",
            "                                                                 \n",
            " dropout (Dropout)           (None, 30)                0         \n",
            "                                                                 \n",
            " dense_1 (Dense)             (None, 1)                 31        \n",
            "                                                                 \n",
            "=================================================================\n",
            "Total params: 770,071\n",
            "Trainable params: 770,071\n",
            "Non-trainable params: 0\n",
            "_________________________________________________________________\n"
          ]
        }
      ],
      "source": [
        "#loaded_model.load_weights()\n",
        "#we set compile=False because of the custom losses that can't be loaded \n",
        "new_model = tf.keras.models.load_model('DEF_RNN_FULL',compile=False)\n",
        "new_model.summary()"
      ]
    },
    {
      "cell_type": "code",
      "execution_count": null,
      "metadata": {
        "id": "92Vuj54RLpP1"
      },
      "outputs": [],
      "source": [
        "learning_rate = param[2]\n",
        "new_model.compile(\n",
        "          optimizer=tf.keras.optimizers.Adam(learning_rate),\n",
        "          loss=tf.keras.losses.BinaryCrossentropy(),\n",
        "          metrics=METRICS,\n",
        "      )\n",
        "\n"
      ]
    },
    {
      "cell_type": "code",
      "execution_count": null,
      "metadata": {
        "id": "4PE8L0MbLpP1",
        "outputId": "bbcfd7d5-682b-4861-b1f0-111325d47dcb"
      },
      "outputs": [
        {
          "name": "stdout",
          "output_type": "stream",
          "text": [
            "8/8 [==============================] - 13s 643ms/step - loss: 1.3192 - precision: 0.3064 - recall: 1.0000 - f1: 0.4633 - auc: 0.6388 - tp: 144.0000 - tn: 42.0000 - fp: 326.0000 - fn: 0.0000e+00 - accuracy: 0.3633\n",
            "Test Accuracy: 0.36328125\n",
            "Test Prec: 0.3063829839229584\n",
            "Test Recall: 1.0\n",
            "Test AUC: 0.6388133764266968\n",
            "Test F1:  0.4633178412914276\n",
            "Test Loss: 1.3192369937896729\n"
          ]
        }
      ],
      "source": [
        "#get you result on the independent test set to asses performance on unseen data\n",
        "test_loss,  test_prec, test_rec, test_f1, test_auc,_1,_2,_3,_4,test_acc = new_model.evaluate(test_dataset)\n",
        "\n",
        "\n",
        "print('Test Accuracy:', test_acc)\n",
        "print('Test Prec:', test_prec)\n",
        "print('Test Recall:', test_rec)\n",
        "print('Test AUC:', test_auc)\n",
        "print('Test F1: ',test_f1)\n",
        "print('Test Loss:', test_loss)"
      ]
    },
    {
      "cell_type": "markdown",
      "source": [
        "## Dummy predictor"
      ],
      "metadata": {
        "id": "uRxm03dNw8Qi"
      }
    },
    {
      "cell_type": "code",
      "execution_count": null,
      "metadata": {
        "id": "Na4C4CpkLpP1",
        "colab": {
          "base_uri": "https://localhost:8080/"
        },
        "outputId": "fbbaebf0-0f7d-494d-9508-24783e156995"
      },
      "outputs": [
        {
          "output_type": "stream",
          "name": "stdout",
          "text": [
            "Precision : 0.0\n",
            "Recall : 0.0\n",
            "AUC : 0.5\n",
            "F1 : 0.0\n",
            "accuracy: 0.71875\n"
          ]
        },
        {
          "output_type": "stream",
          "name": "stderr",
          "text": [
            "/usr/local/lib/python3.7/dist-packages/sklearn/metrics/_classification.py:1318: UndefinedMetricWarning: Precision is ill-defined and being set to 0.0 due to no predicted samples. Use `zero_division` parameter to control this behavior.\n",
            "  _warn_prf(average, modifier, msg_start, len(result))\n"
          ]
        }
      ],
      "source": [
        "from sklearn.metrics import recall_score,precision_score,roc_curve,roc_auc_score,f1_score,accuracy_score\n",
        "\n",
        "test_labels=[]\n",
        "test_labels=np.array(test_labels)\n",
        "for example, label in test_dataset.take(-1):\n",
        "    _ = example.numpy()\n",
        "    test_labels=np.concatenate((test_labels,label.numpy()))\n",
        "    \n",
        "#print(test_labels)\n",
        "\n",
        "#Results using dummy classification on the test set\n",
        "accuracy = accuracy_score(test_labels,np.zeros(len(test_labels)))#predict all zeroes\n",
        "precision = precision_score(test_labels,np.zeros(len(test_labels)))\n",
        "recall = recall_score(test_labels,np.zeros(len(test_labels)))\n",
        "auc = roc_auc_score(test_labels,np.zeros(len(test_labels)))\n",
        "f1 = f1_score(test_labels,np.zeros(len(test_labels)))\n",
        "\n",
        "\n",
        "\n",
        "print(\"Precision : \"+str(precision))\n",
        "print(\"Recall : \"+str(recall))\n",
        "print(\"AUC : \"+str(auc))\n",
        "print(\"F1 : \"+str(f1))\n",
        "print(\"accuracy: \"+str(accuracy))"
      ]
    },
    {
      "cell_type": "markdown",
      "metadata": {
        "id": "y7K849piv3Ej"
      },
      "source": [
        "## Get predictions of the whole dataset"
      ]
    },
    {
      "cell_type": "code",
      "execution_count": null,
      "metadata": {
        "colab": {
          "base_uri": "https://localhost:8080/",
          "height": 455
        },
        "id": "YoqtUqZNrkLP",
        "outputId": "0f2debdc-c300-45ae-ac5d-4f7c499f6d6a"
      },
      "outputs": [
        {
          "data": {
            "text/html": [
              "\n",
              "  <div id=\"df-274eb1a8-e41e-4688-8119-a3e8b6937701\">\n",
              "    <div class=\"colab-df-container\">\n",
              "      <div>\n",
              "<style scoped>\n",
              "    .dataframe tbody tr th:only-of-type {\n",
              "        vertical-align: middle;\n",
              "    }\n",
              "\n",
              "    .dataframe tbody tr th {\n",
              "        vertical-align: top;\n",
              "    }\n",
              "\n",
              "    .dataframe thead th {\n",
              "        text-align: right;\n",
              "    }\n",
              "</style>\n",
              "<table border=\"1\" class=\"dataframe\">\n",
              "  <thead>\n",
              "    <tr style=\"text-align: right;\">\n",
              "      <th></th>\n",
              "      <th>TEXT</th>\n",
              "    </tr>\n",
              "    <tr>\n",
              "      <th>celex</th>\n",
              "      <th></th>\n",
              "    </tr>\n",
              "  </thead>\n",
              "  <tbody>\n",
              "    <tr>\n",
              "      <th>61960CJ0009</th>\n",
              "      <td>1 . THE MEANING OF THE FIRST PARAGRAPH OF ARTI...</td>\n",
              "    </tr>\n",
              "    <tr>\n",
              "      <th>61963CJ0075</th>\n",
              "      <td>1 . THE QUESTION PUT BY THAT COURT REQUESTS TH...</td>\n",
              "    </tr>\n",
              "    <tr>\n",
              "      <th>61963CJ0092</th>\n",
              "      <td>1 . THE QUESTION ASKED BY THE SAID COURT FIRST...</td>\n",
              "    </tr>\n",
              "    <tr>\n",
              "      <th>61964CJ0024</th>\n",
              "      <td>1 . IT APPEARS FROM THE INFORMATION SUPPLIED B...</td>\n",
              "    </tr>\n",
              "    <tr>\n",
              "      <th>61965CJ0057</th>\n",
              "      <td>1 . THE FIRST AND SECOND QUESTIONS\\r\\nIN ITS F...</td>\n",
              "    </tr>\n",
              "    <tr>\n",
              "      <th>...</th>\n",
              "      <td>...</td>\n",
              "    </tr>\n",
              "    <tr>\n",
              "      <th>62014CJ0378</th>\n",
              "      <td>1. This reference for a preliminary ruling con...</td>\n",
              "    </tr>\n",
              "    <tr>\n",
              "      <th>62014CJ0402</th>\n",
              "      <td>1. This request for a preliminary ruling conce...</td>\n",
              "    </tr>\n",
              "    <tr>\n",
              "      <th>62014CJ0427</th>\n",
              "      <td>1. This request for a preliminary ruling conce...</td>\n",
              "    </tr>\n",
              "    <tr>\n",
              "      <th>62014CJ0552</th>\n",
              "      <td>1. By its appeal, Canon Europa NV (ÂCanon Eur...</td>\n",
              "    </tr>\n",
              "    <tr>\n",
              "      <th>62014CJ0553</th>\n",
              "      <td>1. By its appeal, Kyocera Mita Europe BV (ÂKy...</td>\n",
              "    </tr>\n",
              "  </tbody>\n",
              "</table>\n",
              "<p>1704 rows × 1 columns</p>\n",
              "</div>\n",
              "      <button class=\"colab-df-convert\" onclick=\"convertToInteractive('df-274eb1a8-e41e-4688-8119-a3e8b6937701')\"\n",
              "              title=\"Convert this dataframe to an interactive table.\"\n",
              "              style=\"display:none;\">\n",
              "        \n",
              "  <svg xmlns=\"http://www.w3.org/2000/svg\" height=\"24px\"viewBox=\"0 0 24 24\"\n",
              "       width=\"24px\">\n",
              "    <path d=\"M0 0h24v24H0V0z\" fill=\"none\"/>\n",
              "    <path d=\"M18.56 5.44l.94 2.06.94-2.06 2.06-.94-2.06-.94-.94-2.06-.94 2.06-2.06.94zm-11 1L8.5 8.5l.94-2.06 2.06-.94-2.06-.94L8.5 2.5l-.94 2.06-2.06.94zm10 10l.94 2.06.94-2.06 2.06-.94-2.06-.94-.94-2.06-.94 2.06-2.06.94z\"/><path d=\"M17.41 7.96l-1.37-1.37c-.4-.4-.92-.59-1.43-.59-.52 0-1.04.2-1.43.59L10.3 9.45l-7.72 7.72c-.78.78-.78 2.05 0 2.83L4 21.41c.39.39.9.59 1.41.59.51 0 1.02-.2 1.41-.59l7.78-7.78 2.81-2.81c.8-.78.8-2.07 0-2.86zM5.41 20L4 18.59l7.72-7.72 1.47 1.35L5.41 20z\"/>\n",
              "  </svg>\n",
              "      </button>\n",
              "      \n",
              "  <style>\n",
              "    .colab-df-container {\n",
              "      display:flex;\n",
              "      flex-wrap:wrap;\n",
              "      gap: 12px;\n",
              "    }\n",
              "\n",
              "    .colab-df-convert {\n",
              "      background-color: #E8F0FE;\n",
              "      border: none;\n",
              "      border-radius: 50%;\n",
              "      cursor: pointer;\n",
              "      display: none;\n",
              "      fill: #1967D2;\n",
              "      height: 32px;\n",
              "      padding: 0 0 0 0;\n",
              "      width: 32px;\n",
              "    }\n",
              "\n",
              "    .colab-df-convert:hover {\n",
              "      background-color: #E2EBFA;\n",
              "      box-shadow: 0px 1px 2px rgba(60, 64, 67, 0.3), 0px 1px 3px 1px rgba(60, 64, 67, 0.15);\n",
              "      fill: #174EA6;\n",
              "    }\n",
              "\n",
              "    [theme=dark] .colab-df-convert {\n",
              "      background-color: #3B4455;\n",
              "      fill: #D2E3FC;\n",
              "    }\n",
              "\n",
              "    [theme=dark] .colab-df-convert:hover {\n",
              "      background-color: #434B5C;\n",
              "      box-shadow: 0px 1px 3px 1px rgba(0, 0, 0, 0.15);\n",
              "      filter: drop-shadow(0px 1px 2px rgba(0, 0, 0, 0.3));\n",
              "      fill: #FFFFFF;\n",
              "    }\n",
              "  </style>\n",
              "\n",
              "      <script>\n",
              "        const buttonEl =\n",
              "          document.querySelector('#df-274eb1a8-e41e-4688-8119-a3e8b6937701 button.colab-df-convert');\n",
              "        buttonEl.style.display =\n",
              "          google.colab.kernel.accessAllowed ? 'block' : 'none';\n",
              "\n",
              "        async function convertToInteractive(key) {\n",
              "          const element = document.querySelector('#df-274eb1a8-e41e-4688-8119-a3e8b6937701');\n",
              "          const dataTable =\n",
              "            await google.colab.kernel.invokeFunction('convertToInteractive',\n",
              "                                                     [key], {});\n",
              "          if (!dataTable) return;\n",
              "\n",
              "          const docLinkHtml = 'Like what you see? Visit the ' +\n",
              "            '<a target=\"_blank\" href=https://colab.research.google.com/notebooks/data_table.ipynb>data table notebook</a>'\n",
              "            + ' to learn more about interactive tables.';\n",
              "          element.innerHTML = '';\n",
              "          dataTable['output_type'] = 'display_data';\n",
              "          await google.colab.output.renderOutput(dataTable, element);\n",
              "          const docLink = document.createElement('div');\n",
              "          docLink.innerHTML = docLinkHtml;\n",
              "          element.appendChild(docLink);\n",
              "        }\n",
              "      </script>\n",
              "    </div>\n",
              "  </div>\n",
              "  "
            ],
            "text/plain": [
              "                                                          TEXT\n",
              "celex                                                         \n",
              "61960CJ0009  1 . THE MEANING OF THE FIRST PARAGRAPH OF ARTI...\n",
              "61963CJ0075  1 . THE QUESTION PUT BY THAT COURT REQUESTS TH...\n",
              "61963CJ0092  1 . THE QUESTION ASKED BY THE SAID COURT FIRST...\n",
              "61964CJ0024  1 . IT APPEARS FROM THE INFORMATION SUPPLIED B...\n",
              "61965CJ0057  1 . THE FIRST AND SECOND QUESTIONS\\r\\nIN ITS F...\n",
              "...                                                        ...\n",
              "62014CJ0378  1. This reference for a preliminary ruling con...\n",
              "62014CJ0402  1. This request for a preliminary ruling conce...\n",
              "62014CJ0427  1. This request for a preliminary ruling conce...\n",
              "62014CJ0552  1. By its appeal, Canon Europa NV (ÂCanon Eur...\n",
              "62014CJ0553  1. By its appeal, Kyocera Mita Europe BV (ÂKy...\n",
              "\n",
              "[1704 rows x 1 columns]"
            ]
          },
          "execution_count": 49,
          "metadata": {},
          "output_type": "execute_result"
        }
      ],
      "source": [
        "#-----input and creating of tensors dataset\n",
        "data = pd.read_csv(\"/content/drive/MyDrive/Judging under influence/DEF_VM/FinalDatasetFullJudgements_NOFRENCH.csv\",index_col = 0,low_memory=False,encoding = \"ISO-8859-1\") #not utf-8 encoded\n",
        "\n",
        "df=data.filter([\"DEF\",\"TEXT\",\"celex\"], axis=1)\n",
        "#print(df.head())\n",
        "df=df.dropna() #non applicable deleted atm\n",
        "df[\"DEF\"]=df[\"DEF\"].astype(int)\n",
        "#df.reset_index(drop=True, inplace=True) \n",
        "target = df.pop('DEF')\n",
        "#!ATTENTION now in df.values i have both text and celex\n",
        "dataset = tf.data.Dataset.from_tensor_slices((df.TEXT.values, target.values))\n",
        "df"
      ]
    },
    {
      "cell_type": "code",
      "execution_count": null,
      "metadata": {
        "id": "-9kAIKWKjeWS"
      },
      "outputs": [],
      "source": [
        "final_full_dataset = dataset.batch(BATCH_SIZE).prefetch(tf.data.experimental.AUTOTUNE)#no shuffle bc shufffled sempre prima wuindi p come fosse shuffled anche ora"
      ]
    },
    {
      "cell_type": "code",
      "execution_count": null,
      "metadata": {
        "colab": {
          "base_uri": "https://localhost:8080/"
        },
        "id": "Z5kVcx2OoGXJ",
        "outputId": "afb4f1f2-445d-492d-a44f-bf4336334bdf"
      },
      "outputs": [
        {
          "name": "stdout",
          "output_type": "stream",
          "text": [
            "27/27 [==============================] - 51s 2s/step\n"
          ]
        }
      ],
      "source": [
        "preds = final_model.predict(final_full_dataset,verbose=1)"
      ]
    },
    {
      "cell_type": "code",
      "execution_count": null,
      "metadata": {
        "id": "E0RFHK8VuHyR"
      },
      "outputs": [],
      "source": [
        "#t_arr = []\n",
        "#labels = []\n",
        "#celexs = []\n",
        "\n",
        "#for example, label, celex in final_full_dataset.take(-1):\n",
        "##for example, label in train_dataset.take(-1):\n",
        "#    #print(example.numpy())\n",
        "#    t_arr = np.concatenate((t_arr,example.numpy().flatten()))  \n",
        "#    labels = np.concatenate((labels,label.numpy()))\n",
        "#    celexs = np.concatenate((celexs,celex.numpy()))"
      ]
    },
    {
      "cell_type": "code",
      "execution_count": null,
      "metadata": {
        "id": "QrdHafT0sR1m"
      },
      "outputs": [],
      "source": []
    },
    {
      "cell_type": "code",
      "execution_count": null,
      "metadata": {
        "id": "qsZrzNwRv-Y8"
      },
      "outputs": [],
      "source": [
        "#res=model.predict(test_dataset,verbose =1)\n",
        "res = [1 if num >= 0.5 else 0 for num in preds]\n",
        "#[str(m)+'|'+str(n) for m,n in zip(res,target.values.astype(int))]\n"
      ]
    },
    {
      "cell_type": "code",
      "execution_count": null,
      "metadata": {
        "colab": {
          "base_uri": "https://localhost:8080/",
          "height": 174
        },
        "id": "FXOMbdRutuvX",
        "outputId": "3819b0b3-5828-4e39-f873-0219e1f4b7d2"
      },
      "outputs": [
        {
          "data": {
            "application/vnd.google.colaboratory.intrinsic+json": {
              "type": "string"
            },
            "text/plain": [
              "\"1 . THE MEANING OF THE FIRST PARAGRAPH OF ARTICLE 40\\r\\nTHE FIRST PARAGRAPH OF ARTICLE 40 DEALS WITH DISPUTES CONCERNING THE LIABILITY OF THE COMMUNITY FOR WRONGFUL ACTS OR OMISSIONS .\\r\\nTHE ACTION FOR REPARATION REFERRED TO IN ARTICLE 40 DIFFERS FROM AN APPLICATION FOR ANNULMENT BOTH IN ITS SUBJECT-MATTER AND IN THE NATURE OF THE GROUNDS WHICH MAY BE PLEADED . AS REGARDS ITS SUBJECT-MATTER, AN ACTION FOR REPARATION IS DIRECTED NOT TO THE ABOLITION OF A PARTICULAR MEASURE BUT ONLY TO REPARATION OF DAMAGE CAUSED BY AN ACT OR FAILURE TO ACT AMOUNTING TO A WRONGFUL ACT OR OMISSION . AS REGARDS THE GROUNDS ON WHICH AN ACTION FOR REPARATION MAY BE BASED ONLY THE EXISTENCE OF A WRONGFUL ACT OR OMISSION CAN LEAD TO A FINDING AGAINST THE HIGH AUTHORITY WHEREAS AN APPLICATION FOR ANNULMENT ENABLES THE FOUR GROUNDS MENTIONED IN ARTICLE 33 TO BE PLEADED .\\r\\nARTICLE 40 CONSEQUENTLY CONFERS ON THE COURT A JURISDICTION WHICH IS CLEARLY DIFFERENT FROM THAT WHICH IT EXERCISES IN DISPUTES CONCERNING LEGALITY .\\r\\nIN THE PRESENT CASE THE COURT IS NOT ASKED TO RULE ON THE QUESTION WHETHER IT MAY BE PLEADED THAT THE ALLEGED ILLEGALITY OF A MEASURE WHICH HAS NOT BEEN ANNULLED CONSTITUTES IN ITSELF A WRONG CAPABLE OF GIVING RISE TO A RIGHT TO REPARATION UNDER ARTICLE 40 .\\r\\nON THE OTHER HAND IN THE PRESENT CASE THERE WAS NO DECISION OF THE HIGH AUTHORITY CREATING RIGHTS OR HAVING LEGAL EFFECTS . IN THESE CIRCUMSTANCES THE INFRINGEMENT OF THE TREATY OF WHICH THE HIGH AUTHORITY IS ACCUSED, ON THE GROUND THAT THIS IS INHERENT IN ITS INACTION, MAY UNQUESTIONABLY BE PLEADED IN SUPPORT OF AN ACTION BASED ON ARTICLE 40 AND THERE IS NO NEED, IN CONSIDERING THE PRESENT CASE, TO RULE UPON THE QUESTION OF THE ADMISSIBILITY OF AN ACTION FOR REPARATION BASED ON THE ILLEGALITY OF A POSITIVE ACT THE ANNULMENT OF WHICH HAS NOT BEEN SOUGHT .\\r\\nTHE DIFFERENCE WHICH EXISTS BETWEEN THE JURISDICTION CONFERRED ON THE COURT BY ARTICLES 33 AND 35, AND THAT WHICH IS CONFERRED ON IT BY ARTICLE 40, IS CONFIRMED BY THE RESERVATION CONTAINED IN THE FIRST PARAGRAPH OF THE LATTER ARTICLE : 'WITHOUT PREJUDICE TO THE FIRST PARAGRAPH OF ARTICLE 34 '. THAT PHRASE EXCLUDES ANY POSSIBILITY OF A REFERENCE TO ARTICLE 34 AND REFERS ON THE CONTRARY TO SITUATIONS WHERE ARTICLE 34 IS NOT APPLICABLE, AS IN THE PRESENT CASE .\\r\\nP . 2142 . THE CAPACITY TO BRING AN ACTION UNDER ARTICLE 40 .\\r\\nSINCE, AS HAS ALREADY BEEN SHOWN, THE APPLICANT DOES NOT HAVE THE STATUS OF AN UNDERTAKING WITHIN THE MEANING OF ARTICLE 80 OF THE TREATY, IT IS NECESSARY TO CONSIDER WHETHER IT HAS THE CAPACITY TO INSTITUTE PROCEEDINGS FOR REPARATION UNDER THE FIRST PARAGRAPH OF ARTICLE 40 .\\r\\nARTICLE 40 DOES NOT CONTAIN THE LIMITS LAID DOWN BY ARTICLES 33 AND 35 AS REGARDS THE CAPACITY OF APPLICANTS . BECAUSE OF THE DISTINCTION BETWEEN ACTIONS FOR ANNULMENT AND ACTIONS CONCERNING LIABILITY, THAT DIFFERENCE IN WORDING MUST BE REGARDED IN ITSELF AS A FACTOR SUFFICIENT TO EXCLUDE THE POSSIBILITY THAT THE AUTHORS OF THE TREATY INTENDED TO LAY DOWN, AS REGARDS THE RIGHT TO TAKE PROCEEDINGS FOR REPARATION, LIMITS SIMILAR TO THOSE WHICH THEY HAD LAID DOWN AS REGARDS ACTIONS FOR ANNULMENT .\\r\\nTHAT LITERAL INTERPRETATION IS CONFIRMED BY THE FOLLOWING CONSIDERATIONS .\\r\\nAN APPLICATION FOR ANNULMENT MAKES POSSIBLE A DIRECT REVIEW OF THE ACTIVITIES OF THE HIGH AUTHORITY LEADING, WHERE APPROPRIATE, TO THE ANNULMENT OF ILLEGAL ACTS, WHEREAS AN APPLICATION FOR REPARATION CAN GIVE RISE ONLY TO AN ORDER DIRECTED TO THE HIGH AUTHORITY TO MAKE GOOD THE INJURY CAUSED BY ITS CONDUCT . AN APPLICATION FOR ANNULMENT HAS A MUCH MORE MARKED IMPACT ON THE HIGH AUTHORITY'S FIELD OF ACTIVITY WHILST AN APPLICATION FOR REPARATION CAN DEAL ONLY WITH THE CONSEQUENCES OF THAT ACTIVITY .\\r\\nON THE OTHER HAND THE PROBLEM ARISES IN A DIFFERENT MANNER IN THE CASE OF AN ACTION FOR REPARATION,\\r\\nON THE ONE HAND BECAUSE THE SUBJECT-MATTER OF THE APPLICATION FOR REPARATION IS MUCH MORE LIMITED THAN THAT OF AN APPLICATION FOR ANNULMENT, AND BECAUSE THE BASIS OF THE ACTION IS SUBJECT TO PROOF OF THE EXISTENCE OF A WRONGFUL ACT OR OMISSION;\\r\\nON THE OTHER HAND BECAUSE NO REASON CAN JUSTIFY THE REFUSAL OF ANY LEGAL PROTECTION TO NATURAL OR LEGAL PERSONS WHO ARE NOT SUBJECT TO THE JURISDICTION OF THE COMMUNITY, WHEN SUCH DAMAGE IS CAUSED BY A WRONGFUL ACT OR OMISSION COMMITTED IN THE IMPLEMENTATION OF THE TREATY, A MATTER IN WHICH THE COURT HAS EXCLUSIVE JURISDICTION, WHILST ANY NATURAL OR LEGAL PERSON MAY BY APPLICATION TO THE COMPETENT NATIONAL COURTS OBTAIN REPARATION FOR DAMAGE CAUSED BY COMMUNITY INSTITUTIONS OUTSIDE THE APPLICATION OF THE TREATY ( THIRD PARAGRAPH OF ARTICLE 40 ).\\r\\nFOR THE REASONS SET OUT ABOVE, THE OBJECTION OF INADMISSIBILITY RAISED BY THE DEFENDANT MUST BE DISMISSED .\\r\\nP . 2153 . SUBJECT-MATTER OF THE APPLICATION\\r\\nTHE DEFENDANT FURTHER MAINTAINED THAT THE APPLICANT CONFINED ITSELF IN ITS APPLICATION TO COMPLAINING OF THE HIGH AUTHORITY'S CONDUCT AS FROM 1957 AND THAT IT EXTENDED ITS CLAIM IN THE REPLY, IN WHICH IT BELATEDLY CRITICIZED THE PREVIOUS CONDUCT OF THE HIGH AUTHORITY .\\r\\nIT IS IN THE CONTEXT OF THE EXAMINATION OF THE SUBSTANCE OF THE CASE THAT A DECISION MAY BE CALLED FOR ON WHETHER A FAILURE TO ACT BY THE HIGH AUTHORITY MAY CONSTITUTE A WRONGFUL OMISSION INDEPENDENTLY OF ANY REQUEST FROM THOSE CONCERNED . WITHIN THE CONTEXT OF ADMISSIBILITY IT IS ENOUGH TO SAY THAT THE SUBJECT MATTER OF THE CLAIM WAS SET OUT IN THE APPLICATION WITH SUFFICIENT CLARITY IN THE ARGUMENTS RELIED UPON BY THE APPLICANT, WHICH COMPLAINS THAT THE HIGH AUTHORITY NEVER ACTED, AS IT WAS ITS DUTY TO DO, IN ORDER TO ENSURE RESPECT BY THE FRENCH GOVERNMENT FOR THE RULE OF FREE MOVEMENT OF PRODUCTS IMPORTED FROM THIRD COUNTRIES . ON THE OTHER HAND, THERE MUST BE NO CONFUSION BETWEEN THE SUBJECT-MATTER OF THE APPLICATION, WHICH IS REPARATION FOR DAMAGE CAUSED AS FROM A PARTICULAR TIME, WITH THE LEGAL ARGUMENTS RELIED ON TO SHOW THE EXISTENCE OF A WRONGFUL ACT OR OMISSION, SINCE THESE ARGUMENTS MAY BE SUPPLEMENTED AND EXPOUNDED IN GREATER DETAIL DURING THE COURSE OF THE PROCEEDINGS .\\r\\nTHIS SECOND OBJECTION MUST THEREFORE ALSO BE DISMISSED .\\r\\nC -ON THE SUBSTANCE OF THE CASE\\r\\n( A ) THE APPLICANT MAINTAINS THAT WHEN THE TREATY PRESCRIBES THE FREE MOVEMENT OF PRODUCTS OF THE MEMBER STATES, THIS IMPLIES ALSO THE FREE MOVEMENT OF PRODUCTS ORIGINATING IN THIRD COUNTRIES, WHICH ARE LAWFULLY GRANTED BY ONE OF THE MEMBER STATES THE RIGHT OF ENTRY INTO ITS OWN TERRITORY .\\r\\nTHE DEFENDANT DOES NOT CONTEST THIS VIEW, WHICH WAS ADOPTED OFFICIALLY BY THE HIGH AUTHORITY AS FROM 1955 AND FORMULATED BY IT IN ITS LETTER SENT ON 28 MAY 1955 TO THE GOVERNMENTS OF THE MEMBER STATES IN THE FOLLOWING TERMS :\\r\\n'THE COMMUNITY IS BASED, IN ITS OWN SPHERE, ON THE PRINCIPLE OF UNITY, THAT IS TO SAY ON THAT OF THE COMMON MARKET WHICH ASSUMES UNRESTRICTED MOVEMENT OF ALL COAL AND STEEL PRODUCTS COMING WITHIN THE JURISDICTION OF THE COMMUNITY . THIS PRINCIPLE OF THE FREE MOVEMENT OF PRODUCTS LAID DOWN IN ARTICLE 4 ( A ) OF THE TREATY APPLIES NOT ONLY TO PRODUCTS ORIGINATING FROM A COMMUNITY COUNTRY BUT ALSO TO COAL AND STEEL PRODUCTS OF THIRD COUNTRIES, ON CONDITION HOWEVER THAT THEY HAVE BEEN IMPORTED PROPERLY INTO ANY COUNTRY OF THE COMMUNITY' ( DOCUMENT N . 12 ANNEXED TO THE APPLICATION IN CASE 9/60 ).\\r\\nP . 216\\r\\nTHE COURT ACCEPTS THE PRINCIPLE ( WHICH IS NOT DISPUTED BY THE PARTIES ) OF THE FREE MOVEMENT OF PRODUCTS FROM THIRD COUNTRIES AND CONSIDERS THAT IT IS NOT NECESSARY IN THE PRESENT CASE TO EXAMINE IT IN GREATER DETAIL .\\r\\n( B ) THE APPLICANT MAINTAINS THAT THE HIGH AUTHORITY WAS GUILTY OF A WRONGFUL OMISSION BY ABSTAINING FROM ENSURING RESPECT, BY APPLYING THE PROCEDURE LAID DOWN IN ARTICLE 88, FOR THE ABOVEMENTIONED RULE OF FREE MOVEMENT, AND THAT BECAUSE OF THIS WRONGFUL OMISSION THE APPLICANT WAS NOT IN A POSITION TO MAKE REGULAR SALES IN FRANCE OF THE COAL WHICH IT HAD IMPORTED INTO BELGIUM, AND THAT CONSEQUENTLY THE HIGH AUTHORITY IS OBLIGED TO COMPENSATE IT FOR THE DAMAGE CAUSED TO IT BY THIS INFRINGEMENT OF ITS RIGHTS .\\r\\nTHE COURT, BEFORE CONSIDERING WHETHER THE ABSTENTION OF THE HIGH AUTHORITY MUST BE REGARDED AS WRONGFUL OMISSION, PROPOSES FIRST OF ALL TO EXAMINE WHETHER SUCH ABSTENTION ( EVEN ASSUMING THAT IT AMOUNTED TO A WRONGFUL OMISSION ) DAMAGED THE INTERESTS OF THE APPLICANT IN SUCH A WAY THAT A RIGHT TO REPARATION ACCRUED TO IT .\\r\\nARTICLE 4 ( A ) MUST BE INTERPRETED IN THE LIGHT OF ARTICLES 2 AND 3 ( B ), AND ESPECIALLY OF THEIR RESPECTIVE OBJECTIVES, THAT IS TO SAY 'PROGRESSIVELY BRING ABOUT CONDITIONS WHICH WILL OF THEMSELVES ENSURE THE MOST RATIONAL DISTRIBUTION OF PRODUCTION' AND 'ENSURE THAT ALL...CONSUMERS IN THE COMMON MARKET HAVE EQUAL ACCESS TO THE SOURCES OF PRODUCTION '. THE PRINCIPLE OF FREE MOVEMENT OF GOODS IMPLIED BY ARTICLE 4 ( A ) WAS ESTABLISHED ESPECIALLY IN THE INTERESTS OF COMMUNITY PRODUCTION . THE EXTENSION OF THAT RULE TO PRODUCTS COMING FROM THIRD COUNTRIES AND PROPERLY IMPORTED WAS NOT ADOPTED FOR THE PROTECTION OF THOSE PRODUCTS OR THEIR PRODUCERS, BUT IN ORDER TO PREVENT THE FREE MOVEMENT OF COMMUNITY PRODUCTS BEING ITSELF DIMINISHED OR IMPAIRED BY THE ESTABLISHMENT OF OBSTACLES TO THE FREE MOVEMENT OF THE SAID PRODUCTS .\\r\\nCONSEQUENTLY IF THE HIGH AUTHORITY, WHICH IS REQUIRED TO HAVE ARTICLE 4 ( A ) RESPECTED BY THE MEMBER STATES AND COMMUNITY UNDERTAKINGS, DOES NOT CARRY OUT THAT DUTY, THOSE WHO ARE SUBJECT TO IT ARE ENTITLED TO CONSIDER THEMSELVES TO HAVE SUFFERED DAMAGE TO THEIR LEGITIMATE EXPECTATIONS OR TO THEIR RIGHTS AND TO ASK FOR REPARATION OF THE DAMAGE WHICH HAS THUS BEEN DONE TO THEM . IT IS OTHERWISE WHEN PRODUCTS ORIGINATING IN THIRD COUNTRIES ARE CONCERNED BECAUSE ALTHOUGH IN CERTAIN CIRCUMSTANCES THESE PRODUCTS ARE ALLOWED TO BENEFIT FROM THE APPLICATION OF ARTICLE 4 ( A ) THAT ADVANTAGE IS ONLY A REFLECTION OF THE GUARANTEE WHICH THE TREATY INTENDED TO GRANT TO COMMUNITY PRODUCTS, SO THAT PRODUCERS IN THIRD COUNTRIES AND TRADERS DEALING IN THEIR PRODUCTS ARE THEREFORE NOT ENTITLED TO PUT FORWARD CLAIMS FOR REPARATION ON THE BASIS OF THE INFRINGEMENT OF SOME ALLEGED PERSONAL RIGHT VESTED IN THEM IF IT SHOULD HAPPEN THAT THE ABOVE RULE IS NOT APPLIED AND THEY SUFFER DAMAGE AS A RESULT .\\r\\nP . 217\\r\\nARTICLE 73 ASSIGNS THE ADMINISTRATION OF IMPORT LICENCES FOR TRADE WITH THIRD COUNTRIES TO THE GOVERNMENT IN WHOSE TERRITORY THE PLACE OF DESTINATION FOR IMPORTS IS SITUATED . IT EMERGES FROM THE ALLEGATIONS OF THE APPLICANT ITSELF, AND ESPECIALLY FROM THE DOCUMENT ANNEXED TO THE APPLICATION IN CASE 9/60, THAT THE COAL IN QUESTION WAS NEVER INTENDED FOR MOVEMENT WITHIN BELGIUM OR THE COMMUNITY IN GENERAL, BUT ONLY FOR FRANCE . THE FACT OF HAVING SUBJECTED THE COAL TO WASHING, SCREENING AND CRUSHING IN BELGIUM IN NO WAY CHANGES THIS FIRST AND FINAL DESTINATION OF THE COAL . THE ADMISSION OF THIS COAL TO FREE CIRCULATION IN BELGIUM COULD BE EFFECTED WITHOUT DIFFICULTIES OR CHARGES OF ANY KIND . IN THESE CIRCUMSTANCES THE APPLICANT CANNOT RELY ON A POSSIBLE BREACH OF DUTY BY THE HIGH AUTHORITY IN ORDER TO CLAIM COMPENSATION FOR THE DAMAGE THEREBY SAID TO BE CAUSED TO IT .\\r\\nALTHOUGH THE PRINCIPLE OF FREE MOVEMENT, ACCEPTED BY THE COURT, PROHIBITS THE MEMBER STATES FROM REFUSING ENTRY INTO THEIR TERRITORY OF PRODUCTS ORIGINATING IN THIRD COUNTRIES AND LAWFULLY IMPORTED INTO ANOTHER MEMBER STATE, ARTICLE 73 OF THE TREATY ON THE OTHER HAND ASSIGNS THE ADMINISTRATION OF IMPORT LICENCES FOR TRADE WITH THIRD COUNTRIES TO THE GOVERNMENT IN WHOSE TERRITORY THE PLACE OF DESTINATION FOR IMPORTS IS SITUATED . IN THE PRESENT CASE, AS HAS BEEN SAID ALREADY, WHAT IS AT ISSUE IS AN ATTEMPT AT DIRECT IMPORTATION INTO FRANCE HAVING THE MERE SEMBLANCE OF AN IMPORT INTO BELGIUM .\\r\\nEVEN IF IT IS ACCEPTED THAT THE MEMBER STATES MAY DEFEND THEMSELVES AGAINST SUCH PRACTICES BY THE APPLICATION OF THE MUTUAL ASSISTANCE PROVIDED FOR IN ARTICLE 71, THE DUTY TO HAVE RECOURSE TO THE SAID MUTUAL ASSISTANCE IS NOT INTENDED TO SAFEGUARD THE INTERESTS OF ANY THIRD PARTIES, BUT ONLY THE INTERESTS OF THE COMMUNITY . IN MAKING AN APPLICATION UNDER ARTICLE 40 OF THE TREATY, THESE THIRD PARTIES CANNOT RELY ON THE FAILURE OF MUTUAL ASSISTANCE FOR THE DEFENCE AND LEGAL PROTECTION OF PRACTICES WHICH MUTUAL ASSISTANCE HAS PRECISELY THE OBJECT OF PREVENTING . IN THESE CIRCUMSTANCES THE APPLICANT CANNOT RELY ON A POSSIBLE BREACH OF DUTY BY THE HIGH AUTHORITY IN ORDER TO CLAIM COMPENSATION FOR THE DAMAGE THEREBY CAUSED TO IT .\\r\\nBECAUSE OF THESE CONSIDERATIONS AND WITHOUT ITS BEING NECESSARY TO CONSIDER THE APPLICANT'S OTHER ARGUMENTS THE APPLICATION MUST BE DISMISSED .\""
            ]
          },
          "execution_count": 54,
          "metadata": {},
          "output_type": "execute_result"
        }
      ],
      "source": [
        "df.TEXT[0]"
      ]
    },
    {
      "cell_type": "code",
      "execution_count": null,
      "metadata": {
        "colab": {
          "base_uri": "https://localhost:8080/"
        },
        "id": "S0_-DPrT2RQf",
        "outputId": "04937dc8-284e-4a7e-ecd9-40bbc7c67847"
      },
      "outputs": [
        {
          "name": "stdout",
          "output_type": "stream",
          "text": [
            "            celex                                               TEXT  DEF  \\\n",
            "0     61960CJ0009  1 . THE MEANING OF THE FIRST PARAGRAPH OF ARTI...    0   \n",
            "1     61963CJ0075  1 . THE QUESTION PUT BY THAT COURT REQUESTS TH...    1   \n",
            "2     61963CJ0092  1 . THE QUESTION ASKED BY THE SAID COURT FIRST...    0   \n",
            "3     61964CJ0024  1 . IT APPEARS FROM THE INFORMATION SUPPLIED B...    0   \n",
            "4     61965CJ0057  1 . THE FIRST AND SECOND QUESTIONS\\r\\nIN ITS F...    0   \n",
            "...           ...                                                ...  ...   \n",
            "1699  62014CJ0378  1. This reference for a preliminary ruling con...    1   \n",
            "1700  62014CJ0402  1. This request for a preliminary ruling conce...    0   \n",
            "1701  62014CJ0427  1. This request for a preliminary ruling conce...    1   \n",
            "1702  62014CJ0552  1. By its appeal, Canon Europa NV (ÂCanon Eur...    0   \n",
            "1703  62014CJ0553  1. By its appeal, Kyocera Mita Europe BV (ÂKy...    0   \n",
            "\n",
            "      PRED_DEF  \n",
            "0            0  \n",
            "1            1  \n",
            "2            1  \n",
            "3            0  \n",
            "4            1  \n",
            "...        ...  \n",
            "1699         1  \n",
            "1700         1  \n",
            "1701         1  \n",
            "1702         0  \n",
            "1703         0  \n",
            "\n",
            "[1704 rows x 4 columns]\n"
          ]
        }
      ],
      "source": [
        "import pandas as pd\n",
        "\n",
        "data = zip(df.index.values,df.TEXT.values,target.values.astype(int), res)\n",
        "final_df = pd.DataFrame(data, columns=('celex','TEXT', 'DEF', 'PRED_DEF'))\n",
        "#df['TEXT']=df['TEXT'].str.decode(\"utf-8\")\n",
        "print(final_df)\n"
      ]
    },
    {
      "cell_type": "code",
      "execution_count": null,
      "metadata": {
        "id": "3PM-stRX3SOb"
      },
      "outputs": [],
      "source": [
        "final_df.to_csv(\"predictions_DEF_full_judgements.csv\")"
      ]
    },
    {
      "cell_type": "code",
      "execution_count": null,
      "metadata": {
        "id": "UAk2A_o6v3BD"
      },
      "outputs": [],
      "source": [
        "#group by celex and do maj voting on the label for the paragraph\n",
        "final_agg = final_df.groupby(['celex'])['PRED_DOCOUT'].agg(\n",
        "    lambda x: pd.Series.mode(x)[0])"
      ]
    },
    {
      "cell_type": "code",
      "execution_count": null,
      "metadata": {
        "id": "c_-NN9crwPIT"
      },
      "outputs": [],
      "source": [
        "final_agg.head()"
      ]
    },
    {
      "cell_type": "code",
      "execution_count": null,
      "metadata": {
        "id": "wxSP4a9CwX1O"
      },
      "outputs": [],
      "source": [
        "final_agg.loc['61963CJ0075']"
      ]
    },
    {
      "cell_type": "code",
      "execution_count": null,
      "metadata": {
        "id": "HqN44CUpx3H9"
      },
      "outputs": [],
      "source": [
        "#reset index to merge\n",
        "final_agg = final_agg.reset_index( )\n",
        "\n",
        "#read other df fro full labels values\n",
        "data = pd.read_csv(\"FinalDatasetFullJudgements_NOFRENCH.csv\",index_col = 0,low_memory=False,encoding = \"ISO-8859-1\") #not utf-8 encoded\n",
        "df2=data.filter([\"DOCOUT\",\"TEXT\",\"celex\"], axis=1)\n",
        "\n",
        "final_agg.head()"
      ]
    },
    {
      "cell_type": "code",
      "execution_count": null,
      "metadata": {
        "id": "RlnYQCS-weda"
      },
      "outputs": [],
      "source": [
        "merged_df = df2.merge(final_agg, how = 'inner', on = ['celex'])\n",
        "merged_df.DOCOUT = merged_df.DOCOUT.astype('int')\n",
        "merged_df"
      ]
    },
    {
      "cell_type": "code",
      "execution_count": null,
      "metadata": {
        "id": "JnA5cgV0zb-I"
      },
      "outputs": [],
      "source": [
        "merged_df.to_csv(\"DOCOUT_aggregated_judgements.csv\")"
      ]
    },
    {
      "cell_type": "code",
      "execution_count": null,
      "metadata": {
        "id": "UWpialXHyMcG"
      },
      "outputs": [],
      "source": [
        "#compute performances on majority voting\n",
        "from sklearn.metrics import accuracy_score,f1_score\n",
        "\n",
        "print(\"Performance of the majority voting of aggregated paragraphs\")\n",
        "print(\"Accuracy: \"+str(accuracy_score(y_true = merged_df.DOCOUT,y_pred = merged_df.PRED_DOCOUT)))\n",
        "print(\"F1 score : \"+str(f1_score(y_true = merged_df.DOCOUT,y_pred = merged_df.PRED_DOCOUT)))"
      ]
    },
    {
      "cell_type": "code",
      "execution_count": null,
      "metadata": {
        "id": "-oypxsh50LPw"
      },
      "outputs": [],
      "source": [
        "print(\"Performance of the single classification of paragraphs\")\n",
        "print(\"Accuracy: \"+str(accuracy_score(y_true = final_df.DOCOUT,y_pred = final_df.PRED_DOCOUT)))\n",
        "print(\"F1 score : \"+str(f1_score(y_true = final_df.DOCOUT,y_pred = final_df.PRED_DOCOUT)))"
      ]
    }
  ],
  "metadata": {
    "accelerator": "GPU",
    "colab": {
      "collapsed_sections": [],
      "provenance": []
    },
    "kernelspec": {
      "display_name": "Python 3 (ipykernel)",
      "language": "python",
      "name": "python3"
    },
    "language_info": {
      "codemirror_mode": {
        "name": "ipython",
        "version": 3
      },
      "file_extension": ".py",
      "mimetype": "text/x-python",
      "name": "python",
      "nbconvert_exporter": "python",
      "pygments_lexer": "ipython3",
      "version": "3.8.10"
    }
  },
  "nbformat": 4,
  "nbformat_minor": 0
}